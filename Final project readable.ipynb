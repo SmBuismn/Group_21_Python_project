{
 "cells": [
  {
   "cell_type": "markdown",
   "id": "37e01064",
   "metadata": {},
   "source": [
    "# Influencing growth of passenger kilometers by train\n",
    "\n",
    "Members: Naomi Cornelissen, Tom Bruinink, Sam Buisman, Bart van Heijningen, Klaas Molendijk\n",
    "\n",
    "Student numbers: 5105765, 6075673, 5957915, 6088015, 6101399"
   ]
  },
  {
   "cell_type": "markdown",
   "id": "5ef42088",
   "metadata": {},
   "source": [
    "# Introduction"
   ]
  },
  {
   "cell_type": "markdown",
   "id": "1c568794",
   "metadata": {},
   "source": [
    "Trains are generally seen as an environmental friendly mode of transport. With increased attention from policy makers towards climate change, this mode of transport has become popular (again). The European Union recently announced a plan to improve the railway network in Europe in order to help reduce CO2 emissions on the continent. These plans require great investments, generally financed by (semi-)public organisations and therefore public funds. There are plenty of benefits coming from those investments, with economic growth and sustainability among those.\n",
    "\n",
    "The primary goal from the sustainability point of view is to move people away from more polluting transport modes and towards train travel. For this to be seen as an effective measure, the amount of passenger kilometers  per capita should increase. On the other hand, a long term investment such as a new railroad, should need multiple years to have effect, as the planning and building process takes time.\n",
    "\n",
    "The economic aspect of the railway investments should be taken into account as well. Not only are the investments a driver for economic growth, the amount of economic growth in a country could also influence the amount of money invested in the railway network (Arts et al, 2008; European Council, 2023). \n"
   ]
  },
  {
   "cell_type": "markdown",
   "id": "3a1c6d2c",
   "metadata": {},
   "source": [
    "# Research Objective\n"
   ]
  },
  {
   "cell_type": "markdown",
   "id": "7e3b9741",
   "metadata": {},
   "source": [
    "The goal of this research is to find relationships between railway investments and the amount of passenger kilometers per capita. In order to give an elaborate view of the topic, other relationships are analysed as well. To start, this research will look at the relationship of the growth of gross domestic product (GDP) on passenger railway investment (PRI) relative to GDP. Then this research looks at the average percentage of GDP that goes to PRI over different time periods and the relationship between passenger kilometers by train (PKT) per capita. Countries with interesting relationships will be analysed further to have a better understanding of implemented policies and see whether other factors can influence the growth in PKT per capita.\n",
    "\n",
    "### Research question\n",
    "How do investments in railway infrastructure influence the amount of passenger kilometers travelled by train?\n",
    "\n",
    "### Sub-research questions\n",
    "1. What is the influence of GDP growth on a country's PRI?\n",
    "2. What is the trend of PRI as a percentage of GDP for the selected countries?\n",
    "3. What is the trend of PKT per capita for the selected countries?\n",
    "4. What is the relationship between PRI per year and the growth of PKT?\n",
    "5. To what extend is there a correlation between the investments in railway infrastructure and the growth in PKT over a period of 20 years?\n",
    "6. What could be other factors that influence PKT growth?\n"
   ]
  },
  {
   "cell_type": "markdown",
   "id": "dffb2b5d",
   "metadata": {},
   "source": [
    "# Contribution Statement\n"
   ]
  },
  {
   "cell_type": "markdown",
   "id": "5551a677",
   "metadata": {},
   "source": [
    "Naomi Cornelissen: data processing and visualisation of investments vs passengers over the years, analysing other drivers for passenger growth.  \n",
    "\n",
    "Tom Bruinink: data preparation of all data sets, data processing and visualisation of relative investments, travel distance per person and other drivers for passenger growth.  \n",
    "\n",
    "Sam Buisman: background research, introduction and data processing and visualisation of descriptive statistics. \n",
    "\n",
    "Bart van Heijningen: data processing and visualisation of Influence previous investments on passenger growth, analysis other drivers for passenger growth. \n",
    "\n",
    "Klaas Molendijk: data processing and visualisation of descriptive tables, conclusion. "
   ]
  },
  {
   "cell_type": "markdown",
   "id": "8ff22a23",
   "metadata": {},
   "source": [
    "# Research"
   ]
  },
  {
   "cell_type": "markdown",
   "id": "85fa3ced",
   "metadata": {},
   "source": [
    "### Data preparation\n",
    "First, the data is being prepared and standardized into a consistent format to facilitate computations. We imported data for GDP, passenger kilometers, railway infrastructure and population from csv files. We reshaped the data such that the tables are in the same format for every dataset. The format is similar to the initial format of GDP data. A timeframe spanning from 1999 to 2019 is selected, ensuring sufficient data availability across various datasets and encompassing a substantial 20-year period.\n",
    "When displaying the first 10 countries' passenger data, we noticed an extensive lack of data. Several countries lack any data, while others have information for only a part of the timeframe.  To maintain data integrity, countries lacking complete data across all datasets throughout this timeframe are excluded. As a result, 17 countries from three different continents are included in the analysis."
   ]
  },
  {
   "cell_type": "markdown",
   "id": "f3186377",
   "metadata": {},
   "source": [
    "### Descriptive statistics\n",
    "The figures and table below present the data for the 17 countries we will use in our analysis. In the first figure the countries are displayed for which all necessary data is available. In subplots, we present the averages over the timeframe of GDP, population, PKT (in millions) and PRI for the different countries. In the table the numbers corresponding to the statistics are displayed."
   ]
  },
  {
   "cell_type": "markdown",
   "id": "f927f64e",
   "metadata": {},
   "source": [
    "![Figure 1: ](Figure_A.png)"
   ]
  },
  {
   "cell_type": "markdown",
   "id": "4141762e",
   "metadata": {},
   "source": [
    "![Figure 1: ](Figure_A.jpg)"
   ]
  },
  {
   "cell_type": "markdown",
   "id": "f073181c",
   "metadata": {},
   "source": [
    "## Analysis"
   ]
  },
  {
   "cell_type": "markdown",
   "id": "c7ddf2d6",
   "metadata": {},
   "source": [
    "### Relative investment in railway infrastructure\n",
    "The figure below illustrates the relation between the growth in GDP and the proportional investment in railway infrastructure concerning a country's GDP from 1999 to 2019. Notably, these investments typically fall within the range of 0% to 0.6% of the GDP across various countries. It can be observed that there is no clear link between the GDP growth and the investments. Furthermore, the data shows considerable fluctuations over time, suggesting a lack of consistent patterns. There is no clear distinction between nations consistently investing heavily in railway projects and those that do not."
   ]
  },
  {
   "cell_type": "markdown",
   "id": "5dd1e50c",
   "metadata": {},
   "source": [
    "![Figure 1: relative investment in railway infrastructure from 1999 to 2019](Figure1.jpeg)"
   ]
  },
  {
   "cell_type": "markdown",
   "id": "6cbb7d6b",
   "metadata": {},
   "source": [
    "### Travel distance per person\n",
    "In the figure below, we show the railway distance traveled per person for each country from 1999 to 2019. Distances range widely, from 1500 to 14000 kilometers. The data remains consistent over time, revealing three distinct groups: countries with low travel (under 4000 km), moderate travel (6000 to 9000 km), and high travel (over 10000 km)."
   ]
  },
  {
   "cell_type": "markdown",
   "id": "96790bd8",
   "metadata": {},
   "source": [
    "![Figure 2: development of travel distance per capita](Figure2.jpeg)"
   ]
  },
  {
   "cell_type": "markdown",
   "id": "6065a00e",
   "metadata": {},
   "source": [
    "### Influence previous investments on passenger growth\n",
    "The figure below shows the relation of PRI (corrected by GDP) and the PKT per capita. \n",
    "Every year from 2004 onwards, we look at the investments made in the 5 years before and look at what the impact has been on the travelled kilometers, for each country. \n",
    "In this way, we want to analyze if the investments in railway lead to more train passengers. \n",
    "As we look at the outcome of the graphs, we see that it not shows what we expected, meaning that the investments in the long term do not seem to increase over a long period. \n",
    "This can have different reasons, for instance in this graph we do not look at the investments in other segments like air transportation and road transportation.\n"
   ]
  },
  {
   "cell_type": "markdown",
   "id": "0c885b56",
   "metadata": {},
   "source": [
    "![Figure 3: influence of investments over a period of 5 years](Figure3.jpeg)"
   ]
  },
  {
   "cell_type": "markdown",
   "id": "3fc44c4f",
   "metadata": {},
   "source": [
    "### Influence of total investments on passenger growth\n",
    "The figure below shows the relation between PRI (corrected by GDP) and the growth of PKT per capita.\n",
    "In this figure we decided to aggregate all data from 1999-2019 in one figure. \n",
    "The passenger growth is from 1999-2019, but we excluded the final year of investments, since the effects of the investments could only affect passenger levels after 2019.\n",
    "As we look at the outcome of the graphs, we see that it not shows what we expected, meaning that the investments in the long term do not seem to increase over a long period. \n",
    "This can have different reasons, for instance we did not take other factors into account that might effect the passenger levels such as affordability, economic development and competing modes of transport to name a few."
   ]
  },
  {
   "cell_type": "markdown",
   "id": "bd58d83e",
   "metadata": {},
   "source": [
    "![Figure 4: total growth of passengers in relation to total investments in railway infrastructure](Figure4.jpeg)"
   ]
  },
  {
   "cell_type": "markdown",
   "id": "9c79aba2",
   "metadata": {},
   "source": [
    "# Other drivers for passenger growth"
   ]
  },
  {
   "cell_type": "markdown",
   "id": "b62fb36c",
   "metadata": {},
   "source": [
    "As the analysis in the previous paragraphs shows, there is not a clear correlation PRI and growth of PKT. This can either mean that PRI do not lead to a growth in PKT, or that there are other factors in play which influence PKT levels. \n",
    "\n",
    "Four different factors that could possibly correlate with passenger kilometer levels have been identified, namely democracy, interconnectivity, safety and affordability. It must be noted that not all these factors cover the time span used previously and that some observed countries are not part of the data used for these factors."
   ]
  },
  {
   "cell_type": "markdown",
   "id": "1abe866a",
   "metadata": {},
   "source": [
    "#### Democracy\n",
    "\n",
    "When analysing the maps displaying the democracy index and the PKT some visual similarities can be discovered. Therefore, the democracy index is expected to show similarity with the performed division of countries made by kilometers travelled by train. \n",
    "\n",
    "#### Interconnectivity\n",
    "\n",
    "A dense interconnected railway network provides more connections and travel options. Therefore, the train will form a favourable option for more trajectories. Therefore, the density of railway lines is expected to show similarity with the performed division of countries by PKT (Yang et all, 2021). Australia and Japan are omitted because the used data does not cover these countries.\n",
    "\n",
    "##### Safety\n",
    "\n",
    "A safer railway network will make the network more reliable, and that people will trust the system more. Therefore, the safety of the railway network is expected to show similarity with the performed division of countries by kilometers travelled by train (European union agency for railways, 2020). Furthermore Russia and Japan are added manually to the data. Australia and Azerbaijan are omitted because the used data does not cover these countries.\n",
    "\n",
    "##### Affordability\n",
    "\n",
    "Pricing is an important factor in enhancing the attractiveness of train travel. It has been demonstrated in the case of Germany that lowering ticket prices resulted in a notable 25% increase in train passengers (Euronews, 2023). Lower fares are expected to stimulate greater use of train services by making them more accessible and affordable to a wider audience. Therefore, train fares are expected to show similarity with the performed division of countries by kilometers travelled by train. Australia and Japan are added manually to the data."
   ]
  },
  {
   "cell_type": "markdown",
   "id": "3adfd3ae",
   "metadata": {},
   "source": [
    "![Figure 5: ](Figure5.jpeg)"
   ]
  },
  {
   "cell_type": "markdown",
   "metadata": {},
   "source": [
    "In the four graphs above, we have analyzed four different indicators that may influence train passenger kilometer levels. These indicators are grouped based on the average passenger train distance, as seen in the first graph. The three groups, each represented by a different color, correspond to low (less than 4000 kilometers), medium (4000 to 10000 kilometers), and high (more than 10000 kilometers) passenger train distances. The countries in each group are as follows:\n",
    "\n",
    "Low: Azerbaijan, Turkey and Russia\n",
    "\n",
    "Medium: Spain, Hungary, Japan, Poland and Czech Republic\n",
    "\n",
    "High: Australia, Italy, France, Sweden, Norway, Finland, Great Britain, Germany and Switzerland"
   ]
  },
  {
   "cell_type": "markdown",
   "id": "6607df0c",
   "metadata": {},
   "source": [
    "In the first graph, we examined the Democracy Index. It was expected that there would be a correlation between the Democracy Index and the division of countries by PKT since visually, there appeared to be similarities between the two. As observed, this expectation was met for the three years displayed. In the low-traveled distance group, the democracy level was notably lower, paralleling the lower number of PKT. \n",
    "However, in current literature there is no research on the correlation between these two. Therefore, we cannot conclude that a high level of democracy leads to a high number of PKT."
   ]
  },
  {
   "cell_type": "markdown",
   "id": "d191295b",
   "metadata": {},
   "source": [
    "The next analyzed indicator is railway density, which represents the interconnectedness of a country's railway network. A dense railway network offers more travel options, making trains a favorable choice for various routes. It was expected that railway density would align with the division of countries by PKT, and this was evident for the low-traveled distance group (Yang et all, 2021). However, the unexpected outcome for the medium and high-traveled distance groups showed that having a more dense network did not necessarily lead to more PKT. This discrepancy could be attributed to factors like the availability of alternative transportation options, economic development, and cultural preferences."
   ]
  },
  {
   "cell_type": "markdown",
   "id": "5ce30f8d",
   "metadata": {},
   "source": [
    "The third indicator analyzed was the number of accidents per PKT in millions. A safer railway network is expected to be more reliable, which, in turn, should enhance public trust and ridership (European union agency for railways, 2020). As anticipated, the group with lower traveled distances showed a higher number of accidents. This result aligns with the assumption that a safer railway network encourages more people to use the trains. Higher accident rates in the low-traveled distance group may discourage potential passengers and hinder the growth of train travel."
   ]
  },
  {
   "cell_type": "markdown",
   "id": "b822a78b",
   "metadata": {},
   "source": [
    "Lastly, we considered train fares in 2019 in relation to the PKT. Pricing is an important factor in enhancing the attractiveness of train travel and to stimulate greater train usage by making it more accessible and affordable.In Germany it has been demonstrated that lowering ticket prices resulted in a notable 25% increase in train passengers (Euronews, 2023). However, the analysis produced an unexpected result – countries with cheaper train fares did not necessarily have higher total traveled distances compared to other groups. This unexpected outcome could be due to several factors, such as the overall quality of the train service, alternative transportation options, and overall pricing level and purchasing power. It's possible that in some countries, passengers are willing to pay higher fares for a more comfortable or efficient train service, leading to greater usage despite the cost."
   ]
  },
  {
   "cell_type": "markdown",
   "id": "55d34d1c",
   "metadata": {},
   "source": [
    "## Conclusion\n",
    "To answer the research question how investments in railway infrastructure influence the amount of passenger kilometers, scatterplots were made analysing this relationship. The hypothesis that investments in railway infrastructure would increase the amount of passenger kilometers, was debunked after analysing scatterplots throughout the years. The plot displaying the distance travelled by passengers by train throughout the years from 1999 to 2019 showed that the number of kilometers remained relatively stable throughout the years.  \n",
    "\n",
    "Therefore, we looked at other possible factors that may affect the distance travelled by passengers by train. The four factors analysed were: democracy index, railway density, number of accidents/km and train fares. The following results were found: the democracy index and number of passenger train kilometers follow a similar trend, when democracy index is low the number of passenger train kilometers is also low and vice versa. Next, railway density seemed to be higher in countries with medium passenger train kilometers than for countries with high passenger train kilometers. Additionally, the number of accidents per kilometer decrease as the number of passenger train kilometers increases. Finally countries with high passenger train kilometers were found to also have higher train fares.\n",
    "\n",
    "To conclude, investments in railway infrastructure do not influence the distance travelled by passengers by train, in the analysed countries. But possibly other countries’ characteristics have a stronger relationship with this passenger train kilometers variable. \n",
    "\n",
    "## Limitations & further research \n",
    "\n",
    "It has to be noted that this research has some limitations. There are only a limited number of countries taken into account in the scope of this research. Most of these countries are also in Europe, which makes this research quite Eurocentric and not representative for the world population. Next to that, for some countries there was a lack of data when we analyzed other drivers for passenger growth. For further research it could be interesting to research one of the observed countries more in-depth. This could be done with a case-study that analyses and dissects all factors that influence passenger kilometers.  "
   ]
  },
  {
   "cell_type": "markdown",
   "id": "39d6e263",
   "metadata": {},
   "source": [
    "# Data Used"
   ]
  },
  {
   "cell_type": "markdown",
   "id": "28c811e7",
   "metadata": {},
   "source": [
    "1. **Amount of passenger-kilometers per country (1999-2019)** \n",
    "   - from: https://data.oecd.org/transport/passenger-transport.htm#indicator-chart \n",
    "2. **Population per country (1999-2019)**\n",
    "   - from: https://ourworldindata.org/grapher/population?time=1971..latest\n",
    "3. **GDP (per capita) per country (1999-2019)**\n",
    "   - from: https://databank.worldbank.org/indicator/NY.GDP.PCAP.CD/1ff4a498/Popular-Indicators# and https://ourworldindata.org/grapher/gdp-per-capita-maddison?tab=table\n",
    "4. **Investments in railway passenger transport per country (1999-2019)**\n",
    "   - from: https://data.oecd.org/transport/infrastructure-investment.htm#indicator-chart\n",
    "5. **Democracy index per country (2009, 2014, 2019)**\n",
    "   - from: https://ourworldindata.org/grapher/democracy-index-eiu?time=earliest\n",
    "6. **Total length of rail lines per country (1999, 2004, 2014, 2019)** \n",
    "   - from: https://databank.worldbank.org/reports.aspx?source=2&series=IS.RRS.TOTL.KM&country= \n",
    "7. **Number of Rail Accidents per Country (2019)**\n",
    "   - From: https://ec.europa.eu/eurostat/databrowser/view/tran_sf_railac__custom_8020956/default/table?lang=en\n",
    "   - Japan: https://www.mlit.go.jp/jtsb/statistics_rail.html\n",
    "   - Russia: https://uic-stats.uic.org/\n",
    "8. **Train Fares per Country (2019)**\n",
    "   - From: https://www.vouchercloud.com/resources/train-prices-across-europe\n",
    "   - Australia: https://transportnsw.info/regional-bookings/select-trip?from=JOC&to=BBO&dateTime=2023-12-07T00:00:00&P_0_PT=A\n",
    "   - Japan: https://www.jrpass.com/farecalculator/137.950000/38.660000/5.2/iM3uAGEyAp7rmFi=\n"
   ]
  },
  {
   "cell_type": "markdown",
   "id": "735769e2",
   "metadata": {},
   "source": [
    "### Reference list\n",
    "\n",
    "Arts, G., Dicke, W. & Hancher, L. (2008). New Perspectives on Investment in Infrastructures. WRR Rapporten. https://www.jstor.org/stable/j.ctt45kcx6\n",
    "\n",
    "Euronews. (2023) DeutschlandTicket: Germany’s €49 ticket ticket pushes passenger numbers up 25% on local train services. Euronews. https://www.euronews.com/green/2023/07/31/deutschlandticket-germanys-49-ticket-pushes-passenger-numbers-up-25-on-local-train-service  \n",
    "\n",
    "European union agency for railways (2020) Railway safety and interoperability. saferail.nl. https://www.saferail.nl/ERA/ERAPUBLICATIONS/2020_Report-Railway-Safety+Interoperability.pdf  \n",
    "\n",
    "European Council (2023). Rail transport policy. https://www.consilium.europa.eu/en/policies/rail-transport-policy/ \n",
    "\n",
    "Yang, L., Eom, S. & Suzuki, T. (2021). Measuring railway network performance considering accessibility levels in cities worldwide. Journal of Transport Geography, vol. 96. https://doi.org/10.1016/j.jtrangeo.2021.103211. "
   ]
  }
 ],
 "metadata": {
  "kernelspec": {
   "display_name": "Python 3 (ipykernel)",
   "language": "python",
   "name": "python3"
  },
  "language_info": {
   "codemirror_mode": {
    "name": "ipython",
    "version": 3
   },
   "file_extension": ".py",
   "mimetype": "text/x-python",
   "name": "python",
   "nbconvert_exporter": "python",
   "pygments_lexer": "ipython3",
   "version": "3.11.4"
  }
 },
 "nbformat": 4,
 "nbformat_minor": 5
}
