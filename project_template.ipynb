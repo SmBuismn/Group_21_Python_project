{
 "cells": [
  {
   "cell_type": "markdown",
   "metadata": {},
   "source": [
    "# Project Group - 21\n",
    "\n",
    "Members: Naomi Cornelissen, Tom Bruinink, Sam Buisman, Bart van Heijningen, Klaas Molendijk\n",
    "\n",
    "Student numbers: 5105765, 6075673, 5957915, 6088015, 6101399"
   ]
  },
  {
   "cell_type": "markdown",
   "metadata": {},
   "source": [
    "# Research Objective\n"
   ]
  },
  {
   "cell_type": "markdown",
   "metadata": {},
   "source": [
    "Background information:\n",
    "Trains are generally seen as an environmental friendly mode of transport. The European Union recently announced a plan to improve the railway network in Europe in order to reduce CO2 emissions . The trend of investing in railway transport begs the question whether those investments are effective. Because there is often a great amount of money involved in those investments, this research takes a deeper dive into the relationship between investments in the rail network for passengers and the usage of that train network. The goal is to create a visual overview of that relationship. The infrastructure investments are measured relative to the gross domestic product (GDP) of a country. \n",
    "Research question:\n",
    "What is the influence of a country’s investments in railway passenger transport relative to the GDP on train travel?\n",
    "Datasets:\n",
    "1.\tAmount of passenger-kilometres per country (2000-2020)\n",
    "https://data.oecd.org/transport/passenger-transport.htm#indicator-chart \n",
    "2.\tGDP (per capita) per country (2000-2020) https://databank.worldbank.org/indicator/NY.GDP.PCAP.CD/1ff4a498/Popular-Indicators# https://ourworldindata.org/grapher/gdp-per-capita-maddison?tab=table\n",
    "3.\tInvestments in railway passenger transport per country (2000-2020)\n",
    "https://data.oecd.org/transport/infrastructure-investment.htm#indicator-chart\n"
   ]
  },
  {
   "cell_type": "markdown",
   "metadata": {},
   "source": [
    "# Contribution Statement\n",
    "\n",
    "*Be specific. Some of the tasks can be coding (expect everyone to do this), background research, conceptualisation, visualisation, data analysis, data modelling*"
   ]
  },
  {
   "cell_type": "markdown",
   "metadata": {},
   "source": [
    "**Author 1**:\n",
    "\n",
    "**Author 2**:\n",
    "\n",
    "**Author 3**:"
   ]
  },
  {
   "cell_type": "markdown",
   "metadata": {},
   "source": [
    "# Data Used"
   ]
  },
  {
   "cell_type": "markdown",
   "metadata": {},
   "source": []
  },
  {
   "cell_type": "markdown",
   "metadata": {},
   "source": [
    "# Data Pipeline"
   ]
  },
  {
   "cell_type": "markdown",
   "metadata": {},
   "source": []
  },
  {
   "cell_type": "markdown",
   "metadata": {},
   "source": [
    "# Research"
   ]
  },
  {
   "cell_type": "markdown",
   "metadata": {},
   "source": []
  },
  {
   "cell_type": "code",
   "execution_count": null,
   "metadata": {},
   "outputs": [],
   "source": [
    "# Import packages\n",
    "import pandas as pd\n",
    "import numpy as np\n",
    "import matplotlib.pyplot as plt\n",
    "\n",
    "# Import data\n",
    "prepare_passenger_data = pd.read_csv(\"passenger_data.csv\")\n",
    "prepare_infrastructure_data = pd.read_csv(\"InfrastructureInvestments_data.csv\")\n",
    "gdp_data = pd.read_csv(\"GDP_data.csv\")\n",
    "gdp_data = gdp_data.applymap(lambda x: '{:.0f}'.format(float(x)))  # Convert large numbers (e-powers) to normal numbers\n",
    "gdp_per_capita_data = pd.read_csv(\"GDP_per_capita_data.csv\")\n",
    "\n",
    "# Choose the timeframe you want to consider\n",
    "start_timeframe = 2000\n",
    "end_timeframe = 2020"
   ]
  },
  {
   "cell_type": "code",
   "execution_count": null,
   "metadata": {},
   "outputs": [],
   "source": [
    "# Prepare data\n",
    "\n",
    "num_of_countries = gdp_data.shape[0]\n",
    "num_of_columns = gdp_data.shape[1]\n",
    "\n",
    "# Make new dataframes in same format as gdp_data and gdp_per_capita_data\n",
    "passenger_data = pd.DataFrame(columns=gdp_data.columns)\n",
    "infrastructure_data = pd.DataFrame(columns=gdp_data.columns)\n",
    "\n",
    "# Initialize dataframe\n",
    "for i in range(num_of_countries):\n",
    "    passenger_data.loc[i] = ['..' for _ in range(num_of_columns)]\n",
    "    infrastructure_data.loc[i] = ['..' for _ in range(num_of_columns)]\n",
    "\n",
    "# Every row corresponds to data of a country\n",
    "for i in range(num_of_countries):\n",
    "    passenger_data.loc[i, \"Country\"] = gdp_data.loc[i, \"Country\"]\n",
    "    infrastructure_data.loc[i, \"Country\"] = gdp_data.loc[i, \"Country\"]\n",
    "\n",
    "# Fill dataframes with values if they exist\n",
    "for country in gdp_data[\"Country\"]:\n",
    "    country_index = gdp_data.loc[gdp_data[\"Country\"] == country].index[0]\n",
    "\n",
    "    for year in gdp_data.columns[1:]:\n",
    "        if ((prepare_passenger_data[\"LOCATION\"] == country) & \n",
    "                                      (prepare_passenger_data[\"TIME\"] == int(year))).any():\n",
    "            if np.isnan(prepare_passenger_data[\"Value\"].iloc[prepare_passenger_data.loc[(prepare_passenger_data[\"LOCATION\"] == country) & \n",
    "                                      (prepare_passenger_data[\"TIME\"] == int(year))].index[0]]) :\n",
    "                continue\n",
    "            else:\n",
    "                passenger_data.loc[country_index,year] = prepare_passenger_data[\"Value\"].iloc[prepare_passenger_data.loc[(prepare_passenger_data[\"LOCATION\"] == country) & \n",
    "                                      (prepare_passenger_data[\"TIME\"] == int(year))].index[0]]\n",
    "        if ((prepare_infrastructure_data[\"LOCATION\"] == country) & \n",
    "                                      (prepare_infrastructure_data[\"TIME\"] == int(year))).any():\n",
    "            if np.isnan(prepare_infrastructure_data[\"Value\"].iloc[prepare_infrastructure_data.loc[(prepare_infrastructure_data[\"LOCATION\"] == country) & \n",
    "                                      (prepare_infrastructure_data[\"TIME\"] == int(year))].index[0]]):\n",
    "                continue\n",
    "            else:\n",
    "                infrastructure_data.loc[country_index,year] = prepare_infrastructure_data[\"Value\"].iloc[prepare_infrastructure_data.loc[(prepare_infrastructure_data[\"LOCATION\"] == country) & \n",
    "                                        (prepare_infrastructure_data[\"TIME\"] == int(year))].index[0]]"
   ]
  },
  {
   "cell_type": "code",
   "execution_count": null,
   "metadata": {},
   "outputs": [],
   "source": [
    "# Create empty dataframe to check on what timeframe there is data per country\n",
    "data_empty = {'Country': [], 'Timeframe passenger': [], 'Timeframe infrastructure': []}\n",
    "country_timeframe = pd.DataFrame(data_empty)\n",
    "\n",
    "# Determine timeframe per country for passenger and infrastructure data\n",
    "for country in gdp_data[\"Country\"]:\n",
    "    country_index = gdp_data.loc[gdp_data[\"Country\"] == country].index[0]\n",
    "\n",
    "    passenger_start = 0\n",
    "    passenger_stop = 0\n",
    "    passenger_count = 0\n",
    "\n",
    "    infrastructure_start = 0\n",
    "    infrastructure_stop = 0\n",
    "    infrastructure_count = 0\n",
    "    \n",
    "    for year in gdp_data.columns[1:]:\n",
    "        if passenger_data.loc[country_index,year] != \"..\":\n",
    "            if passenger_start == 0:\n",
    "                passenger_start = int(year)\n",
    "            passenger_stop = int(year)\n",
    "            passenger_count += 1\n",
    "\n",
    "        if infrastructure_data.loc[country_index,year] != \"..\":\n",
    "            if infrastructure_start == 0:\n",
    "                infrastructure_start = int(year)\n",
    "            infrastructure_stop = int(year)\n",
    "            infrastructure_count += 1\n",
    "\n",
    "    # Continue if there is no data for a country or there is data missing in between\n",
    "    if (passenger_stop - passenger_start + 1 != passenger_count or\n",
    "        infrastructure_stop - infrastructure_start + 1 != infrastructure_count):\n",
    "        continue\n",
    "\n",
    "    else:\n",
    "        new_row = {'Country': country, 'Timeframe passenger': \"{}-{}\".format(passenger_start,passenger_stop), 'Timeframe infrastructure': \"{}-{}\".format(infrastructure_start,infrastructure_stop)}\n",
    "        country_timeframe = country_timeframe.append(new_row, ignore_index=True)\n",
    "\n",
    "# Create empty list for countries that have data for entire timeframe\n",
    "feasible_countries = []\n",
    "\n",
    "for country in country_timeframe[\"Country\"]:\n",
    "    country_index = country_timeframe.loc[country_timeframe[\"Country\"] == country].index[0]\n",
    "\n",
    "    years_timeframe_passenger = country_timeframe[\"Timeframe passenger\"].iloc[country_index].split('-')\n",
    "    years_timeframe_infrastructure = country_timeframe[\"Timeframe infrastructure\"].iloc[country_index].split('-')\n",
    "\n",
    "    start_year_passenger = int(years_timeframe_passenger[0])\n",
    "    end_year_passenger = int(years_timeframe_passenger[1])\n",
    "\n",
    "    start_year_infrastructure = int(years_timeframe_infrastructure[0])\n",
    "    end_year_infrastructure = int(years_timeframe_infrastructure[1])\n",
    "\n",
    "    # Add countries to feasible_countries if data is available on entire timeframe for both passengers and infrastructure\n",
    "    if (max(start_year_passenger,start_year_infrastructure) <= start_timeframe) & (min(end_year_passenger,end_year_infrastructure) >= end_timeframe):\n",
    "        feasible_countries.append(country)\n",
    "\n",
    "# Drop all countries for data do not have data for entire timeframe\n",
    "for year in gdp_data.columns[1:]:\n",
    "    if int(year) < start_timeframe or int(year) > end_timeframe:\n",
    "        gdp_data = gdp_data.drop(year, axis=1)\n",
    "        gdp_per_capita_data = gdp_per_capita_data.drop(year, axis=1)\n",
    "        passenger_data = passenger_data.drop(year, axis=1)\n",
    "        infrastructure_data = infrastructure_data.drop(year, axis=1)\n",
    "\n"
   ]
  },
  {
   "cell_type": "code",
   "execution_count": null,
   "metadata": {},
   "outputs": [],
   "source": [
    "# Set countries as index to make plotting easier\n",
    "gdp_data.set_index('Country', inplace=True)\n",
    "gdp_per_capita_data.set_index('Country', inplace=True)\n",
    "passenger_data.set_index('Country', inplace=True)\n",
    "infrastructure_data.set_index('Country', inplace=True)"
   ]
  },
  {
   "cell_type": "code",
   "execution_count": null,
   "metadata": {},
   "outputs": [],
   "source": [
    "# Determine percentage of GDP that is invested in railway infrastructure\n",
    "infrastructure_data = infrastructure_data.astype(float)\n",
    "gdp_data = gdp_data.astype(float)\n",
    "\n",
    "infrastructure_gdp = infrastructure_data / gdp_data * 100\n",
    "\n",
    "plt.figure()\n",
    "for index, row in infrastructure_gdp.iterrows():\n",
    "    plt.plot(row, marker='o',label=f'{index}')\n",
    "\n",
    "plt.xlabel('Year')\n",
    "plt.ylabel('Infrastructure as percentage of GDP')\n",
    "\n",
    "plt.legend()\n",
    "plt.show()"
   ]
  }
 ],
 "metadata": {
  "kernelspec": {
   "display_name": "Python 3 (ipykernel)",
   "language": "python",
   "name": "python3"
  },
  "language_info": {
   "codemirror_mode": {
    "name": "ipython",
    "version": 3
   },
   "file_extension": ".py",
   "mimetype": "text/x-python",
   "name": "python",
   "nbconvert_exporter": "python",
   "pygments_lexer": "ipython3",
   "version": "3.11.4"
  },
  "vscode": {
   "interpreter": {
    "hash": "31f2aee4e71d21fbe5cf8b01ff0e069b9275f58929596ceb00d14d90e3e16cd6"
   }
  }
 },
 "nbformat": 4,
 "nbformat_minor": 2
}
