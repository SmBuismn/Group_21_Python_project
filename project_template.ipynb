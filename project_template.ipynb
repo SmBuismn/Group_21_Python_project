{
 "cells": [
  {
   "cell_type": "markdown",
   "metadata": {},
   "source": [
    "# Project Group - 21\n",
    "\n",
    "Members: Naomi Cornelissen, Tom Bruinink, Sam Buisman, Bart van Heijningen, Klaas Molendijk\n",
    "\n",
    "Student numbers: 5105765, 6075673, 5957915, 6088015, 6101399"
   ]
  },
  {
   "cell_type": "markdown",
   "metadata": {},
   "source": [
    "# Research Objective\n"
   ]
  },
  {
   "cell_type": "markdown",
   "metadata": {},
   "source": [
    "Background information:\n",
    "Trains are generally seen as an environmental friendly mode of transport. The European Union recently announced a plan to improve the railway network in Europe in order to reduce CO2 emissions . The trend of investing in railway transport begs the question whether those investments are effective. Because there is often a great amount of money involved in those investments, this research takes a deeper dive into the relationship between investments in the rail network for passengers and the usage of that train network. The goal is to create a visual overview of that relationship. The infrastructure investments are measured relative to the gross domestic product (GDP) of a country. \n",
    "Research question:\n",
    "What is the influence of a country’s investments in railway passenger transport on train travel?\n",
    "Datasets:\n",
    "1.\tAmount of passenger-kilometres per country (1999-2019)\n",
    "https://data.oecd.org/transport/passenger-transport.htm#indicator-chart \n",
    "2.\tPopulation per country (1999-2019)\n",
    "https://ourworldindata.org/grapher/population?time=1971..latest\n",
    "3. GDP (per capita) per country (1999-2019) https://databank.worldbank.org/indicator/NY.GDP.PCAP.CD/1ff4a498/Popular-Indicators# \n",
    "https://ourworldindata.org/grapher/gdp-per-capita-maddison?tab=table\n",
    "4.\tInvestments in railway passenger transport per country (1999-2019)\n",
    "https://data.oecd.org/transport/infrastructure-investment.htm#indicator-chart\n"
   ]
  },
  {
   "cell_type": "markdown",
   "metadata": {},
   "source": [
    "# Contribution Statement\n",
    "\n",
    "*Be specific. Some of the tasks can be coding (expect everyone to do this), background research, conceptualisation, visualisation, data analysis, data modelling*"
   ]
  },
  {
   "cell_type": "markdown",
   "metadata": {},
   "source": [
    "**Author 1**:\n",
    "\n",
    "**Author 2**:\n",
    "\n",
    "**Author 3**:"
   ]
  },
  {
   "cell_type": "markdown",
   "metadata": {},
   "source": [
    "# Data Used"
   ]
  },
  {
   "cell_type": "markdown",
   "metadata": {},
   "source": []
  },
  {
   "cell_type": "markdown",
   "metadata": {},
   "source": [
    "# Data Pipeline"
   ]
  },
  {
   "cell_type": "markdown",
   "metadata": {},
   "source": []
  },
  {
   "cell_type": "markdown",
   "metadata": {},
   "source": [
    "# Research"
   ]
  },
  {
   "cell_type": "markdown",
   "metadata": {},
   "source": [
    "### Data preparation\n",
    "In the following code, the data is being prepared and standardized into a consistent format to facilitate computations. A timeframe spanning from 2000 to 2020 is selected, ensuring sufficient data availability across various datasets and encompassing a substantial 20-year period. To maintain data integrity, countries lacking complete data across all datasets throughout this timeframe are excluded. As a result, 15 countries from three different continents are included in the analysis"
   ]
  },
  {
   "cell_type": "code",
   "execution_count": 3,
   "metadata": {},
   "outputs": [],
   "source": [
    "# Import packages\n",
    "import numpy as np\n",
    "import pandas as pd\n",
    "import matplotlib.pyplot as plt\n",
    "from matplotlib.ticker import MultipleLocator\n",
    "import plotly.express as px"
   ]
  },
  {
   "cell_type": "code",
   "execution_count": 4,
   "metadata": {},
   "outputs": [],
   "source": [
    "# Import data\n",
    "prepare_passenger_data = pd.read_csv(\"passenger_data.csv\")\n",
    "prepare_infrastructure_train_data = pd.read_csv(\"InfrastructureInvestments_train_data.csv\")\n",
    "prepare_infrastructure_road_data = pd.read_csv(\"InfrastructureInvestments_road_data.csv\")\n",
    "prepare_population_data = pd.read_csv(\"population_data.csv\")\n",
    "gdp_data = pd.read_csv(\"GDP_data.csv\")\n",
    "gdp_per_capita_data = pd.read_csv(\"GDP_per_capita_data.csv\")\n",
    "\n",
    "# Choose the timeframe you want to consider\n",
    "start_timeframe = 1999\n",
    "end_timeframe = 2019\n",
    "\n",
    "# Part of data is in dollars, other part in euros.\n",
    "# Convert the data to a consistent format by converting part of it from euros to dollars.\n",
    "one_dollar = 0.95 # current exchange rate"
   ]
  },
  {
   "cell_type": "markdown",
   "metadata": {},
   "source": [
    "We have filled the passenger, infrastructure, and population tables with all the available data to align their format with the GDP data. However, when displaying the first 10 countries' passenger data, we noticed extensive missing data. Several countries lack any data, while others have information for only a part of the timeframe."
   ]
  },
  {
   "cell_type": "code",
   "execution_count": 5,
   "metadata": {},
   "outputs": [
    {
     "data": {
      "text/html": [
       "<div>\n",
       "<style scoped>\n",
       "    .dataframe tbody tr th:only-of-type {\n",
       "        vertical-align: middle;\n",
       "    }\n",
       "\n",
       "    .dataframe tbody tr th {\n",
       "        vertical-align: top;\n",
       "    }\n",
       "\n",
       "    .dataframe thead th {\n",
       "        text-align: right;\n",
       "    }\n",
       "</style>\n",
       "<table border=\"1\" class=\"dataframe\">\n",
       "  <thead>\n",
       "    <tr style=\"text-align: right;\">\n",
       "      <th></th>\n",
       "      <th>Country</th>\n",
       "      <th>1995</th>\n",
       "      <th>1996</th>\n",
       "      <th>1997</th>\n",
       "      <th>1998</th>\n",
       "      <th>1999</th>\n",
       "      <th>2000</th>\n",
       "      <th>2001</th>\n",
       "      <th>2002</th>\n",
       "      <th>2003</th>\n",
       "      <th>...</th>\n",
       "      <th>2011</th>\n",
       "      <th>2012</th>\n",
       "      <th>2013</th>\n",
       "      <th>2014</th>\n",
       "      <th>2015</th>\n",
       "      <th>2016</th>\n",
       "      <th>2017</th>\n",
       "      <th>2018</th>\n",
       "      <th>2019</th>\n",
       "      <th>2020</th>\n",
       "    </tr>\n",
       "  </thead>\n",
       "  <tbody>\n",
       "    <tr>\n",
       "      <th>0</th>\n",
       "      <td>AFG</td>\n",
       "      <td>..</td>\n",
       "      <td>..</td>\n",
       "      <td>..</td>\n",
       "      <td>..</td>\n",
       "      <td>..</td>\n",
       "      <td>..</td>\n",
       "      <td>..</td>\n",
       "      <td>..</td>\n",
       "      <td>..</td>\n",
       "      <td>...</td>\n",
       "      <td>..</td>\n",
       "      <td>..</td>\n",
       "      <td>..</td>\n",
       "      <td>..</td>\n",
       "      <td>..</td>\n",
       "      <td>..</td>\n",
       "      <td>..</td>\n",
       "      <td>..</td>\n",
       "      <td>..</td>\n",
       "      <td>..</td>\n",
       "    </tr>\n",
       "    <tr>\n",
       "      <th>1</th>\n",
       "      <td>ALB</td>\n",
       "      <td>4955.0</td>\n",
       "      <td>5233.0</td>\n",
       "      <td>3721.0</td>\n",
       "      <td>4924.0</td>\n",
       "      <td>5183.0</td>\n",
       "      <td>5299.0</td>\n",
       "      <td>5370.0</td>\n",
       "      <td>6065.0</td>\n",
       "      <td>6495.0</td>\n",
       "      <td>...</td>\n",
       "      <td>7980.0</td>\n",
       "      <td>7637.0</td>\n",
       "      <td>8650.0</td>\n",
       "      <td>..</td>\n",
       "      <td>..</td>\n",
       "      <td>..</td>\n",
       "      <td>..</td>\n",
       "      <td>..</td>\n",
       "      <td>..</td>\n",
       "      <td>..</td>\n",
       "    </tr>\n",
       "    <tr>\n",
       "      <th>2</th>\n",
       "      <td>DZA</td>\n",
       "      <td>..</td>\n",
       "      <td>..</td>\n",
       "      <td>..</td>\n",
       "      <td>..</td>\n",
       "      <td>..</td>\n",
       "      <td>..</td>\n",
       "      <td>..</td>\n",
       "      <td>..</td>\n",
       "      <td>..</td>\n",
       "      <td>...</td>\n",
       "      <td>..</td>\n",
       "      <td>..</td>\n",
       "      <td>..</td>\n",
       "      <td>..</td>\n",
       "      <td>..</td>\n",
       "      <td>..</td>\n",
       "      <td>..</td>\n",
       "      <td>..</td>\n",
       "      <td>..</td>\n",
       "      <td>..</td>\n",
       "    </tr>\n",
       "    <tr>\n",
       "      <th>3</th>\n",
       "      <td>ASM</td>\n",
       "      <td>..</td>\n",
       "      <td>..</td>\n",
       "      <td>..</td>\n",
       "      <td>..</td>\n",
       "      <td>..</td>\n",
       "      <td>..</td>\n",
       "      <td>..</td>\n",
       "      <td>..</td>\n",
       "      <td>..</td>\n",
       "      <td>...</td>\n",
       "      <td>..</td>\n",
       "      <td>..</td>\n",
       "      <td>..</td>\n",
       "      <td>..</td>\n",
       "      <td>..</td>\n",
       "      <td>..</td>\n",
       "      <td>..</td>\n",
       "      <td>..</td>\n",
       "      <td>..</td>\n",
       "      <td>..</td>\n",
       "    </tr>\n",
       "    <tr>\n",
       "      <th>4</th>\n",
       "      <td>AND</td>\n",
       "      <td>..</td>\n",
       "      <td>..</td>\n",
       "      <td>..</td>\n",
       "      <td>..</td>\n",
       "      <td>..</td>\n",
       "      <td>..</td>\n",
       "      <td>..</td>\n",
       "      <td>..</td>\n",
       "      <td>..</td>\n",
       "      <td>...</td>\n",
       "      <td>..</td>\n",
       "      <td>..</td>\n",
       "      <td>..</td>\n",
       "      <td>..</td>\n",
       "      <td>..</td>\n",
       "      <td>..</td>\n",
       "      <td>..</td>\n",
       "      <td>..</td>\n",
       "      <td>..</td>\n",
       "      <td>..</td>\n",
       "    </tr>\n",
       "    <tr>\n",
       "      <th>5</th>\n",
       "      <td>AGO</td>\n",
       "      <td>..</td>\n",
       "      <td>..</td>\n",
       "      <td>..</td>\n",
       "      <td>..</td>\n",
       "      <td>..</td>\n",
       "      <td>..</td>\n",
       "      <td>..</td>\n",
       "      <td>..</td>\n",
       "      <td>..</td>\n",
       "      <td>...</td>\n",
       "      <td>..</td>\n",
       "      <td>..</td>\n",
       "      <td>..</td>\n",
       "      <td>..</td>\n",
       "      <td>..</td>\n",
       "      <td>..</td>\n",
       "      <td>..</td>\n",
       "      <td>..</td>\n",
       "      <td>..</td>\n",
       "      <td>..</td>\n",
       "    </tr>\n",
       "    <tr>\n",
       "      <th>6</th>\n",
       "      <td>ATG</td>\n",
       "      <td>..</td>\n",
       "      <td>..</td>\n",
       "      <td>..</td>\n",
       "      <td>..</td>\n",
       "      <td>..</td>\n",
       "      <td>..</td>\n",
       "      <td>..</td>\n",
       "      <td>..</td>\n",
       "      <td>..</td>\n",
       "      <td>...</td>\n",
       "      <td>..</td>\n",
       "      <td>..</td>\n",
       "      <td>..</td>\n",
       "      <td>..</td>\n",
       "      <td>..</td>\n",
       "      <td>..</td>\n",
       "      <td>..</td>\n",
       "      <td>..</td>\n",
       "      <td>..</td>\n",
       "      <td>..</td>\n",
       "    </tr>\n",
       "    <tr>\n",
       "      <th>7</th>\n",
       "      <td>ARG</td>\n",
       "      <td>22854.82871</td>\n",
       "      <td>22203.4949</td>\n",
       "      <td>22777.99199</td>\n",
       "      <td>24990.06492</td>\n",
       "      <td>26139.84115</td>\n",
       "      <td>25464.11758</td>\n",
       "      <td>25286.63395</td>\n",
       "      <td>24807.91882</td>\n",
       "      <td>28189.80285</td>\n",
       "      <td>...</td>\n",
       "      <td>43220.01256</td>\n",
       "      <td>44054.44365</td>\n",
       "      <td>42920.52886</td>\n",
       "      <td>43361.32563</td>\n",
       "      <td>44538.45908</td>\n",
       "      <td>46838.665</td>\n",
       "      <td>48784.35137</td>\n",
       "      <td>..</td>\n",
       "      <td>..</td>\n",
       "      <td>..</td>\n",
       "    </tr>\n",
       "    <tr>\n",
       "      <th>8</th>\n",
       "      <td>ARM</td>\n",
       "      <td>..</td>\n",
       "      <td>..</td>\n",
       "      <td>1626.0</td>\n",
       "      <td>1643.0</td>\n",
       "      <td>1421.0</td>\n",
       "      <td>1437.0</td>\n",
       "      <td>1678.0</td>\n",
       "      <td>1813.0</td>\n",
       "      <td>1959.0</td>\n",
       "      <td>...</td>\n",
       "      <td>..</td>\n",
       "      <td>..</td>\n",
       "      <td>..</td>\n",
       "      <td>..</td>\n",
       "      <td>..</td>\n",
       "      <td>..</td>\n",
       "      <td>..</td>\n",
       "      <td>..</td>\n",
       "      <td>..</td>\n",
       "      <td>..</td>\n",
       "    </tr>\n",
       "    <tr>\n",
       "      <th>9</th>\n",
       "      <td>ABW</td>\n",
       "      <td>..</td>\n",
       "      <td>..</td>\n",
       "      <td>..</td>\n",
       "      <td>..</td>\n",
       "      <td>..</td>\n",
       "      <td>..</td>\n",
       "      <td>..</td>\n",
       "      <td>..</td>\n",
       "      <td>..</td>\n",
       "      <td>...</td>\n",
       "      <td>..</td>\n",
       "      <td>..</td>\n",
       "      <td>..</td>\n",
       "      <td>..</td>\n",
       "      <td>..</td>\n",
       "      <td>..</td>\n",
       "      <td>..</td>\n",
       "      <td>..</td>\n",
       "      <td>..</td>\n",
       "      <td>..</td>\n",
       "    </tr>\n",
       "  </tbody>\n",
       "</table>\n",
       "<p>10 rows × 27 columns</p>\n",
       "</div>"
      ],
      "text/plain": [
       "  Country         1995        1996         1997         1998         1999  \\\n",
       "0     AFG           ..          ..           ..           ..           ..   \n",
       "1     ALB       4955.0      5233.0       3721.0       4924.0       5183.0   \n",
       "2     DZA           ..          ..           ..           ..           ..   \n",
       "3     ASM           ..          ..           ..           ..           ..   \n",
       "4     AND           ..          ..           ..           ..           ..   \n",
       "5     AGO           ..          ..           ..           ..           ..   \n",
       "6     ATG           ..          ..           ..           ..           ..   \n",
       "7     ARG  22854.82871  22203.4949  22777.99199  24990.06492  26139.84115   \n",
       "8     ARM           ..          ..       1626.0       1643.0       1421.0   \n",
       "9     ABW           ..          ..           ..           ..           ..   \n",
       "\n",
       "          2000         2001         2002         2003  ...         2011  \\\n",
       "0           ..           ..           ..           ..  ...           ..   \n",
       "1       5299.0       5370.0       6065.0       6495.0  ...       7980.0   \n",
       "2           ..           ..           ..           ..  ...           ..   \n",
       "3           ..           ..           ..           ..  ...           ..   \n",
       "4           ..           ..           ..           ..  ...           ..   \n",
       "5           ..           ..           ..           ..  ...           ..   \n",
       "6           ..           ..           ..           ..  ...           ..   \n",
       "7  25464.11758  25286.63395  24807.91882  28189.80285  ...  43220.01256   \n",
       "8       1437.0       1678.0       1813.0       1959.0  ...           ..   \n",
       "9           ..           ..           ..           ..  ...           ..   \n",
       "\n",
       "          2012         2013         2014         2015       2016         2017  \\\n",
       "0           ..           ..           ..           ..         ..           ..   \n",
       "1       7637.0       8650.0           ..           ..         ..           ..   \n",
       "2           ..           ..           ..           ..         ..           ..   \n",
       "3           ..           ..           ..           ..         ..           ..   \n",
       "4           ..           ..           ..           ..         ..           ..   \n",
       "5           ..           ..           ..           ..         ..           ..   \n",
       "6           ..           ..           ..           ..         ..           ..   \n",
       "7  44054.44365  42920.52886  43361.32563  44538.45908  46838.665  48784.35137   \n",
       "8           ..           ..           ..           ..         ..           ..   \n",
       "9           ..           ..           ..           ..         ..           ..   \n",
       "\n",
       "  2018 2019 2020  \n",
       "0   ..   ..   ..  \n",
       "1   ..   ..   ..  \n",
       "2   ..   ..   ..  \n",
       "3   ..   ..   ..  \n",
       "4   ..   ..   ..  \n",
       "5   ..   ..   ..  \n",
       "6   ..   ..   ..  \n",
       "7   ..   ..   ..  \n",
       "8   ..   ..   ..  \n",
       "9   ..   ..   ..  \n",
       "\n",
       "[10 rows x 27 columns]"
      ]
     },
     "execution_count": 5,
     "metadata": {},
     "output_type": "execute_result"
    }
   ],
   "source": [
    "# Prepare data\n",
    "\n",
    "num_of_countries = gdp_data.shape[0]\n",
    "num_of_columns = gdp_data.shape[1]\n",
    "\n",
    "# Make new dataframes in same format as gdp_data and gdp_per_capita_data\n",
    "gdp_growth_data = pd.DataFrame(columns=gdp_data.columns)\n",
    "passenger_data = pd.DataFrame(columns=gdp_data.columns)\n",
    "infrastructure_train_data = pd.DataFrame(columns=gdp_data.columns)\n",
    "infrastructure_road_data = pd.DataFrame(columns=gdp_data.columns)\n",
    "population_data = pd.DataFrame(columns=gdp_data.columns)\n",
    "\n",
    "# Initialize dataframe\n",
    "for i in range(num_of_countries):\n",
    "    gdp_growth_data.loc[i] = ['..' for _ in range(num_of_columns)]\n",
    "    passenger_data.loc[i] = ['..' for _ in range(num_of_columns)]\n",
    "    infrastructure_train_data.loc[i] = ['..' for _ in range(num_of_columns)]\n",
    "    infrastructure_road_data.loc[i] = ['..' for _ in range(num_of_columns)]\n",
    "    population_data.loc[i] = ['..' for _ in range(num_of_columns)]\n",
    "\n",
    "# Every row corresponds to data of a country\n",
    "for i in range(num_of_countries):\n",
    "    gdp_growth_data.loc[i, \"Country\"] = gdp_data.loc[i, \"Country\"]\n",
    "    passenger_data.loc[i, \"Country\"] = gdp_data.loc[i, \"Country\"]\n",
    "    infrastructure_train_data.loc[i, \"Country\"] = gdp_data.loc[i, \"Country\"]\n",
    "    infrastructure_road_data.loc[i, \"Country\"] = gdp_data.loc[i, \"Country\"]\n",
    "    population_data.loc[i, \"Country\"] = gdp_data.loc[i, \"Country\"]\n",
    "\n",
    "# Fill dataframes with values if they exist\n",
    "for country in gdp_data[\"Country\"]:\n",
    "    country_index = gdp_data.loc[gdp_data[\"Country\"] == country].index[0]\n",
    "\n",
    "    for year in gdp_data.columns[1:]:\n",
    "        if ((prepare_passenger_data[\"LOCATION\"] == country) & \n",
    "                                      (prepare_passenger_data[\"TIME\"] == int(year))).any():\n",
    "            if np.isnan(prepare_passenger_data[\"Value\"].iloc[prepare_passenger_data.loc[(prepare_passenger_data[\"LOCATION\"] == country) & \n",
    "                                      (prepare_passenger_data[\"TIME\"] == int(year))].index[0]]) :\n",
    "                continue\n",
    "            else:\n",
    "                passenger_data.loc[country_index,year] = prepare_passenger_data[\"Value\"].iloc[prepare_passenger_data.loc[(prepare_passenger_data[\"LOCATION\"] == country) & \n",
    "                                      (prepare_passenger_data[\"TIME\"] == int(year))].index[0]]\n",
    "                \n",
    "        if ((prepare_infrastructure_train_data[\"LOCATION\"] == country) & \n",
    "                                      (prepare_infrastructure_train_data[\"TIME\"] == int(year))).any():\n",
    "            if np.isnan(prepare_infrastructure_train_data[\"Value\"].iloc[prepare_infrastructure_train_data.loc[(prepare_infrastructure_train_data[\"LOCATION\"] == country) & \n",
    "                                      (prepare_infrastructure_train_data[\"TIME\"] == int(year))].index[0]]):\n",
    "                continue\n",
    "            else:\n",
    "                infrastructure_train_data.loc[country_index,year] = prepare_infrastructure_train_data[\"Value\"].iloc[prepare_infrastructure_train_data.loc[(prepare_infrastructure_train_data[\"LOCATION\"] == country) & \n",
    "                                        (prepare_infrastructure_train_data[\"TIME\"] == int(year))].index[0]]\n",
    "        \n",
    "        if ((prepare_infrastructure_road_data[\"LOCATION\"] == country) & \n",
    "                                      (prepare_infrastructure_road_data[\"TIME\"] == int(year))).any():\n",
    "            if np.isnan(prepare_infrastructure_road_data[\"Value\"].iloc[prepare_infrastructure_road_data.loc[(prepare_infrastructure_road_data[\"LOCATION\"] == country) & \n",
    "                                      (prepare_infrastructure_road_data[\"TIME\"] == int(year))].index[0]]):\n",
    "                continue\n",
    "            else:\n",
    "                infrastructure_road_data.loc[country_index,year] = prepare_infrastructure_road_data[\"Value\"].iloc[prepare_infrastructure_road_data.loc[(prepare_infrastructure_road_data[\"LOCATION\"] == country) & \n",
    "                                        (prepare_infrastructure_road_data[\"TIME\"] == int(year))].index[0]]\n",
    "\n",
    "        if ((prepare_population_data[\"Code\"] == country) & \n",
    "                                      (prepare_population_data[\"Year\"] == int(year))).any():\n",
    "            if np.isnan(prepare_population_data[\"Population\"].iloc[prepare_population_data.loc[(prepare_population_data[\"Code\"] == country) & \n",
    "                                      (prepare_population_data[\"Year\"] == int(year))].index[0]]):\n",
    "                continue\n",
    "            else:\n",
    "                population_data.loc[country_index,year] = prepare_population_data[\"Population\"].iloc[prepare_population_data.loc[(prepare_population_data[\"Code\"] == country) & \n",
    "                                        (prepare_population_data[\"Year\"] == int(year))].index[0]]\n",
    "\n",
    "        if year == gdp_data.columns[1] or gdp_data.loc[country_index,year] == \"..\" or gdp_data.loc[country_index,str(int(year)-1)]  == \"..\":\n",
    "            continue\n",
    "        else:\n",
    "            gdp_growth_data.loc[country_index,year] = (float(gdp_data.loc[country_index,year]) - float(gdp_data.loc[country_index,str(int(year)-1)])) / float(gdp_data.loc[country_index,str(int(year)-1)]) * 100\n",
    "\n",
    "passenger_data.head(10)"
   ]
  },
  {
   "cell_type": "code",
   "execution_count": 6,
   "metadata": {},
   "outputs": [
    {
     "name": "stderr",
     "output_type": "stream",
     "text": [
      "C:\\Users\\Van Heijningen\\AppData\\Local\\Temp\\ipykernel_25472\\2114058766.py:37: FutureWarning: The frame.append method is deprecated and will be removed from pandas in a future version. Use pandas.concat instead.\n",
      "  country_timeframe = country_timeframe.append(new_row, ignore_index=True)\n",
      "C:\\Users\\Van Heijningen\\AppData\\Local\\Temp\\ipykernel_25472\\2114058766.py:37: FutureWarning: The frame.append method is deprecated and will be removed from pandas in a future version. Use pandas.concat instead.\n",
      "  country_timeframe = country_timeframe.append(new_row, ignore_index=True)\n",
      "C:\\Users\\Van Heijningen\\AppData\\Local\\Temp\\ipykernel_25472\\2114058766.py:37: FutureWarning: The frame.append method is deprecated and will be removed from pandas in a future version. Use pandas.concat instead.\n",
      "  country_timeframe = country_timeframe.append(new_row, ignore_index=True)\n",
      "C:\\Users\\Van Heijningen\\AppData\\Local\\Temp\\ipykernel_25472\\2114058766.py:37: FutureWarning: The frame.append method is deprecated and will be removed from pandas in a future version. Use pandas.concat instead.\n",
      "  country_timeframe = country_timeframe.append(new_row, ignore_index=True)\n",
      "C:\\Users\\Van Heijningen\\AppData\\Local\\Temp\\ipykernel_25472\\2114058766.py:37: FutureWarning: The frame.append method is deprecated and will be removed from pandas in a future version. Use pandas.concat instead.\n",
      "  country_timeframe = country_timeframe.append(new_row, ignore_index=True)\n",
      "C:\\Users\\Van Heijningen\\AppData\\Local\\Temp\\ipykernel_25472\\2114058766.py:37: FutureWarning: The frame.append method is deprecated and will be removed from pandas in a future version. Use pandas.concat instead.\n",
      "  country_timeframe = country_timeframe.append(new_row, ignore_index=True)\n",
      "C:\\Users\\Van Heijningen\\AppData\\Local\\Temp\\ipykernel_25472\\2114058766.py:37: FutureWarning: The frame.append method is deprecated and will be removed from pandas in a future version. Use pandas.concat instead.\n",
      "  country_timeframe = country_timeframe.append(new_row, ignore_index=True)\n",
      "C:\\Users\\Van Heijningen\\AppData\\Local\\Temp\\ipykernel_25472\\2114058766.py:37: FutureWarning: The frame.append method is deprecated and will be removed from pandas in a future version. Use pandas.concat instead.\n",
      "  country_timeframe = country_timeframe.append(new_row, ignore_index=True)\n",
      "C:\\Users\\Van Heijningen\\AppData\\Local\\Temp\\ipykernel_25472\\2114058766.py:37: FutureWarning: The frame.append method is deprecated and will be removed from pandas in a future version. Use pandas.concat instead.\n",
      "  country_timeframe = country_timeframe.append(new_row, ignore_index=True)\n",
      "C:\\Users\\Van Heijningen\\AppData\\Local\\Temp\\ipykernel_25472\\2114058766.py:37: FutureWarning: The frame.append method is deprecated and will be removed from pandas in a future version. Use pandas.concat instead.\n",
      "  country_timeframe = country_timeframe.append(new_row, ignore_index=True)\n",
      "C:\\Users\\Van Heijningen\\AppData\\Local\\Temp\\ipykernel_25472\\2114058766.py:37: FutureWarning: The frame.append method is deprecated and will be removed from pandas in a future version. Use pandas.concat instead.\n",
      "  country_timeframe = country_timeframe.append(new_row, ignore_index=True)\n",
      "C:\\Users\\Van Heijningen\\AppData\\Local\\Temp\\ipykernel_25472\\2114058766.py:37: FutureWarning: The frame.append method is deprecated and will be removed from pandas in a future version. Use pandas.concat instead.\n",
      "  country_timeframe = country_timeframe.append(new_row, ignore_index=True)\n",
      "C:\\Users\\Van Heijningen\\AppData\\Local\\Temp\\ipykernel_25472\\2114058766.py:37: FutureWarning: The frame.append method is deprecated and will be removed from pandas in a future version. Use pandas.concat instead.\n",
      "  country_timeframe = country_timeframe.append(new_row, ignore_index=True)\n",
      "C:\\Users\\Van Heijningen\\AppData\\Local\\Temp\\ipykernel_25472\\2114058766.py:37: FutureWarning: The frame.append method is deprecated and will be removed from pandas in a future version. Use pandas.concat instead.\n",
      "  country_timeframe = country_timeframe.append(new_row, ignore_index=True)\n",
      "C:\\Users\\Van Heijningen\\AppData\\Local\\Temp\\ipykernel_25472\\2114058766.py:37: FutureWarning: The frame.append method is deprecated and will be removed from pandas in a future version. Use pandas.concat instead.\n",
      "  country_timeframe = country_timeframe.append(new_row, ignore_index=True)\n",
      "C:\\Users\\Van Heijningen\\AppData\\Local\\Temp\\ipykernel_25472\\2114058766.py:37: FutureWarning: The frame.append method is deprecated and will be removed from pandas in a future version. Use pandas.concat instead.\n",
      "  country_timeframe = country_timeframe.append(new_row, ignore_index=True)\n",
      "C:\\Users\\Van Heijningen\\AppData\\Local\\Temp\\ipykernel_25472\\2114058766.py:37: FutureWarning: The frame.append method is deprecated and will be removed from pandas in a future version. Use pandas.concat instead.\n",
      "  country_timeframe = country_timeframe.append(new_row, ignore_index=True)\n",
      "C:\\Users\\Van Heijningen\\AppData\\Local\\Temp\\ipykernel_25472\\2114058766.py:37: FutureWarning: The frame.append method is deprecated and will be removed from pandas in a future version. Use pandas.concat instead.\n",
      "  country_timeframe = country_timeframe.append(new_row, ignore_index=True)\n",
      "C:\\Users\\Van Heijningen\\AppData\\Local\\Temp\\ipykernel_25472\\2114058766.py:37: FutureWarning: The frame.append method is deprecated and will be removed from pandas in a future version. Use pandas.concat instead.\n",
      "  country_timeframe = country_timeframe.append(new_row, ignore_index=True)\n",
      "C:\\Users\\Van Heijningen\\AppData\\Local\\Temp\\ipykernel_25472\\2114058766.py:37: FutureWarning: The frame.append method is deprecated and will be removed from pandas in a future version. Use pandas.concat instead.\n",
      "  country_timeframe = country_timeframe.append(new_row, ignore_index=True)\n",
      "C:\\Users\\Van Heijningen\\AppData\\Local\\Temp\\ipykernel_25472\\2114058766.py:37: FutureWarning: The frame.append method is deprecated and will be removed from pandas in a future version. Use pandas.concat instead.\n",
      "  country_timeframe = country_timeframe.append(new_row, ignore_index=True)\n",
      "C:\\Users\\Van Heijningen\\AppData\\Local\\Temp\\ipykernel_25472\\2114058766.py:37: FutureWarning: The frame.append method is deprecated and will be removed from pandas in a future version. Use pandas.concat instead.\n",
      "  country_timeframe = country_timeframe.append(new_row, ignore_index=True)\n",
      "C:\\Users\\Van Heijningen\\AppData\\Local\\Temp\\ipykernel_25472\\2114058766.py:37: FutureWarning: The frame.append method is deprecated and will be removed from pandas in a future version. Use pandas.concat instead.\n",
      "  country_timeframe = country_timeframe.append(new_row, ignore_index=True)\n",
      "C:\\Users\\Van Heijningen\\AppData\\Local\\Temp\\ipykernel_25472\\2114058766.py:37: FutureWarning: The frame.append method is deprecated and will be removed from pandas in a future version. Use pandas.concat instead.\n",
      "  country_timeframe = country_timeframe.append(new_row, ignore_index=True)\n",
      "C:\\Users\\Van Heijningen\\AppData\\Local\\Temp\\ipykernel_25472\\2114058766.py:37: FutureWarning: The frame.append method is deprecated and will be removed from pandas in a future version. Use pandas.concat instead.\n",
      "  country_timeframe = country_timeframe.append(new_row, ignore_index=True)\n",
      "C:\\Users\\Van Heijningen\\AppData\\Local\\Temp\\ipykernel_25472\\2114058766.py:37: FutureWarning: The frame.append method is deprecated and will be removed from pandas in a future version. Use pandas.concat instead.\n",
      "  country_timeframe = country_timeframe.append(new_row, ignore_index=True)\n",
      "C:\\Users\\Van Heijningen\\AppData\\Local\\Temp\\ipykernel_25472\\2114058766.py:37: FutureWarning: The frame.append method is deprecated and will be removed from pandas in a future version. Use pandas.concat instead.\n",
      "  country_timeframe = country_timeframe.append(new_row, ignore_index=True)\n",
      "C:\\Users\\Van Heijningen\\AppData\\Local\\Temp\\ipykernel_25472\\2114058766.py:37: FutureWarning: The frame.append method is deprecated and will be removed from pandas in a future version. Use pandas.concat instead.\n",
      "  country_timeframe = country_timeframe.append(new_row, ignore_index=True)\n",
      "C:\\Users\\Van Heijningen\\AppData\\Local\\Temp\\ipykernel_25472\\2114058766.py:37: FutureWarning: The frame.append method is deprecated and will be removed from pandas in a future version. Use pandas.concat instead.\n",
      "  country_timeframe = country_timeframe.append(new_row, ignore_index=True)\n",
      "C:\\Users\\Van Heijningen\\AppData\\Local\\Temp\\ipykernel_25472\\2114058766.py:37: FutureWarning: The frame.append method is deprecated and will be removed from pandas in a future version. Use pandas.concat instead.\n",
      "  country_timeframe = country_timeframe.append(new_row, ignore_index=True)\n",
      "C:\\Users\\Van Heijningen\\AppData\\Local\\Temp\\ipykernel_25472\\2114058766.py:37: FutureWarning: The frame.append method is deprecated and will be removed from pandas in a future version. Use pandas.concat instead.\n",
      "  country_timeframe = country_timeframe.append(new_row, ignore_index=True)\n",
      "C:\\Users\\Van Heijningen\\AppData\\Local\\Temp\\ipykernel_25472\\2114058766.py:37: FutureWarning: The frame.append method is deprecated and will be removed from pandas in a future version. Use pandas.concat instead.\n",
      "  country_timeframe = country_timeframe.append(new_row, ignore_index=True)\n",
      "C:\\Users\\Van Heijningen\\AppData\\Local\\Temp\\ipykernel_25472\\2114058766.py:37: FutureWarning: The frame.append method is deprecated and will be removed from pandas in a future version. Use pandas.concat instead.\n",
      "  country_timeframe = country_timeframe.append(new_row, ignore_index=True)\n",
      "C:\\Users\\Van Heijningen\\AppData\\Local\\Temp\\ipykernel_25472\\2114058766.py:37: FutureWarning: The frame.append method is deprecated and will be removed from pandas in a future version. Use pandas.concat instead.\n",
      "  country_timeframe = country_timeframe.append(new_row, ignore_index=True)\n",
      "C:\\Users\\Van Heijningen\\AppData\\Local\\Temp\\ipykernel_25472\\2114058766.py:37: FutureWarning: The frame.append method is deprecated and will be removed from pandas in a future version. Use pandas.concat instead.\n",
      "  country_timeframe = country_timeframe.append(new_row, ignore_index=True)\n",
      "C:\\Users\\Van Heijningen\\AppData\\Local\\Temp\\ipykernel_25472\\2114058766.py:37: FutureWarning: The frame.append method is deprecated and will be removed from pandas in a future version. Use pandas.concat instead.\n",
      "  country_timeframe = country_timeframe.append(new_row, ignore_index=True)\n"
     ]
    }
   ],
   "source": [
    "# Create empty dataframe to check on what timeframe there is data per country\n",
    "data_empty = {'Country': [], 'Timeframe passenger': [], 'Timeframe infrastructure': []}\n",
    "country_timeframe = pd.DataFrame(data_empty)\n",
    "\n",
    "# Determine timeframe per country for passenger and infrastructure data\n",
    "for country in gdp_data[\"Country\"]:\n",
    "    country_index = gdp_data.loc[gdp_data[\"Country\"] == country].index[0]\n",
    "\n",
    "    passenger_start = 0\n",
    "    passenger_stop = 0\n",
    "    passenger_count = 0\n",
    "\n",
    "    infrastructure_start = 0\n",
    "    infrastructure_stop = 0\n",
    "    infrastructure_count = 0\n",
    "    \n",
    "    for year in gdp_data.columns[1:]:\n",
    "        if passenger_data.loc[country_index,year] != \"..\" and gdp_growth_data.loc[country_index,year] != \"..\":\n",
    "            if passenger_start == 0:\n",
    "                passenger_start = int(year)\n",
    "            passenger_stop = int(year)\n",
    "            passenger_count += 1\n",
    "\n",
    "        if infrastructure_train_data.loc[country_index,year] != \"..\" and gdp_growth_data.loc[country_index,year] != \"..\":\n",
    "            if infrastructure_start == 0:\n",
    "                infrastructure_start = int(year)\n",
    "            infrastructure_stop = int(year)\n",
    "            infrastructure_count += 1\n",
    "\n",
    "    # Continue if there is no data for a country or there is data missing in between\n",
    "    if (passenger_stop - passenger_start + 1 != passenger_count or\n",
    "        infrastructure_stop - infrastructure_start + 1 != infrastructure_count):\n",
    "        continue\n",
    "\n",
    "    else:\n",
    "        new_row = {'Country': country, 'Timeframe passenger': \"{}-{}\".format(passenger_start,passenger_stop), 'Timeframe infrastructure': \"{}-{}\".format(infrastructure_start,infrastructure_stop)}\n",
    "        country_timeframe = country_timeframe.append(new_row, ignore_index=True)\n",
    "\n",
    "# Create empty list for countries that have data for entire timeframe\n",
    "feasible_countries = []\n",
    "\n",
    "for country in country_timeframe[\"Country\"]:\n",
    "    country_index = country_timeframe.loc[country_timeframe[\"Country\"] == country].index[0]\n",
    "\n",
    "    years_timeframe_passenger = country_timeframe[\"Timeframe passenger\"].iloc[country_index].split('-')\n",
    "    years_timeframe_infrastructure = country_timeframe[\"Timeframe infrastructure\"].iloc[country_index].split('-')\n",
    "\n",
    "    start_year_passenger = int(years_timeframe_passenger[0])\n",
    "    end_year_passenger = int(years_timeframe_passenger[1])\n",
    "\n",
    "    start_year_infrastructure = int(years_timeframe_infrastructure[0])\n",
    "    end_year_infrastructure = int(years_timeframe_infrastructure[1])\n",
    "\n",
    "    # Add countries to feasible_countries if data is available on entire timeframe for both passengers and infrastructure\n",
    "    if (max(start_year_passenger,start_year_infrastructure) <= start_timeframe) & (min(end_year_passenger,end_year_infrastructure) >= end_timeframe):\n",
    "        feasible_countries.append(country)\n",
    "\n",
    "# Drop all years from dataframe that are not in timeframe\n",
    "for year in gdp_data.columns[1:]:\n",
    "    if int(year) < start_timeframe or int(year) > end_timeframe:\n",
    "        gdp_data = gdp_data.drop(year, axis=1)\n",
    "        gdp_growth_data = gdp_growth_data.drop(year, axis=1)\n",
    "        gdp_per_capita_data = gdp_per_capita_data.drop(year, axis=1)\n",
    "        passenger_data = passenger_data.drop(year, axis=1)\n",
    "        population_data = population_data.drop(year, axis=1)\n",
    "        infrastructure_train_data = infrastructure_train_data.drop(year, axis=1)\n",
    "        infrastructure_road_data = infrastructure_road_data.drop(year, axis=1)\n",
    "\n",
    "# Drop all countries from dataframe that are not in feasible countries\n",
    "gdp_data = gdp_data[gdp_data['Country'].isin(feasible_countries)]\n",
    "gdp_growth_data = gdp_growth_data[gdp_growth_data['Country'].isin(feasible_countries)]\n",
    "gdp_per_capita_data = gdp_per_capita_data[gdp_per_capita_data['Country'].isin(feasible_countries)]\n",
    "passenger_data = passenger_data[passenger_data['Country'].isin(feasible_countries)]\n",
    "population_data = population_data[population_data['Country'].isin(feasible_countries)]\n",
    "infrastructure_train_data = infrastructure_train_data[infrastructure_train_data['Country'].isin(feasible_countries)]\n",
    "infrastructure_road_data = infrastructure_road_data[infrastructure_road_data['Country'].isin(feasible_countries)]"
   ]
  },
  {
   "cell_type": "markdown",
   "metadata": {},
   "source": [
    "The table below shows passenger data for the first 10 countries considered in our analysis, all of which have complete datasets available. Noticeably, there are substantial different among these countries, likely attributable to significant variations in GDP and population. To facilitate a more accurate comparison across different nations, we intend to utilize relative data in our analysis."
   ]
  },
  {
   "cell_type": "code",
   "execution_count": 7,
   "metadata": {},
   "outputs": [
    {
     "data": {
      "text/html": [
       "<div>\n",
       "<style scoped>\n",
       "    .dataframe tbody tr th:only-of-type {\n",
       "        vertical-align: middle;\n",
       "    }\n",
       "\n",
       "    .dataframe tbody tr th {\n",
       "        vertical-align: top;\n",
       "    }\n",
       "\n",
       "    .dataframe thead th {\n",
       "        text-align: right;\n",
       "    }\n",
       "</style>\n",
       "<table border=\"1\" class=\"dataframe\">\n",
       "  <thead>\n",
       "    <tr style=\"text-align: right;\">\n",
       "      <th></th>\n",
       "      <th>1999</th>\n",
       "      <th>2000</th>\n",
       "      <th>2001</th>\n",
       "      <th>2002</th>\n",
       "      <th>2003</th>\n",
       "      <th>2004</th>\n",
       "      <th>2005</th>\n",
       "      <th>2006</th>\n",
       "      <th>2007</th>\n",
       "      <th>2008</th>\n",
       "      <th>...</th>\n",
       "      <th>2010</th>\n",
       "      <th>2011</th>\n",
       "      <th>2012</th>\n",
       "      <th>2013</th>\n",
       "      <th>2014</th>\n",
       "      <th>2015</th>\n",
       "      <th>2016</th>\n",
       "      <th>2017</th>\n",
       "      <th>2018</th>\n",
       "      <th>2019</th>\n",
       "    </tr>\n",
       "    <tr>\n",
       "      <th>Country</th>\n",
       "      <th></th>\n",
       "      <th></th>\n",
       "      <th></th>\n",
       "      <th></th>\n",
       "      <th></th>\n",
       "      <th></th>\n",
       "      <th></th>\n",
       "      <th></th>\n",
       "      <th></th>\n",
       "      <th></th>\n",
       "      <th></th>\n",
       "      <th></th>\n",
       "      <th></th>\n",
       "      <th></th>\n",
       "      <th></th>\n",
       "      <th></th>\n",
       "      <th></th>\n",
       "      <th></th>\n",
       "      <th></th>\n",
       "      <th></th>\n",
       "      <th></th>\n",
       "    </tr>\n",
       "  </thead>\n",
       "  <tbody>\n",
       "    <tr>\n",
       "      <th>AUS</th>\n",
       "      <td>251919.0681</td>\n",
       "      <td>256806.0842</td>\n",
       "      <td>254426.9018</td>\n",
       "      <td>260519.1863</td>\n",
       "      <td>267143.3819</td>\n",
       "      <td>279135.625</td>\n",
       "      <td>279904.6174</td>\n",
       "      <td>275480.5284</td>\n",
       "      <td>278956.6124</td>\n",
       "      <td>280755.5115</td>\n",
       "      <td>...</td>\n",
       "      <td>281770.0865</td>\n",
       "      <td>284788.7982</td>\n",
       "      <td>287595.2007</td>\n",
       "      <td>293369.3022</td>\n",
       "      <td>297943.899</td>\n",
       "      <td>301444.6386</td>\n",
       "      <td>303530.0108</td>\n",
       "      <td>305705.1561</td>\n",
       "      <td>308067.1705</td>\n",
       "      <td>306963.4189</td>\n",
       "    </tr>\n",
       "    <tr>\n",
       "      <th>AZE</th>\n",
       "      <td>8902.0</td>\n",
       "      <td>9153.0</td>\n",
       "      <td>9442.0</td>\n",
       "      <td>9603.0</td>\n",
       "      <td>9861.0</td>\n",
       "      <td>10279.0</td>\n",
       "      <td>10892.0</td>\n",
       "      <td>11786.0</td>\n",
       "      <td>12893.0</td>\n",
       "      <td>14041.0</td>\n",
       "      <td>...</td>\n",
       "      <td>16633.0</td>\n",
       "      <td>18264.0</td>\n",
       "      <td>20034.0</td>\n",
       "      <td>21880.0</td>\n",
       "      <td>22992.0</td>\n",
       "      <td>23825.0</td>\n",
       "      <td>24429.0</td>\n",
       "      <td>24886.0</td>\n",
       "      <td>25276.0</td>\n",
       "      <td>25950.0</td>\n",
       "    </tr>\n",
       "    <tr>\n",
       "      <th>CZE</th>\n",
       "      <td>71049.0</td>\n",
       "      <td>73291.0</td>\n",
       "      <td>74078.0</td>\n",
       "      <td>74958.0</td>\n",
       "      <td>76809.0</td>\n",
       "      <td>76086.0</td>\n",
       "      <td>77248.0</td>\n",
       "      <td>79131.0</td>\n",
       "      <td>81059.0</td>\n",
       "      <td>81749.0</td>\n",
       "      <td>...</td>\n",
       "      <td>74386.0</td>\n",
       "      <td>74757.0</td>\n",
       "      <td>73275.0</td>\n",
       "      <td>73676.0</td>\n",
       "      <td>76270.0</td>\n",
       "      <td>79700.9</td>\n",
       "      <td>82512.1</td>\n",
       "      <td>85504.8</td>\n",
       "      <td>88921.4</td>\n",
       "      <td>91726.0</td>\n",
       "    </tr>\n",
       "    <tr>\n",
       "      <th>FIN</th>\n",
       "      <td>62500.0</td>\n",
       "      <td>63400.0</td>\n",
       "      <td>64700.0</td>\n",
       "      <td>66000.0</td>\n",
       "      <td>67260.0</td>\n",
       "      <td>68545.0</td>\n",
       "      <td>69450.0</td>\n",
       "      <td>69995.0</td>\n",
       "      <td>71325.0</td>\n",
       "      <td>70940.0</td>\n",
       "      <td>...</td>\n",
       "      <td>72285.0</td>\n",
       "      <td>73030.0</td>\n",
       "      <td>72810.0</td>\n",
       "      <td>72655.0</td>\n",
       "      <td>73060.0</td>\n",
       "      <td>73835.0</td>\n",
       "      <td>65262.0</td>\n",
       "      <td>74800.0</td>\n",
       "      <td>74800.0</td>\n",
       "      <td>74700.0</td>\n",
       "    </tr>\n",
       "    <tr>\n",
       "      <th>FRA</th>\n",
       "      <td>746485.0</td>\n",
       "      <td>747054.0</td>\n",
       "      <td>770918.0</td>\n",
       "      <td>777226.0</td>\n",
       "      <td>779163.0</td>\n",
       "      <td>777323.0</td>\n",
       "      <td>767290.0</td>\n",
       "      <td>765879.0</td>\n",
       "      <td>771178.0</td>\n",
       "      <td>756610.0</td>\n",
       "      <td>...</td>\n",
       "      <td>763941.0</td>\n",
       "      <td>764529.0</td>\n",
       "      <td>821372.0</td>\n",
       "      <td>827658.0</td>\n",
       "      <td>839737.0</td>\n",
       "      <td>851217.0</td>\n",
       "      <td>865017.0</td>\n",
       "      <td>873037.0</td>\n",
       "      <td>871780.0</td>\n",
       "      <td>867852.0</td>\n",
       "    </tr>\n",
       "    <tr>\n",
       "      <th>DEU</th>\n",
       "      <td>916400.0</td>\n",
       "      <td>900300.0</td>\n",
       "      <td>921300.0</td>\n",
       "      <td>930500.0</td>\n",
       "      <td>925200.0</td>\n",
       "      <td>951493.0</td>\n",
       "      <td>939389.0</td>\n",
       "      <td>945052.0</td>\n",
       "      <td>947807.0</td>\n",
       "      <td>950882.0</td>\n",
       "      <td>...</td>\n",
       "      <td>962892.0</td>\n",
       "      <td>972357.0</td>\n",
       "      <td>972319.0</td>\n",
       "      <td>980246.0</td>\n",
       "      <td>995190.0</td>\n",
       "      <td>1008771.0</td>\n",
       "      <td>1027755.0</td>\n",
       "      <td>977430.0</td>\n",
       "      <td>978702.0</td>\n",
       "      <td>981452.0</td>\n",
       "    </tr>\n",
       "    <tr>\n",
       "      <th>HUN</th>\n",
       "      <td>64294.0</td>\n",
       "      <td>64622.0</td>\n",
       "      <td>64506.0</td>\n",
       "      <td>64702.0</td>\n",
       "      <td>66122.0</td>\n",
       "      <td>67529.0</td>\n",
       "      <td>66638.0</td>\n",
       "      <td>69630.0</td>\n",
       "      <td>70447.0</td>\n",
       "      <td>70984.0</td>\n",
       "      <td>...</td>\n",
       "      <td>68845.0</td>\n",
       "      <td>68510.0</td>\n",
       "      <td>68661.0</td>\n",
       "      <td>68788.0</td>\n",
       "      <td>70162.677</td>\n",
       "      <td>72220.7766</td>\n",
       "      <td>74976.9021</td>\n",
       "      <td>78745.268</td>\n",
       "      <td>82606.9168</td>\n",
       "      <td>85756.2439</td>\n",
       "    </tr>\n",
       "    <tr>\n",
       "      <th>ITA</th>\n",
       "      <td>755274.0</td>\n",
       "      <td>807481.0</td>\n",
       "      <td>813276.0</td>\n",
       "      <td>808678.0</td>\n",
       "      <td>809307.0</td>\n",
       "      <td>815820.0</td>\n",
       "      <td>777968.0</td>\n",
       "      <td>779304.0</td>\n",
       "      <td>779713.0</td>\n",
       "      <td>778797.0</td>\n",
       "      <td>...</td>\n",
       "      <td>800609.0</td>\n",
       "      <td>767772.0</td>\n",
       "      <td>680180.0</td>\n",
       "      <td>722138.0</td>\n",
       "      <td>745726.0</td>\n",
       "      <td>778858.0</td>\n",
       "      <td>806855.0</td>\n",
       "      <td>847598.0</td>\n",
       "      <td>825494.0</td>\n",
       "      <td>836722.0</td>\n",
       "    </tr>\n",
       "    <tr>\n",
       "      <th>JPN</th>\n",
       "      <td>955563.0</td>\n",
       "      <td>951251.0</td>\n",
       "      <td>954293.0</td>\n",
       "      <td>955412.0</td>\n",
       "      <td>954186.0</td>\n",
       "      <td>947563.0</td>\n",
       "      <td>933005.0</td>\n",
       "      <td>917938.0</td>\n",
       "      <td>919062.0</td>\n",
       "      <td>905907.0</td>\n",
       "      <td>...</td>\n",
       "      <td>876951.0</td>\n",
       "      <td>867573.0</td>\n",
       "      <td>892157.0</td>\n",
       "      <td>889795.0</td>\n",
       "      <td>876322.0</td>\n",
       "      <td>879935.0</td>\n",
       "      <td>891479.0</td>\n",
       "      <td>904967.0</td>\n",
       "      <td>917921.0</td>\n",
       "      <td>909598.0</td>\n",
       "    </tr>\n",
       "    <tr>\n",
       "      <th>NOR</th>\n",
       "      <td>54508.0</td>\n",
       "      <td>55314.0</td>\n",
       "      <td>56463.0</td>\n",
       "      <td>57612.0</td>\n",
       "      <td>58007.0</td>\n",
       "      <td>58573.0</td>\n",
       "      <td>58339.0</td>\n",
       "      <td>59196.0</td>\n",
       "      <td>60943.0</td>\n",
       "      <td>62103.0</td>\n",
       "      <td>...</td>\n",
       "      <td>62718.0</td>\n",
       "      <td>63701.0</td>\n",
       "      <td>64482.0</td>\n",
       "      <td>65224.0</td>\n",
       "      <td>67273.0</td>\n",
       "      <td>68789.0</td>\n",
       "      <td>69251.0</td>\n",
       "      <td>70548.0</td>\n",
       "      <td>71131.0</td>\n",
       "      <td>71779.0</td>\n",
       "    </tr>\n",
       "  </tbody>\n",
       "</table>\n",
       "<p>10 rows × 21 columns</p>\n",
       "</div>"
      ],
      "text/plain": [
       "                1999         2000         2001         2002         2003  \\\n",
       "Country                                                                    \n",
       "AUS      251919.0681  256806.0842  254426.9018  260519.1863  267143.3819   \n",
       "AZE           8902.0       9153.0       9442.0       9603.0       9861.0   \n",
       "CZE          71049.0      73291.0      74078.0      74958.0      76809.0   \n",
       "FIN          62500.0      63400.0      64700.0      66000.0      67260.0   \n",
       "FRA         746485.0     747054.0     770918.0     777226.0     779163.0   \n",
       "DEU         916400.0     900300.0     921300.0     930500.0     925200.0   \n",
       "HUN          64294.0      64622.0      64506.0      64702.0      66122.0   \n",
       "ITA         755274.0     807481.0     813276.0     808678.0     809307.0   \n",
       "JPN         955563.0     951251.0     954293.0     955412.0     954186.0   \n",
       "NOR          54508.0      55314.0      56463.0      57612.0      58007.0   \n",
       "\n",
       "               2004         2005         2006         2007         2008  ...  \\\n",
       "Country                                                                  ...   \n",
       "AUS      279135.625  279904.6174  275480.5284  278956.6124  280755.5115  ...   \n",
       "AZE         10279.0      10892.0      11786.0      12893.0      14041.0  ...   \n",
       "CZE         76086.0      77248.0      79131.0      81059.0      81749.0  ...   \n",
       "FIN         68545.0      69450.0      69995.0      71325.0      70940.0  ...   \n",
       "FRA        777323.0     767290.0     765879.0     771178.0     756610.0  ...   \n",
       "DEU        951493.0     939389.0     945052.0     947807.0     950882.0  ...   \n",
       "HUN         67529.0      66638.0      69630.0      70447.0      70984.0  ...   \n",
       "ITA        815820.0     777968.0     779304.0     779713.0     778797.0  ...   \n",
       "JPN        947563.0     933005.0     917938.0     919062.0     905907.0  ...   \n",
       "NOR         58573.0      58339.0      59196.0      60943.0      62103.0  ...   \n",
       "\n",
       "                2010         2011         2012         2013        2014  \\\n",
       "Country                                                                   \n",
       "AUS      281770.0865  284788.7982  287595.2007  293369.3022  297943.899   \n",
       "AZE          16633.0      18264.0      20034.0      21880.0     22992.0   \n",
       "CZE          74386.0      74757.0      73275.0      73676.0     76270.0   \n",
       "FIN          72285.0      73030.0      72810.0      72655.0     73060.0   \n",
       "FRA         763941.0     764529.0     821372.0     827658.0    839737.0   \n",
       "DEU         962892.0     972357.0     972319.0     980246.0    995190.0   \n",
       "HUN          68845.0      68510.0      68661.0      68788.0   70162.677   \n",
       "ITA         800609.0     767772.0     680180.0     722138.0    745726.0   \n",
       "JPN         876951.0     867573.0     892157.0     889795.0    876322.0   \n",
       "NOR          62718.0      63701.0      64482.0      65224.0     67273.0   \n",
       "\n",
       "                2015         2016         2017         2018         2019  \n",
       "Country                                                                   \n",
       "AUS      301444.6386  303530.0108  305705.1561  308067.1705  306963.4189  \n",
       "AZE          23825.0      24429.0      24886.0      25276.0      25950.0  \n",
       "CZE          79700.9      82512.1      85504.8      88921.4      91726.0  \n",
       "FIN          73835.0      65262.0      74800.0      74800.0      74700.0  \n",
       "FRA         851217.0     865017.0     873037.0     871780.0     867852.0  \n",
       "DEU        1008771.0    1027755.0     977430.0     978702.0     981452.0  \n",
       "HUN       72220.7766   74976.9021    78745.268   82606.9168   85756.2439  \n",
       "ITA         778858.0     806855.0     847598.0     825494.0     836722.0  \n",
       "JPN         879935.0     891479.0     904967.0     917921.0     909598.0  \n",
       "NOR          68789.0      69251.0      70548.0      71131.0      71779.0  \n",
       "\n",
       "[10 rows x 21 columns]"
      ]
     },
     "execution_count": 7,
     "metadata": {},
     "output_type": "execute_result"
    }
   ],
   "source": [
    "# Set countries as index to make plotting easier\n",
    "gdp_data.set_index('Country', inplace=True)\n",
    "gdp_data = gdp_data.applymap(lambda x: '{:.0f}'.format(float(x)))  # Convert large numbers (e-powers) to normal numbers\n",
    "gdp_growth_data.set_index('Country', inplace=True)\n",
    "gdp_per_capita_data.set_index('Country', inplace=True)\n",
    "passenger_data.set_index('Country', inplace=True)\n",
    "population_data.set_index('Country', inplace=True)\n",
    "infrastructure_train_data.set_index('Country', inplace=True)\n",
    "infrastructure_road_data.set_index('Country', inplace=True)\n",
    "\n",
    "infrastructure_train_data = infrastructure_train_data / one_dollar # Convert data from euros to dollars\n",
    "infrastructure_road_data = infrastructure_road_data / one_dollar # Convert data from euros to dollars\n",
    "\n",
    "gdp_data.to_csv(\"gdp_new.csv\",index=True)\n",
    "gdp_per_capita_data.to_csv(\"gdp_per_capita_new.csv\",index=True)\n",
    "passenger_data.to_csv('passenger_new.csv', index=True)\n",
    "population_data.to_csv(\"population_new.csv\",index=True)\n",
    "infrastructure_train_data.to_csv(\"infrastructure_train_new.csv\",index=True)\n",
    "infrastructure_road_data.to_csv(\"infrastructure_road_new.csv\",index=True)\n",
    "\n",
    "passenger_data.head(10)"
   ]
  },
  {
   "cell_type": "code",
   "execution_count": 8,
   "metadata": {},
   "outputs": [
    {
     "name": "stdout",
     "output_type": "stream",
     "text": [
      "Index(['AUS', 'AZE', 'CZE', 'FIN', 'FRA', 'DEU', 'HUN', 'ITA', 'JPN', 'NOR',\n",
      "       'POL', 'RUS', 'ESP', 'SWE', 'CHE', 'TUR', 'GBR'],\n",
      "      dtype='object', name='Country')\n",
      "Index(['AUS', 'AZE', 'CZE', 'FIN', 'FRA', 'DEU', 'HUN', 'ITA', 'JPN', 'NOR',\n",
      "       'POL', 'RUS', 'ESP', 'SWE', 'CHE', 'TUR', 'GBR'],\n",
      "      dtype='object', name='Country')\n",
      "Index(['AUS', 'AZE', 'CZE', 'FIN', 'FRA', 'DEU', 'HUN', 'ITA', 'JPN', 'NOR',\n",
      "       'POL', 'RUS', 'ESP', 'SWE', 'CHE', 'TUR', 'GBR'],\n",
      "      dtype='object', name='Country')\n",
      "Index(['AUS', 'AZE', 'CZE', 'FIN', 'FRA', 'DEU', 'HUN', 'ITA', 'JPN', 'NOR',\n",
      "       'POL', 'RUS', 'ESP', 'SWE', 'CHE', 'TUR', 'GBR'],\n",
      "      dtype='object', name='Country')\n",
      "   Country    Average GDP  Average population  Average passengers  \\\n",
      "0      AUS  1.852381e+261        2.177023e+07       282674.851510   \n",
      "1      AZE  2.181546e+223        9.148406e+06        16491.047619   \n",
      "2      CZE  3.103478e+246        1.039725e+07        78474.819048   \n",
      "3      FIN  6.428571e+249        5.343337e+06        70153.428571   \n",
      "4      FRA  7.095238e+270        6.179288e+07       798211.571429   \n",
      "5      DEU  1.042857e+271        8.169711e+07       959291.952381   \n",
      "6      HUN  2.336827e+245        9.990300e+06        70439.227829   \n",
      "7      ITA  5.952381e+270        5.895858e+07       788532.761905   \n",
      "8      JPN  2.209524e+271        1.273752e+08       914266.571429   \n",
      "9      NOR  7.714286e+249        4.866732e+06        62795.142857   \n",
      "10     POL  8.095238e+249        3.856080e+07       220382.380952   \n",
      "11     RUS  9.333333e+262        1.446151e+08       144195.761905   \n",
      "12     ESP  3.023810e+266        4.481641e+07       373785.666667   \n",
      "13     SWE  1.304762e+250        9.402500e+06       115450.428571   \n",
      "14     CHE  1.419048e+250        7.788417e+06        90933.970122   \n",
      "15     TUR  1.219048e+250        7.293880e+07       232194.619048   \n",
      "16     GBR  8.047619e+270        6.243330e+07       714603.909010   \n",
      "\n",
      "    Average investments in train infrastructure  \n",
      "0                                  2.722857e+09  \n",
      "1                                  6.467928e+06  \n",
      "2                                  5.990470e+08  \n",
      "3                                  3.990977e+08  \n",
      "4                                  6.504438e+09  \n",
      "5                                  6.043788e+09  \n",
      "6                                  4.102794e+08  \n",
      "7                                  5.710276e+09  \n",
      "8                                  1.017411e+10  \n",
      "9                                  6.714906e+08  \n",
      "10                                 4.269125e+08  \n",
      "11                                 5.841385e+09  \n",
      "12                                 4.656190e+09  \n",
      "13                                 1.341359e+09  \n",
      "14                                 2.894686e+09  \n",
      "15                                 1.093803e+09  \n",
      "16                                 9.029077e+09  \n"
     ]
    }
   ],
   "source": [
    "#check if the data is imported correctly\n",
    "infrastructure_train_data.head()\n",
    "population_data.head()\n",
    "passenger_data.head()\n",
    "gdp_data.head()\n",
    "\n",
    "#Calculate average over the 20 years in a new column, and then drop all original data\n",
    "#except for the generated column containing the average.\n",
    "#Also give a fitting name to this new column. This is repeated for all relevant input data.\n",
    "\n",
    "new_infrastructure_train_data = infrastructure_train_data.loc[:, str(start_timeframe):str(end_timeframe)].mean(axis=1)\n",
    "new_infrastructure_train_data = new_infrastructure_train_data.drop(columns=range(start_timeframe, end_timeframe+1))\n",
    "infrastructure_train_mean = pd.DataFrame({'Average investments in train infrastructure': new_infrastructure_train_data})\n",
    "\n",
    "new_population_data = population_data.loc[:, str(start_timeframe):str(end_timeframe)].mean(axis=1)\n",
    "new_population_data = new_population_data.drop(columns=range(start_timeframe, end_timeframe+1))\n",
    "population_mean = pd.DataFrame({'Average population': new_population_data})\n",
    "\n",
    "new_passenger_data = passenger_data.loc[:, str(start_timeframe):str(end_timeframe)].mean(axis=1)\n",
    "new_passenger_data = new_passenger_data.drop(columns=range(start_timeframe, end_timeframe+1))\n",
    "passenger_mean = pd.DataFrame({'Average passengers': new_passenger_data})\n",
    "\n",
    "new_gdp_data = gdp_data.loc[:, str(start_timeframe):str(end_timeframe)].mean(axis=1)\n",
    "new_gdp_data = new_gdp_data.drop(columns=range(start_timeframe, end_timeframe+1))\n",
    "gdp_mean = pd.DataFrame({'Average GDP': new_gdp_data})\n",
    "\n",
    "#Check if all the dataframes have the same index because\n",
    "#this is mandatory to be able to perform a concatenation\n",
    "print(gdp_mean.index)\n",
    "print(passenger_mean.index)\n",
    "print(population_mean.index)\n",
    "print(infrastructure_train_mean.index)\n",
    "\n",
    "#Merge all the dataframes for all the means by first adding them to a list and then concatenating them\n",
    "dataframes_to_be_merged = [gdp_mean, population_mean, passenger_mean, infrastructure_train_mean]\n",
    "descriptive_table = pd.concat(dataframes_to_be_merged, axis=1)\n",
    "descriptive_table = descriptive_table.reset_index()\n",
    "descriptive_table = descriptive_table.rename(columns={'index': 'Country'})\n",
    "print(descriptive_table)"
   ]
  },
  {
   "cell_type": "markdown",
   "metadata": {},
   "source": [
    "### Relative investment in railway infrastructure\n",
    "The figure below illustrates the relation between the growth in GDP and the proportional investment in railway infrastructure concerning a country's GDP from 1999 to 2019. Notably, these investments typically fall within the range of 0% to 0.6% of the GDP across various countries. It can be observed that there is no clear link between the GDP growth and the investments. Furthermore, the data shows considerable fluctuations over time, suggesting a lack of consistent patterns. There is no clear distinction between nations consistently investing heavily in railway projects and those that do not."
   ]
  },
  {
   "cell_type": "code",
   "execution_count": 9,
   "metadata": {},
   "outputs": [
    {
     "data": {
      "application/vnd.plotly.v1+json": {
       "config": {
        "plotlyServerURL": "https://plot.ly"
       },
       "data": [
        {
         "hovertemplate": "<b>%{hovertext}</b><br><br>Country=AUS<br>Year=1999<br>GDP growth=%{x}<br>Investments=%{y}<br>size=%{marker.size}<extra></extra>",
         "hovertext": [
          "AUS"
         ],
         "legendgroup": "AUS",
         "marker": {
          "color": "#636efa",
          "size": [
           20
          ],
          "sizemode": "area",
          "sizeref": 0.2,
          "symbol": "circle"
         },
         "mode": "markers",
         "name": "AUS",
         "orientation": "v",
         "showlegend": true,
         "type": "scatter",
         "x": [
          -2.75
         ],
         "xaxis": "x",
         "y": [
          0.16748650464077933
         ],
         "yaxis": "y"
        },
        {
         "hovertemplate": "<b>%{hovertext}</b><br><br>Country=AZE<br>Year=1999<br>GDP growth=%{x}<br>Investments=%{y}<br>size=%{marker.size}<extra></extra>",
         "hovertext": [
          "AZE"
         ],
         "legendgroup": "AZE",
         "marker": {
          "color": "#EF553B",
          "size": [
           20
          ],
          "sizemode": "area",
          "sizeref": 0.2,
          "symbol": "circle"
         },
         "mode": "markers",
         "name": "AZE",
         "orientation": "v",
         "showlegend": true,
         "type": "scatter",
         "x": [
          3.0334032198416696
         ],
         "xaxis": "x",
         "y": [
          0.1570001211474525
         ],
         "yaxis": "y"
        },
        {
         "hovertemplate": "<b>%{hovertext}</b><br><br>Country=CZE<br>Year=1999<br>GDP growth=%{x}<br>Investments=%{y}<br>size=%{marker.size}<extra></extra>",
         "hovertext": [
          "CZE"
         ],
         "legendgroup": "CZE",
         "marker": {
          "color": "#00cc96",
          "size": [
           20
          ],
          "sizemode": "area",
          "sizeref": 0.2,
          "symbol": "circle"
         },
         "mode": "markers",
         "name": "CZE",
         "orientation": "v",
         "showlegend": true,
         "type": "scatter",
         "x": [
          -2.446524711900134
         ],
         "xaxis": "x",
         "y": [
          0.433997918671218
         ],
         "yaxis": "y"
        },
        {
         "hovertemplate": "<b>%{hovertext}</b><br><br>Country=FIN<br>Year=1999<br>GDP growth=%{x}<br>Investments=%{y}<br>size=%{marker.size}<extra></extra>",
         "hovertext": [
          "FIN"
         ],
         "legendgroup": "FIN",
         "marker": {
          "color": "#ab63fa",
          "size": [
           20
          ],
          "sizemode": "area",
          "sizeref": 0.2,
          "symbol": "circle"
         },
         "mode": "markers",
         "name": "FIN",
         "orientation": "v",
         "showlegend": true,
         "type": "scatter",
         "x": [
          0.7462686567164178
         ],
         "xaxis": "x",
         "y": [
          0.20584795321637425
         ],
         "yaxis": "y"
        },
        {
         "hovertemplate": "<b>%{hovertext}</b><br><br>Country=FRA<br>Year=1999<br>GDP growth=%{x}<br>Investments=%{y}<br>size=%{marker.size}<extra></extra>",
         "hovertext": [
          "FRA"
         ],
         "legendgroup": "FRA",
         "marker": {
          "color": "#FFA15A",
          "size": [
           20
          ],
          "sizemode": "area",
          "sizeref": 0.2,
          "symbol": "circle"
         },
         "mode": "markers",
         "name": "FRA",
         "orientation": "v",
         "showlegend": true,
         "type": "scatter",
         "x": [
          -0.6666666666666667
         ],
         "xaxis": "x",
         "y": [
          0.20423878488166725
         ],
         "yaxis": "y"
        },
        {
         "hovertemplate": "<b>%{hovertext}</b><br><br>Country=DEU<br>Year=1999<br>GDP growth=%{x}<br>Investments=%{y}<br>size=%{marker.size}<extra></extra>",
         "hovertext": [
          "DEU"
         ],
         "legendgroup": "DEU",
         "marker": {
          "color": "#19d3f3",
          "size": [
           20
          ],
          "sizemode": "area",
          "sizeref": 0.2,
          "symbol": "circle"
         },
         "mode": "markers",
         "name": "DEU",
         "orientation": "v",
         "showlegend": true,
         "type": "scatter",
         "x": [
          -2.232142857142857
         ],
         "xaxis": "x",
         "y": [
          0.35328046142754144
         ],
         "yaxis": "y"
        },
        {
         "hovertemplate": "<b>%{hovertext}</b><br><br>Country=HUN<br>Year=1999<br>GDP growth=%{x}<br>Investments=%{y}<br>size=%{marker.size}<extra></extra>",
         "hovertext": [
          "HUN"
         ],
         "legendgroup": "HUN",
         "marker": {
          "color": "#FF6692",
          "size": [
           20
          ],
          "sizemode": "area",
          "sizeref": 0.2,
          "symbol": "circle"
         },
         "mode": "markers",
         "name": "HUN",
         "orientation": "v",
         "showlegend": true,
         "type": "scatter",
         "x": [
          0.7526227047184556
         ],
         "xaxis": "x",
         "y": [
          0.4035120556100039
         ],
         "yaxis": "y"
        },
        {
         "hovertemplate": "<b>%{hovertext}</b><br><br>Country=ITA<br>Year=1999<br>GDP growth=%{x}<br>Investments=%{y}<br>size=%{marker.size}<extra></extra>",
         "hovertext": [
          "ITA"
         ],
         "legendgroup": "ITA",
         "marker": {
          "color": "#B6E880",
          "size": [
           20
          ],
          "sizemode": "area",
          "sizeref": 0.2,
          "symbol": "circle"
         },
         "mode": "markers",
         "name": "ITA",
         "orientation": "v",
         "showlegend": true,
         "type": "scatter",
         "x": [
          -1.574803149606299
         ],
         "xaxis": "x",
         "y": [
          0.3099789473684211
         ],
         "yaxis": "y"
        },
        {
         "hovertemplate": "<b>%{hovertext}</b><br><br>Country=JPN<br>Year=1999<br>GDP growth=%{x}<br>Investments=%{y}<br>size=%{marker.size}<extra></extra>",
         "hovertext": [
          "JPN"
         ],
         "legendgroup": "JPN",
         "marker": {
          "color": "#FF97FF",
          "size": [
           20
          ],
          "sizemode": "area",
          "sizeref": 0.2,
          "symbol": "circle"
         },
         "mode": "markers",
         "name": "JPN",
         "orientation": "v",
         "showlegend": true,
         "type": "scatter",
         "x": [
          13.170731707317074
         ],
         "xaxis": "x",
         "y": [
          0.18847853432395642
         ],
         "yaxis": "y"
        },
        {
         "hovertemplate": "<b>%{hovertext}</b><br><br>Country=NOR<br>Year=1999<br>GDP growth=%{x}<br>Investments=%{y}<br>size=%{marker.size}<extra></extra>",
         "hovertext": [
          "NOR"
         ],
         "legendgroup": "NOR",
         "marker": {
          "color": "#FECB52",
          "size": [
           20
          ],
          "sizemode": "area",
          "sizeref": 0.2,
          "symbol": "circle"
         },
         "mode": "markers",
         "name": "NOR",
         "orientation": "v",
         "showlegend": true,
         "type": "scatter",
         "x": [
          5.194805194805195
         ],
         "xaxis": "x",
         "y": [
          0.12808674697855751
         ],
         "yaxis": "y"
        },
        {
         "hovertemplate": "<b>%{hovertext}</b><br><br>Country=POL<br>Year=1999<br>GDP growth=%{x}<br>Investments=%{y}<br>size=%{marker.size}<extra></extra>",
         "hovertext": [
          "POL"
         ],
         "legendgroup": "POL",
         "marker": {
          "color": "#636efa",
          "size": [
           20
          ],
          "sizemode": "area",
          "sizeref": 0.2,
          "symbol": "circle"
         },
         "mode": "markers",
         "name": "POL",
         "orientation": "v",
         "showlegend": true,
         "type": "scatter",
         "x": [
          -2.857142857142857
         ],
         "xaxis": "x",
         "y": [
          0.14678561479876162
         ],
         "yaxis": "y"
        },
        {
         "hovertemplate": "<b>%{hovertext}</b><br><br>Country=RUS<br>Year=1999<br>GDP growth=%{x}<br>Investments=%{y}<br>size=%{marker.size}<extra></extra>",
         "hovertext": [
          "RUS"
         ],
         "legendgroup": "RUS",
         "marker": {
          "color": "#EF553B",
          "size": [
           20
          ],
          "sizemode": "area",
          "sizeref": 0.2,
          "symbol": "circle"
         },
         "mode": "markers",
         "name": "RUS",
         "orientation": "v",
         "showlegend": true,
         "type": "scatter",
         "x": [
          -27.67527675276753
         ],
         "xaxis": "x",
         "y": [
          0.6341463770139635
         ],
         "yaxis": "y"
        },
        {
         "hovertemplate": "<b>%{hovertext}</b><br><br>Country=ESP<br>Year=1999<br>GDP growth=%{x}<br>Investments=%{y}<br>size=%{marker.size}<extra></extra>",
         "hovertext": [
          "ESP"
         ],
         "legendgroup": "ESP",
         "marker": {
          "color": "#00cc96",
          "size": [
           20
          ],
          "sizemode": "area",
          "sizeref": 0.2,
          "symbol": "circle"
         },
         "mode": "markers",
         "name": "ESP",
         "orientation": "v",
         "showlegend": true,
         "type": "scatter",
         "x": [
          2.5848142164781907
         ],
         "xaxis": "x",
         "y": [
          0.23058433485288024
         ],
         "yaxis": "y"
        },
        {
         "hovertemplate": "<b>%{hovertext}</b><br><br>Country=SWE<br>Year=1999<br>GDP growth=%{x}<br>Investments=%{y}<br>size=%{marker.size}<extra></extra>",
         "hovertext": [
          "SWE"
         ],
         "legendgroup": "SWE",
         "marker": {
          "color": "#ab63fa",
          "size": [
           20
          ],
          "sizemode": "area",
          "sizeref": 0.2,
          "symbol": "circle"
         },
         "mode": "markers",
         "name": "SWE",
         "orientation": "v",
         "showlegend": true,
         "type": "scatter",
         "x": [
          1.107011070110701
         ],
         "xaxis": "x",
         "y": [
          0.26215553787936996
         ],
         "yaxis": "y"
        },
        {
         "hovertemplate": "<b>%{hovertext}</b><br><br>Country=CHE<br>Year=1999<br>GDP growth=%{x}<br>Investments=%{y}<br>size=%{marker.size}<extra></extra>",
         "hovertext": [
          "CHE"
         ],
         "legendgroup": "CHE",
         "marker": {
          "color": "#FFA15A",
          "size": [
           20
          ],
          "sizemode": "area",
          "sizeref": 0.2,
          "symbol": "circle"
         },
         "mode": "markers",
         "name": "CHE",
         "orientation": "v",
         "showlegend": true,
         "type": "scatter",
         "x": [
          -1.65016501650165
         ],
         "xaxis": "x",
         "y": [
          0.474316249735076
         ],
         "yaxis": "y"
        },
        {
         "hovertemplate": "<b>%{hovertext}</b><br><br>Country=TUR<br>Year=1999<br>GDP growth=%{x}<br>Investments=%{y}<br>size=%{marker.size}<extra></extra>",
         "hovertext": [
          "TUR"
         ],
         "legendgroup": "TUR",
         "marker": {
          "color": "#19d3f3",
          "size": [
           20
          ],
          "sizemode": "area",
          "sizeref": 0.2,
          "symbol": "circle"
         },
         "mode": "markers",
         "name": "TUR",
         "orientation": "v",
         "showlegend": true,
         "type": "scatter",
         "x": [
          -7.246376811594203
         ],
         "xaxis": "x",
         "y": [
          0.03337815041529606
         ],
         "yaxis": "y"
        },
        {
         "hovertemplate": "<b>%{hovertext}</b><br><br>Country=GBR<br>Year=1999<br>GDP growth=%{x}<br>Investments=%{y}<br>size=%{marker.size}<extra></extra>",
         "hovertext": [
          "GBR"
         ],
         "legendgroup": "GBR",
         "marker": {
          "color": "#FF6692",
          "size": [
           20
          ],
          "sizemode": "area",
          "sizeref": 0.2,
          "symbol": "circle"
         },
         "mode": "markers",
         "name": "GBR",
         "orientation": "v",
         "showlegend": true,
         "type": "scatter",
         "x": [
          1.8072289156626504
         ],
         "xaxis": "x",
         "y": [
          0.29999652289006545
         ],
         "yaxis": "y"
        }
       ],
       "frames": [
        {
         "data": [
          {
           "hovertemplate": "<b>%{hovertext}</b><br><br>Country=AUS<br>Year=1999<br>GDP growth=%{x}<br>Investments=%{y}<br>size=%{marker.size}<extra></extra>",
           "hovertext": [
            "AUS"
           ],
           "legendgroup": "AUS",
           "marker": {
            "color": "#636efa",
            "size": [
             20
            ],
            "sizemode": "area",
            "sizeref": 0.2,
            "symbol": "circle"
           },
           "mode": "markers",
           "name": "AUS",
           "orientation": "v",
           "showlegend": true,
           "type": "scatter",
           "x": [
            -2.75
           ],
           "xaxis": "x",
           "y": [
            0.16748650464077933
           ],
           "yaxis": "y"
          },
          {
           "hovertemplate": "<b>%{hovertext}</b><br><br>Country=AZE<br>Year=1999<br>GDP growth=%{x}<br>Investments=%{y}<br>size=%{marker.size}<extra></extra>",
           "hovertext": [
            "AZE"
           ],
           "legendgroup": "AZE",
           "marker": {
            "color": "#EF553B",
            "size": [
             20
            ],
            "sizemode": "area",
            "sizeref": 0.2,
            "symbol": "circle"
           },
           "mode": "markers",
           "name": "AZE",
           "orientation": "v",
           "showlegend": true,
           "type": "scatter",
           "x": [
            3.0334032198416696
           ],
           "xaxis": "x",
           "y": [
            0.1570001211474525
           ],
           "yaxis": "y"
          },
          {
           "hovertemplate": "<b>%{hovertext}</b><br><br>Country=CZE<br>Year=1999<br>GDP growth=%{x}<br>Investments=%{y}<br>size=%{marker.size}<extra></extra>",
           "hovertext": [
            "CZE"
           ],
           "legendgroup": "CZE",
           "marker": {
            "color": "#00cc96",
            "size": [
             20
            ],
            "sizemode": "area",
            "sizeref": 0.2,
            "symbol": "circle"
           },
           "mode": "markers",
           "name": "CZE",
           "orientation": "v",
           "showlegend": true,
           "type": "scatter",
           "x": [
            -2.446524711900134
           ],
           "xaxis": "x",
           "y": [
            0.433997918671218
           ],
           "yaxis": "y"
          },
          {
           "hovertemplate": "<b>%{hovertext}</b><br><br>Country=FIN<br>Year=1999<br>GDP growth=%{x}<br>Investments=%{y}<br>size=%{marker.size}<extra></extra>",
           "hovertext": [
            "FIN"
           ],
           "legendgroup": "FIN",
           "marker": {
            "color": "#ab63fa",
            "size": [
             20
            ],
            "sizemode": "area",
            "sizeref": 0.2,
            "symbol": "circle"
           },
           "mode": "markers",
           "name": "FIN",
           "orientation": "v",
           "showlegend": true,
           "type": "scatter",
           "x": [
            0.7462686567164178
           ],
           "xaxis": "x",
           "y": [
            0.20584795321637425
           ],
           "yaxis": "y"
          },
          {
           "hovertemplate": "<b>%{hovertext}</b><br><br>Country=FRA<br>Year=1999<br>GDP growth=%{x}<br>Investments=%{y}<br>size=%{marker.size}<extra></extra>",
           "hovertext": [
            "FRA"
           ],
           "legendgroup": "FRA",
           "marker": {
            "color": "#FFA15A",
            "size": [
             20
            ],
            "sizemode": "area",
            "sizeref": 0.2,
            "symbol": "circle"
           },
           "mode": "markers",
           "name": "FRA",
           "orientation": "v",
           "showlegend": true,
           "type": "scatter",
           "x": [
            -0.6666666666666667
           ],
           "xaxis": "x",
           "y": [
            0.20423878488166725
           ],
           "yaxis": "y"
          },
          {
           "hovertemplate": "<b>%{hovertext}</b><br><br>Country=DEU<br>Year=1999<br>GDP growth=%{x}<br>Investments=%{y}<br>size=%{marker.size}<extra></extra>",
           "hovertext": [
            "DEU"
           ],
           "legendgroup": "DEU",
           "marker": {
            "color": "#19d3f3",
            "size": [
             20
            ],
            "sizemode": "area",
            "sizeref": 0.2,
            "symbol": "circle"
           },
           "mode": "markers",
           "name": "DEU",
           "orientation": "v",
           "showlegend": true,
           "type": "scatter",
           "x": [
            -2.232142857142857
           ],
           "xaxis": "x",
           "y": [
            0.35328046142754144
           ],
           "yaxis": "y"
          },
          {
           "hovertemplate": "<b>%{hovertext}</b><br><br>Country=HUN<br>Year=1999<br>GDP growth=%{x}<br>Investments=%{y}<br>size=%{marker.size}<extra></extra>",
           "hovertext": [
            "HUN"
           ],
           "legendgroup": "HUN",
           "marker": {
            "color": "#FF6692",
            "size": [
             20
            ],
            "sizemode": "area",
            "sizeref": 0.2,
            "symbol": "circle"
           },
           "mode": "markers",
           "name": "HUN",
           "orientation": "v",
           "showlegend": true,
           "type": "scatter",
           "x": [
            0.7526227047184556
           ],
           "xaxis": "x",
           "y": [
            0.4035120556100039
           ],
           "yaxis": "y"
          },
          {
           "hovertemplate": "<b>%{hovertext}</b><br><br>Country=ITA<br>Year=1999<br>GDP growth=%{x}<br>Investments=%{y}<br>size=%{marker.size}<extra></extra>",
           "hovertext": [
            "ITA"
           ],
           "legendgroup": "ITA",
           "marker": {
            "color": "#B6E880",
            "size": [
             20
            ],
            "sizemode": "area",
            "sizeref": 0.2,
            "symbol": "circle"
           },
           "mode": "markers",
           "name": "ITA",
           "orientation": "v",
           "showlegend": true,
           "type": "scatter",
           "x": [
            -1.574803149606299
           ],
           "xaxis": "x",
           "y": [
            0.3099789473684211
           ],
           "yaxis": "y"
          },
          {
           "hovertemplate": "<b>%{hovertext}</b><br><br>Country=JPN<br>Year=1999<br>GDP growth=%{x}<br>Investments=%{y}<br>size=%{marker.size}<extra></extra>",
           "hovertext": [
            "JPN"
           ],
           "legendgroup": "JPN",
           "marker": {
            "color": "#FF97FF",
            "size": [
             20
            ],
            "sizemode": "area",
            "sizeref": 0.2,
            "symbol": "circle"
           },
           "mode": "markers",
           "name": "JPN",
           "orientation": "v",
           "showlegend": true,
           "type": "scatter",
           "x": [
            13.170731707317074
           ],
           "xaxis": "x",
           "y": [
            0.18847853432395642
           ],
           "yaxis": "y"
          },
          {
           "hovertemplate": "<b>%{hovertext}</b><br><br>Country=NOR<br>Year=1999<br>GDP growth=%{x}<br>Investments=%{y}<br>size=%{marker.size}<extra></extra>",
           "hovertext": [
            "NOR"
           ],
           "legendgroup": "NOR",
           "marker": {
            "color": "#FECB52",
            "size": [
             20
            ],
            "sizemode": "area",
            "sizeref": 0.2,
            "symbol": "circle"
           },
           "mode": "markers",
           "name": "NOR",
           "orientation": "v",
           "showlegend": true,
           "type": "scatter",
           "x": [
            5.194805194805195
           ],
           "xaxis": "x",
           "y": [
            0.12808674697855751
           ],
           "yaxis": "y"
          },
          {
           "hovertemplate": "<b>%{hovertext}</b><br><br>Country=POL<br>Year=1999<br>GDP growth=%{x}<br>Investments=%{y}<br>size=%{marker.size}<extra></extra>",
           "hovertext": [
            "POL"
           ],
           "legendgroup": "POL",
           "marker": {
            "color": "#636efa",
            "size": [
             20
            ],
            "sizemode": "area",
            "sizeref": 0.2,
            "symbol": "circle"
           },
           "mode": "markers",
           "name": "POL",
           "orientation": "v",
           "showlegend": true,
           "type": "scatter",
           "x": [
            -2.857142857142857
           ],
           "xaxis": "x",
           "y": [
            0.14678561479876162
           ],
           "yaxis": "y"
          },
          {
           "hovertemplate": "<b>%{hovertext}</b><br><br>Country=RUS<br>Year=1999<br>GDP growth=%{x}<br>Investments=%{y}<br>size=%{marker.size}<extra></extra>",
           "hovertext": [
            "RUS"
           ],
           "legendgroup": "RUS",
           "marker": {
            "color": "#EF553B",
            "size": [
             20
            ],
            "sizemode": "area",
            "sizeref": 0.2,
            "symbol": "circle"
           },
           "mode": "markers",
           "name": "RUS",
           "orientation": "v",
           "showlegend": true,
           "type": "scatter",
           "x": [
            -27.67527675276753
           ],
           "xaxis": "x",
           "y": [
            0.6341463770139635
           ],
           "yaxis": "y"
          },
          {
           "hovertemplate": "<b>%{hovertext}</b><br><br>Country=ESP<br>Year=1999<br>GDP growth=%{x}<br>Investments=%{y}<br>size=%{marker.size}<extra></extra>",
           "hovertext": [
            "ESP"
           ],
           "legendgroup": "ESP",
           "marker": {
            "color": "#00cc96",
            "size": [
             20
            ],
            "sizemode": "area",
            "sizeref": 0.2,
            "symbol": "circle"
           },
           "mode": "markers",
           "name": "ESP",
           "orientation": "v",
           "showlegend": true,
           "type": "scatter",
           "x": [
            2.5848142164781907
           ],
           "xaxis": "x",
           "y": [
            0.23058433485288024
           ],
           "yaxis": "y"
          },
          {
           "hovertemplate": "<b>%{hovertext}</b><br><br>Country=SWE<br>Year=1999<br>GDP growth=%{x}<br>Investments=%{y}<br>size=%{marker.size}<extra></extra>",
           "hovertext": [
            "SWE"
           ],
           "legendgroup": "SWE",
           "marker": {
            "color": "#ab63fa",
            "size": [
             20
            ],
            "sizemode": "area",
            "sizeref": 0.2,
            "symbol": "circle"
           },
           "mode": "markers",
           "name": "SWE",
           "orientation": "v",
           "showlegend": true,
           "type": "scatter",
           "x": [
            1.107011070110701
           ],
           "xaxis": "x",
           "y": [
            0.26215553787936996
           ],
           "yaxis": "y"
          },
          {
           "hovertemplate": "<b>%{hovertext}</b><br><br>Country=CHE<br>Year=1999<br>GDP growth=%{x}<br>Investments=%{y}<br>size=%{marker.size}<extra></extra>",
           "hovertext": [
            "CHE"
           ],
           "legendgroup": "CHE",
           "marker": {
            "color": "#FFA15A",
            "size": [
             20
            ],
            "sizemode": "area",
            "sizeref": 0.2,
            "symbol": "circle"
           },
           "mode": "markers",
           "name": "CHE",
           "orientation": "v",
           "showlegend": true,
           "type": "scatter",
           "x": [
            -1.65016501650165
           ],
           "xaxis": "x",
           "y": [
            0.474316249735076
           ],
           "yaxis": "y"
          },
          {
           "hovertemplate": "<b>%{hovertext}</b><br><br>Country=TUR<br>Year=1999<br>GDP growth=%{x}<br>Investments=%{y}<br>size=%{marker.size}<extra></extra>",
           "hovertext": [
            "TUR"
           ],
           "legendgroup": "TUR",
           "marker": {
            "color": "#19d3f3",
            "size": [
             20
            ],
            "sizemode": "area",
            "sizeref": 0.2,
            "symbol": "circle"
           },
           "mode": "markers",
           "name": "TUR",
           "orientation": "v",
           "showlegend": true,
           "type": "scatter",
           "x": [
            -7.246376811594203
           ],
           "xaxis": "x",
           "y": [
            0.03337815041529606
           ],
           "yaxis": "y"
          },
          {
           "hovertemplate": "<b>%{hovertext}</b><br><br>Country=GBR<br>Year=1999<br>GDP growth=%{x}<br>Investments=%{y}<br>size=%{marker.size}<extra></extra>",
           "hovertext": [
            "GBR"
           ],
           "legendgroup": "GBR",
           "marker": {
            "color": "#FF6692",
            "size": [
             20
            ],
            "sizemode": "area",
            "sizeref": 0.2,
            "symbol": "circle"
           },
           "mode": "markers",
           "name": "GBR",
           "orientation": "v",
           "showlegend": true,
           "type": "scatter",
           "x": [
            1.8072289156626504
           ],
           "xaxis": "x",
           "y": [
            0.29999652289006545
           ],
           "yaxis": "y"
          }
         ],
         "name": "1999"
        },
        {
         "data": [
          {
           "hovertemplate": "<b>%{hovertext}</b><br><br>Country=AUS<br>Year=2000<br>GDP growth=%{x}<br>Investments=%{y}<br>size=%{marker.size}<extra></extra>",
           "hovertext": [
            "AUS"
           ],
           "legendgroup": "AUS",
           "marker": {
            "color": "#636efa",
            "size": [
             20
            ],
            "sizemode": "area",
            "sizeref": 0.2,
            "symbol": "circle"
           },
           "mode": "markers",
           "name": "AUS",
           "orientation": "v",
           "showlegend": true,
           "type": "scatter",
           "x": [
            6.940874035989718
           ],
           "xaxis": "x",
           "y": [
            0.12269687034412956
           ],
           "yaxis": "y"
          },
          {
           "hovertemplate": "<b>%{hovertext}</b><br><br>Country=AZE<br>Year=2000<br>GDP growth=%{x}<br>Investments=%{y}<br>size=%{marker.size}<extra></extra>",
           "hovertext": [
            "AZE"
           ],
           "legendgroup": "AZE",
           "marker": {
            "color": "#EF553B",
            "size": [
             20
            ],
            "sizemode": "area",
            "sizeref": 0.2,
            "symbol": "circle"
           },
           "mode": "markers",
           "name": "AZE",
           "orientation": "v",
           "showlegend": true,
           "type": "scatter",
           "x": [
            15.09131741449612
           ],
           "xaxis": "x",
           "y": [
            0.0966434425467499
           ],
           "yaxis": "y"
          },
          {
           "hovertemplate": "<b>%{hovertext}</b><br><br>Country=CZE<br>Year=2000<br>GDP growth=%{x}<br>Investments=%{y}<br>size=%{marker.size}<extra></extra>",
           "hovertext": [
            "CZE"
           ],
           "legendgroup": "CZE",
           "marker": {
            "color": "#00cc96",
            "size": [
             20
            ],
            "sizemode": "area",
            "sizeref": 0.2,
            "symbol": "circle"
           },
           "mode": "markers",
           "name": "CZE",
           "orientation": "v",
           "showlegend": true,
           "type": "scatter",
           "x": [
            -5.139460138745948
           ],
           "xaxis": "x",
           "y": [
            0.6312485939569024
           ],
           "yaxis": "y"
          },
          {
           "hovertemplate": "<b>%{hovertext}</b><br><br>Country=FIN<br>Year=2000<br>GDP growth=%{x}<br>Investments=%{y}<br>size=%{marker.size}<extra></extra>",
           "hovertext": [
            "FIN"
           ],
           "legendgroup": "FIN",
           "marker": {
            "color": "#ab63fa",
            "size": [
             20
            ],
            "sizemode": "area",
            "sizeref": 0.2,
            "symbol": "circle"
           },
           "mode": "markers",
           "name": "FIN",
           "orientation": "v",
           "showlegend": true,
           "type": "scatter",
           "x": [
            -6.666666666666667
           ],
           "xaxis": "x",
           "y": [
            0.19465329991645783
           ],
           "yaxis": "y"
          },
          {
           "hovertemplate": "<b>%{hovertext}</b><br><br>Country=FRA<br>Year=2000<br>GDP growth=%{x}<br>Investments=%{y}<br>size=%{marker.size}<extra></extra>",
           "hovertext": [
            "FRA"
           ],
           "legendgroup": "FRA",
           "marker": {
            "color": "#FFA15A",
            "size": [
             20
            ],
            "sizemode": "area",
            "sizeref": 0.2,
            "symbol": "circle"
           },
           "mode": "markers",
           "name": "FRA",
           "orientation": "v",
           "showlegend": true,
           "type": "scatter",
           "x": [
            -8.053691275167784
           ],
           "xaxis": "x",
           "y": [
            0.22702650787552822
           ],
           "yaxis": "y"
          },
          {
           "hovertemplate": "<b>%{hovertext}</b><br><br>Country=DEU<br>Year=2000<br>GDP growth=%{x}<br>Investments=%{y}<br>size=%{marker.size}<extra></extra>",
           "hovertext": [
            "DEU"
           ],
           "legendgroup": "DEU",
           "marker": {
            "color": "#19d3f3",
            "size": [
             20
            ],
            "sizemode": "area",
            "sizeref": 0.2,
            "symbol": "circle"
           },
           "mode": "markers",
           "name": "DEU",
           "orientation": "v",
           "showlegend": true,
           "type": "scatter",
           "x": [
            -10.95890410958904
           ],
           "xaxis": "x",
           "y": [
            0.2863697705802969
           ],
           "yaxis": "y"
          },
          {
           "hovertemplate": "<b>%{hovertext}</b><br><br>Country=HUN<br>Year=2000<br>GDP growth=%{x}<br>Investments=%{y}<br>size=%{marker.size}<extra></extra>",
           "hovertext": [
            "HUN"
           ],
           "legendgroup": "HUN",
           "marker": {
            "color": "#FF6692",
            "size": [
             20
            ],
            "sizemode": "area",
            "sizeref": 0.2,
            "symbol": "circle"
           },
           "mode": "markers",
           "name": "HUN",
           "orientation": "v",
           "showlegend": true,
           "type": "scatter",
           "x": [
            -3.779976150339749
           ],
           "xaxis": "x",
           "y": [
            0.43870856164038097
           ],
           "yaxis": "y"
          },
          {
           "hovertemplate": "<b>%{hovertext}</b><br><br>Country=ITA<br>Year=2000<br>GDP growth=%{x}<br>Investments=%{y}<br>size=%{marker.size}<extra></extra>",
           "hovertext": [
            "ITA"
           ],
           "legendgroup": "ITA",
           "marker": {
            "color": "#B6E880",
            "size": [
             20
            ],
            "sizemode": "area",
            "sizeref": 0.2,
            "symbol": "circle"
           },
           "mode": "markers",
           "name": "ITA",
           "orientation": "v",
           "showlegend": true,
           "type": "scatter",
           "x": [
            -8
           ],
           "xaxis": "x",
           "y": [
            0.4163844393592677
           ],
           "yaxis": "y"
          },
          {
           "hovertemplate": "<b>%{hovertext}</b><br><br>Country=JPN<br>Year=2000<br>GDP growth=%{x}<br>Investments=%{y}<br>size=%{marker.size}<extra></extra>",
           "hovertext": [
            "JPN"
           ],
           "legendgroup": "JPN",
           "marker": {
            "color": "#FF97FF",
            "size": [
             20
            ],
            "sizemode": "area",
            "sizeref": 0.2,
            "symbol": "circle"
           },
           "mode": "markers",
           "name": "JPN",
           "orientation": "v",
           "showlegend": true,
           "type": "scatter",
           "x": [
            7.112068965517242
           ],
           "xaxis": "x",
           "y": [
            0.2148802914751668
           ],
           "yaxis": "y"
          },
          {
           "hovertemplate": "<b>%{hovertext}</b><br><br>Country=NOR<br>Year=2000<br>GDP growth=%{x}<br>Investments=%{y}<br>size=%{marker.size}<extra></extra>",
           "hovertext": [
            "NOR"
           ],
           "legendgroup": "NOR",
           "marker": {
            "color": "#FECB52",
            "size": [
             20
            ],
            "sizemode": "area",
            "sizeref": 0.2,
            "symbol": "circle"
           },
           "mode": "markers",
           "name": "NOR",
           "orientation": "v",
           "showlegend": true,
           "type": "scatter",
           "x": [
            5.555555555555555
           ],
           "xaxis": "x",
           "y": [
            0.2232809136349646
           ],
           "yaxis": "y"
          },
          {
           "hovertemplate": "<b>%{hovertext}</b><br><br>Country=POL<br>Year=2000<br>GDP growth=%{x}<br>Investments=%{y}<br>size=%{marker.size}<extra></extra>",
           "hovertext": [
            "POL"
           ],
           "legendgroup": "POL",
           "marker": {
            "color": "#636efa",
            "size": [
             20
            ],
            "sizemode": "area",
            "sizeref": 0.2,
            "symbol": "circle"
           },
           "mode": "markers",
           "name": "POL",
           "orientation": "v",
           "showlegend": true,
           "type": "scatter",
           "x": [
            1.1764705882352942
           ],
           "xaxis": "x",
           "y": [
            0.12124460116279072
           ],
           "yaxis": "y"
          },
          {
           "hovertemplate": "<b>%{hovertext}</b><br><br>Country=RUS<br>Year=2000<br>GDP growth=%{x}<br>Investments=%{y}<br>size=%{marker.size}<extra></extra>",
           "hovertext": [
            "RUS"
           ],
           "legendgroup": "RUS",
           "marker": {
            "color": "#EF553B",
            "size": [
             20
            ],
            "sizemode": "area",
            "sizeref": 0.2,
            "symbol": "circle"
           },
           "mode": "markers",
           "name": "RUS",
           "orientation": "v",
           "showlegend": true,
           "type": "scatter",
           "x": [
            32.6530612244898
           ],
           "xaxis": "x",
           "y": [
            1.0541150748987855
           ],
           "yaxis": "y"
          },
          {
           "hovertemplate": "<b>%{hovertext}</b><br><br>Country=ESP<br>Year=2000<br>GDP growth=%{x}<br>Investments=%{y}<br>size=%{marker.size}<extra></extra>",
           "hovertext": [
            "ESP"
           ],
           "legendgroup": "ESP",
           "marker": {
            "color": "#00cc96",
            "size": [
             20
            ],
            "sizemode": "area",
            "sizeref": 0.2,
            "symbol": "circle"
           },
           "mode": "markers",
           "name": "ESP",
           "orientation": "v",
           "showlegend": true,
           "type": "scatter",
           "x": [
            -5.826771653543307
           ],
           "xaxis": "x",
           "y": [
            0.32388663967611336
           ],
           "yaxis": "y"
          },
          {
           "hovertemplate": "<b>%{hovertext}</b><br><br>Country=SWE<br>Year=2000<br>GDP growth=%{x}<br>Investments=%{y}<br>size=%{marker.size}<extra></extra>",
           "hovertext": [
            "SWE"
           ],
           "legendgroup": "SWE",
           "marker": {
            "color": "#ab63fa",
            "size": [
             20
            ],
            "sizemode": "area",
            "sizeref": 0.2,
            "symbol": "circle"
           },
           "mode": "markers",
           "name": "SWE",
           "orientation": "v",
           "showlegend": true,
           "type": "scatter",
           "x": [
            -4.014598540145985
           ],
           "xaxis": "x",
           "y": [
            0.23613784650790473
           ],
           "yaxis": "y"
          },
          {
           "hovertemplate": "<b>%{hovertext}</b><br><br>Country=CHE<br>Year=2000<br>GDP growth=%{x}<br>Investments=%{y}<br>size=%{marker.size}<extra></extra>",
           "hovertext": [
            "CHE"
           ],
           "legendgroup": "CHE",
           "marker": {
            "color": "#FFA15A",
            "size": [
             20
            ],
            "sizemode": "area",
            "sizeref": 0.2,
            "symbol": "circle"
           },
           "mode": "markers",
           "name": "CHE",
           "orientation": "v",
           "showlegend": true,
           "type": "scatter",
           "x": [
            -6.375838926174497
           ],
           "xaxis": "x",
           "y": [
            0.5519918894548199
           ],
           "yaxis": "y"
          },
          {
           "hovertemplate": "<b>%{hovertext}</b><br><br>Country=TUR<br>Year=2000<br>GDP growth=%{x}<br>Investments=%{y}<br>size=%{marker.size}<extra></extra>",
           "hovertext": [
            "TUR"
           ],
           "legendgroup": "TUR",
           "marker": {
            "color": "#19d3f3",
            "size": [
             20
            ],
            "sizemode": "area",
            "sizeref": 0.2,
            "symbol": "circle"
           },
           "mode": "markers",
           "name": "TUR",
           "orientation": "v",
           "showlegend": true,
           "type": "scatter",
           "x": [
            7.03125
           ],
           "xaxis": "x",
           "y": [
            0.027961683269304646
           ],
           "yaxis": "y"
          },
          {
           "hovertemplate": "<b>%{hovertext}</b><br><br>Country=GBR<br>Year=2000<br>GDP growth=%{x}<br>Investments=%{y}<br>size=%{marker.size}<extra></extra>",
           "hovertext": [
            "GBR"
           ],
           "legendgroup": "GBR",
           "marker": {
            "color": "#FF6692",
            "size": [
             20
            ],
            "sizemode": "area",
            "sizeref": 0.2,
            "symbol": "circle"
           },
           "mode": "markers",
           "name": "GBR",
           "orientation": "v",
           "showlegend": true,
           "type": "scatter",
           "x": [
            -1.183431952662722
           ],
           "xaxis": "x",
           "y": [
            0.3072478591238576
           ],
           "yaxis": "y"
          }
         ],
         "name": "2000"
        },
        {
         "data": [
          {
           "hovertemplate": "<b>%{hovertext}</b><br><br>Country=AUS<br>Year=2001<br>GDP growth=%{x}<br>Investments=%{y}<br>size=%{marker.size}<extra></extra>",
           "hovertext": [
            "AUS"
           ],
           "legendgroup": "AUS",
           "marker": {
            "color": "#636efa",
            "size": [
             20
            ],
            "sizemode": "area",
            "sizeref": 0.2,
            "symbol": "circle"
           },
           "mode": "markers",
           "name": "AUS",
           "orientation": "v",
           "showlegend": true,
           "type": "scatter",
           "x": [
            -8.89423076923077
           ],
           "xaxis": "x",
           "y": [
            0.09754643596722677
           ],
           "yaxis": "y"
          },
          {
           "hovertemplate": "<b>%{hovertext}</b><br><br>Country=AZE<br>Year=2001<br>GDP growth=%{x}<br>Investments=%{y}<br>size=%{marker.size}<extra></extra>",
           "hovertext": [
            "AZE"
           ],
           "legendgroup": "AZE",
           "marker": {
            "color": "#EF553B",
            "size": [
             20
            ],
            "sizemode": "area",
            "sizeref": 0.2,
            "symbol": "circle"
           },
           "mode": "markers",
           "name": "AZE",
           "orientation": "v",
           "showlegend": true,
           "type": "scatter",
           "x": [
            8.250192168891148
           ],
           "xaxis": "x",
           "y": [
            0.15479376600437536
           ],
           "yaxis": "y"
          },
          {
           "hovertemplate": "<b>%{hovertext}</b><br><br>Country=CZE<br>Year=2001<br>GDP growth=%{x}<br>Investments=%{y}<br>size=%{marker.size}<extra></extra>",
           "hovertext": [
            "CZE"
           ],
           "legendgroup": "CZE",
           "marker": {
            "color": "#00cc96",
            "size": [
             20
            ],
            "sizemode": "area",
            "sizeref": 0.2,
            "symbol": "circle"
           },
           "mode": "markers",
           "name": "CZE",
           "orientation": "v",
           "showlegend": true,
           "type": "scatter",
           "x": [
            9.681110937943735
           ],
           "xaxis": "x",
           "y": [
            0.6115541735158783
           ],
           "yaxis": "y"
          },
          {
           "hovertemplate": "<b>%{hovertext}</b><br><br>Country=FIN<br>Year=2001<br>GDP growth=%{x}<br>Investments=%{y}<br>size=%{marker.size}<extra></extra>",
           "hovertext": [
            "FIN"
           ],
           "legendgroup": "FIN",
           "marker": {
            "color": "#ab63fa",
            "size": [
             20
            ],
            "sizemode": "area",
            "sizeref": 0.2,
            "symbol": "circle"
           },
           "mode": "markers",
           "name": "FIN",
           "orientation": "v",
           "showlegend": true,
           "type": "scatter",
           "x": [
            3.1746031746031744
           ],
           "xaxis": "x",
           "y": [
            0.1651821862348178
           ],
           "yaxis": "y"
          },
          {
           "hovertemplate": "<b>%{hovertext}</b><br><br>Country=FRA<br>Year=2001<br>GDP growth=%{x}<br>Investments=%{y}<br>size=%{marker.size}<extra></extra>",
           "hovertext": [
            "FRA"
           ],
           "legendgroup": "FRA",
           "marker": {
            "color": "#FFA15A",
            "size": [
             20
            ],
            "sizemode": "area",
            "sizeref": 0.2,
            "symbol": "circle"
           },
           "mode": "markers",
           "name": "FRA",
           "orientation": "v",
           "showlegend": true,
           "type": "scatter",
           "x": [
            0.7299270072992701
           ],
           "xaxis": "x",
           "y": [
            0.18639496567505723
           ],
           "yaxis": "y"
          },
          {
           "hovertemplate": "<b>%{hovertext}</b><br><br>Country=DEU<br>Year=2001<br>GDP growth=%{x}<br>Investments=%{y}<br>size=%{marker.size}<extra></extra>",
           "hovertext": [
            "DEU"
           ],
           "legendgroup": "DEU",
           "marker": {
            "color": "#19d3f3",
            "size": [
             20
            ],
            "sizemode": "area",
            "sizeref": 0.2,
            "symbol": "circle"
           },
           "mode": "markers",
           "name": "DEU",
           "orientation": "v",
           "showlegend": true,
           "type": "scatter",
           "x": [
            0
           ],
           "xaxis": "x",
           "y": [
            0.2958704453441296
           ],
           "yaxis": "y"
          },
          {
           "hovertemplate": "<b>%{hovertext}</b><br><br>Country=HUN<br>Year=2001<br>GDP growth=%{x}<br>Investments=%{y}<br>size=%{marker.size}<extra></extra>",
           "hovertext": [
            "HUN"
           ],
           "legendgroup": "HUN",
           "marker": {
            "color": "#FF6692",
            "size": [
             20
            ],
            "sizemode": "area",
            "sizeref": 0.2,
            "symbol": "circle"
           },
           "mode": "markers",
           "name": "HUN",
           "orientation": "v",
           "showlegend": true,
           "type": "scatter",
           "x": [
            13.832692415224107
           ],
           "xaxis": "x",
           "y": [
            0.4456698480939705
           ],
           "yaxis": "y"
          },
          {
           "hovertemplate": "<b>%{hovertext}</b><br><br>Country=ITA<br>Year=2001<br>GDP growth=%{x}<br>Investments=%{y}<br>size=%{marker.size}<extra></extra>",
           "hovertext": [
            "ITA"
           ],
           "legendgroup": "ITA",
           "marker": {
            "color": "#B6E880",
            "size": [
             20
            ],
            "sizemode": "area",
            "sizeref": 0.2,
            "symbol": "circle"
           },
           "mode": "markers",
           "name": "ITA",
           "orientation": "v",
           "showlegend": true,
           "type": "scatter",
           "x": [
            1.7391304347826086
           ],
           "xaxis": "x",
           "y": [
            0.43688708951866845
           ],
           "yaxis": "y"
          },
          {
           "hovertemplate": "<b>%{hovertext}</b><br><br>Country=JPN<br>Year=2001<br>GDP growth=%{x}<br>Investments=%{y}<br>size=%{marker.size}<extra></extra>",
           "hovertext": [
            "JPN"
           ],
           "legendgroup": "JPN",
           "marker": {
            "color": "#FF97FF",
            "size": [
             20
            ],
            "sizemode": "area",
            "sizeref": 0.2,
            "symbol": "circle"
           },
           "mode": "markers",
           "name": "JPN",
           "orientation": "v",
           "showlegend": true,
           "type": "scatter",
           "x": [
            -12.072434607645874
           ],
           "xaxis": "x",
           "y": [
            0.23092754153920272
           ],
           "yaxis": "y"
          },
          {
           "hovertemplate": "<b>%{hovertext}</b><br><br>Country=NOR<br>Year=2001<br>GDP growth=%{x}<br>Investments=%{y}<br>size=%{marker.size}<extra></extra>",
           "hovertext": [
            "NOR"
           ],
           "legendgroup": "NOR",
           "marker": {
            "color": "#FECB52",
            "size": [
             20
            ],
            "sizemode": "area",
            "sizeref": 0.2,
            "symbol": "circle"
           },
           "mode": "markers",
           "name": "NOR",
           "orientation": "v",
           "showlegend": true,
           "type": "scatter",
           "x": [
            1.7543859649122806
           ],
           "xaxis": "x",
           "y": [
            0.12048254621899576
           ],
           "yaxis": "y"
          },
          {
           "hovertemplate": "<b>%{hovertext}</b><br><br>Country=POL<br>Year=2001<br>GDP growth=%{x}<br>Investments=%{y}<br>size=%{marker.size}<extra></extra>",
           "hovertext": [
            "POL"
           ],
           "legendgroup": "POL",
           "marker": {
            "color": "#636efa",
            "size": [
             20
            ],
            "sizemode": "area",
            "sizeref": 0.2,
            "symbol": "circle"
           },
           "mode": "markers",
           "name": "POL",
           "orientation": "v",
           "showlegend": true,
           "type": "scatter",
           "x": [
            11.046511627906977
           ],
           "xaxis": "x",
           "y": [
            0.062284018462386334
           ],
           "yaxis": "y"
          },
          {
           "hovertemplate": "<b>%{hovertext}</b><br><br>Country=RUS<br>Year=2001<br>GDP growth=%{x}<br>Investments=%{y}<br>size=%{marker.size}<extra></extra>",
           "hovertext": [
            "RUS"
           ],
           "legendgroup": "RUS",
           "marker": {
            "color": "#EF553B",
            "size": [
             20
            ],
            "sizemode": "area",
            "sizeref": 0.2,
            "symbol": "circle"
           },
           "mode": "markers",
           "name": "RUS",
           "orientation": "v",
           "showlegend": true,
           "type": "scatter",
           "x": [
            18.076923076923077
           ],
           "xaxis": "x",
           "y": [
            1.1217864255100292
           ],
           "yaxis": "y"
          },
          {
           "hovertemplate": "<b>%{hovertext}</b><br><br>Country=ESP<br>Year=2001<br>GDP growth=%{x}<br>Investments=%{y}<br>size=%{marker.size}<extra></extra>",
           "hovertext": [
            "ESP"
           ],
           "legendgroup": "ESP",
           "marker": {
            "color": "#00cc96",
            "size": [
             20
            ],
            "sizemode": "area",
            "sizeref": 0.2,
            "symbol": "circle"
           },
           "mode": "markers",
           "name": "ESP",
           "orientation": "v",
           "showlegend": true,
           "type": "scatter",
           "x": [
            5.016722408026756
           ],
           "xaxis": "x",
           "y": [
            0.4116661079450218
           ],
           "yaxis": "y"
          },
          {
           "hovertemplate": "<b>%{hovertext}</b><br><br>Country=SWE<br>Year=2001<br>GDP growth=%{x}<br>Investments=%{y}<br>size=%{marker.size}<extra></extra>",
           "hovertext": [
            "SWE"
           ],
           "legendgroup": "SWE",
           "marker": {
            "color": "#ab63fa",
            "size": [
             20
            ],
            "sizemode": "area",
            "sizeref": 0.2,
            "symbol": "circle"
           },
           "mode": "markers",
           "name": "SWE",
           "orientation": "v",
           "showlegend": true,
           "type": "scatter",
           "x": [
            -7.984790874524715
           ],
           "xaxis": "x",
           "y": [
            0.24221228864723796
           ],
           "yaxis": "y"
          },
          {
           "hovertemplate": "<b>%{hovertext}</b><br><br>Country=CHE<br>Year=2001<br>GDP growth=%{x}<br>Investments=%{y}<br>size=%{marker.size}<extra></extra>",
           "hovertext": [
            "CHE"
           ],
           "legendgroup": "CHE",
           "marker": {
            "color": "#FFA15A",
            "size": [
             20
            ],
            "sizemode": "area",
            "sizeref": 0.2,
            "symbol": "circle"
           },
           "mode": "markers",
           "name": "CHE",
           "orientation": "v",
           "showlegend": true,
           "type": "scatter",
           "x": [
            2.867383512544803
           ],
           "xaxis": "x",
           "y": [
            0.6029471413900606
           ],
           "yaxis": "y"
          },
          {
           "hovertemplate": "<b>%{hovertext}</b><br><br>Country=TUR<br>Year=2001<br>GDP growth=%{x}<br>Investments=%{y}<br>size=%{marker.size}<extra></extra>",
           "hovertext": [
            "TUR"
           ],
           "legendgroup": "TUR",
           "marker": {
            "color": "#19d3f3",
            "size": [
             20
            ],
            "sizemode": "area",
            "sizeref": 0.2,
            "symbol": "circle"
           },
           "mode": "markers",
           "name": "TUR",
           "orientation": "v",
           "showlegend": true,
           "type": "scatter",
           "x": [
            -26.277372262773724
           ],
           "xaxis": "x",
           "y": [
            0.0304151152527358
           ],
           "yaxis": "y"
          },
          {
           "hovertemplate": "<b>%{hovertext}</b><br><br>Country=GBR<br>Year=2001<br>GDP growth=%{x}<br>Investments=%{y}<br>size=%{marker.size}<extra></extra>",
           "hovertext": [
            "GBR"
           ],
           "legendgroup": "GBR",
           "marker": {
            "color": "#FF6692",
            "size": [
             20
            ],
            "sizemode": "area",
            "sizeref": 0.2,
            "symbol": "circle"
           },
           "mode": "markers",
           "name": "GBR",
           "orientation": "v",
           "showlegend": true,
           "type": "scatter",
           "x": [
            -1.1976047904191618
           ],
           "xaxis": "x",
           "y": [
            0.3748352594577353
           ],
           "yaxis": "y"
          }
         ],
         "name": "2001"
        },
        {
         "data": [
          {
           "hovertemplate": "<b>%{hovertext}</b><br><br>Country=AUS<br>Year=2002<br>GDP growth=%{x}<br>Investments=%{y}<br>size=%{marker.size}<extra></extra>",
           "hovertext": [
            "AUS"
           ],
           "legendgroup": "AUS",
           "marker": {
            "color": "#636efa",
            "size": [
             20
            ],
            "sizemode": "area",
            "sizeref": 0.2,
            "symbol": "circle"
           },
           "mode": "markers",
           "name": "AUS",
           "orientation": "v",
           "showlegend": true,
           "type": "scatter",
           "x": [
            4.485488126649076
           ],
           "xaxis": "x",
           "y": [
            0.13288711036682616
           ],
           "yaxis": "y"
          },
          {
           "hovertemplate": "<b>%{hovertext}</b><br><br>Country=AZE<br>Year=2002<br>GDP growth=%{x}<br>Investments=%{y}<br>size=%{marker.size}<extra></extra>",
           "hovertext": [
            "AZE"
           ],
           "legendgroup": "AZE",
           "marker": {
            "color": "#EF553B",
            "size": [
             20
            ],
            "sizemode": "area",
            "sizeref": 0.2,
            "symbol": "circle"
           },
           "mode": "markers",
           "name": "AZE",
           "orientation": "v",
           "showlegend": true,
           "type": "scatter",
           "x": [
            9.259000849921419
           ],
           "xaxis": "x",
           "y": [
            0.42245122805539814
           ],
           "yaxis": "y"
          },
          {
           "hovertemplate": "<b>%{hovertext}</b><br><br>Country=CZE<br>Year=2002<br>GDP growth=%{x}<br>Investments=%{y}<br>size=%{marker.size}<extra></extra>",
           "hovertext": [
            "CZE"
           ],
           "legendgroup": "CZE",
           "marker": {
            "color": "#00cc96",
            "size": [
             20
            ],
            "sizemode": "area",
            "sizeref": 0.2,
            "symbol": "circle"
           },
           "mode": "markers",
           "name": "CZE",
           "orientation": "v",
           "showlegend": true,
           "type": "scatter",
           "x": [
            21.217795732847907
           ],
           "xaxis": "x",
           "y": [
            0.6067557444980444
           ],
           "yaxis": "y"
          },
          {
           "hovertemplate": "<b>%{hovertext}</b><br><br>Country=FIN<br>Year=2002<br>GDP growth=%{x}<br>Investments=%{y}<br>size=%{marker.size}<extra></extra>",
           "hovertext": [
            "FIN"
           ],
           "legendgroup": "FIN",
           "marker": {
            "color": "#ab63fa",
            "size": [
             20
            ],
            "sizemode": "area",
            "sizeref": 0.2,
            "symbol": "circle"
           },
           "mode": "markers",
           "name": "FIN",
           "orientation": "v",
           "showlegend": true,
           "type": "scatter",
           "x": [
            7.6923076923076925
           ],
           "xaxis": "x",
           "y": [
            0.16917293233082706
           ],
           "yaxis": "y"
          },
          {
           "hovertemplate": "<b>%{hovertext}</b><br><br>Country=FRA<br>Year=2002<br>GDP growth=%{x}<br>Investments=%{y}<br>size=%{marker.size}<extra></extra>",
           "hovertext": [
            "FRA"
           ],
           "legendgroup": "FRA",
           "marker": {
            "color": "#FFA15A",
            "size": [
             20
            ],
            "sizemode": "area",
            "sizeref": 0.2,
            "symbol": "circle"
           },
           "mode": "markers",
           "name": "FRA",
           "orientation": "v",
           "showlegend": true,
           "type": "scatter",
           "x": [
            8.695652173913043
           ],
           "xaxis": "x",
           "y": [
            0.21365908771929826
           ],
           "yaxis": "y"
          },
          {
           "hovertemplate": "<b>%{hovertext}</b><br><br>Country=DEU<br>Year=2002<br>GDP growth=%{x}<br>Investments=%{y}<br>size=%{marker.size}<extra></extra>",
           "hovertext": [
            "DEU"
           ],
           "legendgroup": "DEU",
           "marker": {
            "color": "#19d3f3",
            "size": [
             20
            ],
            "sizemode": "area",
            "sizeref": 0.2,
            "symbol": "circle"
           },
           "mode": "markers",
           "name": "DEU",
           "orientation": "v",
           "showlegend": true,
           "type": "scatter",
           "x": [
            6.666666666666667
           ],
           "xaxis": "x",
           "y": [
            0.3763663967611336
           ],
           "yaxis": "y"
          },
          {
           "hovertemplate": "<b>%{hovertext}</b><br><br>Country=HUN<br>Year=2002<br>GDP growth=%{x}<br>Investments=%{y}<br>size=%{marker.size}<extra></extra>",
           "hovertext": [
            "HUN"
           ],
           "legendgroup": "HUN",
           "marker": {
            "color": "#FF6692",
            "size": [
             20
            ],
            "sizemode": "area",
            "sizeref": 0.2,
            "symbol": "circle"
           },
           "mode": "markers",
           "name": "HUN",
           "orientation": "v",
           "showlegend": true,
           "type": "scatter",
           "x": [
            25.78406114330305
           ],
           "xaxis": "x",
           "y": [
            0.43268274802632883
           ],
           "yaxis": "y"
          },
          {
           "hovertemplate": "<b>%{hovertext}</b><br><br>Country=ITA<br>Year=2002<br>GDP growth=%{x}<br>Investments=%{y}<br>size=%{marker.size}<extra></extra>",
           "hovertext": [
            "ITA"
           ],
           "legendgroup": "ITA",
           "marker": {
            "color": "#B6E880",
            "size": [
             20
            ],
            "sizemode": "area",
            "sizeref": 0.2,
            "symbol": "circle"
           },
           "mode": "markers",
           "name": "ITA",
           "orientation": "v",
           "showlegend": true,
           "type": "scatter",
           "x": [
            9.401709401709402
           ],
           "xaxis": "x",
           "y": [
            0.454358552631579
           ],
           "yaxis": "y"
          },
          {
           "hovertemplate": "<b>%{hovertext}</b><br><br>Country=JPN<br>Year=2002<br>GDP growth=%{x}<br>Investments=%{y}<br>size=%{marker.size}<extra></extra>",
           "hovertext": [
            "JPN"
           ],
           "legendgroup": "JPN",
           "marker": {
            "color": "#FF97FF",
            "size": [
             20
            ],
            "sizemode": "area",
            "sizeref": 0.2,
            "symbol": "circle"
           },
           "mode": "markers",
           "name": "JPN",
           "orientation": "v",
           "showlegend": true,
           "type": "scatter",
           "x": [
            -4.3478260869565215
           ],
           "xaxis": "x",
           "y": [
            0.22878553510450766
           ],
           "yaxis": "y"
          },
          {
           "hovertemplate": "<b>%{hovertext}</b><br><br>Country=NOR<br>Year=2002<br>GDP growth=%{x}<br>Investments=%{y}<br>size=%{marker.size}<extra></extra>",
           "hovertext": [
            "NOR"
           ],
           "legendgroup": "NOR",
           "marker": {
            "color": "#FECB52",
            "size": [
             20
            ],
            "sizemode": "area",
            "sizeref": 0.2,
            "symbol": "circle"
           },
           "mode": "markers",
           "name": "NOR",
           "orientation": "v",
           "showlegend": true,
           "type": "scatter",
           "x": [
            12.643678160919542
           ],
           "xaxis": "x",
           "y": [
            0.10176056358754029
           ],
           "yaxis": "y"
          },
          {
           "hovertemplate": "<b>%{hovertext}</b><br><br>Country=POL<br>Year=2002<br>GDP growth=%{x}<br>Investments=%{y}<br>size=%{marker.size}<extra></extra>",
           "hovertext": [
            "POL"
           ],
           "legendgroup": "POL",
           "marker": {
            "color": "#636efa",
            "size": [
             20
            ],
            "sizemode": "area",
            "sizeref": 0.2,
            "symbol": "circle"
           },
           "mode": "markers",
           "name": "POL",
           "orientation": "v",
           "showlegend": true,
           "type": "scatter",
           "x": [
            4.18848167539267
           ],
           "xaxis": "x",
           "y": [
            0.05737784549061096
           ],
           "yaxis": "y"
          },
          {
           "hovertemplate": "<b>%{hovertext}</b><br><br>Country=RUS<br>Year=2002<br>GDP growth=%{x}<br>Investments=%{y}<br>size=%{marker.size}<extra></extra>",
           "hovertext": [
            "RUS"
           ],
           "legendgroup": "RUS",
           "marker": {
            "color": "#EF553B",
            "size": [
             20
            ],
            "sizemode": "area",
            "sizeref": 0.2,
            "symbol": "circle"
           },
           "mode": "markers",
           "name": "RUS",
           "orientation": "v",
           "showlegend": true,
           "type": "scatter",
           "x": [
            12.37785016286645
           ],
           "xaxis": "x",
           "y": [
            0.6243781873379101
           ],
           "yaxis": "y"
          },
          {
           "hovertemplate": "<b>%{hovertext}</b><br><br>Country=ESP<br>Year=2002<br>GDP growth=%{x}<br>Investments=%{y}<br>size=%{marker.size}<extra></extra>",
           "hovertext": [
            "ESP"
           ],
           "legendgroup": "ESP",
           "marker": {
            "color": "#00cc96",
            "size": [
             20
            ],
            "sizemode": "area",
            "sizeref": 0.2,
            "symbol": "circle"
           },
           "mode": "markers",
           "name": "ESP",
           "orientation": "v",
           "showlegend": true,
           "type": "scatter",
           "x": [
            12.898089171974522
           ],
           "xaxis": "x",
           "y": [
            0.5422017667582214
           ],
           "yaxis": "y"
          },
          {
           "hovertemplate": "<b>%{hovertext}</b><br><br>Country=SWE<br>Year=2002<br>GDP growth=%{x}<br>Investments=%{y}<br>size=%{marker.size}<extra></extra>",
           "hovertext": [
            "SWE"
           ],
           "legendgroup": "SWE",
           "marker": {
            "color": "#ab63fa",
            "size": [
             20
            ],
            "sizemode": "area",
            "sizeref": 0.2,
            "symbol": "circle"
           },
           "mode": "markers",
           "name": "SWE",
           "orientation": "v",
           "showlegend": true,
           "type": "scatter",
           "x": [
            10.330578512396695
           ],
           "xaxis": "x",
           "y": [
            0.26261413581707077
           ],
           "yaxis": "y"
          },
          {
           "hovertemplate": "<b>%{hovertext}</b><br><br>Country=CHE<br>Year=2002<br>GDP growth=%{x}<br>Investments=%{y}<br>size=%{marker.size}<extra></extra>",
           "hovertext": [
            "CHE"
           ],
           "legendgroup": "CHE",
           "marker": {
            "color": "#FFA15A",
            "size": [
             20
            ],
            "sizemode": "area",
            "sizeref": 0.2,
            "symbol": "circle"
           },
           "mode": "markers",
           "name": "CHE",
           "orientation": "v",
           "showlegend": true,
           "type": "scatter",
           "x": [
            7.665505226480835
           ],
           "xaxis": "x",
           "y": [
            0.6854013415091126
           ],
           "yaxis": "y"
          },
          {
           "hovertemplate": "<b>%{hovertext}</b><br><br>Country=TUR<br>Year=2002<br>GDP growth=%{x}<br>Investments=%{y}<br>size=%{marker.size}<extra></extra>",
           "hovertext": [
            "TUR"
           ],
           "legendgroup": "TUR",
           "marker": {
            "color": "#19d3f3",
            "size": [
             20
            ],
            "sizemode": "area",
            "sizeref": 0.2,
            "symbol": "circle"
           },
           "mode": "markers",
           "name": "TUR",
           "orientation": "v",
           "showlegend": true,
           "type": "scatter",
           "x": [
            18.81188118811881
           ],
           "xaxis": "x",
           "y": [
            0.03169426141666667
           ],
           "yaxis": "y"
          },
          {
           "hovertemplate": "<b>%{hovertext}</b><br><br>Country=GBR<br>Year=2002<br>GDP growth=%{x}<br>Investments=%{y}<br>size=%{marker.size}<extra></extra>",
           "hovertext": [
            "GBR"
           ],
           "legendgroup": "GBR",
           "marker": {
            "color": "#FF6692",
            "size": [
             20
            ],
            "sizemode": "area",
            "sizeref": 0.2,
            "symbol": "circle"
           },
           "mode": "markers",
           "name": "GBR",
           "orientation": "v",
           "showlegend": true,
           "type": "scatter",
           "x": [
            8.484848484848486
           ],
           "xaxis": "x",
           "y": [
            0.3969046673331373
           ],
           "yaxis": "y"
          }
         ],
         "name": "2002"
        },
        {
         "data": [
          {
           "hovertemplate": "<b>%{hovertext}</b><br><br>Country=AUS<br>Year=2003<br>GDP growth=%{x}<br>Investments=%{y}<br>size=%{marker.size}<extra></extra>",
           "hovertext": [
            "AUS"
           ],
           "legendgroup": "AUS",
           "marker": {
            "color": "#636efa",
            "size": [
             20
            ],
            "sizemode": "area",
            "sizeref": 0.2,
            "symbol": "circle"
           },
           "mode": "markers",
           "name": "AUS",
           "orientation": "v",
           "showlegend": true,
           "type": "scatter",
           "x": [
            17.929292929292927
           ],
           "xaxis": "x",
           "y": [
            0.1665421148202412
           ],
           "yaxis": "y"
          },
          {
           "hovertemplate": "<b>%{hovertext}</b><br><br>Country=AZE<br>Year=2003<br>GDP growth=%{x}<br>Investments=%{y}<br>size=%{marker.size}<extra></extra>",
           "hovertext": [
            "AZE"
           ],
           "legendgroup": "AZE",
           "marker": {
            "color": "#EF553B",
            "size": [
             20
            ],
            "sizemode": "area",
            "sizeref": 0.2,
            "symbol": "circle"
           },
           "mode": "markers",
           "name": "AZE",
           "orientation": "v",
           "showlegend": true,
           "type": "scatter",
           "x": [
            16.682359710802793
           ],
           "xaxis": "x",
           "y": [
            0.0651226824785267
           ],
           "yaxis": "y"
          },
          {
           "hovertemplate": "<b>%{hovertext}</b><br><br>Country=CZE<br>Year=2003<br>GDP growth=%{x}<br>Investments=%{y}<br>size=%{marker.size}<extra></extra>",
           "hovertext": [
            "CZE"
           ],
           "legendgroup": "CZE",
           "marker": {
            "color": "#00cc96",
            "size": [
             20
            ],
            "sizemode": "area",
            "sizeref": 0.2,
            "symbol": "circle"
           },
           "mode": "markers",
           "name": "CZE",
           "orientation": "v",
           "showlegend": true,
           "type": "scatter",
           "x": [
            21.660116393335592
           ],
           "xaxis": "x",
           "y": [
            0.4378100045263158
           ],
           "yaxis": "y"
          },
          {
           "hovertemplate": "<b>%{hovertext}</b><br><br>Country=FIN<br>Year=2003<br>GDP growth=%{x}<br>Investments=%{y}<br>size=%{marker.size}<extra></extra>",
           "hovertext": [
            "FIN"
           ],
           "legendgroup": "FIN",
           "marker": {
            "color": "#ab63fa",
            "size": [
             20
            ],
            "sizemode": "area",
            "sizeref": 0.2,
            "symbol": "circle"
           },
           "mode": "markers",
           "name": "FIN",
           "orientation": "v",
           "showlegend": true,
           "type": "scatter",
           "x": [
            22.857142857142858
           ],
           "xaxis": "x",
           "y": [
            0.16829865361077115
           ],
           "yaxis": "y"
          },
          {
           "hovertemplate": "<b>%{hovertext}</b><br><br>Country=FRA<br>Year=2003<br>GDP growth=%{x}<br>Investments=%{y}<br>size=%{marker.size}<extra></extra>",
           "hovertext": [
            "FRA"
           ],
           "legendgroup": "FRA",
           "marker": {
            "color": "#FFA15A",
            "size": [
             20
            ],
            "sizemode": "area",
            "sizeref": 0.2,
            "symbol": "circle"
           },
           "mode": "markers",
           "name": "FRA",
           "orientation": "v",
           "showlegend": true,
           "type": "scatter",
           "x": [
            22.666666666666664
           ],
           "xaxis": "x",
           "y": [
            0.20786979405034325
           ],
           "yaxis": "y"
          },
          {
           "hovertemplate": "<b>%{hovertext}</b><br><br>Country=DEU<br>Year=2003<br>GDP growth=%{x}<br>Investments=%{y}<br>size=%{marker.size}<extra></extra>",
           "hovertext": [
            "DEU"
           ],
           "legendgroup": "DEU",
           "marker": {
            "color": "#19d3f3",
            "size": [
             20
            ],
            "sizemode": "area",
            "sizeref": 0.2,
            "symbol": "circle"
           },
           "mode": "markers",
           "name": "DEU",
           "orientation": "v",
           "showlegend": true,
           "type": "scatter",
           "x": [
            20.192307692307693
           ],
           "xaxis": "x",
           "y": [
            0.3043368421052632
           ],
           "yaxis": "y"
          },
          {
           "hovertemplate": "<b>%{hovertext}</b><br><br>Country=HUN<br>Year=2003<br>GDP growth=%{x}<br>Investments=%{y}<br>size=%{marker.size}<extra></extra>",
           "hovertext": [
            "HUN"
           ],
           "legendgroup": "HUN",
           "marker": {
            "color": "#FF6692",
            "size": [
             20
            ],
            "sizemode": "area",
            "sizeref": 0.2,
            "symbol": "circle"
           },
           "mode": "markers",
           "name": "HUN",
           "orientation": "v",
           "showlegend": true,
           "type": "scatter",
           "x": [
            26.144710744970816
           ],
           "xaxis": "x",
           "y": [
            0.3448059895941586
           ],
           "yaxis": "y"
          },
          {
           "hovertemplate": "<b>%{hovertext}</b><br><br>Country=ITA<br>Year=2003<br>GDP growth=%{x}<br>Investments=%{y}<br>size=%{marker.size}<extra></extra>",
           "hovertext": [
            "ITA"
           ],
           "legendgroup": "ITA",
           "marker": {
            "color": "#B6E880",
            "size": [
             20
            ],
            "sizemode": "area",
            "sizeref": 0.2,
            "symbol": "circle"
           },
           "mode": "markers",
           "name": "ITA",
           "orientation": "v",
           "showlegend": true,
           "type": "scatter",
           "x": [
            23.4375
           ],
           "xaxis": "x",
           "y": [
            0.4932045303131246
           ],
           "yaxis": "y"
          },
          {
           "hovertemplate": "<b>%{hovertext}</b><br><br>Country=JPN<br>Year=2003<br>GDP growth=%{x}<br>Investments=%{y}<br>size=%{marker.size}<extra></extra>",
           "hovertext": [
            "JPN"
           ],
           "legendgroup": "JPN",
           "marker": {
            "color": "#FF97FF",
            "size": [
             20
            ],
            "sizemode": "area",
            "sizeref": 0.2,
            "symbol": "circle"
           },
           "mode": "markers",
           "name": "JPN",
           "orientation": "v",
           "showlegend": true,
           "type": "scatter",
           "x": [
            8.133971291866029
           ],
           "xaxis": "x",
           "y": [
            0.17519470659059153
           ],
           "yaxis": "y"
          },
          {
           "hovertemplate": "<b>%{hovertext}</b><br><br>Country=NOR<br>Year=2003<br>GDP growth=%{x}<br>Investments=%{y}<br>size=%{marker.size}<extra></extra>",
           "hovertext": [
            "NOR"
           ],
           "legendgroup": "NOR",
           "marker": {
            "color": "#FECB52",
            "size": [
             20
            ],
            "sizemode": "area",
            "sizeref": 0.2,
            "symbol": "circle"
           },
           "mode": "markers",
           "name": "NOR",
           "orientation": "v",
           "showlegend": true,
           "type": "scatter",
           "x": [
            16.83673469387755
           ],
           "xaxis": "x",
           "y": [
            0.09205355844633417
           ],
           "yaxis": "y"
          },
          {
           "hovertemplate": "<b>%{hovertext}</b><br><br>Country=POL<br>Year=2003<br>GDP growth=%{x}<br>Investments=%{y}<br>size=%{marker.size}<extra></extra>",
           "hovertext": [
            "POL"
           ],
           "legendgroup": "POL",
           "marker": {
            "color": "#636efa",
            "size": [
             20
            ],
            "sizemode": "area",
            "sizeref": 0.2,
            "symbol": "circle"
           },
           "mode": "markers",
           "name": "POL",
           "orientation": "v",
           "showlegend": true,
           "type": "scatter",
           "x": [
            9.547738693467336
           ],
           "xaxis": "x",
           "y": [
            0.09386445596330276
           ],
           "yaxis": "y"
          },
          {
           "hovertemplate": "<b>%{hovertext}</b><br><br>Country=RUS<br>Year=2003<br>GDP growth=%{x}<br>Investments=%{y}<br>size=%{marker.size}<extra></extra>",
           "hovertext": [
            "RUS"
           ],
           "legendgroup": "RUS",
           "marker": {
            "color": "#EF553B",
            "size": [
             20
            ],
            "sizemode": "area",
            "sizeref": 0.2,
            "symbol": "circle"
           },
           "mode": "markers",
           "name": "RUS",
           "orientation": "v",
           "showlegend": true,
           "type": "scatter",
           "x": [
            24.637681159420293
           ],
           "xaxis": "x",
           "y": [
            0.7909602097919216
           ],
           "yaxis": "y"
          },
          {
           "hovertemplate": "<b>%{hovertext}</b><br><br>Country=ESP<br>Year=2003<br>GDP growth=%{x}<br>Investments=%{y}<br>size=%{marker.size}<extra></extra>",
           "hovertext": [
            "ESP"
           ],
           "legendgroup": "ESP",
           "marker": {
            "color": "#00cc96",
            "size": [
             20
            ],
            "sizemode": "area",
            "sizeref": 0.2,
            "symbol": "circle"
           },
           "mode": "markers",
           "name": "ESP",
           "orientation": "v",
           "showlegend": true,
           "type": "scatter",
           "x": [
            27.926657263751764
           ],
           "xaxis": "x",
           "y": [
            0.43996982533511286
           ],
           "yaxis": "y"
          },
          {
           "hovertemplate": "<b>%{hovertext}</b><br><br>Country=SWE<br>Year=2003<br>GDP growth=%{x}<br>Investments=%{y}<br>size=%{marker.size}<extra></extra>",
           "hovertext": [
            "SWE"
           ],
           "legendgroup": "SWE",
           "marker": {
            "color": "#ab63fa",
            "size": [
             20
            ],
            "sizemode": "area",
            "sizeref": 0.2,
            "symbol": "circle"
           },
           "mode": "markers",
           "name": "SWE",
           "orientation": "v",
           "showlegend": true,
           "type": "scatter",
           "x": [
            25.0936329588015
           ],
           "xaxis": "x",
           "y": [
            0.20558363211471797
           ],
           "yaxis": "y"
          },
          {
           "hovertemplate": "<b>%{hovertext}</b><br><br>Country=CHE<br>Year=2003<br>GDP growth=%{x}<br>Investments=%{y}<br>size=%{marker.size}<extra></extra>",
           "hovertext": [
            "CHE"
           ],
           "legendgroup": "CHE",
           "marker": {
            "color": "#FFA15A",
            "size": [
             20
            ],
            "sizemode": "area",
            "sizeref": 0.2,
            "symbol": "circle"
           },
           "mode": "markers",
           "name": "CHE",
           "orientation": "v",
           "showlegend": true,
           "type": "scatter",
           "x": [
            17.15210355987055
           ],
           "xaxis": "x",
           "y": [
            0.5828264341378309
           ],
           "yaxis": "y"
          },
          {
           "hovertemplate": "<b>%{hovertext}</b><br><br>Country=TUR<br>Year=2003<br>GDP growth=%{x}<br>Investments=%{y}<br>size=%{marker.size}<extra></extra>",
           "hovertext": [
            "TUR"
           ],
           "legendgroup": "TUR",
           "marker": {
            "color": "#19d3f3",
            "size": [
             20
            ],
            "sizemode": "area",
            "sizeref": 0.2,
            "symbol": "circle"
           },
           "mode": "markers",
           "name": "TUR",
           "orientation": "v",
           "showlegend": true,
           "type": "scatter",
           "x": [
            31.25
           ],
           "xaxis": "x",
           "y": [
            0.0415397740685046
           ],
           "yaxis": "y"
          },
          {
           "hovertemplate": "<b>%{hovertext}</b><br><br>Country=GBR<br>Year=2003<br>GDP growth=%{x}<br>Investments=%{y}<br>size=%{marker.size}<extra></extra>",
           "hovertext": [
            "GBR"
           ],
           "legendgroup": "GBR",
           "marker": {
            "color": "#FF6692",
            "size": [
             20
            ],
            "sizemode": "area",
            "sizeref": 0.2,
            "symbol": "circle"
           },
           "mode": "markers",
           "name": "GBR",
           "orientation": "v",
           "showlegend": true,
           "type": "scatter",
           "x": [
            15.083798882681565
           ],
           "xaxis": "x",
           "y": [
            0.38292577894736846
           ],
           "yaxis": "y"
          }
         ],
         "name": "2003"
        },
        {
         "data": [
          {
           "hovertemplate": "<b>%{hovertext}</b><br><br>Country=AUS<br>Year=2004<br>GDP growth=%{x}<br>Investments=%{y}<br>size=%{marker.size}<extra></extra>",
           "hovertext": [
            "AUS"
           ],
           "legendgroup": "AUS",
           "marker": {
            "color": "#636efa",
            "size": [
             20
            ],
            "sizemode": "area",
            "sizeref": 0.2,
            "symbol": "circle"
           },
           "mode": "markers",
           "name": "AUS",
           "orientation": "v",
           "showlegend": true,
           "type": "scatter",
           "x": [
            31.47751605995717
           ],
           "xaxis": "x",
           "y": [
            0.15301685876907253
           ],
           "yaxis": "y"
          },
          {
           "hovertemplate": "<b>%{hovertext}</b><br><br>Country=AZE<br>Year=2004<br>GDP growth=%{x}<br>Investments=%{y}<br>size=%{marker.size}<extra></extra>",
           "hovertext": [
            "AZE"
           ],
           "legendgroup": "AZE",
           "marker": {
            "color": "#EF553B",
            "size": [
             20
            ],
            "sizemode": "area",
            "sizeref": 0.2,
            "symbol": "circle"
           },
           "mode": "markers",
           "name": "AZE",
           "orientation": "v",
           "showlegend": true,
           "type": "scatter",
           "x": [
            19.295181070079543
           ],
           "xaxis": "x",
           "y": [
            0.08932613369671022
           ],
           "yaxis": "y"
          },
          {
           "hovertemplate": "<b>%{hovertext}</b><br><br>Country=CZE<br>Year=2004<br>GDP growth=%{x}<br>Investments=%{y}<br>size=%{marker.size}<extra></extra>",
           "hovertext": [
            "CZE"
           ],
           "legendgroup": "CZE",
           "marker": {
            "color": "#00cc96",
            "size": [
             20
            ],
            "sizemode": "area",
            "sizeref": 0.2,
            "symbol": "circle"
           },
           "mode": "markers",
           "name": "CZE",
           "orientation": "v",
           "showlegend": true,
           "type": "scatter",
           "x": [
            20
           ],
           "xaxis": "x",
           "y": [
            0.36117948236842107
           ],
           "yaxis": "y"
          },
          {
           "hovertemplate": "<b>%{hovertext}</b><br><br>Country=FIN<br>Year=2004<br>GDP growth=%{x}<br>Investments=%{y}<br>size=%{marker.size}<extra></extra>",
           "hovertext": [
            "FIN"
           ],
           "legendgroup": "FIN",
           "marker": {
            "color": "#ab63fa",
            "size": [
             20
            ],
            "sizemode": "area",
            "sizeref": 0.2,
            "symbol": "circle"
           },
           "mode": "markers",
           "name": "FIN",
           "orientation": "v",
           "showlegend": true,
           "type": "scatter",
           "x": [
            14.534883720930234
           ],
           "xaxis": "x",
           "y": [
            0.1752604862409832
           ],
           "yaxis": "y"
          },
          {
           "hovertemplate": "<b>%{hovertext}</b><br><br>Country=FRA<br>Year=2004<br>GDP growth=%{x}<br>Investments=%{y}<br>size=%{marker.size}<extra></extra>",
           "hovertext": [
            "FRA"
           ],
           "legendgroup": "FRA",
           "marker": {
            "color": "#FFA15A",
            "size": [
             20
            ],
            "sizemode": "area",
            "sizeref": 0.2,
            "symbol": "circle"
           },
           "mode": "markers",
           "name": "FRA",
           "orientation": "v",
           "showlegend": true,
           "type": "scatter",
           "x": [
            15.217391304347828
           ],
           "xaxis": "x",
           "y": [
            0.1827456802383317
           ],
           "yaxis": "y"
          },
          {
           "hovertemplate": "<b>%{hovertext}</b><br><br>Country=DEU<br>Year=2004<br>GDP growth=%{x}<br>Investments=%{y}<br>size=%{marker.size}<extra></extra>",
           "hovertext": [
            "DEU"
           ],
           "legendgroup": "DEU",
           "marker": {
            "color": "#19d3f3",
            "size": [
             20
            ],
            "sizemode": "area",
            "sizeref": 0.2,
            "symbol": "circle"
           },
           "mode": "markers",
           "name": "DEU",
           "orientation": "v",
           "showlegend": true,
           "type": "scatter",
           "x": [
            12.4
           ],
           "xaxis": "x",
           "y": [
            0.23989511144409068
           ],
           "yaxis": "y"
          },
          {
           "hovertemplate": "<b>%{hovertext}</b><br><br>Country=HUN<br>Year=2004<br>GDP growth=%{x}<br>Investments=%{y}<br>size=%{marker.size}<extra></extra>",
           "hovertext": [
            "HUN"
           ],
           "legendgroup": "HUN",
           "marker": {
            "color": "#FF6692",
            "size": [
             20
            ],
            "sizemode": "area",
            "sizeref": 0.2,
            "symbol": "circle"
           },
           "mode": "markers",
           "name": "HUN",
           "orientation": "v",
           "showlegend": true,
           "type": "scatter",
           "x": [
            21.94396194180014
           ],
           "xaxis": "x",
           "y": [
            0.1563869851214575
           ],
           "yaxis": "y"
          },
          {
           "hovertemplate": "<b>%{hovertext}</b><br><br>Country=ITA<br>Year=2004<br>GDP growth=%{x}<br>Investments=%{y}<br>size=%{marker.size}<extra></extra>",
           "hovertext": [
            "ITA"
           ],
           "legendgroup": "ITA",
           "marker": {
            "color": "#B6E880",
            "size": [
             20
            ],
            "sizemode": "area",
            "sizeref": 0.2,
            "symbol": "circle"
           },
           "mode": "markers",
           "name": "ITA",
           "orientation": "v",
           "showlegend": true,
           "type": "scatter",
           "x": [
            14.556962025316455
           ],
           "xaxis": "x",
           "y": [
            0.5123000872346612
           ],
           "yaxis": "y"
          },
          {
           "hovertemplate": "<b>%{hovertext}</b><br><br>Country=JPN<br>Year=2004<br>GDP growth=%{x}<br>Investments=%{y}<br>size=%{marker.size}<extra></extra>",
           "hovertext": [
            "JPN"
           ],
           "legendgroup": "JPN",
           "marker": {
            "color": "#FF97FF",
            "size": [
             20
            ],
            "sizemode": "area",
            "sizeref": 0.2,
            "symbol": "circle"
           },
           "mode": "markers",
           "name": "JPN",
           "orientation": "v",
           "showlegend": true,
           "type": "scatter",
           "x": [
            8.185840707964601
           ],
           "xaxis": "x",
           "y": [
            0.13377841666128512
           ],
           "yaxis": "y"
          },
          {
           "hovertemplate": "<b>%{hovertext}</b><br><br>Country=NOR<br>Year=2004<br>GDP growth=%{x}<br>Investments=%{y}<br>size=%{marker.size}<extra></extra>",
           "hovertext": [
            "NOR"
           ],
           "legendgroup": "NOR",
           "marker": {
            "color": "#FECB52",
            "size": [
             20
            ],
            "sizemode": "area",
            "sizeref": 0.2,
            "symbol": "circle"
           },
           "mode": "markers",
           "name": "NOR",
           "orientation": "v",
           "showlegend": true,
           "type": "scatter",
           "x": [
            15.72052401746725
           ],
           "xaxis": "x",
           "y": [
            0.08815606538232373
           ],
           "yaxis": "y"
          },
          {
           "hovertemplate": "<b>%{hovertext}</b><br><br>Country=POL<br>Year=2004<br>GDP growth=%{x}<br>Investments=%{y}<br>size=%{marker.size}<extra></extra>",
           "hovertext": [
            "POL"
           ],
           "legendgroup": "POL",
           "marker": {
            "color": "#636efa",
            "size": [
             20
            ],
            "sizemode": "area",
            "sizeref": 0.2,
            "symbol": "circle"
           },
           "mode": "markers",
           "name": "POL",
           "orientation": "v",
           "showlegend": true,
           "type": "scatter",
           "x": [
            16.972477064220186
           ],
           "xaxis": "x",
           "y": [
            0.09080762270381838
           ],
           "yaxis": "y"
          },
          {
           "hovertemplate": "<b>%{hovertext}</b><br><br>Country=RUS<br>Year=2004<br>GDP growth=%{x}<br>Investments=%{y}<br>size=%{marker.size}<extra></extra>",
           "hovertext": [
            "RUS"
           ],
           "legendgroup": "RUS",
           "marker": {
            "color": "#EF553B",
            "size": [
             20
            ],
            "sizemode": "area",
            "sizeref": 0.2,
            "symbol": "circle"
           },
           "mode": "markers",
           "name": "RUS",
           "orientation": "v",
           "showlegend": true,
           "type": "scatter",
           "x": [
            37.44186046511628
           ],
           "xaxis": "x",
           "y": [
            0.6494078637456586
           ],
           "yaxis": "y"
          },
          {
           "hovertemplate": "<b>%{hovertext}</b><br><br>Country=ESP<br>Year=2004<br>GDP growth=%{x}<br>Investments=%{y}<br>size=%{marker.size}<extra></extra>",
           "hovertext": [
            "ESP"
           ],
           "legendgroup": "ESP",
           "marker": {
            "color": "#00cc96",
            "size": [
             20
            ],
            "sizemode": "area",
            "sizeref": 0.2,
            "symbol": "circle"
           },
           "mode": "markers",
           "name": "ESP",
           "orientation": "v",
           "showlegend": true,
           "type": "scatter",
           "x": [
            17.971334068357223
           ],
           "xaxis": "x",
           "y": [
            0.4297097884899164
           ],
           "yaxis": "y"
          },
          {
           "hovertemplate": "<b>%{hovertext}</b><br><br>Country=SWE<br>Year=2004<br>GDP growth=%{x}<br>Investments=%{y}<br>size=%{marker.size}<extra></extra>",
           "hovertext": [
            "SWE"
           ],
           "legendgroup": "SWE",
           "marker": {
            "color": "#ab63fa",
            "size": [
             20
            ],
            "sizemode": "area",
            "sizeref": 0.2,
            "symbol": "circle"
           },
           "mode": "markers",
           "name": "SWE",
           "orientation": "v",
           "showlegend": true,
           "type": "scatter",
           "x": [
            15.269461077844312
           ],
           "xaxis": "x",
           "y": [
            0.29901103950786057
           ],
           "yaxis": "y"
          },
          {
           "hovertemplate": "<b>%{hovertext}</b><br><br>Country=CHE<br>Year=2004<br>GDP growth=%{x}<br>Investments=%{y}<br>size=%{marker.size}<extra></extra>",
           "hovertext": [
            "CHE"
           ],
           "legendgroup": "CHE",
           "marker": {
            "color": "#FFA15A",
            "size": [
             20
            ],
            "sizemode": "area",
            "sizeref": 0.2,
            "symbol": "circle"
           },
           "mode": "markers",
           "name": "CHE",
           "orientation": "v",
           "showlegend": true,
           "type": "scatter",
           "x": [
            11.602209944751381
           ],
           "xaxis": "x",
           "y": [
            0.551275562532569
           ],
           "yaxis": "y"
          },
          {
           "hovertemplate": "<b>%{hovertext}</b><br><br>Country=TUR<br>Year=2004<br>GDP growth=%{x}<br>Investments=%{y}<br>size=%{marker.size}<extra></extra>",
           "hovertext": [
            "TUR"
           ],
           "legendgroup": "TUR",
           "marker": {
            "color": "#19d3f3",
            "size": [
             20
            ],
            "sizemode": "area",
            "sizeref": 0.2,
            "symbol": "circle"
           },
           "mode": "markers",
           "name": "TUR",
           "orientation": "v",
           "showlegend": true,
           "type": "scatter",
           "x": [
            29.841269841269842
           ],
           "xaxis": "x",
           "y": [
            0.07781033022776992
           ],
           "yaxis": "y"
          },
          {
           "hovertemplate": "<b>%{hovertext}</b><br><br>Country=GBR<br>Year=2004<br>GDP growth=%{x}<br>Investments=%{y}<br>size=%{marker.size}<extra></extra>",
           "hovertext": [
            "GBR"
           ],
           "legendgroup": "GBR",
           "marker": {
            "color": "#FF6692",
            "size": [
             20
            ],
            "sizemode": "area",
            "sizeref": 0.2,
            "symbol": "circle"
           },
           "mode": "markers",
           "name": "GBR",
           "orientation": "v",
           "showlegend": true,
           "type": "scatter",
           "x": [
            17.475728155339805
           ],
           "xaxis": "x",
           "y": [
            0.23709997311874728
           ],
           "yaxis": "y"
          }
         ],
         "name": "2004"
        },
        {
         "data": [
          {
           "hovertemplate": "<b>%{hovertext}</b><br><br>Country=AUS<br>Year=2005<br>GDP growth=%{x}<br>Investments=%{y}<br>size=%{marker.size}<extra></extra>",
           "hovertext": [
            "AUS"
           ],
           "legendgroup": "AUS",
           "marker": {
            "color": "#636efa",
            "size": [
             20
            ],
            "sizemode": "area",
            "sizeref": 0.2,
            "symbol": "circle"
           },
           "mode": "markers",
           "name": "AUS",
           "orientation": "v",
           "showlegend": true,
           "type": "scatter",
           "x": [
            13.192182410423452
           ],
           "xaxis": "x",
           "y": [
            0.20780508564937522
           ],
           "yaxis": "y"
          },
          {
           "hovertemplate": "<b>%{hovertext}</b><br><br>Country=AZE<br>Year=2005<br>GDP growth=%{x}<br>Investments=%{y}<br>size=%{marker.size}<extra></extra>",
           "hovertext": [
            "AZE"
           ],
           "legendgroup": "AZE",
           "marker": {
            "color": "#EF553B",
            "size": [
             20
            ],
            "sizemode": "area",
            "sizeref": 0.2,
            "symbol": "circle"
           },
           "mode": "markers",
           "name": "AZE",
           "orientation": "v",
           "showlegend": true,
           "type": "scatter",
           "x": [
            52.589815917774516
           ],
           "xaxis": "x",
           "y": [
            0.15517795113963603
           ],
           "yaxis": "y"
          },
          {
           "hovertemplate": "<b>%{hovertext}</b><br><br>Country=CZE<br>Year=2005<br>GDP growth=%{x}<br>Investments=%{y}<br>size=%{marker.size}<extra></extra>",
           "hovertext": [
            "CZE"
           ],
           "legendgroup": "CZE",
           "marker": {
            "color": "#00cc96",
            "size": [
             20
            ],
            "sizemode": "area",
            "sizeref": 0.2,
            "symbol": "circle"
           },
           "mode": "markers",
           "name": "CZE",
           "orientation": "v",
           "showlegend": true,
           "type": "scatter",
           "x": [
            14.166666666666666
           ],
           "xaxis": "x",
           "y": [
            0.372185956819055
           ],
           "yaxis": "y"
          },
          {
           "hovertemplate": "<b>%{hovertext}</b><br><br>Country=FIN<br>Year=2005<br>GDP growth=%{x}<br>Investments=%{y}<br>size=%{marker.size}<extra></extra>",
           "hovertext": [
            "FIN"
           ],
           "legendgroup": "FIN",
           "marker": {
            "color": "#ab63fa",
            "size": [
             20
            ],
            "sizemode": "area",
            "sizeref": 0.2,
            "symbol": "circle"
           },
           "mode": "markers",
           "name": "FIN",
           "orientation": "v",
           "showlegend": true,
           "type": "scatter",
           "x": [
            4.060913705583756
           ],
           "xaxis": "x",
           "y": [
            0.14428754813863928
           ],
           "yaxis": "y"
          },
          {
           "hovertemplate": "<b>%{hovertext}</b><br><br>Country=FRA<br>Year=2005<br>GDP growth=%{x}<br>Investments=%{y}<br>size=%{marker.size}<extra></extra>",
           "hovertext": [
            "FRA"
           ],
           "legendgroup": "FRA",
           "marker": {
            "color": "#FFA15A",
            "size": [
             20
            ],
            "sizemode": "area",
            "sizeref": 0.2,
            "symbol": "circle"
           },
           "mode": "markers",
           "name": "FRA",
           "orientation": "v",
           "showlegend": true,
           "type": "scatter",
           "x": [
            3.7735849056603774
           ],
           "xaxis": "x",
           "y": [
            0.19958767942583736
           ],
           "yaxis": "y"
          },
          {
           "hovertemplate": "<b>%{hovertext}</b><br><br>Country=DEU<br>Year=2005<br>GDP growth=%{x}<br>Investments=%{y}<br>size=%{marker.size}<extra></extra>",
           "hovertext": [
            "DEU"
           ],
           "legendgroup": "DEU",
           "marker": {
            "color": "#19d3f3",
            "size": [
             20
            ],
            "sizemode": "area",
            "sizeref": 0.2,
            "symbol": "circle"
           },
           "mode": "markers",
           "name": "DEU",
           "orientation": "v",
           "showlegend": true,
           "type": "scatter",
           "x": [
            1.4234875444839856
           ],
           "xaxis": "x",
           "y": [
            0.12598337950138505
           ],
           "yaxis": "y"
          },
          {
           "hovertemplate": "<b>%{hovertext}</b><br><br>Country=HUN<br>Year=2005<br>GDP growth=%{x}<br>Investments=%{y}<br>size=%{marker.size}<extra></extra>",
           "hovertext": [
            "HUN"
           ],
           "legendgroup": "HUN",
           "marker": {
            "color": "#FF6692",
            "size": [
             20
            ],
            "sizemode": "area",
            "sizeref": 0.2,
            "symbol": "circle"
           },
           "mode": "markers",
           "name": "HUN",
           "orientation": "v",
           "showlegend": true,
           "type": "scatter",
           "x": [
            8.653846153846153
           ],
           "xaxis": "x",
           "y": [
            0.1589900751746623
           ],
           "yaxis": "y"
          },
          {
           "hovertemplate": "<b>%{hovertext}</b><br><br>Country=ITA<br>Year=2005<br>GDP growth=%{x}<br>Investments=%{y}<br>size=%{marker.size}<extra></extra>",
           "hovertext": [
            "ITA"
           ],
           "legendgroup": "ITA",
           "marker": {
            "color": "#B6E880",
            "size": [
             20
            ],
            "sizemode": "area",
            "sizeref": 0.2,
            "symbol": "circle"
           },
           "mode": "markers",
           "name": "ITA",
           "orientation": "v",
           "showlegend": true,
           "type": "scatter",
           "x": [
            2.7624309392265194
           ],
           "xaxis": "x",
           "y": [
            0.5758347481607244
           ],
           "yaxis": "y"
          },
          {
           "hovertemplate": "<b>%{hovertext}</b><br><br>Country=JPN<br>Year=2005<br>GDP growth=%{x}<br>Investments=%{y}<br>size=%{marker.size}<extra></extra>",
           "hovertext": [
            "JPN"
           ],
           "legendgroup": "JPN",
           "marker": {
            "color": "#FF97FF",
            "size": [
             20
            ],
            "sizemode": "area",
            "sizeref": 0.2,
            "symbol": "circle"
           },
           "mode": "markers",
           "name": "JPN",
           "orientation": "v",
           "showlegend": true,
           "type": "scatter",
           "x": [
            -1.2269938650306749
           ],
           "xaxis": "x",
           "y": [
            0.1318609338563801
           ],
           "yaxis": "y"
          },
          {
           "hovertemplate": "<b>%{hovertext}</b><br><br>Country=NOR<br>Year=2005<br>GDP growth=%{x}<br>Investments=%{y}<br>size=%{marker.size}<extra></extra>",
           "hovertext": [
            "NOR"
           ],
           "legendgroup": "NOR",
           "marker": {
            "color": "#FECB52",
            "size": [
             20
            ],
            "sizemode": "area",
            "sizeref": 0.2,
            "symbol": "circle"
           },
           "mode": "markers",
           "name": "NOR",
           "orientation": "v",
           "showlegend": true,
           "type": "scatter",
           "x": [
            16.9811320754717
           ],
           "xaxis": "x",
           "y": [
            0.0655988059762309
           ],
           "yaxis": "y"
          },
          {
           "hovertemplate": "<b>%{hovertext}</b><br><br>Country=POL<br>Year=2005<br>GDP growth=%{x}<br>Investments=%{y}<br>size=%{marker.size}<extra></extra>",
           "hovertext": [
            "POL"
           ],
           "legendgroup": "POL",
           "marker": {
            "color": "#636efa",
            "size": [
             20
            ],
            "sizemode": "area",
            "sizeref": 0.2,
            "symbol": "circle"
           },
           "mode": "markers",
           "name": "POL",
           "orientation": "v",
           "showlegend": true,
           "type": "scatter",
           "x": [
            20
           ],
           "xaxis": "x",
           "y": [
            0.08124033849329206
           ],
           "yaxis": "y"
          },
          {
           "hovertemplate": "<b>%{hovertext}</b><br><br>Country=RUS<br>Year=2005<br>GDP growth=%{x}<br>Investments=%{y}<br>size=%{marker.size}<extra></extra>",
           "hovertext": [
            "RUS"
           ],
           "legendgroup": "RUS",
           "marker": {
            "color": "#EF553B",
            "size": [
             20
            ],
            "sizemode": "area",
            "sizeref": 0.2,
            "symbol": "circle"
           },
           "mode": "markers",
           "name": "RUS",
           "orientation": "v",
           "showlegend": true,
           "type": "scatter",
           "x": [
            29.272419627749578
           ],
           "xaxis": "x",
           "y": [
            0.5534444849820888
           ],
           "yaxis": "y"
          },
          {
           "hovertemplate": "<b>%{hovertext}</b><br><br>Country=ESP<br>Year=2005<br>GDP growth=%{x}<br>Investments=%{y}<br>size=%{marker.size}<extra></extra>",
           "hovertext": [
            "ESP"
           ],
           "legendgroup": "ESP",
           "marker": {
            "color": "#00cc96",
            "size": [
             20
            ],
            "sizemode": "area",
            "sizeref": 0.2,
            "symbol": "circle"
           },
           "mode": "markers",
           "name": "ESP",
           "orientation": "v",
           "showlegend": true,
           "type": "scatter",
           "x": [
            7.476635514018691
           ],
           "xaxis": "x",
           "y": [
            0.5275972540045767
           ],
           "yaxis": "y"
          },
          {
           "hovertemplate": "<b>%{hovertext}</b><br><br>Country=SWE<br>Year=2005<br>GDP growth=%{x}<br>Investments=%{y}<br>size=%{marker.size}<extra></extra>",
           "hovertext": [
            "SWE"
           ],
           "legendgroup": "SWE",
           "marker": {
            "color": "#ab63fa",
            "size": [
             20
            ],
            "sizemode": "area",
            "sizeref": 0.2,
            "symbol": "circle"
           },
           "mode": "markers",
           "name": "SWE",
           "orientation": "v",
           "showlegend": true,
           "type": "scatter",
           "x": [
            1.8181818181818181
           ],
           "xaxis": "x",
           "y": [
            0.349378388292159
           ],
           "yaxis": "y"
          },
          {
           "hovertemplate": "<b>%{hovertext}</b><br><br>Country=CHE<br>Year=2005<br>GDP growth=%{x}<br>Investments=%{y}<br>size=%{marker.size}<extra></extra>",
           "hovertext": [
            "CHE"
           ],
           "legendgroup": "CHE",
           "marker": {
            "color": "#FFA15A",
            "size": [
             20
            ],
            "sizemode": "area",
            "sizeref": 0.2,
            "symbol": "circle"
           },
           "mode": "markers",
           "name": "CHE",
           "orientation": "v",
           "showlegend": true,
           "type": "scatter",
           "x": [
            3.4653465346534658
           ],
           "xaxis": "x",
           "y": [
            0.551859926466885
           ],
           "yaxis": "y"
          },
          {
           "hovertemplate": "<b>%{hovertext}</b><br><br>Country=TUR<br>Year=2005<br>GDP growth=%{x}<br>Investments=%{y}<br>size=%{marker.size}<extra></extra>",
           "hovertext": [
            "TUR"
           ],
           "legendgroup": "TUR",
           "marker": {
            "color": "#19d3f3",
            "size": [
             20
            ],
            "sizemode": "area",
            "sizeref": 0.2,
            "symbol": "circle"
           },
           "mode": "markers",
           "name": "TUR",
           "orientation": "v",
           "showlegend": true,
           "type": "scatter",
           "x": [
            23.71638141809291
           ],
           "xaxis": "x",
           "y": [
            0.05422443345121698
           ],
           "yaxis": "y"
          },
          {
           "hovertemplate": "<b>%{hovertext}</b><br><br>Country=GBR<br>Year=2005<br>GDP growth=%{x}<br>Investments=%{y}<br>size=%{marker.size}<extra></extra>",
           "hovertext": [
            "GBR"
           ],
           "legendgroup": "GBR",
           "marker": {
            "color": "#FF6692",
            "size": [
             20
            ],
            "sizemode": "area",
            "sizeref": 0.2,
            "symbol": "circle"
           },
           "mode": "markers",
           "name": "GBR",
           "orientation": "v",
           "showlegend": true,
           "type": "scatter",
           "x": [
            4.958677685950414
           ],
           "xaxis": "x",
           "y": [
            0.23856981243265646
           ],
           "yaxis": "y"
          }
         ],
         "name": "2005"
        },
        {
         "data": [
          {
           "hovertemplate": "<b>%{hovertext}</b><br><br>Country=AUS<br>Year=2006<br>GDP growth=%{x}<br>Investments=%{y}<br>size=%{marker.size}<extra></extra>",
           "hovertext": [
            "AUS"
           ],
           "legendgroup": "AUS",
           "marker": {
            "color": "#636efa",
            "size": [
             20
            ],
            "sizemode": "area",
            "sizeref": 0.2,
            "symbol": "circle"
           },
           "mode": "markers",
           "name": "AUS",
           "orientation": "v",
           "showlegend": true,
           "type": "scatter",
           "x": [
            7.625899280575539
           ],
           "xaxis": "x",
           "y": [
            0.18831567787784972
           ],
           "yaxis": "y"
          },
          {
           "hovertemplate": "<b>%{hovertext}</b><br><br>Country=AZE<br>Year=2006<br>GDP growth=%{x}<br>Investments=%{y}<br>size=%{marker.size}<extra></extra>",
           "hovertext": [
            "AZE"
           ],
           "legendgroup": "AZE",
           "marker": {
            "color": "#EF553B",
            "size": [
             20
            ],
            "sizemode": "area",
            "sizeref": 0.2,
            "symbol": "circle"
           },
           "mode": "markers",
           "name": "AZE",
           "orientation": "v",
           "showlegend": true,
           "type": "scatter",
           "x": [
            58.40891808888091
           ],
           "xaxis": "x",
           "y": [
            0.058158576989860745
           ],
           "yaxis": "y"
          },
          {
           "hovertemplate": "<b>%{hovertext}</b><br><br>Country=CZE<br>Year=2006<br>GDP growth=%{x}<br>Investments=%{y}<br>size=%{marker.size}<extra></extra>",
           "hovertext": [
            "CZE"
           ],
           "legendgroup": "CZE",
           "marker": {
            "color": "#00cc96",
            "size": [
             20
            ],
            "sizemode": "area",
            "sizeref": 0.2,
            "symbol": "circle"
           },
           "mode": "markers",
           "name": "CZE",
           "orientation": "v",
           "showlegend": true,
           "type": "scatter",
           "x": [
            13.86861313868613
           ],
           "xaxis": "x",
           "y": [
            0.31378273097165993
           ],
           "yaxis": "y"
          },
          {
           "hovertemplate": "<b>%{hovertext}</b><br><br>Country=FIN<br>Year=2006<br>GDP growth=%{x}<br>Investments=%{y}<br>size=%{marker.size}<extra></extra>",
           "hovertext": [
            "FIN"
           ],
           "legendgroup": "FIN",
           "marker": {
            "color": "#ab63fa",
            "size": [
             20
            ],
            "sizemode": "area",
            "sizeref": 0.2,
            "symbol": "circle"
           },
           "mode": "markers",
           "name": "FIN",
           "orientation": "v",
           "showlegend": true,
           "type": "scatter",
           "x": [
            5.853658536585367
           ],
           "xaxis": "x",
           "y": [
            0.11350958040261946
           ],
           "yaxis": "y"
          },
          {
           "hovertemplate": "<b>%{hovertext}</b><br><br>Country=FRA<br>Year=2006<br>GDP growth=%{x}<br>Investments=%{y}<br>size=%{marker.size}<extra></extra>",
           "hovertext": [
            "FRA"
           ],
           "legendgroup": "FRA",
           "marker": {
            "color": "#FFA15A",
            "size": [
             20
            ],
            "sizemode": "area",
            "sizeref": 0.2,
            "symbol": "circle"
           },
           "mode": "markers",
           "name": "FRA",
           "orientation": "v",
           "showlegend": true,
           "type": "scatter",
           "x": [
            5.454545454545454
           ],
           "xaxis": "x",
           "y": [
            0.19523684210526318
           ],
           "yaxis": "y"
          },
          {
           "hovertemplate": "<b>%{hovertext}</b><br><br>Country=DEU<br>Year=2006<br>GDP growth=%{x}<br>Investments=%{y}<br>size=%{marker.size}<extra></extra>",
           "hovertext": [
            "DEU"
           ],
           "legendgroup": "DEU",
           "marker": {
            "color": "#19d3f3",
            "size": [
             20
            ],
            "sizemode": "area",
            "sizeref": 0.2,
            "symbol": "circle"
           },
           "mode": "markers",
           "name": "DEU",
           "orientation": "v",
           "showlegend": true,
           "type": "scatter",
           "x": [
            4.912280701754386
           ],
           "xaxis": "x",
           "y": [
            0.13979933110367893
           ],
           "yaxis": "y"
          },
          {
           "hovertemplate": "<b>%{hovertext}</b><br><br>Country=HUN<br>Year=2006<br>GDP growth=%{x}<br>Investments=%{y}<br>size=%{marker.size}<extra></extra>",
           "hovertext": [
            "HUN"
           ],
           "legendgroup": "HUN",
           "marker": {
            "color": "#FF6692",
            "size": [
             20
            ],
            "sizemode": "area",
            "sizeref": 0.2,
            "symbol": "circle"
           },
           "mode": "markers",
           "name": "HUN",
           "orientation": "v",
           "showlegend": true,
           "type": "scatter",
           "x": [
            2.6548672566371683
           ],
           "xaxis": "x",
           "y": [
            0.08294797459165154
           ],
           "yaxis": "y"
          },
          {
           "hovertemplate": "<b>%{hovertext}</b><br><br>Country=ITA<br>Year=2006<br>GDP growth=%{x}<br>Investments=%{y}<br>size=%{marker.size}<extra></extra>",
           "hovertext": [
            "ITA"
           ],
           "legendgroup": "ITA",
           "marker": {
            "color": "#B6E880",
            "size": [
             20
            ],
            "sizemode": "area",
            "sizeref": 0.2,
            "symbol": "circle"
           },
           "mode": "markers",
           "name": "ITA",
           "orientation": "v",
           "showlegend": true,
           "type": "scatter",
           "x": [
            4.838709677419355
           ],
           "xaxis": "x",
           "y": [
            0.4842105263157895
           ],
           "yaxis": "y"
          },
          {
           "hovertemplate": "<b>%{hovertext}</b><br><br>Country=JPN<br>Year=2006<br>GDP growth=%{x}<br>Investments=%{y}<br>size=%{marker.size}<extra></extra>",
           "hovertext": [
            "JPN"
           ],
           "legendgroup": "JPN",
           "marker": {
            "color": "#FF97FF",
            "size": [
             20
            ],
            "sizemode": "area",
            "sizeref": 0.2,
            "symbol": "circle"
           },
           "mode": "markers",
           "name": "JPN",
           "orientation": "v",
           "showlegend": true,
           "type": "scatter",
           "x": [
            -4.761904761904762
           ],
           "xaxis": "x",
           "y": [
            0.15420461821510298
           ],
           "yaxis": "y"
          },
          {
           "hovertemplate": "<b>%{hovertext}</b><br><br>Country=NOR<br>Year=2006<br>GDP growth=%{x}<br>Investments=%{y}<br>size=%{marker.size}<extra></extra>",
           "hovertext": [
            "NOR"
           ],
           "legendgroup": "NOR",
           "marker": {
            "color": "#FECB52",
            "size": [
             20
            ],
            "sizemode": "area",
            "sizeref": 0.2,
            "symbol": "circle"
           },
           "mode": "markers",
           "name": "NOR",
           "orientation": "v",
           "showlegend": true,
           "type": "scatter",
           "x": [
            11.935483870967742
           ],
           "xaxis": "x",
           "y": [
            0.0783422864249962
           ],
           "yaxis": "y"
          },
          {
           "hovertemplate": "<b>%{hovertext}</b><br><br>Country=POL<br>Year=2006<br>GDP growth=%{x}<br>Investments=%{y}<br>size=%{marker.size}<extra></extra>",
           "hovertext": [
            "POL"
           ],
           "legendgroup": "POL",
           "marker": {
            "color": "#636efa",
            "size": [
             20
            ],
            "sizemode": "area",
            "sizeref": 0.2,
            "symbol": "circle"
           },
           "mode": "markers",
           "name": "POL",
           "orientation": "v",
           "showlegend": true,
           "type": "scatter",
           "x": [
            12.745098039215685
           ],
           "xaxis": "x",
           "y": [
            0.10778470108314266
           ],
           "yaxis": "y"
          },
          {
           "hovertemplate": "<b>%{hovertext}</b><br><br>Country=RUS<br>Year=2006<br>GDP growth=%{x}<br>Investments=%{y}<br>size=%{marker.size}<extra></extra>",
           "hovertext": [
            "RUS"
           ],
           "legendgroup": "RUS",
           "marker": {
            "color": "#EF553B",
            "size": [
             20
            ],
            "sizemode": "area",
            "sizeref": 0.2,
            "symbol": "circle"
           },
           "mode": "markers",
           "name": "RUS",
           "orientation": "v",
           "showlegend": true,
           "type": "scatter",
           "x": [
            29.581151832460733
           ],
           "xaxis": "x",
           "y": [
            0.4432465056884636
           ],
           "yaxis": "y"
          },
          {
           "hovertemplate": "<b>%{hovertext}</b><br><br>Country=ESP<br>Year=2006<br>GDP growth=%{x}<br>Investments=%{y}<br>size=%{marker.size}<extra></extra>",
           "hovertext": [
            "ESP"
           ],
           "legendgroup": "ESP",
           "marker": {
            "color": "#00cc96",
            "size": [
             20
            ],
            "sizemode": "area",
            "sizeref": 0.2,
            "symbol": "circle"
           },
           "mode": "markers",
           "name": "ESP",
           "orientation": "v",
           "showlegend": true,
           "type": "scatter",
           "x": [
            9.565217391304348
           ],
           "xaxis": "x",
           "y": [
            0.5293233082706768
           ],
           "yaxis": "y"
          },
          {
           "hovertemplate": "<b>%{hovertext}</b><br><br>Country=SWE<br>Year=2006<br>GDP growth=%{x}<br>Investments=%{y}<br>size=%{marker.size}<extra></extra>",
           "hovertext": [
            "SWE"
           ],
           "legendgroup": "SWE",
           "marker": {
            "color": "#ab63fa",
            "size": [
             20
            ],
            "sizemode": "area",
            "sizeref": 0.2,
            "symbol": "circle"
           },
           "mode": "markers",
           "name": "SWE",
           "orientation": "v",
           "showlegend": true,
           "type": "scatter",
           "x": [
            7.908163265306123
           ],
           "xaxis": "x",
           "y": [
            0.31119244469329355
           ],
           "yaxis": "y"
          },
          {
           "hovertemplate": "<b>%{hovertext}</b><br><br>Country=CHE<br>Year=2006<br>GDP growth=%{x}<br>Investments=%{y}<br>size=%{marker.size}<extra></extra>",
           "hovertext": [
            "CHE"
           ],
           "legendgroup": "CHE",
           "marker": {
            "color": "#FFA15A",
            "size": [
             20
            ],
            "sizemode": "area",
            "sizeref": 0.2,
            "symbol": "circle"
           },
           "mode": "markers",
           "name": "CHE",
           "orientation": "v",
           "showlegend": true,
           "type": "scatter",
           "x": [
            5.741626794258373
           ],
           "xaxis": "x",
           "y": [
            0.559841000238152
           ],
           "yaxis": "y"
          },
          {
           "hovertemplate": "<b>%{hovertext}</b><br><br>Country=TUR<br>Year=2006<br>GDP growth=%{x}<br>Investments=%{y}<br>size=%{marker.size}<extra></extra>",
           "hovertext": [
            "TUR"
           ],
           "legendgroup": "TUR",
           "marker": {
            "color": "#19d3f3",
            "size": [
             20
            ],
            "sizemode": "area",
            "sizeref": 0.2,
            "symbol": "circle"
           },
           "mode": "markers",
           "name": "TUR",
           "orientation": "v",
           "showlegend": true,
           "type": "scatter",
           "x": [
            10.079051383399209
           ],
           "xaxis": "x",
           "y": [
            0.08865572121326656
           ],
           "yaxis": "y"
          },
          {
           "hovertemplate": "<b>%{hovertext}</b><br><br>Country=GBR<br>Year=2006<br>GDP growth=%{x}<br>Investments=%{y}<br>size=%{marker.size}<extra></extra>",
           "hovertext": [
            "GBR"
           ],
           "legendgroup": "GBR",
           "marker": {
            "color": "#FF6692",
            "size": [
             20
            ],
            "sizemode": "area",
            "sizeref": 0.2,
            "symbol": "circle"
           },
           "mode": "markers",
           "name": "GBR",
           "orientation": "v",
           "showlegend": true,
           "type": "scatter",
           "x": [
            6.692913385826772
           ],
           "xaxis": "x",
           "y": [
            0.30838137040201985
           ],
           "yaxis": "y"
          }
         ],
         "name": "2006"
        },
        {
         "data": [
          {
           "hovertemplate": "<b>%{hovertext}</b><br><br>Country=AUS<br>Year=2007<br>GDP growth=%{x}<br>Investments=%{y}<br>size=%{marker.size}<extra></extra>",
           "hovertext": [
            "AUS"
           ],
           "legendgroup": "AUS",
           "marker": {
            "color": "#636efa",
            "size": [
             20
            ],
            "sizemode": "area",
            "sizeref": 0.2,
            "symbol": "circle"
           },
           "mode": "markers",
           "name": "AUS",
           "orientation": "v",
           "showlegend": true,
           "type": "scatter",
           "x": [
            14.171122994652407
           ],
           "xaxis": "x",
           "y": [
            0.2020328445704425
           ],
           "yaxis": "y"
          },
          {
           "hovertemplate": "<b>%{hovertext}</b><br><br>Country=AZE<br>Year=2007<br>GDP growth=%{x}<br>Investments=%{y}<br>size=%{marker.size}<extra></extra>",
           "hovertext": [
            "AZE"
           ],
           "legendgroup": "AZE",
           "marker": {
            "color": "#EF553B",
            "size": [
             20
            ],
            "sizemode": "area",
            "sizeref": 0.2,
            "symbol": "circle"
           },
           "mode": "markers",
           "name": "AZE",
           "orientation": "v",
           "showlegend": true,
           "type": "scatter",
           "x": [
            57.51376354186242
           ],
           "xaxis": "x",
           "y": [
            0.010835251550702559
           ],
           "yaxis": "y"
          },
          {
           "hovertemplate": "<b>%{hovertext}</b><br><br>Country=CZE<br>Year=2007<br>GDP growth=%{x}<br>Investments=%{y}<br>size=%{marker.size}<extra></extra>",
           "hovertext": [
            "CZE"
           ],
           "legendgroup": "CZE",
           "marker": {
            "color": "#00cc96",
            "size": [
             20
            ],
            "sizemode": "area",
            "sizeref": 0.2,
            "symbol": "circle"
           },
           "mode": "markers",
           "name": "CZE",
           "orientation": "v",
           "showlegend": true,
           "type": "scatter",
           "x": [
            21.794871794871796
           ],
           "xaxis": "x",
           "y": [
            0.33935718448753466
           ],
           "yaxis": "y"
          },
          {
           "hovertemplate": "<b>%{hovertext}</b><br><br>Country=FIN<br>Year=2007<br>GDP growth=%{x}<br>Investments=%{y}<br>size=%{marker.size}<extra></extra>",
           "hovertext": [
            "FIN"
           ],
           "legendgroup": "FIN",
           "marker": {
            "color": "#ab63fa",
            "size": [
             20
            ],
            "sizemode": "area",
            "sizeref": 0.2,
            "symbol": "circle"
           },
           "mode": "markers",
           "name": "FIN",
           "orientation": "v",
           "showlegend": true,
           "type": "scatter",
           "x": [
            17.972350230414747
           ],
           "xaxis": "x",
           "y": [
            0.08675986842105264
           ],
           "yaxis": "y"
          },
          {
           "hovertemplate": "<b>%{hovertext}</b><br><br>Country=FRA<br>Year=2007<br>GDP growth=%{x}<br>Investments=%{y}<br>size=%{marker.size}<extra></extra>",
           "hovertext": [
            "FRA"
           ],
           "legendgroup": "FRA",
           "marker": {
            "color": "#FFA15A",
            "size": [
             20
            ],
            "sizemode": "area",
            "sizeref": 0.2,
            "symbol": "circle"
           },
           "mode": "markers",
           "name": "FRA",
           "orientation": "v",
           "showlegend": true,
           "type": "scatter",
           "x": [
            14.655172413793101
           ],
           "xaxis": "x",
           "y": [
            0.1826837356549268
           ],
           "yaxis": "y"
          },
          {
           "hovertemplate": "<b>%{hovertext}</b><br><br>Country=DEU<br>Year=2007<br>GDP growth=%{x}<br>Investments=%{y}<br>size=%{marker.size}<extra></extra>",
           "hovertext": [
            "DEU"
           ],
           "legendgroup": "DEU",
           "marker": {
            "color": "#19d3f3",
            "size": [
             20
            ],
            "sizemode": "area",
            "sizeref": 0.2,
            "symbol": "circle"
           },
           "mode": "markers",
           "name": "DEU",
           "orientation": "v",
           "showlegend": true,
           "type": "scatter",
           "x": [
            14.715719063545151
           ],
           "xaxis": "x",
           "y": [
            0.11772287862513427
           ],
           "yaxis": "y"
          },
          {
           "hovertemplate": "<b>%{hovertext}</b><br><br>Country=HUN<br>Year=2007<br>GDP growth=%{x}<br>Investments=%{y}<br>size=%{marker.size}<extra></extra>",
           "hovertext": [
            "HUN"
           ],
           "legendgroup": "HUN",
           "marker": {
            "color": "#FF6692",
            "size": [
             20
            ],
            "sizemode": "area",
            "sizeref": 0.2,
            "symbol": "circle"
           },
           "mode": "markers",
           "name": "HUN",
           "orientation": "v",
           "showlegend": true,
           "type": "scatter",
           "x": [
            20.689655172413794
           ],
           "xaxis": "x",
           "y": [
            0.2830341743609023
           ],
           "yaxis": "y"
          },
          {
           "hovertemplate": "<b>%{hovertext}</b><br><br>Country=ITA<br>Year=2007<br>GDP growth=%{x}<br>Investments=%{y}<br>size=%{marker.size}<extra></extra>",
           "hovertext": [
            "ITA"
           ],
           "legendgroup": "ITA",
           "marker": {
            "color": "#B6E880",
            "size": [
             20
            ],
            "sizemode": "area",
            "sizeref": 0.2,
            "symbol": "circle"
           },
           "mode": "markers",
           "name": "ITA",
           "orientation": "v",
           "showlegend": true,
           "type": "scatter",
           "x": [
            13.333333333333334
           ],
           "xaxis": "x",
           "y": [
            0.3668492498213861
           ],
           "yaxis": "y"
          },
          {
           "hovertemplate": "<b>%{hovertext}</b><br><br>Country=JPN<br>Year=2007<br>GDP growth=%{x}<br>Investments=%{y}<br>size=%{marker.size}<extra></extra>",
           "hovertext": [
            "JPN"
           ],
           "legendgroup": "JPN",
           "marker": {
            "color": "#FF97FF",
            "size": [
             20
            ],
            "sizemode": "area",
            "sizeref": 0.2,
            "symbol": "circle"
           },
           "mode": "markers",
           "name": "JPN",
           "orientation": "v",
           "showlegend": true,
           "type": "scatter",
           "x": [
            -0.43478260869565216
           ],
           "xaxis": "x",
           "y": [
            0.15818883638244083
           ],
           "yaxis": "y"
          },
          {
           "hovertemplate": "<b>%{hovertext}</b><br><br>Country=NOR<br>Year=2007<br>GDP growth=%{x}<br>Investments=%{y}<br>size=%{marker.size}<extra></extra>",
           "hovertext": [
            "NOR"
           ],
           "legendgroup": "NOR",
           "marker": {
            "color": "#FECB52",
            "size": [
             20
            ],
            "sizemode": "area",
            "sizeref": 0.2,
            "symbol": "circle"
           },
           "mode": "markers",
           "name": "NOR",
           "orientation": "v",
           "showlegend": true,
           "type": "scatter",
           "x": [
            16.138328530259365
           ],
           "xaxis": "x",
           "y": [
            0.08098231205432938
           ],
           "yaxis": "y"
          },
          {
           "hovertemplate": "<b>%{hovertext}</b><br><br>Country=POL<br>Year=2007<br>GDP growth=%{x}<br>Investments=%{y}<br>size=%{marker.size}<extra></extra>",
           "hovertext": [
            "POL"
           ],
           "legendgroup": "POL",
           "marker": {
            "color": "#636efa",
            "size": [
             20
            ],
            "sizemode": "area",
            "sizeref": 0.2,
            "symbol": "circle"
           },
           "mode": "markers",
           "name": "POL",
           "orientation": "v",
           "showlegend": true,
           "type": "scatter",
           "x": [
            24.347826086956523
           ],
           "xaxis": "x",
           "y": [
            0.1587103504355294
           ],
           "yaxis": "y"
          },
          {
           "hovertemplate": "<b>%{hovertext}</b><br><br>Country=RUS<br>Year=2007<br>GDP growth=%{x}<br>Investments=%{y}<br>size=%{marker.size}<extra></extra>",
           "hovertext": [
            "RUS"
           ],
           "legendgroup": "RUS",
           "marker": {
            "color": "#EF553B",
            "size": [
             20
            ],
            "sizemode": "area",
            "sizeref": 0.2,
            "symbol": "circle"
           },
           "mode": "markers",
           "name": "RUS",
           "orientation": "v",
           "showlegend": true,
           "type": "scatter",
           "x": [
            31.313131313131315
           ],
           "xaxis": "x",
           "y": [
            0.4400064653441295
           ],
           "yaxis": "y"
          },
          {
           "hovertemplate": "<b>%{hovertext}</b><br><br>Country=ESP<br>Year=2007<br>GDP growth=%{x}<br>Investments=%{y}<br>size=%{marker.size}<extra></extra>",
           "hovertext": [
            "ESP"
           ],
           "legendgroup": "ESP",
           "marker": {
            "color": "#00cc96",
            "size": [
             20
            ],
            "sizemode": "area",
            "sizeref": 0.2,
            "symbol": "circle"
           },
           "mode": "markers",
           "name": "ESP",
           "orientation": "v",
           "showlegend": true,
           "type": "scatter",
           "x": [
            16.666666666666664
           ],
           "xaxis": "x",
           "y": [
            0.5975653419262442
           ],
           "yaxis": "y"
          },
          {
           "hovertemplate": "<b>%{hovertext}</b><br><br>Country=SWE<br>Year=2007<br>GDP growth=%{x}<br>Investments=%{y}<br>size=%{marker.size}<extra></extra>",
           "hovertext": [
            "SWE"
           ],
           "legendgroup": "SWE",
           "marker": {
            "color": "#ab63fa",
            "size": [
             20
            ],
            "sizemode": "area",
            "sizeref": 0.2,
            "symbol": "circle"
           },
           "mode": "markers",
           "name": "SWE",
           "orientation": "v",
           "showlegend": true,
           "type": "scatter",
           "x": [
            16.07565011820331
           ],
           "xaxis": "x",
           "y": [
            0.30995619787758605
           ],
           "yaxis": "y"
          },
          {
           "hovertemplate": "<b>%{hovertext}</b><br><br>Country=CHE<br>Year=2007<br>GDP growth=%{x}<br>Investments=%{y}<br>size=%{marker.size}<extra></extra>",
           "hovertext": [
            "CHE"
           ],
           "legendgroup": "CHE",
           "marker": {
            "color": "#FFA15A",
            "size": [
             20
            ],
            "sizemode": "area",
            "sizeref": 0.2,
            "symbol": "circle"
           },
           "mode": "markers",
           "name": "CHE",
           "orientation": "v",
           "showlegend": true,
           "type": "scatter",
           "x": [
            11.085972850678733
           ],
           "xaxis": "x",
           "y": [
            0.49932304598563626
           ],
           "yaxis": "y"
          },
          {
           "hovertemplate": "<b>%{hovertext}</b><br><br>Country=TUR<br>Year=2007<br>GDP growth=%{x}<br>Investments=%{y}<br>size=%{marker.size}<extra></extra>",
           "hovertext": [
            "TUR"
           ],
           "legendgroup": "TUR",
           "marker": {
            "color": "#19d3f3",
            "size": [
             20
            ],
            "sizemode": "area",
            "sizeref": 0.2,
            "symbol": "circle"
           },
           "mode": "markers",
           "name": "TUR",
           "orientation": "v",
           "showlegend": true,
           "type": "scatter",
           "x": [
            22.262118491921004
           ],
           "xaxis": "x",
           "y": [
            0.08565244799443543
           ],
           "yaxis": "y"
          },
          {
           "hovertemplate": "<b>%{hovertext}</b><br><br>Country=GBR<br>Year=2007<br>GDP growth=%{x}<br>Investments=%{y}<br>size=%{marker.size}<extra></extra>",
           "hovertext": [
            "GBR"
           ],
           "legendgroup": "GBR",
           "marker": {
            "color": "#FF6692",
            "size": [
             20
            ],
            "sizemode": "area",
            "sizeref": 0.2,
            "symbol": "circle"
           },
           "mode": "markers",
           "name": "GBR",
           "orientation": "v",
           "showlegend": true,
           "type": "scatter",
           "x": [
            14.022140221402212
           ],
           "xaxis": "x",
           "y": [
            0.2633169048203032
           ],
           "yaxis": "y"
          }
         ],
         "name": "2007"
        },
        {
         "data": [
          {
           "hovertemplate": "<b>%{hovertext}</b><br><br>Country=AUS<br>Year=2008<br>GDP growth=%{x}<br>Investments=%{y}<br>size=%{marker.size}<extra></extra>",
           "hovertext": [
            "AUS"
           ],
           "legendgroup": "AUS",
           "marker": {
            "color": "#636efa",
            "size": [
             20
            ],
            "sizemode": "area",
            "sizeref": 0.2,
            "symbol": "circle"
           },
           "mode": "markers",
           "name": "AUS",
           "orientation": "v",
           "showlegend": true,
           "type": "scatter",
           "x": [
            24.121779859484775
           ],
           "xaxis": "x",
           "y": [
            0.17267269990069514
           ],
           "yaxis": "y"
          },
          {
           "hovertemplate": "<b>%{hovertext}</b><br><br>Country=AZE<br>Year=2008<br>GDP growth=%{x}<br>Investments=%{y}<br>size=%{marker.size}<extra></extra>",
           "hovertext": [
            "AZE"
           ],
           "legendgroup": "AZE",
           "marker": {
            "color": "#EF553B",
            "size": [
             20
            ],
            "sizemode": "area",
            "sizeref": 0.2,
            "symbol": "circle"
           },
           "mode": "markers",
           "name": "AZE",
           "orientation": "v",
           "showlegend": true,
           "type": "scatter",
           "x": [
            47.8129079150926
           ],
           "xaxis": "x",
           "y": [
            0.02317144280243142
           ],
           "yaxis": "y"
          },
          {
           "hovertemplate": "<b>%{hovertext}</b><br><br>Country=CZE<br>Year=2008<br>GDP growth=%{x}<br>Investments=%{y}<br>size=%{marker.size}<extra></extra>",
           "hovertext": [
            "CZE"
           ],
           "legendgroup": "CZE",
           "marker": {
            "color": "#00cc96",
            "size": [
             20
            ],
            "sizemode": "area",
            "sizeref": 0.2,
            "symbol": "circle"
           },
           "mode": "markers",
           "name": "CZE",
           "orientation": "v",
           "showlegend": true,
           "type": "scatter",
           "x": [
            24.736842105263158
           ],
           "xaxis": "x",
           "y": [
            0.5405978840772818
           ],
           "yaxis": "y"
          },
          {
           "hovertemplate": "<b>%{hovertext}</b><br><br>Country=FIN<br>Year=2008<br>GDP growth=%{x}<br>Investments=%{y}<br>size=%{marker.size}<extra></extra>",
           "hovertext": [
            "FIN"
           ],
           "legendgroup": "FIN",
           "marker": {
            "color": "#ab63fa",
            "size": [
             20
            ],
            "sizemode": "area",
            "sizeref": 0.2,
            "symbol": "circle"
           },
           "mode": "markers",
           "name": "FIN",
           "orientation": "v",
           "showlegend": true,
           "type": "scatter",
           "x": [
            11.71875
           ],
           "xaxis": "x",
           "y": [
            0.12035333087964666
           ],
           "yaxis": "y"
          },
          {
           "hovertemplate": "<b>%{hovertext}</b><br><br>Country=FRA<br>Year=2008<br>GDP growth=%{x}<br>Investments=%{y}<br>size=%{marker.size}<extra></extra>",
           "hovertext": [
            "FRA"
           ],
           "legendgroup": "FRA",
           "marker": {
            "color": "#FFA15A",
            "size": [
             20
            ],
            "sizemode": "area",
            "sizeref": 0.2,
            "symbol": "circle"
           },
           "mode": "markers",
           "name": "FRA",
           "orientation": "v",
           "showlegend": true,
           "type": "scatter",
           "x": [
            10.150375939849624
           ],
           "xaxis": "x",
           "y": [
            0.16872690145500271
           ],
           "yaxis": "y"
          },
          {
           "hovertemplate": "<b>%{hovertext}</b><br><br>Country=DEU<br>Year=2008<br>GDP growth=%{x}<br>Investments=%{y}<br>size=%{marker.size}<extra></extra>",
           "hovertext": [
            "DEU"
           ],
           "legendgroup": "DEU",
           "marker": {
            "color": "#19d3f3",
            "size": [
             20
            ],
            "sizemode": "area",
            "sizeref": 0.2,
            "symbol": "circle"
           },
           "mode": "markers",
           "name": "DEU",
           "orientation": "v",
           "showlegend": true,
           "type": "scatter",
           "x": [
            9.329446064139942
           ],
           "xaxis": "x",
           "y": [
            0.1071157894736842
           ],
           "yaxis": "y"
          },
          {
           "hovertemplate": "<b>%{hovertext}</b><br><br>Country=HUN<br>Year=2008<br>GDP growth=%{x}<br>Investments=%{y}<br>size=%{marker.size}<extra></extra>",
           "hovertext": [
            "HUN"
           ],
           "legendgroup": "HUN",
           "marker": {
            "color": "#FF6692",
            "size": [
             20
            ],
            "sizemode": "area",
            "sizeref": 0.2,
            "symbol": "circle"
           },
           "mode": "markers",
           "name": "HUN",
           "orientation": "v",
           "showlegend": true,
           "type": "scatter",
           "x": [
            12.857142857142856
           ],
           "xaxis": "x",
           "y": [
            0.1986407658227848
           ],
           "yaxis": "y"
          },
          {
           "hovertemplate": "<b>%{hovertext}</b><br><br>Country=ITA<br>Year=2008<br>GDP growth=%{x}<br>Investments=%{y}<br>size=%{marker.size}<extra></extra>",
           "hovertext": [
            "ITA"
           ],
           "legendgroup": "ITA",
           "marker": {
            "color": "#B6E880",
            "size": [
             20
            ],
            "sizemode": "area",
            "sizeref": 0.2,
            "symbol": "circle"
           },
           "mode": "markers",
           "name": "ITA",
           "orientation": "v",
           "showlegend": true,
           "type": "scatter",
           "x": [
            9.049773755656108
           ],
           "xaxis": "x",
           "y": [
            0.31050447696003497
           ],
           "yaxis": "y"
          },
          {
           "hovertemplate": "<b>%{hovertext}</b><br><br>Country=JPN<br>Year=2008<br>GDP growth=%{x}<br>Investments=%{y}<br>size=%{marker.size}<extra></extra>",
           "hovertext": [
            "JPN"
           ],
           "legendgroup": "JPN",
           "marker": {
            "color": "#FF97FF",
            "size": [
             20
            ],
            "sizemode": "area",
            "sizeref": 0.2,
            "symbol": "circle"
           },
           "mode": "markers",
           "name": "JPN",
           "orientation": "v",
           "showlegend": true,
           "type": "scatter",
           "x": [
            11.572052401746726
           ],
           "xaxis": "x",
           "y": [
            0.1518025982078484
           ],
           "yaxis": "y"
          },
          {
           "hovertemplate": "<b>%{hovertext}</b><br><br>Country=NOR<br>Year=2008<br>GDP growth=%{x}<br>Investments=%{y}<br>size=%{marker.size}<extra></extra>",
           "hovertext": [
            "NOR"
           ],
           "legendgroup": "NOR",
           "marker": {
            "color": "#FECB52",
            "size": [
             20
            ],
            "sizemode": "area",
            "sizeref": 0.2,
            "symbol": "circle"
           },
           "mode": "markers",
           "name": "NOR",
           "orientation": "v",
           "showlegend": true,
           "type": "scatter",
           "x": [
            15.384615384615385
           ],
           "xaxis": "x",
           "y": [
            0.06509224355404641
           ],
           "yaxis": "y"
          },
          {
           "hovertemplate": "<b>%{hovertext}</b><br><br>Country=POL<br>Year=2008<br>GDP growth=%{x}<br>Investments=%{y}<br>size=%{marker.size}<extra></extra>",
           "hovertext": [
            "POL"
           ],
           "legendgroup": "POL",
           "marker": {
            "color": "#636efa",
            "size": [
             20
            ],
            "sizemode": "area",
            "sizeref": 0.2,
            "symbol": "circle"
           },
           "mode": "markers",
           "name": "POL",
           "orientation": "v",
           "showlegend": true,
           "type": "scatter",
           "x": [
            24.475524475524477
           ],
           "xaxis": "x",
           "y": [
            0.17810575257244235
           ],
           "yaxis": "y"
          },
          {
           "hovertemplate": "<b>%{hovertext}</b><br><br>Country=RUS<br>Year=2008<br>GDP growth=%{x}<br>Investments=%{y}<br>size=%{marker.size}<extra></extra>",
           "hovertext": [
            "RUS"
           ],
           "legendgroup": "RUS",
           "marker": {
            "color": "#EF553B",
            "size": [
             20
            ],
            "sizemode": "area",
            "sizeref": 0.2,
            "symbol": "circle"
           },
           "mode": "markers",
           "name": "RUS",
           "orientation": "v",
           "showlegend": true,
           "type": "scatter",
           "x": [
            27.692307692307693
           ],
           "xaxis": "x",
           "y": [
            0.6017007886493342
           ],
           "yaxis": "y"
          },
          {
           "hovertemplate": "<b>%{hovertext}</b><br><br>Country=ESP<br>Year=2008<br>GDP growth=%{x}<br>Investments=%{y}<br>size=%{marker.size}<extra></extra>",
           "hovertext": [
            "ESP"
           ],
           "legendgroup": "ESP",
           "marker": {
            "color": "#00cc96",
            "size": [
             20
            ],
            "sizemode": "area",
            "sizeref": 0.2,
            "symbol": "circle"
           },
           "mode": "markers",
           "name": "ESP",
           "orientation": "v",
           "showlegend": true,
           "type": "scatter",
           "x": [
            10.884353741496598
           ],
           "xaxis": "x",
           "y": [
            0.5799806264126575
           ],
           "yaxis": "y"
          },
          {
           "hovertemplate": "<b>%{hovertext}</b><br><br>Country=SWE<br>Year=2008<br>GDP growth=%{x}<br>Investments=%{y}<br>size=%{marker.size}<extra></extra>",
           "hovertext": [
            "SWE"
           ],
           "legendgroup": "SWE",
           "marker": {
            "color": "#ab63fa",
            "size": [
             20
            ],
            "sizemode": "area",
            "sizeref": 0.2,
            "symbol": "circle"
           },
           "mode": "markers",
           "name": "SWE",
           "orientation": "v",
           "showlegend": true,
           "type": "scatter",
           "x": [
            5.4989816700611
           ],
           "xaxis": "x",
           "y": [
            0.31216636842105266
           ],
           "yaxis": "y"
          },
          {
           "hovertemplate": "<b>%{hovertext}</b><br><br>Country=CHE<br>Year=2008<br>GDP growth=%{x}<br>Investments=%{y}<br>size=%{marker.size}<extra></extra>",
           "hovertext": [
            "CHE"
           ],
           "legendgroup": "CHE",
           "marker": {
            "color": "#FFA15A",
            "size": [
             20
            ],
            "sizemode": "area",
            "sizeref": 0.2,
            "symbol": "circle"
           },
           "mode": "markers",
           "name": "CHE",
           "orientation": "v",
           "showlegend": true,
           "type": "scatter",
           "x": [
            15.478615071283095
           ],
           "xaxis": "x",
           "y": [
            0.4868454551192797
           ],
           "yaxis": "y"
          },
          {
           "hovertemplate": "<b>%{hovertext}</b><br><br>Country=TUR<br>Year=2008<br>GDP growth=%{x}<br>Investments=%{y}<br>size=%{marker.size}<extra></extra>",
           "hovertext": [
            "TUR"
           ],
           "legendgroup": "TUR",
           "marker": {
            "color": "#19d3f3",
            "size": [
             20
            ],
            "sizemode": "area",
            "sizeref": 0.2,
            "symbol": "circle"
           },
           "mode": "markers",
           "name": "TUR",
           "orientation": "v",
           "showlegend": true,
           "type": "scatter",
           "x": [
            13.069016152716593
           ],
           "xaxis": "x",
           "y": [
            0.107395667518797
           ],
           "yaxis": "y"
          },
          {
           "hovertemplate": "<b>%{hovertext}</b><br><br>Country=GBR<br>Year=2008<br>GDP growth=%{x}<br>Investments=%{y}<br>size=%{marker.size}<extra></extra>",
           "hovertext": [
            "GBR"
           ],
           "legendgroup": "GBR",
           "marker": {
            "color": "#FF6692",
            "size": [
             20
            ],
            "sizemode": "area",
            "sizeref": 0.2,
            "symbol": "circle"
           },
           "mode": "markers",
           "name": "GBR",
           "orientation": "v",
           "showlegend": true,
           "type": "scatter",
           "x": [
            -5.177993527508091
           ],
           "xaxis": "x",
           "y": [
            0.2708259629243758
           ],
           "yaxis": "y"
          }
         ],
         "name": "2008"
        },
        {
         "data": [
          {
           "hovertemplate": "<b>%{hovertext}</b><br><br>Country=AUS<br>Year=2009<br>GDP growth=%{x}<br>Investments=%{y}<br>size=%{marker.size}<extra></extra>",
           "hovertext": [
            "AUS"
           ],
           "legendgroup": "AUS",
           "marker": {
            "color": "#636efa",
            "size": [
             20
            ],
            "sizemode": "area",
            "sizeref": 0.2,
            "symbol": "circle"
           },
           "mode": "markers",
           "name": "AUS",
           "orientation": "v",
           "showlegend": true,
           "type": "scatter",
           "x": [
            -12.358490566037736
           ],
           "xaxis": "x",
           "y": [
            0.2156226494816158
           ],
           "yaxis": "y"
          },
          {
           "hovertemplate": "<b>%{hovertext}</b><br><br>Country=AZE<br>Year=2009<br>GDP growth=%{x}<br>Investments=%{y}<br>size=%{marker.size}<extra></extra>",
           "hovertext": [
            "AZE"
           ],
           "legendgroup": "AZE",
           "marker": {
            "color": "#EF553B",
            "size": [
             20
            ],
            "sizemode": "area",
            "sizeref": 0.2,
            "symbol": "circle"
           },
           "mode": "markers",
           "name": "AZE",
           "orientation": "v",
           "showlegend": true,
           "type": "scatter",
           "x": [
            -9.332214807215449
           ],
           "xaxis": "x",
           "y": [
            0.006366897913100646
           ],
           "yaxis": "y"
          },
          {
           "hovertemplate": "<b>%{hovertext}</b><br><br>Country=CZE<br>Year=2009<br>GDP growth=%{x}<br>Investments=%{y}<br>size=%{marker.size}<extra></extra>",
           "hovertext": [
            "CZE"
           ],
           "legendgroup": "CZE",
           "marker": {
            "color": "#00cc96",
            "size": [
             20
            ],
            "sizemode": "area",
            "sizeref": 0.2,
            "symbol": "circle"
           },
           "mode": "markers",
           "name": "CZE",
           "orientation": "v",
           "showlegend": true,
           "type": "scatter",
           "x": [
            -12.658227848101266
           ],
           "xaxis": "x",
           "y": [
            0.376619242156115
           ],
           "yaxis": "y"
          },
          {
           "hovertemplate": "<b>%{hovertext}</b><br><br>Country=FIN<br>Year=2009<br>GDP growth=%{x}<br>Investments=%{y}<br>size=%{marker.size}<extra></extra>",
           "hovertext": [
            "FIN"
           ],
           "legendgroup": "FIN",
           "marker": {
            "color": "#ab63fa",
            "size": [
             20
            ],
            "sizemode": "area",
            "sizeref": 0.2,
            "symbol": "circle"
           },
           "mode": "markers",
           "name": "FIN",
           "orientation": "v",
           "showlegend": true,
           "type": "scatter",
           "x": [
            -11.538461538461538
           ],
           "xaxis": "x",
           "y": [
            0.15019762845849802
           ],
           "yaxis": "y"
          },
          {
           "hovertemplate": "<b>%{hovertext}</b><br><br>Country=FRA<br>Year=2009<br>GDP growth=%{x}<br>Investments=%{y}<br>size=%{marker.size}<extra></extra>",
           "hovertext": [
            "FRA"
           ],
           "legendgroup": "FRA",
           "marker": {
            "color": "#FFA15A",
            "size": [
             20
            ],
            "sizemode": "area",
            "sizeref": 0.2,
            "symbol": "circle"
           },
           "mode": "markers",
           "name": "FRA",
           "orientation": "v",
           "showlegend": true,
           "type": "scatter",
           "x": [
            -7.849829351535837
           ],
           "xaxis": "x",
           "y": [
            0.1937142336842105
           ],
           "yaxis": "y"
          },
          {
           "hovertemplate": "<b>%{hovertext}</b><br><br>Country=DEU<br>Year=2009<br>GDP growth=%{x}<br>Investments=%{y}<br>size=%{marker.size}<extra></extra>",
           "hovertext": [
            "DEU"
           ],
           "legendgroup": "DEU",
           "marker": {
            "color": "#19d3f3",
            "size": [
             20
            ],
            "sizemode": "area",
            "sizeref": 0.2,
            "symbol": "circle"
           },
           "mode": "markers",
           "name": "DEU",
           "orientation": "v",
           "showlegend": true,
           "type": "scatter",
           "x": [
            -9.066666666666666
           ],
           "xaxis": "x",
           "y": [
            0.10532489581725575
           ],
           "yaxis": "y"
          },
          {
           "hovertemplate": "<b>%{hovertext}</b><br><br>Country=HUN<br>Year=2009<br>GDP growth=%{x}<br>Investments=%{y}<br>size=%{marker.size}<extra></extra>",
           "hovertext": [
            "HUN"
           ],
           "legendgroup": "HUN",
           "marker": {
            "color": "#FF6692",
            "size": [
             20
            ],
            "sizemode": "area",
            "sizeref": 0.2,
            "symbol": "circle"
           },
           "mode": "markers",
           "name": "HUN",
           "orientation": "v",
           "showlegend": true,
           "type": "scatter",
           "x": [
            -17.088607594936708
           ],
           "xaxis": "x",
           "y": [
            0.255214813740458
           ],
           "yaxis": "y"
          },
          {
           "hovertemplate": "<b>%{hovertext}</b><br><br>Country=ITA<br>Year=2009<br>GDP growth=%{x}<br>Investments=%{y}<br>size=%{marker.size}<extra></extra>",
           "hovertext": [
            "ITA"
           ],
           "legendgroup": "ITA",
           "marker": {
            "color": "#B6E880",
            "size": [
             20
            ],
            "sizemode": "area",
            "sizeref": 0.2,
            "symbol": "circle"
           },
           "mode": "markers",
           "name": "ITA",
           "orientation": "v",
           "showlegend": true,
           "type": "scatter",
           "x": [
            -8.71369294605809
           ],
           "xaxis": "x",
           "y": [
            0.27210526315789474
           ],
           "yaxis": "y"
          },
          {
           "hovertemplate": "<b>%{hovertext}</b><br><br>Country=JPN<br>Year=2009<br>GDP growth=%{x}<br>Investments=%{y}<br>size=%{marker.size}<extra></extra>",
           "hovertext": [
            "JPN"
           ],
           "legendgroup": "JPN",
           "marker": {
            "color": "#FF97FF",
            "size": [
             20
            ],
            "sizemode": "area",
            "sizeref": 0.2,
            "symbol": "circle"
           },
           "mode": "markers",
           "name": "JPN",
           "orientation": "v",
           "showlegend": true,
           "type": "scatter",
           "x": [
            3.522504892367906
           ],
           "xaxis": "x",
           "y": [
            0.19106447400258683
           ],
           "yaxis": "y"
          },
          {
           "hovertemplate": "<b>%{hovertext}</b><br><br>Country=NOR<br>Year=2009<br>GDP growth=%{x}<br>Investments=%{y}<br>size=%{marker.size}<extra></extra>",
           "hovertext": [
            "NOR"
           ],
           "legendgroup": "NOR",
           "marker": {
            "color": "#FECB52",
            "size": [
             20
            ],
            "sizemode": "area",
            "sizeref": 0.2,
            "symbol": "circle"
           },
           "mode": "markers",
           "name": "NOR",
           "orientation": "v",
           "showlegend": true,
           "type": "scatter",
           "x": [
            -16.559139784946236
           ],
           "xaxis": "x",
           "y": [
            0.09728244202387414
           ],
           "yaxis": "y"
          },
          {
           "hovertemplate": "<b>%{hovertext}</b><br><br>Country=POL<br>Year=2009<br>GDP growth=%{x}<br>Investments=%{y}<br>size=%{marker.size}<extra></extra>",
           "hovertext": [
            "POL"
           ],
           "legendgroup": "POL",
           "marker": {
            "color": "#636efa",
            "size": [
             20
            ],
            "sizemode": "area",
            "sizeref": 0.2,
            "symbol": "circle"
           },
           "mode": "markers",
           "name": "POL",
           "orientation": "v",
           "showlegend": true,
           "type": "scatter",
           "x": [
            -17.60299625468165
           ],
           "xaxis": "x",
           "y": [
            0.15548194873205742
           ],
           "yaxis": "y"
          },
          {
           "hovertemplate": "<b>%{hovertext}</b><br><br>Country=RUS<br>Year=2009<br>GDP growth=%{x}<br>Investments=%{y}<br>size=%{marker.size}<extra></extra>",
           "hovertext": [
            "RUS"
           ],
           "legendgroup": "RUS",
           "marker": {
            "color": "#EF553B",
            "size": [
             20
            ],
            "sizemode": "area",
            "sizeref": 0.2,
            "symbol": "circle"
           },
           "mode": "markers",
           "name": "RUS",
           "orientation": "v",
           "showlegend": true,
           "type": "scatter",
           "x": [
            -26.506024096385545
           ],
           "xaxis": "x",
           "y": [
            0.5672470074201897
           ],
           "yaxis": "y"
          },
          {
           "hovertemplate": "<b>%{hovertext}</b><br><br>Country=ESP<br>Year=2009<br>GDP growth=%{x}<br>Investments=%{y}<br>size=%{marker.size}<extra></extra>",
           "hovertext": [
            "ESP"
           ],
           "legendgroup": "ESP",
           "marker": {
            "color": "#00cc96",
            "size": [
             20
            ],
            "sizemode": "area",
            "sizeref": 0.2,
            "symbol": "circle"
           },
           "mode": "markers",
           "name": "ESP",
           "orientation": "v",
           "showlegend": true,
           "type": "scatter",
           "x": [
            -8.588957055214724
           ],
           "xaxis": "x",
           "y": [
            0.6197103496997527
           ],
           "yaxis": "y"
          },
          {
           "hovertemplate": "<b>%{hovertext}</b><br><br>Country=SWE<br>Year=2009<br>GDP growth=%{x}<br>Investments=%{y}<br>size=%{marker.size}<extra></extra>",
           "hovertext": [
            "SWE"
           ],
           "legendgroup": "SWE",
           "marker": {
            "color": "#ab63fa",
            "size": [
             20
            ],
            "sizemode": "area",
            "sizeref": 0.2,
            "symbol": "circle"
           },
           "mode": "markers",
           "name": "SWE",
           "orientation": "v",
           "showlegend": true,
           "type": "scatter",
           "x": [
            -15.637065637065636
           ],
           "xaxis": "x",
           "y": [
            0.36805327712874863
           ],
           "yaxis": "y"
          },
          {
           "hovertemplate": "<b>%{hovertext}</b><br><br>Country=CHE<br>Year=2009<br>GDP growth=%{x}<br>Investments=%{y}<br>size=%{marker.size}<extra></extra>",
           "hovertext": [
            "CHE"
           ],
           "legendgroup": "CHE",
           "marker": {
            "color": "#FFA15A",
            "size": [
             20
            ],
            "sizemode": "area",
            "sizeref": 0.2,
            "symbol": "circle"
           },
           "mode": "markers",
           "name": "CHE",
           "orientation": "v",
           "showlegend": true,
           "type": "scatter",
           "x": [
            -2.2927689594356258
           ],
           "xaxis": "x",
           "y": [
            0.5487879053771614
           ],
           "yaxis": "y"
          },
          {
           "hovertemplate": "<b>%{hovertext}</b><br><br>Country=TUR<br>Year=2009<br>GDP growth=%{x}<br>Investments=%{y}<br>size=%{marker.size}<extra></extra>",
           "hovertext": [
            "TUR"
           ],
           "legendgroup": "TUR",
           "marker": {
            "color": "#19d3f3",
            "size": [
             20
            ],
            "sizemode": "area",
            "sizeref": 0.2,
            "symbol": "circle"
           },
           "mode": "markers",
           "name": "TUR",
           "orientation": "v",
           "showlegend": true,
           "type": "scatter",
           "x": [
            -15.714285714285714
           ],
           "xaxis": "x",
           "y": [
            0.1300981209796448
           ],
           "yaxis": "y"
          },
          {
           "hovertemplate": "<b>%{hovertext}</b><br><br>Country=GBR<br>Year=2009<br>GDP growth=%{x}<br>Investments=%{y}<br>size=%{marker.size}<extra></extra>",
           "hovertext": [
            "GBR"
           ],
           "legendgroup": "GBR",
           "marker": {
            "color": "#FF6692",
            "size": [
             20
            ],
            "sizemode": "area",
            "sizeref": 0.2,
            "symbol": "circle"
           },
           "mode": "markers",
           "name": "GBR",
           "orientation": "v",
           "showlegend": true,
           "type": "scatter",
           "x": [
            -17.4061433447099
           ],
           "xaxis": "x",
           "y": [
            0.2743425497172684
           ],
           "yaxis": "y"
          }
         ],
         "name": "2009"
        },
        {
         "data": [
          {
           "hovertemplate": "<b>%{hovertext}</b><br><br>Country=AUS<br>Year=2010<br>GDP growth=%{x}<br>Investments=%{y}<br>size=%{marker.size}<extra></extra>",
           "hovertext": [
            "AUS"
           ],
           "legendgroup": "AUS",
           "marker": {
            "color": "#636efa",
            "size": [
             20
            ],
            "sizemode": "area",
            "sizeref": 0.2,
            "symbol": "circle"
           },
           "mode": "markers",
           "name": "AUS",
           "orientation": "v",
           "showlegend": true,
           "type": "scatter",
           "x": [
            23.78902045209903
           ],
           "xaxis": "x",
           "y": [
            0.2956241206407323
           ],
           "yaxis": "y"
          },
          {
           "hovertemplate": "<b>%{hovertext}</b><br><br>Country=AZE<br>Year=2010<br>GDP growth=%{x}<br>Investments=%{y}<br>size=%{marker.size}<extra></extra>",
           "hovertext": [
            "AZE"
           ],
           "legendgroup": "AZE",
           "marker": {
            "color": "#EF553B",
            "size": [
             20
            ],
            "sizemode": "area",
            "sizeref": 0.2,
            "symbol": "circle"
           },
           "mode": "markers",
           "name": "AZE",
           "orientation": "v",
           "showlegend": true,
           "type": "scatter",
           "x": [
            19.454543577888966
           ],
           "xaxis": "x",
           "y": [
            0.005604757791165351
           ],
           "yaxis": "y"
          },
          {
           "hovertemplate": "<b>%{hovertext}</b><br><br>Country=CZE<br>Year=2010<br>GDP growth=%{x}<br>Investments=%{y}<br>size=%{marker.size}<extra></extra>",
           "hovertext": [
            "CZE"
           ],
           "legendgroup": "CZE",
           "marker": {
            "color": "#00cc96",
            "size": [
             20
            ],
            "sizemode": "area",
            "sizeref": 0.2,
            "symbol": "circle"
           },
           "mode": "markers",
           "name": "CZE",
           "orientation": "v",
           "showlegend": true,
           "type": "scatter",
           "x": [
            0.966183574879227
           ],
           "xaxis": "x",
           "y": [
            0.28364606628053385
           ],
           "yaxis": "y"
          },
          {
           "hovertemplate": "<b>%{hovertext}</b><br><br>Country=FIN<br>Year=2010<br>GDP growth=%{x}<br>Investments=%{y}<br>size=%{marker.size}<extra></extra>",
           "hovertext": [
            "FIN"
           ],
           "legendgroup": "FIN",
           "marker": {
            "color": "#ab63fa",
            "size": [
             20
            ],
            "sizemode": "area",
            "sizeref": 0.2,
            "symbol": "circle"
           },
           "mode": "markers",
           "name": "FIN",
           "orientation": "v",
           "showlegend": true,
           "type": "scatter",
           "x": [
            -1.5810276679841897
           ],
           "xaxis": "x",
           "y": [
            0.16402451912914817
           ],
           "yaxis": "y"
          },
          {
           "hovertemplate": "<b>%{hovertext}</b><br><br>Country=FRA<br>Year=2010<br>GDP growth=%{x}<br>Investments=%{y}<br>size=%{marker.size}<extra></extra>",
           "hovertext": [
            "FRA"
           ],
           "legendgroup": "FRA",
           "marker": {
            "color": "#FFA15A",
            "size": [
             20
            ],
            "sizemode": "area",
            "sizeref": 0.2,
            "symbol": "circle"
           },
           "mode": "markers",
           "name": "FRA",
           "orientation": "v",
           "showlegend": true,
           "type": "scatter",
           "x": [
            -1.8518518518518516
           ],
           "xaxis": "x",
           "y": [
            0.20270768619662363
           ],
           "yaxis": "y"
          },
          {
           "hovertemplate": "<b>%{hovertext}</b><br><br>Country=DEU<br>Year=2010<br>GDP growth=%{x}<br>Investments=%{y}<br>size=%{marker.size}<extra></extra>",
           "hovertext": [
            "DEU"
           ],
           "legendgroup": "DEU",
           "marker": {
            "color": "#19d3f3",
            "size": [
             20
            ],
            "sizemode": "area",
            "sizeref": 0.2,
            "symbol": "circle"
           },
           "mode": "markers",
           "name": "DEU",
           "orientation": "v",
           "showlegend": true,
           "type": "scatter",
           "x": [
            -0.2932551319648094
           ],
           "xaxis": "x",
           "y": [
            0.1178637770897833
           ],
           "yaxis": "y"
          },
          {
           "hovertemplate": "<b>%{hovertext}</b><br><br>Country=HUN<br>Year=2010<br>GDP growth=%{x}<br>Investments=%{y}<br>size=%{marker.size}<extra></extra>",
           "hovertext": [
            "HUN"
           ],
           "legendgroup": "HUN",
           "marker": {
            "color": "#FF6692",
            "size": [
             20
            ],
            "sizemode": "area",
            "sizeref": 0.2,
            "symbol": "circle"
           },
           "mode": "markers",
           "name": "HUN",
           "orientation": "v",
           "showlegend": true,
           "type": "scatter",
           "x": [
            0.7633587786259541
           ],
           "xaxis": "x",
           "y": [
            0.2168971480861244
           ],
           "yaxis": "y"
          },
          {
           "hovertemplate": "<b>%{hovertext}</b><br><br>Country=ITA<br>Year=2010<br>GDP growth=%{x}<br>Investments=%{y}<br>size=%{marker.size}<extra></extra>",
           "hovertext": [
            "ITA"
           ],
           "legendgroup": "ITA",
           "marker": {
            "color": "#B6E880",
            "size": [
             20
            ],
            "sizemode": "area",
            "sizeref": 0.2,
            "symbol": "circle"
           },
           "mode": "markers",
           "name": "ITA",
           "orientation": "v",
           "showlegend": true,
           "type": "scatter",
           "x": [
            -2.727272727272727
           ],
           "xaxis": "x",
           "y": [
            0.23477619281849485
           ],
           "yaxis": "y"
          },
          {
           "hovertemplate": "<b>%{hovertext}</b><br><br>Country=JPN<br>Year=2010<br>GDP growth=%{x}<br>Investments=%{y}<br>size=%{marker.size}<extra></extra>",
           "hovertext": [
            "JPN"
           ],
           "legendgroup": "JPN",
           "marker": {
            "color": "#FF97FF",
            "size": [
             20
            ],
            "sizemode": "area",
            "sizeref": 0.2,
            "symbol": "circle"
           },
           "mode": "markers",
           "name": "JPN",
           "orientation": "v",
           "showlegend": true,
           "type": "scatter",
           "x": [
            8.88468809073724
           ],
           "xaxis": "x",
           "y": [
            0.206613395997807
           ],
           "yaxis": "y"
          },
          {
           "hovertemplate": "<b>%{hovertext}</b><br><br>Country=NOR<br>Year=2010<br>GDP growth=%{x}<br>Investments=%{y}<br>size=%{marker.size}<extra></extra>",
           "hovertext": [
            "NOR"
           ],
           "legendgroup": "NOR",
           "marker": {
            "color": "#FECB52",
            "size": [
             20
            ],
            "sizemode": "area",
            "sizeref": 0.2,
            "symbol": "circle"
           },
           "mode": "markers",
           "name": "NOR",
           "orientation": "v",
           "showlegend": true,
           "type": "scatter",
           "x": [
            11.082474226804123
           ],
           "xaxis": "x",
           "y": [
            0.11705105649041397
           ],
           "yaxis": "y"
          },
          {
           "hovertemplate": "<b>%{hovertext}</b><br><br>Country=POL<br>Year=2010<br>GDP growth=%{x}<br>Investments=%{y}<br>size=%{marker.size}<extra></extra>",
           "hovertext": [
            "POL"
           ],
           "legendgroup": "POL",
           "marker": {
            "color": "#636efa",
            "size": [
             20
            ],
            "sizemode": "area",
            "sizeref": 0.2,
            "symbol": "circle"
           },
           "mode": "markers",
           "name": "POL",
           "orientation": "v",
           "showlegend": true,
           "type": "scatter",
           "x": [
            8.181818181818182
           ],
           "xaxis": "x",
           "y": [
            0.15261226023883237
           ],
           "yaxis": "y"
          },
          {
           "hovertemplate": "<b>%{hovertext}</b><br><br>Country=RUS<br>Year=2010<br>GDP growth=%{x}<br>Investments=%{y}<br>size=%{marker.size}<extra></extra>",
           "hovertext": [
            "RUS"
           ],
           "legendgroup": "RUS",
           "marker": {
            "color": "#EF553B",
            "size": [
             20
            ],
            "sizemode": "area",
            "sizeref": 0.2,
            "symbol": "circle"
           },
           "mode": "markers",
           "name": "RUS",
           "orientation": "v",
           "showlegend": true,
           "type": "scatter",
           "x": [
            24.59016393442623
           ],
           "xaxis": "x",
           "y": [
            0.6269375342797784
           ],
           "yaxis": "y"
          },
          {
           "hovertemplate": "<b>%{hovertext}</b><br><br>Country=ESP<br>Year=2010<br>GDP growth=%{x}<br>Investments=%{y}<br>size=%{marker.size}<extra></extra>",
           "hovertext": [
            "ESP"
           ],
           "legendgroup": "ESP",
           "marker": {
            "color": "#00cc96",
            "size": [
             20
            ],
            "sizemode": "area",
            "sizeref": 0.2,
            "symbol": "circle"
           },
           "mode": "markers",
           "name": "ESP",
           "orientation": "v",
           "showlegend": true,
           "type": "scatter",
           "x": [
            -4.697986577181208
           ],
           "xaxis": "x",
           "y": [
            0.5684951816160119
           ],
           "yaxis": "y"
          },
          {
           "hovertemplate": "<b>%{hovertext}</b><br><br>Country=SWE<br>Year=2010<br>GDP growth=%{x}<br>Investments=%{y}<br>size=%{marker.size}<extra></extra>",
           "hovertext": [
            "SWE"
           ],
           "legendgroup": "SWE",
           "marker": {
            "color": "#ab63fa",
            "size": [
             20
            ],
            "sizemode": "area",
            "sizeref": 0.2,
            "symbol": "circle"
           },
           "mode": "markers",
           "name": "SWE",
           "orientation": "v",
           "showlegend": true,
           "type": "scatter",
           "x": [
            13.501144164759726
           ],
           "xaxis": "x",
           "y": [
            0.3513660670628183
           ],
           "yaxis": "y"
          },
          {
           "hovertemplate": "<b>%{hovertext}</b><br><br>Country=CHE<br>Year=2010<br>GDP growth=%{x}<br>Investments=%{y}<br>size=%{marker.size}<extra></extra>",
           "hovertext": [
            "CHE"
           ],
           "legendgroup": "CHE",
           "marker": {
            "color": "#FFA15A",
            "size": [
             20
            ],
            "sizemode": "area",
            "sizeref": 0.2,
            "symbol": "circle"
           },
           "mode": "markers",
           "name": "CHE",
           "orientation": "v",
           "showlegend": true,
           "type": "scatter",
           "x": [
            8.12274368231047
           ],
           "xaxis": "x",
           "y": [
            0.5328394170986733
           ],
           "yaxis": "y"
          },
          {
           "hovertemplate": "<b>%{hovertext}</b><br><br>Country=TUR<br>Year=2010<br>GDP growth=%{x}<br>Investments=%{y}<br>size=%{marker.size}<extra></extra>",
           "hovertext": [
            "TUR"
           ],
           "legendgroup": "TUR",
           "marker": {
            "color": "#19d3f3",
            "size": [
             20
            ],
            "sizemode": "area",
            "sizeref": 0.2,
            "symbol": "circle"
           },
           "mode": "markers",
           "name": "TUR",
           "orientation": "v",
           "showlegend": true,
           "type": "scatter",
           "x": [
            19.72265023112481
           ],
           "xaxis": "x",
           "y": [
            0.23091350795908694
           ],
           "yaxis": "y"
          },
          {
           "hovertemplate": "<b>%{hovertext}</b><br><br>Country=GBR<br>Year=2010<br>GDP growth=%{x}<br>Investments=%{y}<br>size=%{marker.size}<extra></extra>",
           "hovertext": [
            "GBR"
           ],
           "legendgroup": "GBR",
           "marker": {
            "color": "#FF6692",
            "size": [
             20
            ],
            "sizemode": "area",
            "sizeref": 0.2,
            "symbol": "circle"
           },
           "mode": "markers",
           "name": "GBR",
           "orientation": "v",
           "showlegend": true,
           "type": "scatter",
           "x": [
            2.8925619834710745
           ],
           "xaxis": "x",
           "y": [
            0.27001016368632424
           ],
           "yaxis": "y"
          }
         ],
         "name": "2010"
        },
        {
         "data": [
          {
           "hovertemplate": "<b>%{hovertext}</b><br><br>Country=AUS<br>Year=2011<br>GDP growth=%{x}<br>Investments=%{y}<br>size=%{marker.size}<extra></extra>",
           "hovertext": [
            "AUS"
           ],
           "legendgroup": "AUS",
           "marker": {
            "color": "#636efa",
            "size": [
             20
            ],
            "sizemode": "area",
            "sizeref": 0.2,
            "symbol": "circle"
           },
           "mode": "markers",
           "name": "AUS",
           "orientation": "v",
           "showlegend": true,
           "type": "scatter",
           "x": [
            21.73913043478261
           ],
           "xaxis": "x",
           "y": [
            0.34322475097744365
           ],
           "yaxis": "y"
          },
          {
           "hovertemplate": "<b>%{hovertext}</b><br><br>Country=AZE<br>Year=2011<br>GDP growth=%{x}<br>Investments=%{y}<br>size=%{marker.size}<extra></extra>",
           "hovertext": [
            "AZE"
           ],
           "legendgroup": "AZE",
           "marker": {
            "color": "#EF553B",
            "size": [
             20
            ],
            "sizemode": "area",
            "sizeref": 0.2,
            "symbol": "circle"
           },
           "mode": "markers",
           "name": "AZE",
           "orientation": "v",
           "showlegend": true,
           "type": "scatter",
           "x": [
            24.652509938522563
           ],
           "xaxis": "x",
           "y": [
            0.0043567933018352776
           ],
           "yaxis": "y"
          },
          {
           "hovertemplate": "<b>%{hovertext}</b><br><br>Country=CZE<br>Year=2011<br>GDP growth=%{x}<br>Investments=%{y}<br>size=%{marker.size}<extra></extra>",
           "hovertext": [
            "CZE"
           ],
           "legendgroup": "CZE",
           "marker": {
            "color": "#00cc96",
            "size": [
             20
            ],
            "sizemode": "area",
            "sizeref": 0.2,
            "symbol": "circle"
           },
           "mode": "markers",
           "name": "CZE",
           "orientation": "v",
           "showlegend": true,
           "type": "scatter",
           "x": [
            10.047846889952153
           ],
           "xaxis": "x",
           "y": [
            0.20449527784897029
           ],
           "yaxis": "y"
          },
          {
           "hovertemplate": "<b>%{hovertext}</b><br><br>Country=FIN<br>Year=2011<br>GDP growth=%{x}<br>Investments=%{y}<br>size=%{marker.size}<extra></extra>",
           "hovertext": [
            "FIN"
           ],
           "legendgroup": "FIN",
           "marker": {
            "color": "#ab63fa",
            "size": [
             20
            ],
            "sizemode": "area",
            "sizeref": 0.2,
            "symbol": "circle"
           },
           "mode": "markers",
           "name": "FIN",
           "orientation": "v",
           "showlegend": true,
           "type": "scatter",
           "x": [
            10.843373493975903
           ],
           "xaxis": "x",
           "y": [
            0.13539282990083906
           ],
           "yaxis": "y"
          },
          {
           "hovertemplate": "<b>%{hovertext}</b><br><br>Country=FRA<br>Year=2011<br>GDP growth=%{x}<br>Investments=%{y}<br>size=%{marker.size}<extra></extra>",
           "hovertext": [
            "FRA"
           ],
           "legendgroup": "FRA",
           "marker": {
            "color": "#FFA15A",
            "size": [
             20
            ],
            "sizemode": "area",
            "sizeref": 0.2,
            "symbol": "circle"
           },
           "mode": "markers",
           "name": "FRA",
           "orientation": "v",
           "showlegend": true,
           "type": "scatter",
           "x": [
            8.30188679245283
           ],
           "xaxis": "x",
           "y": [
            0.25894025307170365
           ],
           "yaxis": "y"
          },
          {
           "hovertemplate": "<b>%{hovertext}</b><br><br>Country=DEU<br>Year=2011<br>GDP growth=%{x}<br>Investments=%{y}<br>size=%{marker.size}<extra></extra>",
           "hovertext": [
            "DEU"
           ],
           "legendgroup": "DEU",
           "marker": {
            "color": "#19d3f3",
            "size": [
             20
            ],
            "sizemode": "area",
            "sizeref": 0.2,
            "symbol": "circle"
           },
           "mode": "markers",
           "name": "DEU",
           "orientation": "v",
           "showlegend": true,
           "type": "scatter",
           "x": [
            10.294117647058822
           ],
           "xaxis": "x",
           "y": [
            0.11469473684210527
           ],
           "yaxis": "y"
          },
          {
           "hovertemplate": "<b>%{hovertext}</b><br><br>Country=HUN<br>Year=2011<br>GDP growth=%{x}<br>Investments=%{y}<br>size=%{marker.size}<extra></extra>",
           "hovertext": [
            "HUN"
           ],
           "legendgroup": "HUN",
           "marker": {
            "color": "#FF6692",
            "size": [
             20
            ],
            "sizemode": "area",
            "sizeref": 0.2,
            "symbol": "circle"
           },
           "mode": "markers",
           "name": "HUN",
           "orientation": "v",
           "showlegend": true,
           "type": "scatter",
           "x": [
            7.575757575757576
           ],
           "xaxis": "x",
           "y": [
            0.25854510318754637
           ],
           "yaxis": "y"
          },
          {
           "hovertemplate": "<b>%{hovertext}</b><br><br>Country=ITA<br>Year=2011<br>GDP growth=%{x}<br>Investments=%{y}<br>size=%{marker.size}<extra></extra>",
           "hovertext": [
            "ITA"
           ],
           "legendgroup": "ITA",
           "marker": {
            "color": "#B6E880",
            "size": [
             20
            ],
            "sizemode": "area",
            "sizeref": 0.2,
            "symbol": "circle"
           },
           "mode": "markers",
           "name": "ITA",
           "orientation": "v",
           "showlegend": true,
           "type": "scatter",
           "x": [
            7.009345794392523
           ],
           "xaxis": "x",
           "y": [
            0.20528614111698465
           ],
           "yaxis": "y"
          },
          {
           "hovertemplate": "<b>%{hovertext}</b><br><br>Country=JPN<br>Year=2011<br>GDP growth=%{x}<br>Investments=%{y}<br>size=%{marker.size}<extra></extra>",
           "hovertext": [
            "JPN"
           ],
           "legendgroup": "JPN",
           "marker": {
            "color": "#FF97FF",
            "size": [
             20
            ],
            "sizemode": "area",
            "sizeref": 0.2,
            "symbol": "circle"
           },
           "mode": "markers",
           "name": "JPN",
           "orientation": "v",
           "showlegend": true,
           "type": "scatter",
           "x": [
            8.159722222222223
           ],
           "xaxis": "x",
           "y": [
            0.1724898844639689
           ],
           "yaxis": "y"
          },
          {
           "hovertemplate": "<b>%{hovertext}</b><br><br>Country=NOR<br>Year=2011<br>GDP growth=%{x}<br>Investments=%{y}<br>size=%{marker.size}<extra></extra>",
           "hovertext": [
            "NOR"
           ],
           "legendgroup": "NOR",
           "marker": {
            "color": "#FECB52",
            "size": [
             20
            ],
            "sizemode": "area",
            "sizeref": 0.2,
            "symbol": "circle"
           },
           "mode": "markers",
           "name": "NOR",
           "orientation": "v",
           "showlegend": true,
           "type": "scatter",
           "x": [
            16.241299303944317
           ],
           "xaxis": "x",
           "y": [
            0.11789537050110306
           ],
           "yaxis": "y"
          },
          {
           "hovertemplate": "<b>%{hovertext}</b><br><br>Country=POL<br>Year=2011<br>GDP growth=%{x}<br>Investments=%{y}<br>size=%{marker.size}<extra></extra>",
           "hovertext": [
            "POL"
           ],
           "legendgroup": "POL",
           "marker": {
            "color": "#636efa",
            "size": [
             20
            ],
            "sizemode": "area",
            "sizeref": 0.2,
            "symbol": "circle"
           },
           "mode": "markers",
           "name": "POL",
           "orientation": "v",
           "showlegend": true,
           "type": "scatter",
           "x": [
            10.084033613445378
           ],
           "xaxis": "x",
           "y": [
            0.18587624770992367
           ],
           "yaxis": "y"
          },
          {
           "hovertemplate": "<b>%{hovertext}</b><br><br>Country=RUS<br>Year=2011<br>GDP growth=%{x}<br>Investments=%{y}<br>size=%{marker.size}<extra></extra>",
           "hovertext": [
            "RUS"
           ],
           "legendgroup": "RUS",
           "marker": {
            "color": "#EF553B",
            "size": [
             20
            ],
            "sizemode": "area",
            "sizeref": 0.2,
            "symbol": "circle"
           },
           "mode": "markers",
           "name": "RUS",
           "orientation": "v",
           "showlegend": true,
           "type": "scatter",
           "x": [
            34.868421052631575
           ],
           "xaxis": "x",
           "y": [
            0.5068024503209243
           ],
           "yaxis": "y"
          },
          {
           "hovertemplate": "<b>%{hovertext}</b><br><br>Country=ESP<br>Year=2011<br>GDP growth=%{x}<br>Investments=%{y}<br>size=%{marker.size}<extra></extra>",
           "hovertext": [
            "ESP"
           ],
           "legendgroup": "ESP",
           "marker": {
            "color": "#00cc96",
            "size": [
             20
            ],
            "sizemode": "area",
            "sizeref": 0.2,
            "symbol": "circle"
           },
           "mode": "markers",
           "name": "ESP",
           "orientation": "v",
           "showlegend": true,
           "type": "scatter",
           "x": [
            4.225352112676056
           ],
           "xaxis": "x",
           "y": [
            0.5371977240398293
           ],
           "yaxis": "y"
          },
          {
           "hovertemplate": "<b>%{hovertext}</b><br><br>Country=SWE<br>Year=2011<br>GDP growth=%{x}<br>Investments=%{y}<br>size=%{marker.size}<extra></extra>",
           "hovertext": [
            "SWE"
           ],
           "legendgroup": "SWE",
           "marker": {
            "color": "#ab63fa",
            "size": [
             20
            ],
            "sizemode": "area",
            "sizeref": 0.2,
            "symbol": "circle"
           },
           "mode": "markers",
           "name": "SWE",
           "orientation": "v",
           "showlegend": true,
           "type": "scatter",
           "x": [
            15.725806451612904
           ],
           "xaxis": "x",
           "y": [
            0.29128026370805066
           ],
           "yaxis": "y"
          },
          {
           "hovertemplate": "<b>%{hovertext}</b><br><br>Country=CHE<br>Year=2011<br>GDP growth=%{x}<br>Investments=%{y}<br>size=%{marker.size}<extra></extra>",
           "hovertext": [
            "CHE"
           ],
           "legendgroup": "CHE",
           "marker": {
            "color": "#FFA15A",
            "size": [
             20
            ],
            "sizemode": "area",
            "sizeref": 0.2,
            "symbol": "circle"
           },
           "mode": "markers",
           "name": "CHE",
           "orientation": "v",
           "showlegend": true,
           "type": "scatter",
           "x": [
            19.532554257095157
           ],
           "xaxis": "x",
           "y": [
            0.5013302884445751
           ],
           "yaxis": "y"
          },
          {
           "hovertemplate": "<b>%{hovertext}</b><br><br>Country=TUR<br>Year=2011<br>GDP growth=%{x}<br>Investments=%{y}<br>size=%{marker.size}<extra></extra>",
           "hovertext": [
            "TUR"
           ],
           "legendgroup": "TUR",
           "marker": {
            "color": "#19d3f3",
            "size": [
             20
            ],
            "sizemode": "area",
            "sizeref": 0.2,
            "symbol": "circle"
           },
           "mode": "markers",
           "name": "TUR",
           "orientation": "v",
           "showlegend": true,
           "type": "scatter",
           "x": [
            7.979407979407979
           ],
           "xaxis": "x",
           "y": [
            0.21316033285239322
           ],
           "yaxis": "y"
          },
          {
           "hovertemplate": "<b>%{hovertext}</b><br><br>Country=GBR<br>Year=2011<br>GDP growth=%{x}<br>Investments=%{y}<br>size=%{marker.size}<extra></extra>",
           "hovertext": [
            "GBR"
           ],
           "legendgroup": "GBR",
           "marker": {
            "color": "#FF6692",
            "size": [
             20
            ],
            "sizemode": "area",
            "sizeref": 0.2,
            "symbol": "circle"
           },
           "mode": "markers",
           "name": "GBR",
           "orientation": "v",
           "showlegend": true,
           "type": "scatter",
           "x": [
            7.228915662650602
           ],
           "xaxis": "x",
           "y": [
            0.29697193049477627
           ],
           "yaxis": "y"
          }
         ],
         "name": "2011"
        },
        {
         "data": [
          {
           "hovertemplate": "<b>%{hovertext}</b><br><br>Country=AUS<br>Year=2012<br>GDP growth=%{x}<br>Investments=%{y}<br>size=%{marker.size}<extra></extra>",
           "hovertext": [
            "AUS"
           ],
           "legendgroup": "AUS",
           "marker": {
            "color": "#636efa",
            "size": [
             20
            ],
            "sizemode": "area",
            "sizeref": 0.2,
            "symbol": "circle"
           },
           "mode": "markers",
           "name": "AUS",
           "orientation": "v",
           "showlegend": true,
           "type": "scatter",
           "x": [
            10.714285714285714
           ],
           "xaxis": "x",
           "y": [
            0.4178241198641766
           ],
           "yaxis": "y"
          },
          {
           "hovertemplate": "<b>%{hovertext}</b><br><br>Country=AZE<br>Year=2012<br>GDP growth=%{x}<br>Investments=%{y}<br>size=%{marker.size}<extra></extra>",
           "hovertext": [
            "AZE"
           ],
           "legendgroup": "AZE",
           "marker": {
            "color": "#EF553B",
            "size": [
             20
            ],
            "sizemode": "area",
            "sizeref": 0.2,
            "symbol": "circle"
           },
           "mode": "markers",
           "name": "AZE",
           "orientation": "v",
           "showlegend": true,
           "type": "scatter",
           "x": [
            5.651240884888665
           ],
           "xaxis": "x",
           "y": [
            0.004472075701709108
           ],
           "yaxis": "y"
          },
          {
           "hovertemplate": "<b>%{hovertext}</b><br><br>Country=CZE<br>Year=2012<br>GDP growth=%{x}<br>Investments=%{y}<br>size=%{marker.size}<extra></extra>",
           "hovertext": [
            "CZE"
           ],
           "legendgroup": "CZE",
           "marker": {
            "color": "#00cc96",
            "size": [
             20
            ],
            "sizemode": "area",
            "sizeref": 0.2,
            "symbol": "circle"
           },
           "mode": "markers",
           "name": "CZE",
           "orientation": "v",
           "showlegend": true,
           "type": "scatter",
           "x": [
            -9.130434782608695
           ],
           "xaxis": "x",
           "y": [
            0.19216060866280535
           ],
           "yaxis": "y"
          },
          {
           "hovertemplate": "<b>%{hovertext}</b><br><br>Country=FIN<br>Year=2012<br>GDP growth=%{x}<br>Investments=%{y}<br>size=%{marker.size}<extra></extra>",
           "hovertext": [
            "FIN"
           ],
           "legendgroup": "FIN",
           "marker": {
            "color": "#ab63fa",
            "size": [
             20
            ],
            "sizemode": "area",
            "sizeref": 0.2,
            "symbol": "circle"
           },
           "mode": "markers",
           "name": "FIN",
           "orientation": "v",
           "showlegend": true,
           "type": "scatter",
           "x": [
            -6.521739130434782
           ],
           "xaxis": "x",
           "y": [
            0.18359853121175032
           ],
           "yaxis": "y"
          },
          {
           "hovertemplate": "<b>%{hovertext}</b><br><br>Country=FRA<br>Year=2012<br>GDP growth=%{x}<br>Investments=%{y}<br>size=%{marker.size}<extra></extra>",
           "hovertext": [
            "FRA"
           ],
           "legendgroup": "FRA",
           "marker": {
            "color": "#FFA15A",
            "size": [
             20
            ],
            "sizemode": "area",
            "sizeref": 0.2,
            "symbol": "circle"
           },
           "mode": "markers",
           "name": "FRA",
           "orientation": "v",
           "showlegend": true,
           "type": "scatter",
           "x": [
            -6.620209059233449
           ],
           "xaxis": "x",
           "y": [
            0.3159107227022781
           ],
           "yaxis": "y"
          },
          {
           "hovertemplate": "<b>%{hovertext}</b><br><br>Country=DEU<br>Year=2012<br>GDP growth=%{x}<br>Investments=%{y}<br>size=%{marker.size}<extra></extra>",
           "hovertext": [
            "DEU"
           ],
           "legendgroup": "DEU",
           "marker": {
            "color": "#19d3f3",
            "size": [
             20
            ],
            "sizemode": "area",
            "sizeref": 0.2,
            "symbol": "circle"
           },
           "mode": "markers",
           "name": "DEU",
           "orientation": "v",
           "showlegend": true,
           "type": "scatter",
           "x": [
            -5.866666666666666
           ],
           "xaxis": "x",
           "y": [
            0.17638288355449533
           ],
           "yaxis": "y"
          },
          {
           "hovertemplate": "<b>%{hovertext}</b><br><br>Country=HUN<br>Year=2012<br>GDP growth=%{x}<br>Investments=%{y}<br>size=%{marker.size}<extra></extra>",
           "hovertext": [
            "HUN"
           ],
           "legendgroup": "HUN",
           "marker": {
            "color": "#FF6692",
            "size": [
             20
            ],
            "sizemode": "area",
            "sizeref": 0.2,
            "symbol": "circle"
           },
           "mode": "markers",
           "name": "HUN",
           "orientation": "v",
           "showlegend": true,
           "type": "scatter",
           "x": [
            -9.15492957746479
           ],
           "xaxis": "x",
           "y": [
            0.38549011709506326
           ],
           "yaxis": "y"
          },
          {
           "hovertemplate": "<b>%{hovertext}</b><br><br>Country=ITA<br>Year=2012<br>GDP growth=%{x}<br>Investments=%{y}<br>size=%{marker.size}<extra></extra>",
           "hovertext": [
            "ITA"
           ],
           "legendgroup": "ITA",
           "marker": {
            "color": "#B6E880",
            "size": [
             20
            ],
            "sizemode": "area",
            "sizeref": 0.2,
            "symbol": "circle"
           },
           "mode": "markers",
           "name": "ITA",
           "orientation": "v",
           "showlegend": true,
           "type": "scatter",
           "x": [
            -8.73362445414847
           ],
           "xaxis": "x",
           "y": [
            0.21344749433392096
           ],
           "yaxis": "y"
          },
          {
           "hovertemplate": "<b>%{hovertext}</b><br><br>Country=JPN<br>Year=2012<br>GDP growth=%{x}<br>Investments=%{y}<br>size=%{marker.size}<extra></extra>",
           "hovertext": [
            "JPN"
           ],
           "legendgroup": "JPN",
           "marker": {
            "color": "#FF97FF",
            "size": [
             20
            ],
            "sizemode": "area",
            "sizeref": 0.2,
            "symbol": "circle"
           },
           "mode": "markers",
           "name": "JPN",
           "orientation": "v",
           "showlegend": true,
           "type": "scatter",
           "x": [
            0.6420545746388443
           ],
           "xaxis": "x",
           "y": [
            0.19815533084865275
           ],
           "yaxis": "y"
          },
          {
           "hovertemplate": "<b>%{hovertext}</b><br><br>Country=NOR<br>Year=2012<br>GDP growth=%{x}<br>Investments=%{y}<br>size=%{marker.size}<extra></extra>",
           "hovertext": [
            "NOR"
           ],
           "legendgroup": "NOR",
           "marker": {
            "color": "#FECB52",
            "size": [
             20
            ],
            "sizemode": "area",
            "sizeref": 0.2,
            "symbol": "circle"
           },
           "mode": "markers",
           "name": "NOR",
           "orientation": "v",
           "showlegend": true,
           "type": "scatter",
           "x": [
            2.3952095808383236
           ],
           "xaxis": "x",
           "y": [
            0.13866987551041346
           ],
           "yaxis": "y"
          },
          {
           "hovertemplate": "<b>%{hovertext}</b><br><br>Country=POL<br>Year=2012<br>GDP growth=%{x}<br>Investments=%{y}<br>size=%{marker.size}<extra></extra>",
           "hovertext": [
            "POL"
           ],
           "legendgroup": "POL",
           "marker": {
            "color": "#636efa",
            "size": [
             20
            ],
            "sizemode": "area",
            "sizeref": 0.2,
            "symbol": "circle"
           },
           "mode": "markers",
           "name": "POL",
           "orientation": "v",
           "showlegend": true,
           "type": "scatter",
           "x": [
            -5.534351145038168
           ],
           "xaxis": "x",
           "y": [
            0.09163135485380118
           ],
           "yaxis": "y"
          },
          {
           "hovertemplate": "<b>%{hovertext}</b><br><br>Country=RUS<br>Year=2012<br>GDP growth=%{x}<br>Investments=%{y}<br>size=%{marker.size}<extra></extra>",
           "hovertext": [
            "RUS"
           ],
           "legendgroup": "RUS",
           "marker": {
            "color": "#EF553B",
            "size": [
             20
            ],
            "sizemode": "area",
            "sizeref": 0.2,
            "symbol": "circle"
           },
           "mode": "markers",
           "name": "RUS",
           "orientation": "v",
           "showlegend": true,
           "type": "scatter",
           "x": [
            7.804878048780488
           ],
           "xaxis": "x",
           "y": [
            0.5331722201476543
           ],
           "yaxis": "y"
          },
          {
           "hovertemplate": "<b>%{hovertext}</b><br><br>Country=ESP<br>Year=2012<br>GDP growth=%{x}<br>Investments=%{y}<br>size=%{marker.size}<extra></extra>",
           "hovertext": [
            "ESP"
           ],
           "legendgroup": "ESP",
           "marker": {
            "color": "#00cc96",
            "size": [
             20
            ],
            "sizemode": "area",
            "sizeref": 0.2,
            "symbol": "circle"
           },
           "mode": "markers",
           "name": "ESP",
           "orientation": "v",
           "showlegend": true,
           "type": "scatter",
           "x": [
            -10.81081081081081
           ],
           "xaxis": "x",
           "y": [
            0.4266347687400319
           ],
           "yaxis": "y"
          },
          {
           "hovertemplate": "<b>%{hovertext}</b><br><br>Country=SWE<br>Year=2012<br>GDP growth=%{x}<br>Investments=%{y}<br>size=%{marker.size}<extra></extra>",
           "hovertext": [
            "SWE"
           ],
           "legendgroup": "SWE",
           "marker": {
            "color": "#ab63fa",
            "size": [
             20
            ],
            "sizemode": "area",
            "sizeref": 0.2,
            "symbol": "circle"
           },
           "mode": "markers",
           "name": "SWE",
           "orientation": "v",
           "showlegend": true,
           "type": "scatter",
           "x": [
            -3.8327526132404177
           ],
           "xaxis": "x",
           "y": [
            0.2994156451182304
           ],
           "yaxis": "y"
          },
          {
           "hovertemplate": "<b>%{hovertext}</b><br><br>Country=CHE<br>Year=2012<br>GDP growth=%{x}<br>Investments=%{y}<br>size=%{marker.size}<extra></extra>",
           "hovertext": [
            "CHE"
           ],
           "legendgroup": "CHE",
           "marker": {
            "color": "#FFA15A",
            "size": [
             20
            ],
            "sizemode": "area",
            "sizeref": 0.2,
            "symbol": "circle"
           },
           "mode": "markers",
           "name": "CHE",
           "orientation": "v",
           "showlegend": true,
           "type": "scatter",
           "x": [
            -4.189944134078212
           ],
           "xaxis": "x",
           "y": [
            0.5315126464630966
           ],
           "yaxis": "y"
          },
          {
           "hovertemplate": "<b>%{hovertext}</b><br><br>Country=TUR<br>Year=2012<br>GDP growth=%{x}<br>Investments=%{y}<br>size=%{marker.size}<extra></extra>",
           "hovertext": [
            "TUR"
           ],
           "legendgroup": "TUR",
           "marker": {
            "color": "#19d3f3",
            "size": [
             20
            ],
            "sizemode": "area",
            "sizeref": 0.2,
            "symbol": "circle"
           },
           "mode": "markers",
           "name": "TUR",
           "orientation": "v",
           "showlegend": true,
           "type": "scatter",
           "x": [
            5.005959475566151
           ],
           "xaxis": "x",
           "y": [
            0.21555037015353368
           ],
           "yaxis": "y"
          },
          {
           "hovertemplate": "<b>%{hovertext}</b><br><br>Country=GBR<br>Year=2012<br>GDP growth=%{x}<br>Investments=%{y}<br>size=%{marker.size}<extra></extra>",
           "hovertext": [
            "GBR"
           ],
           "legendgroup": "GBR",
           "marker": {
            "color": "#FF6692",
            "size": [
             20
            ],
            "sizemode": "area",
            "sizeref": 0.2,
            "symbol": "circle"
           },
           "mode": "markers",
           "name": "GBR",
           "orientation": "v",
           "showlegend": true,
           "type": "scatter",
           "x": [
            1.4981273408239701
           ],
           "xaxis": "x",
           "y": [
            0.3404878116139056
           ],
           "yaxis": "y"
          }
         ],
         "name": "2012"
        },
        {
         "data": [
          {
           "hovertemplate": "<b>%{hovertext}</b><br><br>Country=AUS<br>Year=2013<br>GDP growth=%{x}<br>Investments=%{y}<br>size=%{marker.size}<extra></extra>",
           "hovertext": [
            "AUS"
           ],
           "legendgroup": "AUS",
           "marker": {
            "color": "#636efa",
            "size": [
             20
            ],
            "sizemode": "area",
            "sizeref": 0.2,
            "symbol": "circle"
           },
           "mode": "markers",
           "name": "AUS",
           "orientation": "v",
           "showlegend": true,
           "type": "scatter",
           "x": [
            1.935483870967742
           ],
           "xaxis": "x",
           "y": [
            0.36897302471685545
           ],
           "yaxis": "y"
          },
          {
           "hovertemplate": "<b>%{hovertext}</b><br><br>Country=AZE<br>Year=2013<br>GDP growth=%{x}<br>Investments=%{y}<br>size=%{marker.size}<extra></extra>",
           "hovertext": [
            "AZE"
           ],
           "legendgroup": "AZE",
           "marker": {
            "color": "#EF553B",
            "size": [
             20
            ],
            "sizemode": "area",
            "sizeref": 0.2,
            "symbol": "circle"
           },
           "mode": "markers",
           "name": "AZE",
           "orientation": "v",
           "showlegend": true,
           "type": "scatter",
           "x": [
            6.430317251121398
           ],
           "xaxis": "x",
           "y": [
            0.005448735263162761
           ],
           "yaxis": "y"
          },
          {
           "hovertemplate": "<b>%{hovertext}</b><br><br>Country=CZE<br>Year=2013<br>GDP growth=%{x}<br>Investments=%{y}<br>size=%{marker.size}<extra></extra>",
           "hovertext": [
            "CZE"
           ],
           "legendgroup": "CZE",
           "marker": {
            "color": "#00cc96",
            "size": [
             20
            ],
            "sizemode": "area",
            "sizeref": 0.2,
            "symbol": "circle"
           },
           "mode": "markers",
           "name": "CZE",
           "orientation": "v",
           "showlegend": true,
           "type": "scatter",
           "x": [
            1.4354066985645932
           ],
           "xaxis": "x",
           "y": [
            0.16616919463753724
           ],
           "yaxis": "y"
          },
          {
           "hovertemplate": "<b>%{hovertext}</b><br><br>Country=FIN<br>Year=2013<br>GDP growth=%{x}<br>Investments=%{y}<br>size=%{marker.size}<extra></extra>",
           "hovertext": [
            "FIN"
           ],
           "legendgroup": "FIN",
           "marker": {
            "color": "#ab63fa",
            "size": [
             20
            ],
            "sizemode": "area",
            "sizeref": 0.2,
            "symbol": "circle"
           },
           "mode": "markers",
           "name": "FIN",
           "orientation": "v",
           "showlegend": true,
           "type": "scatter",
           "x": [
            5.038759689922481
           ],
           "xaxis": "x",
           "y": [
            0.2349970868129734
           ],
           "yaxis": "y"
          },
          {
           "hovertemplate": "<b>%{hovertext}</b><br><br>Country=FRA<br>Year=2013<br>GDP growth=%{x}<br>Investments=%{y}<br>size=%{marker.size}<extra></extra>",
           "hovertext": [
            "FRA"
           ],
           "legendgroup": "FRA",
           "marker": {
            "color": "#FFA15A",
            "size": [
             20
            ],
            "sizemode": "area",
            "sizeref": 0.2,
            "symbol": "circle"
           },
           "mode": "markers",
           "name": "FRA",
           "orientation": "v",
           "showlegend": true,
           "type": "scatter",
           "x": [
            4.850746268656716
           ],
           "xaxis": "x",
           "y": [
            0.39212901292376856
           ],
           "yaxis": "y"
          },
          {
           "hovertemplate": "<b>%{hovertext}</b><br><br>Country=DEU<br>Year=2013<br>GDP growth=%{x}<br>Investments=%{y}<br>size=%{marker.size}<extra></extra>",
           "hovertext": [
            "DEU"
           ],
           "legendgroup": "DEU",
           "marker": {
            "color": "#19d3f3",
            "size": [
             20
            ],
            "sizemode": "area",
            "sizeref": 0.2,
            "symbol": "circle"
           },
           "mode": "markers",
           "name": "DEU",
           "orientation": "v",
           "showlegend": true,
           "type": "scatter",
           "x": [
            5.6657223796034
           ],
           "xaxis": "x",
           "y": [
            0.16292651550726683
           ],
           "yaxis": "y"
          },
          {
           "hovertemplate": "<b>%{hovertext}</b><br><br>Country=HUN<br>Year=2013<br>GDP growth=%{x}<br>Investments=%{y}<br>size=%{marker.size}<extra></extra>",
           "hovertext": [
            "HUN"
           ],
           "legendgroup": "HUN",
           "marker": {
            "color": "#FF6692",
            "size": [
             20
            ],
            "sizemode": "area",
            "sizeref": 0.2,
            "symbol": "circle"
           },
           "mode": "markers",
           "name": "HUN",
           "orientation": "v",
           "showlegend": true,
           "type": "scatter",
           "x": [
            5.426356589147287
           ],
           "xaxis": "x",
           "y": [
            0.4823542273219815
           ],
           "yaxis": "y"
          },
          {
           "hovertemplate": "<b>%{hovertext}</b><br><br>Country=ITA<br>Year=2013<br>GDP growth=%{x}<br>Investments=%{y}<br>size=%{marker.size}<extra></extra>",
           "hovertext": [
            "ITA"
           ],
           "legendgroup": "ITA",
           "marker": {
            "color": "#B6E880",
            "size": [
             20
            ],
            "sizemode": "area",
            "sizeref": 0.2,
            "symbol": "circle"
           },
           "mode": "markers",
           "name": "ITA",
           "orientation": "v",
           "showlegend": true,
           "type": "scatter",
           "x": [
            2.3923444976076556
           ],
           "xaxis": "x",
           "y": [
            0.2018199704869651
           ],
           "yaxis": "y"
          },
          {
           "hovertemplate": "<b>%{hovertext}</b><br><br>Country=JPN<br>Year=2013<br>GDP growth=%{x}<br>Investments=%{y}<br>size=%{marker.size}<extra></extra>",
           "hovertext": [
            "JPN"
           ],
           "legendgroup": "JPN",
           "marker": {
            "color": "#FF97FF",
            "size": [
             20
            ],
            "sizemode": "area",
            "sizeref": 0.2,
            "symbol": "circle"
           },
           "mode": "markers",
           "name": "JPN",
           "orientation": "v",
           "showlegend": true,
           "type": "scatter",
           "x": [
            -16.905901116427433
           ],
           "xaxis": "x",
           "y": [
            0.18571633746843116
           ],
           "yaxis": "y"
          },
          {
           "hovertemplate": "<b>%{hovertext}</b><br><br>Country=NOR<br>Year=2013<br>GDP growth=%{x}<br>Investments=%{y}<br>size=%{marker.size}<extra></extra>",
           "hovertext": [
            "NOR"
           ],
           "legendgroup": "NOR",
           "marker": {
            "color": "#FECB52",
            "size": [
             20
            ],
            "sizemode": "area",
            "sizeref": 0.2,
            "symbol": "circle"
           },
           "mode": "markers",
           "name": "NOR",
           "orientation": "v",
           "showlegend": true,
           "type": "scatter",
           "x": [
            2.53411306042885
           ],
           "xaxis": "x",
           "y": [
            0.16783718230938563
           ],
           "yaxis": "y"
          },
          {
           "hovertemplate": "<b>%{hovertext}</b><br><br>Country=POL<br>Year=2013<br>GDP growth=%{x}<br>Investments=%{y}<br>size=%{marker.size}<extra></extra>",
           "hovertext": [
            "POL"
           ],
           "legendgroup": "POL",
           "marker": {
            "color": "#636efa",
            "size": [
             20
            ],
            "sizemode": "area",
            "sizeref": 0.2,
            "symbol": "circle"
           },
           "mode": "markers",
           "name": "POL",
           "orientation": "v",
           "showlegend": true,
           "type": "scatter",
           "x": [
            4.242424242424243
           ],
           "xaxis": "x",
           "y": [
            0.053610874153406776
           ],
           "yaxis": "y"
          },
          {
           "hovertemplate": "<b>%{hovertext}</b><br><br>Country=RUS<br>Year=2013<br>GDP growth=%{x}<br>Investments=%{y}<br>size=%{marker.size}<extra></extra>",
           "hovertext": [
            "RUS"
           ],
           "legendgroup": "RUS",
           "marker": {
            "color": "#EF553B",
            "size": [
             20
            ],
            "sizemode": "area",
            "sizeref": 0.2,
            "symbol": "circle"
           },
           "mode": "markers",
           "name": "RUS",
           "orientation": "v",
           "showlegend": true,
           "type": "scatter",
           "x": [
            3.619909502262444
           ],
           "xaxis": "x",
           "y": [
            0.44986977490232133
           ],
           "yaxis": "y"
          },
          {
           "hovertemplate": "<b>%{hovertext}</b><br><br>Country=ESP<br>Year=2013<br>GDP growth=%{x}<br>Investments=%{y}<br>size=%{marker.size}<extra></extra>",
           "hovertext": [
            "ESP"
           ],
           "legendgroup": "ESP",
           "marker": {
            "color": "#00cc96",
            "size": [
             20
            ],
            "sizemode": "area",
            "sizeref": 0.2,
            "symbol": "circle"
           },
           "mode": "markers",
           "name": "ESP",
           "orientation": "v",
           "showlegend": true,
           "type": "scatter",
           "x": [
            3.0303030303030303
           ],
           "xaxis": "x",
           "y": [
            0.20975232198142416
           ],
           "yaxis": "y"
          },
          {
           "hovertemplate": "<b>%{hovertext}</b><br><br>Country=SWE<br>Year=2013<br>GDP growth=%{x}<br>Investments=%{y}<br>size=%{marker.size}<extra></extra>",
           "hovertext": [
            "SWE"
           ],
           "legendgroup": "SWE",
           "marker": {
            "color": "#ab63fa",
            "size": [
             20
            ],
            "sizemode": "area",
            "sizeref": 0.2,
            "symbol": "circle"
           },
           "mode": "markers",
           "name": "SWE",
           "orientation": "v",
           "showlegend": true,
           "type": "scatter",
           "x": [
            6.340579710144928
           ],
           "xaxis": "x",
           "y": [
            0.24924795445171702
           ],
           "yaxis": "y"
          },
          {
           "hovertemplate": "<b>%{hovertext}</b><br><br>Country=CHE<br>Year=2013<br>GDP growth=%{x}<br>Investments=%{y}<br>size=%{marker.size}<extra></extra>",
           "hovertext": [
            "CHE"
           ],
           "legendgroup": "CHE",
           "marker": {
            "color": "#FFA15A",
            "size": [
             20
            ],
            "sizemode": "area",
            "sizeref": 0.2,
            "symbol": "circle"
           },
           "mode": "markers",
           "name": "CHE",
           "orientation": "v",
           "showlegend": true,
           "type": "scatter",
           "x": [
            2.9154518950437316
           ],
           "xaxis": "x",
           "y": [
            0.5465350423438199
           ],
           "yaxis": "y"
          },
          {
           "hovertemplate": "<b>%{hovertext}</b><br><br>Country=TUR<br>Year=2013<br>GDP growth=%{x}<br>Investments=%{y}<br>size=%{marker.size}<extra></extra>",
           "hovertext": [
            "TUR"
           ],
           "legendgroup": "TUR",
           "marker": {
            "color": "#19d3f3",
            "size": [
             20
            ],
            "sizemode": "area",
            "sizeref": 0.2,
            "symbol": "circle"
           },
           "mode": "markers",
           "name": "TUR",
           "orientation": "v",
           "showlegend": true,
           "type": "scatter",
           "x": [
            8.740068104426788
           ],
           "xaxis": "x",
           "y": [
            0.26760956246566314
           ],
           "yaxis": "y"
          },
          {
           "hovertemplate": "<b>%{hovertext}</b><br><br>Country=GBR<br>Year=2013<br>GDP growth=%{x}<br>Investments=%{y}<br>size=%{marker.size}<extra></extra>",
           "hovertext": [
            "GBR"
           ],
           "legendgroup": "GBR",
           "marker": {
            "color": "#FF6692",
            "size": [
             20
            ],
            "sizemode": "area",
            "sizeref": 0.2,
            "symbol": "circle"
           },
           "mode": "markers",
           "name": "GBR",
           "orientation": "v",
           "showlegend": true,
           "type": "scatter",
           "x": [
            2.952029520295203
           ],
           "xaxis": "x",
           "y": [
            0.31791551341256374
           ],
           "yaxis": "y"
          }
         ],
         "name": "2013"
        },
        {
         "data": [
          {
           "hovertemplate": "<b>%{hovertext}</b><br><br>Country=AUS<br>Year=2014<br>GDP growth=%{x}<br>Investments=%{y}<br>size=%{marker.size}<extra></extra>",
           "hovertext": [
            "AUS"
           ],
           "legendgroup": "AUS",
           "marker": {
            "color": "#636efa",
            "size": [
             20
            ],
            "sizemode": "area",
            "sizeref": 0.2,
            "symbol": "circle"
           },
           "mode": "markers",
           "name": "AUS",
           "orientation": "v",
           "showlegend": true,
           "type": "scatter",
           "x": [
            -6.962025316455696
           ],
           "xaxis": "x",
           "y": [
            0.32594309588256354
           ],
           "yaxis": "y"
          },
          {
           "hovertemplate": "<b>%{hovertext}</b><br><br>Country=AZE<br>Year=2014<br>GDP growth=%{x}<br>Investments=%{y}<br>size=%{marker.size}<extra></extra>",
           "hovertext": [
            "AZE"
           ],
           "legendgroup": "AZE",
           "marker": {
            "color": "#EF553B",
            "size": [
             20
            ],
            "sizemode": "area",
            "sizeref": 0.2,
            "symbol": "circle"
           },
           "mode": "markers",
           "name": "AZE",
           "orientation": "v",
           "showlegend": true,
           "type": "scatter",
           "x": [
            1.455200151850313
           ],
           "xaxis": "x",
           "y": [
            0.005369036750603628
           ],
           "yaxis": "y"
          },
          {
           "hovertemplate": "<b>%{hovertext}</b><br><br>Country=CZE<br>Year=2014<br>GDP growth=%{x}<br>Investments=%{y}<br>size=%{marker.size}<extra></extra>",
           "hovertext": [
            "CZE"
           ],
           "legendgroup": "CZE",
           "marker": {
            "color": "#00cc96",
            "size": [
             20
            ],
            "sizemode": "area",
            "sizeref": 0.2,
            "symbol": "circle"
           },
           "mode": "markers",
           "name": "CZE",
           "orientation": "v",
           "showlegend": true,
           "type": "scatter",
           "x": [
            -1.4150943396226416
           ],
           "xaxis": "x",
           "y": [
            0.22878117310501134
           ],
           "yaxis": "y"
          },
          {
           "hovertemplate": "<b>%{hovertext}</b><br><br>Country=FIN<br>Year=2014<br>GDP growth=%{x}<br>Investments=%{y}<br>size=%{marker.size}<extra></extra>",
           "hovertext": [
            "FIN"
           ],
           "legendgroup": "FIN",
           "marker": {
            "color": "#ab63fa",
            "size": [
             20
            ],
            "sizemode": "area",
            "sizeref": 0.2,
            "symbol": "circle"
           },
           "mode": "markers",
           "name": "FIN",
           "orientation": "v",
           "showlegend": true,
           "type": "scatter",
           "x": [
            1.4760147601476015
           ],
           "xaxis": "x",
           "y": [
            0.2461244019138756
           ],
           "yaxis": "y"
          },
          {
           "hovertemplate": "<b>%{hovertext}</b><br><br>Country=FRA<br>Year=2014<br>GDP growth=%{x}<br>Investments=%{y}<br>size=%{marker.size}<extra></extra>",
           "hovertext": [
            "FRA"
           ],
           "legendgroup": "FRA",
           "marker": {
            "color": "#FFA15A",
            "size": [
             20
            ],
            "sizemode": "area",
            "sizeref": 0.2,
            "symbol": "circle"
           },
           "mode": "markers",
           "name": "FRA",
           "orientation": "v",
           "showlegend": true,
           "type": "scatter",
           "x": [
            1.7793594306049825
           ],
           "xaxis": "x",
           "y": [
            0.3358601766654398
           ],
           "yaxis": "y"
          },
          {
           "hovertemplate": "<b>%{hovertext}</b><br><br>Country=DEU<br>Year=2014<br>GDP growth=%{x}<br>Investments=%{y}<br>size=%{marker.size}<extra></extra>",
           "hovertext": [
            "DEU"
           ],
           "legendgroup": "DEU",
           "marker": {
            "color": "#19d3f3",
            "size": [
             20
            ],
            "sizemode": "area",
            "sizeref": 0.2,
            "symbol": "circle"
           },
           "mode": "markers",
           "name": "DEU",
           "orientation": "v",
           "showlegend": true,
           "type": "scatter",
           "x": [
            4.289544235924933
           ],
           "xaxis": "x",
           "y": [
            0.18530956944933027
           ],
           "yaxis": "y"
          },
          {
           "hovertemplate": "<b>%{hovertext}</b><br><br>Country=HUN<br>Year=2014<br>GDP growth=%{x}<br>Investments=%{y}<br>size=%{marker.size}<extra></extra>",
           "hovertext": [
            "HUN"
           ],
           "legendgroup": "HUN",
           "marker": {
            "color": "#FF6692",
            "size": [
             20
            ],
            "sizemode": "area",
            "sizeref": 0.2,
            "symbol": "circle"
           },
           "mode": "markers",
           "name": "HUN",
           "orientation": "v",
           "showlegend": true,
           "type": "scatter",
           "x": [
            3.6764705882352944
           ],
           "xaxis": "x",
           "y": [
            0.4678285219858157
           ],
           "yaxis": "y"
          },
          {
           "hovertemplate": "<b>%{hovertext}</b><br><br>Country=ITA<br>Year=2014<br>GDP growth=%{x}<br>Investments=%{y}<br>size=%{marker.size}<extra></extra>",
           "hovertext": [
            "ITA"
           ],
           "legendgroup": "ITA",
           "marker": {
            "color": "#B6E880",
            "size": [
             20
            ],
            "sizemode": "area",
            "sizeref": 0.2,
            "symbol": "circle"
           },
           "mode": "markers",
           "name": "ITA",
           "orientation": "v",
           "showlegend": true,
           "type": "scatter",
           "x": [
            0.9345794392523363
           ],
           "xaxis": "x",
           "y": [
            0.23109161793372324
           ],
           "yaxis": "y"
          },
          {
           "hovertemplate": "<b>%{hovertext}</b><br><br>Country=JPN<br>Year=2014<br>GDP growth=%{x}<br>Investments=%{y}<br>size=%{marker.size}<extra></extra>",
           "hovertext": [
            "JPN"
           ],
           "legendgroup": "JPN",
           "marker": {
            "color": "#FF97FF",
            "size": [
             20
            ],
            "sizemode": "area",
            "sizeref": 0.2,
            "symbol": "circle"
           },
           "mode": "markers",
           "name": "JPN",
           "orientation": "v",
           "showlegend": true,
           "type": "scatter",
           "x": [
            -5.950095969289827
           ],
           "xaxis": "x",
           "y": [
            0.18569852702470463
           ],
           "yaxis": "y"
          },
          {
           "hovertemplate": "<b>%{hovertext}</b><br><br>Country=NOR<br>Year=2014<br>GDP growth=%{x}<br>Investments=%{y}<br>size=%{marker.size}<extra></extra>",
           "hovertext": [
            "NOR"
           ],
           "legendgroup": "NOR",
           "marker": {
            "color": "#FECB52",
            "size": [
             20
            ],
            "sizemode": "area",
            "sizeref": 0.2,
            "symbol": "circle"
           },
           "mode": "markers",
           "name": "NOR",
           "orientation": "v",
           "showlegend": true,
           "type": "scatter",
           "x": [
            -4.562737642585551
           ],
           "xaxis": "x",
           "y": [
            0.2554619010274691
           ],
           "yaxis": "y"
          },
          {
           "hovertemplate": "<b>%{hovertext}</b><br><br>Country=POL<br>Year=2014<br>GDP growth=%{x}<br>Investments=%{y}<br>size=%{marker.size}<extra></extra>",
           "hovertext": [
            "POL"
           ],
           "legendgroup": "POL",
           "marker": {
            "color": "#636efa",
            "size": [
             20
            ],
            "sizemode": "area",
            "sizeref": 0.2,
            "symbol": "circle"
           },
           "mode": "markers",
           "name": "POL",
           "orientation": "v",
           "showlegend": true,
           "type": "scatter",
           "x": [
            4.457364341085271
           ],
           "xaxis": "x",
           "y": [
            0.010360889256908505
           ],
           "yaxis": "y"
          },
          {
           "hovertemplate": "<b>%{hovertext}</b><br><br>Country=RUS<br>Year=2014<br>GDP growth=%{x}<br>Investments=%{y}<br>size=%{marker.size}<extra></extra>",
           "hovertext": [
            "RUS"
           ],
           "legendgroup": "RUS",
           "marker": {
            "color": "#EF553B",
            "size": [
             20
            ],
            "sizemode": "area",
            "sizeref": 0.2,
            "symbol": "circle"
           },
           "mode": "markers",
           "name": "RUS",
           "orientation": "v",
           "showlegend": true,
           "type": "scatter",
           "x": [
            -10.043668122270741
           ],
           "xaxis": "x",
           "y": [
            0.33084063929483903
           ],
           "yaxis": "y"
          },
          {
           "hovertemplate": "<b>%{hovertext}</b><br><br>Country=ESP<br>Year=2014<br>GDP growth=%{x}<br>Investments=%{y}<br>size=%{marker.size}<extra></extra>",
           "hovertext": [
            "ESP"
           ],
           "legendgroup": "ESP",
           "marker": {
            "color": "#00cc96",
            "size": [
             20
            ],
            "sizemode": "area",
            "sizeref": 0.2,
            "symbol": "circle"
           },
           "mode": "markers",
           "name": "ESP",
           "orientation": "v",
           "showlegend": true,
           "type": "scatter",
           "x": [
            0.7352941176470588
           ],
           "xaxis": "x",
           "y": [
            0.23373031117940843
           ],
           "yaxis": "y"
          },
          {
           "hovertemplate": "<b>%{hovertext}</b><br><br>Country=SWE<br>Year=2014<br>GDP growth=%{x}<br>Investments=%{y}<br>size=%{marker.size}<extra></extra>",
           "hovertext": [
            "SWE"
           ],
           "legendgroup": "SWE",
           "marker": {
            "color": "#ab63fa",
            "size": [
             20
            ],
            "sizemode": "area",
            "sizeref": 0.2,
            "symbol": "circle"
           },
           "mode": "markers",
           "name": "SWE",
           "orientation": "v",
           "showlegend": true,
           "type": "scatter",
           "x": [
            -0.8517887563884157
           ],
           "xaxis": "x",
           "y": [
            0.26780850244167126
           ],
           "yaxis": "y"
          },
          {
           "hovertemplate": "<b>%{hovertext}</b><br><br>Country=CHE<br>Year=2014<br>GDP growth=%{x}<br>Investments=%{y}<br>size=%{marker.size}<extra></extra>",
           "hovertext": [
            "CHE"
           ],
           "legendgroup": "CHE",
           "marker": {
            "color": "#FFA15A",
            "size": [
             20
            ],
            "sizemode": "area",
            "sizeref": 0.2,
            "symbol": "circle"
           },
           "mode": "markers",
           "name": "CHE",
           "orientation": "v",
           "showlegend": true,
           "type": "scatter",
           "x": [
            2.974504249291785
           ],
           "xaxis": "x",
           "y": [
            0.5140288082241368
           ],
           "yaxis": "y"
          },
          {
           "hovertemplate": "<b>%{hovertext}</b><br><br>Country=TUR<br>Year=2014<br>GDP growth=%{x}<br>Investments=%{y}<br>size=%{marker.size}<extra></extra>",
           "hovertext": [
            "TUR"
           ],
           "legendgroup": "TUR",
           "marker": {
            "color": "#19d3f3",
            "size": [
             20
            ],
            "sizemode": "area",
            "sizeref": 0.2,
            "symbol": "circle"
           },
           "mode": "markers",
           "name": "TUR",
           "orientation": "v",
           "showlegend": true,
           "type": "scatter",
           "x": [
            -1.9832985386221296
           ],
           "xaxis": "x",
           "y": [
            0.17246442105263157
           ],
           "yaxis": "y"
          },
          {
           "hovertemplate": "<b>%{hovertext}</b><br><br>Country=GBR<br>Year=2014<br>GDP growth=%{x}<br>Investments=%{y}<br>size=%{marker.size}<extra></extra>",
           "hovertext": [
            "GBR"
           ],
           "legendgroup": "GBR",
           "marker": {
            "color": "#FF6692",
            "size": [
             20
            ],
            "sizemode": "area",
            "sizeref": 0.2,
            "symbol": "circle"
           },
           "mode": "markers",
           "name": "GBR",
           "orientation": "v",
           "showlegend": true,
           "type": "scatter",
           "x": [
            10.03584229390681
           ],
           "xaxis": "x",
           "y": [
            0.3533929829933139
           ],
           "yaxis": "y"
          }
         ],
         "name": "2014"
        },
        {
         "data": [
          {
           "hovertemplate": "<b>%{hovertext}</b><br><br>Country=AUS<br>Year=2015<br>GDP growth=%{x}<br>Investments=%{y}<br>size=%{marker.size}<extra></extra>",
           "hovertext": [
            "AUS"
           ],
           "legendgroup": "AUS",
           "marker": {
            "color": "#636efa",
            "size": [
             20
            ],
            "sizemode": "area",
            "sizeref": 0.2,
            "symbol": "circle"
           },
           "mode": "markers",
           "name": "AUS",
           "orientation": "v",
           "showlegend": true,
           "type": "scatter",
           "x": [
            -8.16326530612245
           ],
           "xaxis": "x",
           "y": [
            0.27675578424951264
           ],
           "yaxis": "y"
          },
          {
           "hovertemplate": "<b>%{hovertext}</b><br><br>Country=AZE<br>Year=2015<br>GDP growth=%{x}<br>Investments=%{y}<br>size=%{marker.size}<extra></extra>",
           "hovertext": [
            "AZE"
           ],
           "legendgroup": "AZE",
           "marker": {
            "color": "#EF553B",
            "size": [
             20
            ],
            "sizemode": "area",
            "sizeref": 0.2,
            "symbol": "circle"
           },
           "mode": "markers",
           "name": "AZE",
           "orientation": "v",
           "showlegend": true,
           "type": "scatter",
           "x": [
            -29.457163825485555
           ],
           "xaxis": "x",
           "y": [
            0.0034950114780700247
           ],
           "yaxis": "y"
          },
          {
           "hovertemplate": "<b>%{hovertext}</b><br><br>Country=CZE<br>Year=2015<br>GDP growth=%{x}<br>Investments=%{y}<br>size=%{marker.size}<extra></extra>",
           "hovertext": [
            "CZE"
           ],
           "legendgroup": "CZE",
           "marker": {
            "color": "#00cc96",
            "size": [
             20
            ],
            "sizemode": "area",
            "sizeref": 0.2,
            "symbol": "circle"
           },
           "mode": "markers",
           "name": "CZE",
           "orientation": "v",
           "showlegend": true,
           "type": "scatter",
           "x": [
            -10.047846889952153
           ],
           "xaxis": "x",
           "y": [
            0.6522540778275475
           ],
           "yaxis": "y"
          },
          {
           "hovertemplate": "<b>%{hovertext}</b><br><br>Country=FIN<br>Year=2015<br>GDP growth=%{x}<br>Investments=%{y}<br>size=%{marker.size}<extra></extra>",
           "hovertext": [
            "FIN"
           ],
           "legendgroup": "FIN",
           "marker": {
            "color": "#ab63fa",
            "size": [
             20
            ],
            "sizemode": "area",
            "sizeref": 0.2,
            "symbol": "circle"
           },
           "mode": "markers",
           "name": "FIN",
           "orientation": "v",
           "showlegend": true,
           "type": "scatter",
           "x": [
            -14.545454545454545
           ],
           "xaxis": "x",
           "y": [
            0.25397536394176934
           ],
           "yaxis": "y"
          },
          {
           "hovertemplate": "<b>%{hovertext}</b><br><br>Country=FRA<br>Year=2015<br>GDP growth=%{x}<br>Investments=%{y}<br>size=%{marker.size}<extra></extra>",
           "hovertext": [
            "FRA"
           ],
           "legendgroup": "FRA",
           "marker": {
            "color": "#FFA15A",
            "size": [
             20
            ],
            "sizemode": "area",
            "sizeref": 0.2,
            "symbol": "circle"
           },
           "mode": "markers",
           "name": "FRA",
           "orientation": "v",
           "showlegend": true,
           "type": "scatter",
           "x": [
            -14.685314685314685
           ],
           "xaxis": "x",
           "y": [
            0.37951656600517686
           ],
           "yaxis": "y"
          },
          {
           "hovertemplate": "<b>%{hovertext}</b><br><br>Country=DEU<br>Year=2015<br>GDP growth=%{x}<br>Investments=%{y}<br>size=%{marker.size}<extra></extra>",
           "hovertext": [
            "DEU"
           ],
           "legendgroup": "DEU",
           "marker": {
            "color": "#19d3f3",
            "size": [
             20
            ],
            "sizemode": "area",
            "sizeref": 0.2,
            "symbol": "circle"
           },
           "mode": "markers",
           "name": "DEU",
           "orientation": "v",
           "showlegend": true,
           "type": "scatter",
           "x": [
            -13.624678663239074
           ],
           "xaxis": "x",
           "y": [
            0.2148229770676692
           ],
           "yaxis": "y"
          },
          {
           "hovertemplate": "<b>%{hovertext}</b><br><br>Country=HUN<br>Year=2015<br>GDP growth=%{x}<br>Investments=%{y}<br>size=%{marker.size}<extra></extra>",
           "hovertext": [
            "HUN"
           ],
           "legendgroup": "HUN",
           "marker": {
            "color": "#FF6692",
            "size": [
             20
            ],
            "sizemode": "area",
            "sizeref": 0.2,
            "symbol": "circle"
           },
           "mode": "markers",
           "name": "HUN",
           "orientation": "v",
           "showlegend": true,
           "type": "scatter",
           "x": [
            -11.347517730496454
           ],
           "xaxis": "x",
           "y": [
            0.5905572343578946
           ],
           "yaxis": "y"
          },
          {
           "hovertemplate": "<b>%{hovertext}</b><br><br>Country=ITA<br>Year=2015<br>GDP growth=%{x}<br>Investments=%{y}<br>size=%{marker.size}<extra></extra>",
           "hovertext": [
            "ITA"
           ],
           "legendgroup": "ITA",
           "marker": {
            "color": "#B6E880",
            "size": [
             20
            ],
            "sizemode": "area",
            "sizeref": 0.2,
            "symbol": "circle"
           },
           "mode": "markers",
           "name": "ITA",
           "orientation": "v",
           "showlegend": true,
           "type": "scatter",
           "x": [
            -14.814814814814813
           ],
           "xaxis": "x",
           "y": [
            0.16367276887871854
           ],
           "yaxis": "y"
          },
          {
           "hovertemplate": "<b>%{hovertext}</b><br><br>Country=JPN<br>Year=2015<br>GDP growth=%{x}<br>Investments=%{y}<br>size=%{marker.size}<extra></extra>",
           "hovertext": [
            "JPN"
           ],
           "legendgroup": "JPN",
           "marker": {
            "color": "#FF97FF",
            "size": [
             20
            ],
            "sizemode": "area",
            "sizeref": 0.2,
            "symbol": "circle"
           },
           "mode": "markers",
           "name": "JPN",
           "orientation": "v",
           "showlegend": true,
           "type": "scatter",
           "x": [
            -9.387755102040817
           ],
           "xaxis": "x",
           "y": [
            0.21053022174016123
           ],
           "yaxis": "y"
          },
          {
           "hovertemplate": "<b>%{hovertext}</b><br><br>Country=NOR<br>Year=2015<br>GDP growth=%{x}<br>Investments=%{y}<br>size=%{marker.size}<extra></extra>",
           "hovertext": [
            "NOR"
           ],
           "legendgroup": "NOR",
           "marker": {
            "color": "#FECB52",
            "size": [
             20
            ],
            "sizemode": "area",
            "sizeref": 0.2,
            "symbol": "circle"
           },
           "mode": "markers",
           "name": "NOR",
           "orientation": "v",
           "showlegend": true,
           "type": "scatter",
           "x": [
            -22.709163346613543
           ],
           "xaxis": "x",
           "y": [
            0.34764292240911554
           ],
           "yaxis": "y"
          },
          {
           "hovertemplate": "<b>%{hovertext}</b><br><br>Country=POL<br>Year=2015<br>GDP growth=%{x}<br>Investments=%{y}<br>size=%{marker.size}<extra></extra>",
           "hovertext": [
            "POL"
           ],
           "legendgroup": "POL",
           "marker": {
            "color": "#636efa",
            "size": [
             20
            ],
            "sizemode": "area",
            "sizeref": 0.2,
            "symbol": "circle"
           },
           "mode": "markers",
           "name": "POL",
           "orientation": "v",
           "showlegend": true,
           "type": "scatter",
           "x": [
            -11.50278293135436
           ],
           "xaxis": "x",
           "y": [
            0.07512784051638531
           ],
           "yaxis": "y"
          },
          {
           "hovertemplate": "<b>%{hovertext}</b><br><br>Country=RUS<br>Year=2015<br>GDP growth=%{x}<br>Investments=%{y}<br>size=%{marker.size}<extra></extra>",
           "hovertext": [
            "RUS"
           ],
           "legendgroup": "RUS",
           "marker": {
            "color": "#EF553B",
            "size": [
             20
            ],
            "sizemode": "area",
            "sizeref": 0.2,
            "symbol": "circle"
           },
           "mode": "markers",
           "name": "RUS",
           "orientation": "v",
           "showlegend": true,
           "type": "scatter",
           "x": [
            -33.980582524271846
           ],
           "xaxis": "x",
           "y": [
            0.38872444156346747
           ],
           "yaxis": "y"
          },
          {
           "hovertemplate": "<b>%{hovertext}</b><br><br>Country=ESP<br>Year=2015<br>GDP growth=%{x}<br>Investments=%{y}<br>size=%{marker.size}<extra></extra>",
           "hovertext": [
            "ESP"
           ],
           "legendgroup": "ESP",
           "marker": {
            "color": "#00cc96",
            "size": [
             20
            ],
            "sizemode": "area",
            "sizeref": 0.2,
            "symbol": "circle"
           },
           "mode": "markers",
           "name": "ESP",
           "orientation": "v",
           "showlegend": true,
           "type": "scatter",
           "x": [
            -12.408759124087592
           ],
           "xaxis": "x",
           "y": [
            0.22921052631578953
           ],
           "yaxis": "y"
          },
          {
           "hovertemplate": "<b>%{hovertext}</b><br><br>Country=SWE<br>Year=2015<br>GDP growth=%{x}<br>Investments=%{y}<br>size=%{marker.size}<extra></extra>",
           "hovertext": [
            "SWE"
           ],
           "legendgroup": "SWE",
           "marker": {
            "color": "#ab63fa",
            "size": [
             20
            ],
            "sizemode": "area",
            "sizeref": 0.2,
            "symbol": "circle"
           },
           "mode": "markers",
           "name": "SWE",
           "orientation": "v",
           "showlegend": true,
           "type": "scatter",
           "x": [
            -13.23024054982818
           ],
           "xaxis": "x",
           "y": [
            0.33976174028139655
           ],
           "yaxis": "y"
          },
          {
           "hovertemplate": "<b>%{hovertext}</b><br><br>Country=CHE<br>Year=2015<br>GDP growth=%{x}<br>Investments=%{y}<br>size=%{marker.size}<extra></extra>",
           "hovertext": [
            "CHE"
           ],
           "legendgroup": "CHE",
           "marker": {
            "color": "#FFA15A",
            "size": [
             20
            ],
            "sizemode": "area",
            "sizeref": 0.2,
            "symbol": "circle"
           },
           "mode": "markers",
           "name": "CHE",
           "orientation": "v",
           "showlegend": true,
           "type": "scatter",
           "x": [
            -4.53920220082531
           ],
           "xaxis": "x",
           "y": [
            0.6360561462156833
           ],
           "yaxis": "y"
          },
          {
           "hovertemplate": "<b>%{hovertext}</b><br><br>Country=TUR<br>Year=2015<br>GDP growth=%{x}<br>Investments=%{y}<br>size=%{marker.size}<extra></extra>",
           "hovertext": [
            "TUR"
           ],
           "legendgroup": "TUR",
           "marker": {
            "color": "#19d3f3",
            "size": [
             20
            ],
            "sizemode": "area",
            "sizeref": 0.2,
            "symbol": "circle"
           },
           "mode": "markers",
           "name": "TUR",
           "orientation": "v",
           "showlegend": true,
           "type": "scatter",
           "x": [
            -7.987220447284344
           ],
           "xaxis": "x",
           "y": [
            0.14971752692495124
           ],
           "yaxis": "y"
          },
          {
           "hovertemplate": "<b>%{hovertext}</b><br><br>Country=GBR<br>Year=2015<br>GDP growth=%{x}<br>Investments=%{y}<br>size=%{marker.size}<extra></extra>",
           "hovertext": [
            "GBR"
           ],
           "legendgroup": "GBR",
           "marker": {
            "color": "#FF6692",
            "size": [
             20
            ],
            "sizemode": "area",
            "sizeref": 0.2,
            "symbol": "circle"
           },
           "mode": "markers",
           "name": "GBR",
           "orientation": "v",
           "showlegend": true,
           "type": "scatter",
           "x": [
            -4.5602605863192185
           ],
           "xaxis": "x",
           "y": [
            0.5268774423926712
           ],
           "yaxis": "y"
          }
         ],
         "name": "2015"
        },
        {
         "data": [
          {
           "hovertemplate": "<b>%{hovertext}</b><br><br>Country=AUS<br>Year=2016<br>GDP growth=%{x}<br>Investments=%{y}<br>size=%{marker.size}<extra></extra>",
           "hovertext": [
            "AUS"
           ],
           "legendgroup": "AUS",
           "marker": {
            "color": "#636efa",
            "size": [
             20
            ],
            "sizemode": "area",
            "sizeref": 0.2,
            "symbol": "circle"
           },
           "mode": "markers",
           "name": "AUS",
           "orientation": "v",
           "showlegend": true,
           "type": "scatter",
           "x": [
            -10.37037037037037
           ],
           "xaxis": "x",
           "y": [
            0.22104986524575906
           ],
           "yaxis": "y"
          },
          {
           "hovertemplate": "<b>%{hovertext}</b><br><br>Country=AZE<br>Year=2016<br>GDP growth=%{x}<br>Investments=%{y}<br>size=%{marker.size}<extra></extra>",
           "hovertext": [
            "AZE"
           ],
           "legendgroup": "AZE",
           "marker": {
            "color": "#EF553B",
            "size": [
             20
            ],
            "sizemode": "area",
            "sizeref": 0.2,
            "symbol": "circle"
           },
           "mode": "markers",
           "name": "AZE",
           "orientation": "v",
           "showlegend": true,
           "type": "scatter",
           "x": [
            -28.655451798080023
           ],
           "xaxis": "x",
           "y": [
            0.0031508211170730278
           ],
           "yaxis": "y"
          },
          {
           "hovertemplate": "<b>%{hovertext}</b><br><br>Country=CZE<br>Year=2016<br>GDP growth=%{x}<br>Investments=%{y}<br>size=%{marker.size}<extra></extra>",
           "hovertext": [
            "CZE"
           ],
           "legendgroup": "CZE",
           "marker": {
            "color": "#00cc96",
            "size": [
             20
            ],
            "sizemode": "area",
            "sizeref": 0.2,
            "symbol": "circle"
           },
           "mode": "markers",
           "name": "CZE",
           "orientation": "v",
           "showlegend": true,
           "type": "scatter",
           "x": [
            4.25531914893617
           ],
           "xaxis": "x",
           "y": [
            0.3660021648764769
           ],
           "yaxis": "y"
          },
          {
           "hovertemplate": "<b>%{hovertext}</b><br><br>Country=FIN<br>Year=2016<br>GDP growth=%{x}<br>Investments=%{y}<br>size=%{marker.size}<extra></extra>",
           "hovertext": [
            "FIN"
           ],
           "legendgroup": "FIN",
           "marker": {
            "color": "#ab63fa",
            "size": [
             20
            ],
            "sizemode": "area",
            "sizeref": 0.2,
            "symbol": "circle"
           },
           "mode": "markers",
           "name": "FIN",
           "orientation": "v",
           "showlegend": true,
           "type": "scatter",
           "x": [
            2.553191489361702
           ],
           "xaxis": "x",
           "y": [
            0.23454902817209
           ],
           "yaxis": "y"
          },
          {
           "hovertemplate": "<b>%{hovertext}</b><br><br>Country=FRA<br>Year=2016<br>GDP growth=%{x}<br>Investments=%{y}<br>size=%{marker.size}<extra></extra>",
           "hovertext": [
            "FRA"
           ],
           "legendgroup": "FRA",
           "marker": {
            "color": "#FFA15A",
            "size": [
             20
            ],
            "sizemode": "area",
            "sizeref": 0.2,
            "symbol": "circle"
           },
           "mode": "markers",
           "name": "FRA",
           "orientation": "v",
           "showlegend": true,
           "type": "scatter",
           "x": [
            1.2295081967213115
           ],
           "xaxis": "x",
           "y": [
            0.36712763690603023
           ],
           "yaxis": "y"
          },
          {
           "hovertemplate": "<b>%{hovertext}</b><br><br>Country=DEU<br>Year=2016<br>GDP growth=%{x}<br>Investments=%{y}<br>size=%{marker.size}<extra></extra>",
           "hovertext": [
            "DEU"
           ],
           "legendgroup": "DEU",
           "marker": {
            "color": "#19d3f3",
            "size": [
             20
            ],
            "sizemode": "area",
            "sizeref": 0.2,
            "symbol": "circle"
           },
           "mode": "markers",
           "name": "DEU",
           "orientation": "v",
           "showlegend": true,
           "type": "scatter",
           "x": [
            3.273809523809524
           ],
           "xaxis": "x",
           "y": [
            0.19453966327923555
           ],
           "yaxis": "y"
          },
          {
           "hovertemplate": "<b>%{hovertext}</b><br><br>Country=HUN<br>Year=2016<br>GDP growth=%{x}<br>Investments=%{y}<br>size=%{marker.size}<extra></extra>",
           "hovertext": [
            "HUN"
           ],
           "legendgroup": "HUN",
           "marker": {
            "color": "#FF6692",
            "size": [
             20
            ],
            "sizemode": "area",
            "sizeref": 0.2,
            "symbol": "circle"
           },
           "mode": "markers",
           "name": "HUN",
           "orientation": "v",
           "showlegend": true,
           "type": "scatter",
           "x": [
            3.2
           ],
           "xaxis": "x",
           "y": [
            0.26370060660954714
           ],
           "yaxis": "y"
          },
          {
           "hovertemplate": "<b>%{hovertext}</b><br><br>Country=ITA<br>Year=2016<br>GDP growth=%{x}<br>Investments=%{y}<br>size=%{marker.size}<extra></extra>",
           "hovertext": [
            "ITA"
           ],
           "legendgroup": "ITA",
           "marker": {
            "color": "#B6E880",
            "size": [
             20
            ],
            "sizemode": "area",
            "sizeref": 0.2,
            "symbol": "circle"
           },
           "mode": "markers",
           "name": "ITA",
           "orientation": "v",
           "showlegend": true,
           "type": "scatter",
           "x": [
            2.1739130434782608
           ],
           "xaxis": "x",
           "y": [
            0.21690929451287796
           ],
           "yaxis": "y"
          },
          {
           "hovertemplate": "<b>%{hovertext}</b><br><br>Country=JPN<br>Year=2016<br>GDP growth=%{x}<br>Investments=%{y}<br>size=%{marker.size}<extra></extra>",
           "hovertext": [
            "JPN"
           ],
           "legendgroup": "JPN",
           "marker": {
            "color": "#FF97FF",
            "size": [
             20
            ],
            "sizemode": "area",
            "sizeref": 0.2,
            "symbol": "circle"
           },
           "mode": "markers",
           "name": "JPN",
           "orientation": "v",
           "showlegend": true,
           "type": "scatter",
           "x": [
            12.612612612612612
           ],
           "xaxis": "x",
           "y": [
            0.1931523157263158
           ],
           "yaxis": "y"
          },
          {
           "hovertemplate": "<b>%{hovertext}</b><br><br>Country=NOR<br>Year=2016<br>GDP growth=%{x}<br>Investments=%{y}<br>size=%{marker.size}<extra></extra>",
           "hovertext": [
            "NOR"
           ],
           "legendgroup": "NOR",
           "marker": {
            "color": "#FECB52",
            "size": [
             20
            ],
            "sizemode": "area",
            "sizeref": 0.2,
            "symbol": "circle"
           },
           "mode": "markers",
           "name": "NOR",
           "orientation": "v",
           "showlegend": true,
           "type": "scatter",
           "x": [
            -4.381443298969072
           ],
           "xaxis": "x",
           "y": [
            0.41441590722088245
           ],
           "yaxis": "y"
          },
          {
           "hovertemplate": "<b>%{hovertext}</b><br><br>Country=POL<br>Year=2016<br>GDP growth=%{x}<br>Investments=%{y}<br>size=%{marker.size}<extra></extra>",
           "hovertext": [
            "POL"
           ],
           "legendgroup": "POL",
           "marker": {
            "color": "#636efa",
            "size": [
             20
            ],
            "sizemode": "area",
            "sizeref": 0.2,
            "symbol": "circle"
           },
           "mode": "markers",
           "name": "POL",
           "orientation": "v",
           "showlegend": true,
           "type": "scatter",
           "x": [
            -1.4675052410901468
           ],
           "xaxis": "x",
           "y": [
            0.07313890736842105
           ],
           "yaxis": "y"
          },
          {
           "hovertemplate": "<b>%{hovertext}</b><br><br>Country=RUS<br>Year=2016<br>GDP growth=%{x}<br>Investments=%{y}<br>size=%{marker.size}<extra></extra>",
           "hovertext": [
            "RUS"
           ],
           "legendgroup": "RUS",
           "marker": {
            "color": "#EF553B",
            "size": [
             20
            ],
            "sizemode": "area",
            "sizeref": 0.2,
            "symbol": "circle"
           },
           "mode": "markers",
           "name": "RUS",
           "orientation": "v",
           "showlegend": true,
           "type": "scatter",
           "x": [
            -5.88235294117647
           ],
           "xaxis": "x",
           "y": [
            0.397237224013158
           ],
           "yaxis": "y"
          },
          {
           "hovertemplate": "<b>%{hovertext}</b><br><br>Country=ESP<br>Year=2016<br>GDP growth=%{x}<br>Investments=%{y}<br>size=%{marker.size}<extra></extra>",
           "hovertext": [
            "ESP"
           ],
           "legendgroup": "ESP",
           "marker": {
            "color": "#00cc96",
            "size": [
             20
            ],
            "sizemode": "area",
            "sizeref": 0.2,
            "symbol": "circle"
           },
           "mode": "markers",
           "name": "ESP",
           "orientation": "v",
           "showlegend": true,
           "type": "scatter",
           "x": [
            2.5
           ],
           "xaxis": "x",
           "y": [
            0.14180573384681214
           ],
           "yaxis": "y"
          },
          {
           "hovertemplate": "<b>%{hovertext}</b><br><br>Country=SWE<br>Year=2016<br>GDP growth=%{x}<br>Investments=%{y}<br>size=%{marker.size}<extra></extra>",
           "hovertext": [
            "SWE"
           ],
           "legendgroup": "SWE",
           "marker": {
            "color": "#ab63fa",
            "size": [
             20
            ],
            "sizemode": "area",
            "sizeref": 0.2,
            "symbol": "circle"
           },
           "mode": "markers",
           "name": "SWE",
           "orientation": "v",
           "showlegend": true,
           "type": "scatter",
           "x": [
            2.178217821782178
           ],
           "xaxis": "x",
           "y": [
            0.3063347731538148
           ],
           "yaxis": "y"
          },
          {
           "hovertemplate": "<b>%{hovertext}</b><br><br>Country=CHE<br>Year=2016<br>GDP growth=%{x}<br>Investments=%{y}<br>size=%{marker.size}<extra></extra>",
           "hovertext": [
            "CHE"
           ],
           "legendgroup": "CHE",
           "marker": {
            "color": "#FFA15A",
            "size": [
             20
            ],
            "sizemode": "area",
            "sizeref": 0.2,
            "symbol": "circle"
           },
           "mode": "markers",
           "name": "CHE",
           "orientation": "v",
           "showlegend": true,
           "type": "scatter",
           "x": [
            -0.8645533141210375
           ],
           "xaxis": "x",
           "y": [
            0.586902294369645
           ],
           "yaxis": "y"
          },
          {
           "hovertemplate": "<b>%{hovertext}</b><br><br>Country=TUR<br>Year=2016<br>GDP growth=%{x}<br>Investments=%{y}<br>size=%{marker.size}<extra></extra>",
           "hovertext": [
            "TUR"
           ],
           "legendgroup": "TUR",
           "marker": {
            "color": "#19d3f3",
            "size": [
             20
            ],
            "sizemode": "area",
            "sizeref": 0.2,
            "symbol": "circle"
           },
           "mode": "markers",
           "name": "TUR",
           "orientation": "v",
           "showlegend": true,
           "type": "scatter",
           "x": [
            0.6944444444444444
           ],
           "xaxis": "x",
           "y": [
            0.22833634216575927
           ],
           "yaxis": "y"
          },
          {
           "hovertemplate": "<b>%{hovertext}</b><br><br>Country=GBR<br>Year=2016<br>GDP growth=%{x}<br>Investments=%{y}<br>size=%{marker.size}<extra></extra>",
           "hovertext": [
            "GBR"
           ],
           "legendgroup": "GBR",
           "marker": {
            "color": "#FF6692",
            "size": [
             20
            ],
            "sizemode": "area",
            "sizeref": 0.2,
            "symbol": "circle"
           },
           "mode": "markers",
           "name": "GBR",
           "orientation": "v",
           "showlegend": true,
           "type": "scatter",
           "x": [
            -7.849829351535837
           ],
           "xaxis": "x",
           "y": [
            0.526748167134503
           ],
           "yaxis": "y"
          }
         ],
         "name": "2016"
        },
        {
         "data": [
          {
           "hovertemplate": "<b>%{hovertext}</b><br><br>Country=AUS<br>Year=2017<br>GDP growth=%{x}<br>Investments=%{y}<br>size=%{marker.size}<extra></extra>",
           "hovertext": [
            "AUS"
           ],
           "legendgroup": "AUS",
           "marker": {
            "color": "#636efa",
            "size": [
             20
            ],
            "sizemode": "area",
            "sizeref": 0.2,
            "symbol": "circle"
           },
           "mode": "markers",
           "name": "AUS",
           "orientation": "v",
           "showlegend": true,
           "type": "scatter",
           "x": [
            9.917355371900827
           ],
           "xaxis": "x",
           "y": [
            0.24158936343490306
           ],
           "yaxis": "y"
          },
          {
           "hovertemplate": "<b>%{hovertext}</b><br><br>Country=AZE<br>Year=2017<br>GDP growth=%{x}<br>Investments=%{y}<br>size=%{marker.size}<extra></extra>",
           "hovertext": [
            "AZE"
           ],
           "legendgroup": "AZE",
           "marker": {
            "color": "#EF553B",
            "size": [
             20
            ],
            "sizemode": "area",
            "sizeref": 0.2,
            "symbol": "circle"
           },
           "mode": "markers",
           "name": "AZE",
           "orientation": "v",
           "showlegend": true,
           "type": "scatter",
           "x": [
            7.9214737599358225
           ],
           "xaxis": "x",
           "y": [
            0.0026522913718859285
           ],
           "yaxis": "y"
          },
          {
           "hovertemplate": "<b>%{hovertext}</b><br><br>Country=CZE<br>Year=2017<br>GDP growth=%{x}<br>Investments=%{y}<br>size=%{marker.size}<extra></extra>",
           "hovertext": [
            "CZE"
           ],
           "legendgroup": "CZE",
           "marker": {
            "color": "#00cc96",
            "size": [
             20
            ],
            "sizemode": "area",
            "sizeref": 0.2,
            "symbol": "circle"
           },
           "mode": "markers",
           "name": "CZE",
           "orientation": "v",
           "showlegend": true,
           "type": "scatter",
           "x": [
            11.73469387755102
           ],
           "xaxis": "x",
           "y": [
            0.271863854986782
           ],
           "yaxis": "y"
          },
          {
           "hovertemplate": "<b>%{hovertext}</b><br><br>Country=FIN<br>Year=2017<br>GDP growth=%{x}<br>Investments=%{y}<br>size=%{marker.size}<extra></extra>",
           "hovertext": [
            "FIN"
           ],
           "legendgroup": "FIN",
           "marker": {
            "color": "#ab63fa",
            "size": [
             20
            ],
            "sizemode": "area",
            "sizeref": 0.2,
            "symbol": "circle"
           },
           "mode": "markers",
           "name": "FIN",
           "orientation": "v",
           "showlegend": true,
           "type": "scatter",
           "x": [
            6.224066390041494
           ],
           "xaxis": "x",
           "y": [
            0.2142269736842105
           ],
           "yaxis": "y"
          },
          {
           "hovertemplate": "<b>%{hovertext}</b><br><br>Country=FRA<br>Year=2017<br>GDP growth=%{x}<br>Investments=%{y}<br>size=%{marker.size}<extra></extra>",
           "hovertext": [
            "FRA"
           ],
           "legendgroup": "FRA",
           "marker": {
            "color": "#FFA15A",
            "size": [
             20
            ],
            "sizemode": "area",
            "sizeref": 0.2,
            "symbol": "circle"
           },
           "mode": "markers",
           "name": "FRA",
           "orientation": "v",
           "showlegend": true,
           "type": "scatter",
           "x": [
            5.263157894736842
           ],
           "xaxis": "x",
           "y": [
            0.3779259109311741
           ],
           "yaxis": "y"
          },
          {
           "hovertemplate": "<b>%{hovertext}</b><br><br>Country=DEU<br>Year=2017<br>GDP growth=%{x}<br>Investments=%{y}<br>size=%{marker.size}<extra></extra>",
           "hovertext": [
            "DEU"
           ],
           "legendgroup": "DEU",
           "marker": {
            "color": "#19d3f3",
            "size": [
             20
            ],
            "sizemode": "area",
            "sizeref": 0.2,
            "symbol": "circle"
           },
           "mode": "markers",
           "name": "DEU",
           "orientation": "v",
           "showlegend": true,
           "type": "scatter",
           "x": [
            6.340057636887608
           ],
           "xaxis": "x",
           "y": [
            0.20128369704749682
           ],
           "yaxis": "y"
          },
          {
           "hovertemplate": "<b>%{hovertext}</b><br><br>Country=HUN<br>Year=2017<br>GDP growth=%{x}<br>Investments=%{y}<br>size=%{marker.size}<extra></extra>",
           "hovertext": [
            "HUN"
           ],
           "legendgroup": "HUN",
           "marker": {
            "color": "#FF6692",
            "size": [
             20
            ],
            "sizemode": "area",
            "sizeref": 0.2,
            "symbol": "circle"
           },
           "mode": "markers",
           "name": "HUN",
           "orientation": "v",
           "showlegend": true,
           "type": "scatter",
           "x": [
            10.852713178294573
           ],
           "xaxis": "x",
           "y": [
            0.4093141838056681
           ],
           "yaxis": "y"
          },
          {
           "hovertemplate": "<b>%{hovertext}</b><br><br>Country=ITA<br>Year=2017<br>GDP growth=%{x}<br>Investments=%{y}<br>size=%{marker.size}<extra></extra>",
           "hovertext": [
            "ITA"
           ],
           "legendgroup": "ITA",
           "marker": {
            "color": "#B6E880",
            "size": [
             20
            ],
            "sizemode": "area",
            "sizeref": 0.2,
            "symbol": "circle"
           },
           "mode": "markers",
           "name": "ITA",
           "orientation": "v",
           "showlegend": true,
           "type": "scatter",
           "x": [
            4.25531914893617
           ],
           "xaxis": "x",
           "y": [
            0.1770139634801289
           ],
           "yaxis": "y"
          },
          {
           "hovertemplate": "<b>%{hovertext}</b><br><br>Country=JPN<br>Year=2017<br>GDP growth=%{x}<br>Investments=%{y}<br>size=%{marker.size}<extra></extra>",
           "hovertext": [
            "JPN"
           ],
           "legendgroup": "JPN",
           "marker": {
            "color": "#FF97FF",
            "size": [
             20
            ],
            "sizemode": "area",
            "sizeref": 0.2,
            "symbol": "circle"
           },
           "mode": "markers",
           "name": "JPN",
           "orientation": "v",
           "showlegend": true,
           "type": "scatter",
           "x": [
            -1.4000000000000001
           ],
           "xaxis": "x",
           "y": [
            0.28983860651222376
           ],
           "yaxis": "y"
          },
          {
           "hovertemplate": "<b>%{hovertext}</b><br><br>Country=NOR<br>Year=2017<br>GDP growth=%{x}<br>Investments=%{y}<br>size=%{marker.size}<extra></extra>",
           "hovertext": [
            "NOR"
           ],
           "legendgroup": "NOR",
           "marker": {
            "color": "#FECB52",
            "size": [
             20
            ],
            "sizemode": "area",
            "sizeref": 0.2,
            "symbol": "circle"
           },
           "mode": "markers",
           "name": "NOR",
           "orientation": "v",
           "showlegend": true,
           "type": "scatter",
           "x": [
            8.355795148247978
           ],
           "xaxis": "x",
           "y": [
            0.32706520659858607
           ],
           "yaxis": "y"
          },
          {
           "hovertemplate": "<b>%{hovertext}</b><br><br>Country=POL<br>Year=2017<br>GDP growth=%{x}<br>Investments=%{y}<br>size=%{marker.size}<extra></extra>",
           "hovertext": [
            "POL"
           ],
           "legendgroup": "POL",
           "marker": {
            "color": "#636efa",
            "size": [
             20
            ],
            "sizemode": "area",
            "sizeref": 0.2,
            "symbol": "circle"
           },
           "mode": "markers",
           "name": "POL",
           "orientation": "v",
           "showlegend": true,
           "type": "scatter",
           "x": [
            11.702127659574469
           ],
           "xaxis": "x",
           "y": [
            0.10231626572431078
           ],
           "yaxis": "y"
          },
          {
           "hovertemplate": "<b>%{hovertext}</b><br><br>Country=RUS<br>Year=2017<br>GDP growth=%{x}<br>Investments=%{y}<br>size=%{marker.size}<extra></extra>",
           "hovertext": [
            "RUS"
           ],
           "legendgroup": "RUS",
           "marker": {
            "color": "#EF553B",
            "size": [
             20
            ],
            "sizemode": "area",
            "sizeref": 0.2,
            "symbol": "circle"
           },
           "mode": "markers",
           "name": "RUS",
           "orientation": "v",
           "showlegend": true,
           "type": "scatter",
           "x": [
            22.65625
           ],
           "xaxis": "x",
           "y": [
            0.24196124901106267
           ],
           "yaxis": "y"
          },
          {
           "hovertemplate": "<b>%{hovertext}</b><br><br>Country=ESP<br>Year=2017<br>GDP growth=%{x}<br>Investments=%{y}<br>size=%{marker.size}<extra></extra>",
           "hovertext": [
            "ESP"
           ],
           "legendgroup": "ESP",
           "marker": {
            "color": "#00cc96",
            "size": [
             20
            ],
            "sizemode": "area",
            "sizeref": 0.2,
            "symbol": "circle"
           },
           "mode": "markers",
           "name": "ESP",
           "orientation": "v",
           "showlegend": true,
           "type": "scatter",
           "x": [
            6.504065040650407
           ],
           "xaxis": "x",
           "y": [
            0.17798312575331457
           ],
           "yaxis": "y"
          },
          {
           "hovertemplate": "<b>%{hovertext}</b><br><br>Country=SWE<br>Year=2017<br>GDP growth=%{x}<br>Investments=%{y}<br>size=%{marker.size}<extra></extra>",
           "hovertext": [
            "SWE"
           ],
           "legendgroup": "SWE",
           "marker": {
            "color": "#ab63fa",
            "size": [
             20
            ],
            "sizemode": "area",
            "sizeref": 0.2,
            "symbol": "circle"
           },
           "mode": "markers",
           "name": "SWE",
           "orientation": "v",
           "showlegend": true,
           "type": "scatter",
           "x": [
            4.844961240310078
           ],
           "xaxis": "x",
           "y": [
            0.2967179881311412
           ],
           "yaxis": "y"
          },
          {
           "hovertemplate": "<b>%{hovertext}</b><br><br>Country=CHE<br>Year=2017<br>GDP growth=%{x}<br>Investments=%{y}<br>size=%{marker.size}<extra></extra>",
           "hovertext": [
            "CHE"
           ],
           "legendgroup": "CHE",
           "marker": {
            "color": "#FFA15A",
            "size": [
             20
            ],
            "sizemode": "area",
            "sizeref": 0.2,
            "symbol": "circle"
           },
           "mode": "markers",
           "name": "CHE",
           "orientation": "v",
           "showlegend": true,
           "type": "scatter",
           "x": [
            1.0174418604651163
           ],
           "xaxis": "x",
           "y": [
            0.47265836879969714
           ],
           "yaxis": "y"
          },
          {
           "hovertemplate": "<b>%{hovertext}</b><br><br>Country=TUR<br>Year=2017<br>GDP growth=%{x}<br>Investments=%{y}<br>size=%{marker.size}<extra></extra>",
           "hovertext": [
            "TUR"
           ],
           "legendgroup": "TUR",
           "marker": {
            "color": "#19d3f3",
            "size": [
             20
            ],
            "sizemode": "area",
            "sizeref": 0.2,
            "symbol": "circle"
           },
           "mode": "markers",
           "name": "TUR",
           "orientation": "v",
           "showlegend": true,
           "type": "scatter",
           "x": [
            -1.264367816091954
           ],
           "xaxis": "x",
           "y": [
            0.24123215476992832
           ],
           "yaxis": "y"
          },
          {
           "hovertemplate": "<b>%{hovertext}</b><br><br>Country=GBR<br>Year=2017<br>GDP growth=%{x}<br>Investments=%{y}<br>size=%{marker.size}<extra></extra>",
           "hovertext": [
            "GBR"
           ],
           "legendgroup": "GBR",
           "marker": {
            "color": "#FF6692",
            "size": [
             20
            ],
            "sizemode": "area",
            "sizeref": 0.2,
            "symbol": "circle"
           },
           "mode": "markers",
           "name": "GBR",
           "orientation": "v",
           "showlegend": true,
           "type": "scatter",
           "x": [
            -0.7407407407407408
           ],
           "xaxis": "x",
           "y": [
            0.5169485888059702
           ],
           "yaxis": "y"
          }
         ],
         "name": "2017"
        },
        {
         "data": [
          {
           "hovertemplate": "<b>%{hovertext}</b><br><br>Country=AUS<br>Year=2018<br>GDP growth=%{x}<br>Investments=%{y}<br>size=%{marker.size}<extra></extra>",
           "hovertext": [
            "AUS"
           ],
           "legendgroup": "AUS",
           "marker": {
            "color": "#636efa",
            "size": [
             20
            ],
            "sizemode": "area",
            "sizeref": 0.2,
            "symbol": "circle"
           },
           "mode": "markers",
           "name": "AUS",
           "orientation": "v",
           "showlegend": true,
           "type": "scatter",
           "x": [
            7.518796992481203
           ],
           "xaxis": "x",
           "y": [
            0.34069597791682005
           ],
           "yaxis": "y"
          },
          {
           "hovertemplate": "<b>%{hovertext}</b><br><br>Country=AZE<br>Year=2018<br>GDP growth=%{x}<br>Investments=%{y}<br>size=%{marker.size}<extra></extra>",
           "hovertext": [
            "AZE"
           ],
           "legendgroup": "AZE",
           "marker": {
            "color": "#EF553B",
            "size": [
             20
            ],
            "sizemode": "area",
            "sizeref": 0.2,
            "symbol": "circle"
           },
           "mode": "markers",
           "name": "AZE",
           "orientation": "v",
           "showlegend": true,
           "type": "scatter",
           "x": [
            15.283489066737687
           ],
           "xaxis": "x",
           "y": [
            0.0077865489269269604
           ],
           "yaxis": "y"
          },
          {
           "hovertemplate": "<b>%{hovertext}</b><br><br>Country=CZE<br>Year=2018<br>GDP growth=%{x}<br>Investments=%{y}<br>size=%{marker.size}<extra></extra>",
           "hovertext": [
            "CZE"
           ],
           "legendgroup": "CZE",
           "marker": {
            "color": "#00cc96",
            "size": [
             20
            ],
            "sizemode": "area",
            "sizeref": 0.2,
            "symbol": "circle"
           },
           "mode": "markers",
           "name": "CZE",
           "orientation": "v",
           "showlegend": true,
           "type": "scatter",
           "x": [
            13.698630136986301
           ],
           "xaxis": "x",
           "y": [
            0.3132771289367999
           ],
           "yaxis": "y"
          },
          {
           "hovertemplate": "<b>%{hovertext}</b><br><br>Country=FIN<br>Year=2018<br>GDP growth=%{x}<br>Investments=%{y}<br>size=%{marker.size}<extra></extra>",
           "hovertext": [
            "FIN"
           ],
           "legendgroup": "FIN",
           "marker": {
            "color": "#ab63fa",
            "size": [
             20
            ],
            "sizemode": "area",
            "sizeref": 0.2,
            "symbol": "circle"
           },
           "mode": "markers",
           "name": "FIN",
           "orientation": "v",
           "showlegend": true,
           "type": "scatter",
           "x": [
            7.8125
           ],
           "xaxis": "x",
           "y": [
            0.18726163234172388
           ],
           "yaxis": "y"
          },
          {
           "hovertemplate": "<b>%{hovertext}</b><br><br>Country=FRA<br>Year=2018<br>GDP growth=%{x}<br>Investments=%{y}<br>size=%{marker.size}<extra></extra>",
           "hovertext": [
            "FRA"
           ],
           "legendgroup": "FRA",
           "marker": {
            "color": "#FFA15A",
            "size": [
             20
            ],
            "sizemode": "area",
            "sizeref": 0.2,
            "symbol": "circle"
           },
           "mode": "markers",
           "name": "FRA",
           "orientation": "v",
           "showlegend": true,
           "type": "scatter",
           "x": [
            7.307692307692308
           ],
           "xaxis": "x",
           "y": [
            0.38803559324655723
           ],
           "yaxis": "y"
          },
          {
           "hovertemplate": "<b>%{hovertext}</b><br><br>Country=DEU<br>Year=2018<br>GDP growth=%{x}<br>Investments=%{y}<br>size=%{marker.size}<extra></extra>",
           "hovertext": [
            "DEU"
           ],
           "legendgroup": "DEU",
           "marker": {
            "color": "#19d3f3",
            "size": [
             20
            ],
            "sizemode": "area",
            "sizeref": 0.2,
            "symbol": "circle"
           },
           "mode": "markers",
           "name": "DEU",
           "orientation": "v",
           "showlegend": true,
           "type": "scatter",
           "x": [
            7.588075880758807
           ],
           "xaxis": "x",
           "y": [
            0.20124618851915685
           ],
           "yaxis": "y"
          },
          {
           "hovertemplate": "<b>%{hovertext}</b><br><br>Country=HUN<br>Year=2018<br>GDP growth=%{x}<br>Investments=%{y}<br>size=%{marker.size}<extra></extra>",
           "hovertext": [
            "HUN"
           ],
           "legendgroup": "HUN",
           "marker": {
            "color": "#FF6692",
            "size": [
             20
            ],
            "sizemode": "area",
            "sizeref": 0.2,
            "symbol": "circle"
           },
           "mode": "markers",
           "name": "HUN",
           "orientation": "v",
           "showlegend": true,
           "type": "scatter",
           "x": [
            12.587412587412588
           ],
           "xaxis": "x",
           "y": [
            0.5250927180778032
           ],
           "yaxis": "y"
          },
          {
           "hovertemplate": "<b>%{hovertext}</b><br><br>Country=ITA<br>Year=2018<br>GDP growth=%{x}<br>Investments=%{y}<br>size=%{marker.size}<extra></extra>",
           "hovertext": [
            "ITA"
           ],
           "legendgroup": "ITA",
           "marker": {
            "color": "#B6E880",
            "size": [
             20
            ],
            "sizemode": "area",
            "sizeref": 0.2,
            "symbol": "circle"
           },
           "mode": "markers",
           "name": "ITA",
           "orientation": "v",
           "showlegend": true,
           "type": "scatter",
           "x": [
            6.63265306122449
           ],
           "xaxis": "x",
           "y": [
            0.1437924955930496
           ],
           "yaxis": "y"
          },
          {
           "hovertemplate": "<b>%{hovertext}</b><br><br>Country=JPN<br>Year=2018<br>GDP growth=%{x}<br>Investments=%{y}<br>size=%{marker.size}<extra></extra>",
           "hovertext": [
            "JPN"
           ],
           "legendgroup": "JPN",
           "marker": {
            "color": "#FF97FF",
            "size": [
             20
            ],
            "sizemode": "area",
            "sizeref": 0.2,
            "symbol": "circle"
           },
           "mode": "markers",
           "name": "JPN",
           "orientation": "v",
           "showlegend": true,
           "type": "scatter",
           "x": [
            2.231237322515213
           ],
           "xaxis": "x",
           "y": [
            0.31586516002506265
           ],
           "yaxis": "y"
          },
          {
           "hovertemplate": "<b>%{hovertext}</b><br><br>Country=NOR<br>Year=2018<br>GDP growth=%{x}<br>Investments=%{y}<br>size=%{marker.size}<extra></extra>",
           "hovertext": [
            "NOR"
           ],
           "legendgroup": "NOR",
           "marker": {
            "color": "#FECB52",
            "size": [
             20
            ],
            "sizemode": "area",
            "sizeref": 0.2,
            "symbol": "circle"
           },
           "mode": "markers",
           "name": "NOR",
           "orientation": "v",
           "showlegend": true,
           "type": "scatter",
           "x": [
            9.45273631840796
           ],
           "xaxis": "x",
           "y": [
            0.31499725837320575
           ],
           "yaxis": "y"
          },
          {
           "hovertemplate": "<b>%{hovertext}</b><br><br>Country=POL<br>Year=2018<br>GDP growth=%{x}<br>Investments=%{y}<br>size=%{marker.size}<extra></extra>",
           "hovertext": [
            "POL"
           ],
           "legendgroup": "POL",
           "marker": {
            "color": "#636efa",
            "size": [
             20
            ],
            "sizemode": "area",
            "sizeref": 0.2,
            "symbol": "circle"
           },
           "mode": "markers",
           "name": "POL",
           "orientation": "v",
           "showlegend": true,
           "type": "scatter",
           "x": [
            12.19047619047619
           ],
           "xaxis": "x",
           "y": [
            0.08254968701635243
           ],
           "yaxis": "y"
          },
          {
           "hovertemplate": "<b>%{hovertext}</b><br><br>Country=RUS<br>Year=2018<br>GDP growth=%{x}<br>Investments=%{y}<br>size=%{marker.size}<extra></extra>",
           "hovertext": [
            "RUS"
           ],
           "legendgroup": "RUS",
           "marker": {
            "color": "#EF553B",
            "size": [
             20
            ],
            "sizemode": "area",
            "sizeref": 0.2,
            "symbol": "circle"
           },
           "mode": "markers",
           "name": "RUS",
           "orientation": "v",
           "showlegend": true,
           "type": "scatter",
           "x": [
            5.7324840764331215
           ],
           "xaxis": "x",
           "y": [
            0.27616878890298036
           ],
           "yaxis": "y"
          },
          {
           "hovertemplate": "<b>%{hovertext}</b><br><br>Country=ESP<br>Year=2018<br>GDP growth=%{x}<br>Investments=%{y}<br>size=%{marker.size}<extra></extra>",
           "hovertext": [
            "ESP"
           ],
           "legendgroup": "ESP",
           "marker": {
            "color": "#00cc96",
            "size": [
             20
            ],
            "sizemode": "area",
            "sizeref": 0.2,
            "symbol": "circle"
           },
           "mode": "markers",
           "name": "ESP",
           "orientation": "v",
           "showlegend": true,
           "type": "scatter",
           "x": [
            8.396946564885496
           ],
           "xaxis": "x",
           "y": [
            0.16071163825055595
           ],
           "yaxis": "y"
          },
          {
           "hovertemplate": "<b>%{hovertext}</b><br><br>Country=SWE<br>Year=2018<br>GDP growth=%{x}<br>Investments=%{y}<br>size=%{marker.size}<extra></extra>",
           "hovertext": [
            "SWE"
           ],
           "legendgroup": "SWE",
           "marker": {
            "color": "#ab63fa",
            "size": [
             20
            ],
            "sizemode": "area",
            "sizeref": 0.2,
            "symbol": "circle"
           },
           "mode": "markers",
           "name": "SWE",
           "orientation": "v",
           "showlegend": true,
           "type": "scatter",
           "x": [
            2.5878003696857674
           ],
           "xaxis": "x",
           "y": [
            0.27014272413466095
           ],
           "yaxis": "y"
          },
          {
           "hovertemplate": "<b>%{hovertext}</b><br><br>Country=CHE<br>Year=2018<br>GDP growth=%{x}<br>Investments=%{y}<br>size=%{marker.size}<extra></extra>",
           "hovertext": [
            "CHE"
           ],
           "legendgroup": "CHE",
           "marker": {
            "color": "#FFA15A",
            "size": [
             20
            ],
            "sizemode": "area",
            "sizeref": 0.2,
            "symbol": "circle"
           },
           "mode": "markers",
           "name": "CHE",
           "orientation": "v",
           "showlegend": true,
           "type": "scatter",
           "x": [
            4.460431654676259
           ],
           "xaxis": "x",
           "y": [
            0.44630833521821084
           ],
           "yaxis": "y"
          },
          {
           "hovertemplate": "<b>%{hovertext}</b><br><br>Country=TUR<br>Year=2018<br>GDP growth=%{x}<br>Investments=%{y}<br>size=%{marker.size}<extra></extra>",
           "hovertext": [
            "TUR"
           ],
           "legendgroup": "TUR",
           "marker": {
            "color": "#19d3f3",
            "size": [
             20
            ],
            "sizemode": "area",
            "sizeref": 0.2,
            "symbol": "circle"
           },
           "mode": "markers",
           "name": "TUR",
           "orientation": "v",
           "showlegend": true,
           "type": "scatter",
           "x": [
            -9.429569266589057
           ],
           "xaxis": "x",
           "y": [
            0.2704678672710053
           ],
           "yaxis": "y"
          },
          {
           "hovertemplate": "<b>%{hovertext}</b><br><br>Country=GBR<br>Year=2018<br>GDP growth=%{x}<br>Investments=%{y}<br>size=%{marker.size}<extra></extra>",
           "hovertext": [
            "GBR"
           ],
           "legendgroup": "GBR",
           "marker": {
            "color": "#FF6692",
            "size": [
             20
            ],
            "sizemode": "area",
            "sizeref": 0.2,
            "symbol": "circle"
           },
           "mode": "markers",
           "name": "GBR",
           "orientation": "v",
           "showlegend": true,
           "type": "scatter",
           "x": [
            7.462686567164178
           ],
           "xaxis": "x",
           "y": [
            0.4949907733552632
           ],
           "yaxis": "y"
          }
         ],
         "name": "2018"
        },
        {
         "data": [
          {
           "hovertemplate": "<b>%{hovertext}</b><br><br>Country=AUS<br>Year=2019<br>GDP growth=%{x}<br>Investments=%{y}<br>size=%{marker.size}<extra></extra>",
           "hovertext": [
            "AUS"
           ],
           "legendgroup": "AUS",
           "marker": {
            "color": "#636efa",
            "size": [
             20
            ],
            "sizemode": "area",
            "sizeref": 0.2,
            "symbol": "circle"
           },
           "mode": "markers",
           "name": "AUS",
           "orientation": "v",
           "showlegend": true,
           "type": "scatter",
           "x": [
            -2.797202797202797
           ],
           "xaxis": "x",
           "y": [
            0.37373706164331694
           ],
           "yaxis": "y"
          },
          {
           "hovertemplate": "<b>%{hovertext}</b><br><br>Country=AZE<br>Year=2019<br>GDP growth=%{x}<br>Investments=%{y}<br>size=%{marker.size}<extra></extra>",
           "hovertext": [
            "AZE"
           ],
           "legendgroup": "AZE",
           "marker": {
            "color": "#EF553B",
            "size": [
             20
            ],
            "sizemode": "area",
            "sizeref": 0.2,
            "symbol": "circle"
           },
           "mode": "markers",
           "name": "AZE",
           "orientation": "v",
           "showlegend": true,
           "type": "scatter",
           "x": [
            2.2536619193545664
           ],
           "xaxis": "x",
           "y": [
            0.0011480328563566553
           ],
           "yaxis": "y"
          },
          {
           "hovertemplate": "<b>%{hovertext}</b><br><br>Country=CZE<br>Year=2019<br>GDP growth=%{x}<br>Investments=%{y}<br>size=%{marker.size}<extra></extra>",
           "hovertext": [
            "CZE"
           ],
           "legendgroup": "CZE",
           "marker": {
            "color": "#00cc96",
            "size": [
             20
            ],
            "sizemode": "area",
            "sizeref": 0.2,
            "symbol": "circle"
           },
           "mode": "markers",
           "name": "CZE",
           "orientation": "v",
           "showlegend": true,
           "type": "scatter",
           "x": [
            1.6064257028112447
           ],
           "xaxis": "x",
           "y": [
            0.3173879504056584
           ],
           "yaxis": "y"
          },
          {
           "hovertemplate": "<b>%{hovertext}</b><br><br>Country=FIN<br>Year=2019<br>GDP growth=%{x}<br>Investments=%{y}<br>size=%{marker.size}<extra></extra>",
           "hovertext": [
            "FIN"
           ],
           "legendgroup": "FIN",
           "marker": {
            "color": "#ab63fa",
            "size": [
             20
            ],
            "sizemode": "area",
            "sizeref": 0.2,
            "symbol": "circle"
           },
           "mode": "markers",
           "name": "FIN",
           "orientation": "v",
           "showlegend": true,
           "type": "scatter",
           "x": [
            -2.536231884057971
           ],
           "xaxis": "x",
           "y": [
            0.18078653883780085
           ],
           "yaxis": "y"
          },
          {
           "hovertemplate": "<b>%{hovertext}</b><br><br>Country=FRA<br>Year=2019<br>GDP growth=%{x}<br>Investments=%{y}<br>size=%{marker.size}<extra></extra>",
           "hovertext": [
            "FRA"
           ],
           "legendgroup": "FRA",
           "marker": {
            "color": "#FFA15A",
            "size": [
             20
            ],
            "sizemode": "area",
            "sizeref": 0.2,
            "symbol": "circle"
           },
           "mode": "markers",
           "name": "FRA",
           "orientation": "v",
           "showlegend": true,
           "type": "scatter",
           "x": [
            -2.1505376344086025
           ],
           "xaxis": "x",
           "y": [
            0.4445106180451129
           ],
           "yaxis": "y"
          },
          {
           "hovertemplate": "<b>%{hovertext}</b><br><br>Country=DEU<br>Year=2019<br>GDP growth=%{x}<br>Investments=%{y}<br>size=%{marker.size}<extra></extra>",
           "hovertext": [
            "DEU"
           ],
           "legendgroup": "DEU",
           "marker": {
            "color": "#19d3f3",
            "size": [
             20
            ],
            "sizemode": "area",
            "sizeref": 0.2,
            "symbol": "circle"
           },
           "mode": "markers",
           "name": "DEU",
           "orientation": "v",
           "showlegend": true,
           "type": "scatter",
           "x": [
            -2.0151133501259446
           ],
           "xaxis": "x",
           "y": [
            0.23209308618590174
           ],
           "yaxis": "y"
          },
          {
           "hovertemplate": "<b>%{hovertext}</b><br><br>Country=HUN<br>Year=2019<br>GDP growth=%{x}<br>Investments=%{y}<br>size=%{marker.size}<extra></extra>",
           "hovertext": [
            "HUN"
           ],
           "legendgroup": "HUN",
           "marker": {
            "color": "#FF6692",
            "size": [
             20
            ],
            "sizemode": "area",
            "sizeref": 0.2,
            "symbol": "circle"
           },
           "mode": "markers",
           "name": "HUN",
           "orientation": "v",
           "showlegend": true,
           "type": "scatter",
           "x": [
            1.8633540372670807
           ],
           "xaxis": "x",
           "y": [
            0.5647258462772786
           ],
           "yaxis": "y"
          },
          {
           "hovertemplate": "<b>%{hovertext}</b><br><br>Country=ITA<br>Year=2019<br>GDP growth=%{x}<br>Investments=%{y}<br>size=%{marker.size}<extra></extra>",
           "hovertext": [
            "ITA"
           ],
           "legendgroup": "ITA",
           "marker": {
            "color": "#B6E880",
            "size": [
             20
            ],
            "sizemode": "area",
            "sizeref": 0.2,
            "symbol": "circle"
           },
           "mode": "markers",
           "name": "ITA",
           "orientation": "v",
           "showlegend": true,
           "type": "scatter",
           "x": [
            -3.827751196172249
           ],
           "xaxis": "x",
           "y": [
            0.2223618748363446
           ],
           "yaxis": "y"
          },
          {
           "hovertemplate": "<b>%{hovertext}</b><br><br>Country=JPN<br>Year=2019<br>GDP growth=%{x}<br>Investments=%{y}<br>size=%{marker.size}<extra></extra>",
           "hovertext": [
            "JPN"
           ],
           "legendgroup": "JPN",
           "marker": {
            "color": "#FF97FF",
            "size": [
             20
            ],
            "sizemode": "area",
            "sizeref": 0.2,
            "symbol": "circle"
           },
           "mode": "markers",
           "name": "JPN",
           "orientation": "v",
           "showlegend": true,
           "type": "scatter",
           "x": [
            1.5873015873015872
           ],
           "xaxis": "x",
           "y": [
            0.3610175560238487
           ],
           "yaxis": "y"
          },
          {
           "hovertemplate": "<b>%{hovertext}</b><br><br>Country=NOR<br>Year=2019<br>GDP growth=%{x}<br>Investments=%{y}<br>size=%{marker.size}<extra></extra>",
           "hovertext": [
            "NOR"
           ],
           "legendgroup": "NOR",
           "marker": {
            "color": "#FECB52",
            "size": [
             20
            ],
            "sizemode": "area",
            "sizeref": 0.2,
            "symbol": "circle"
           },
           "mode": "markers",
           "name": "NOR",
           "orientation": "v",
           "showlegend": true,
           "type": "scatter",
           "x": [
            -7.045454545454545
           ],
           "xaxis": "x",
           "y": [
            0.39557357534422855
           ],
           "yaxis": "y"
          },
          {
           "hovertemplate": "<b>%{hovertext}</b><br><br>Country=POL<br>Year=2019<br>GDP growth=%{x}<br>Investments=%{y}<br>size=%{marker.size}<extra></extra>",
           "hovertext": [
            "POL"
           ],
           "legendgroup": "POL",
           "marker": {
            "color": "#636efa",
            "size": [
             20
            ],
            "sizemode": "area",
            "sizeref": 0.2,
            "symbol": "circle"
           },
           "mode": "markers",
           "name": "POL",
           "orientation": "v",
           "showlegend": true,
           "type": "scatter",
           "x": [
            1.1884550084889642
           ],
           "xaxis": "x",
           "y": [
            0.11564805755916638
           ],
           "yaxis": "y"
          },
          {
           "hovertemplate": "<b>%{hovertext}</b><br><br>Country=RUS<br>Year=2019<br>GDP growth=%{x}<br>Investments=%{y}<br>size=%{marker.size}<extra></extra>",
           "hovertext": [
            "RUS"
           ],
           "legendgroup": "RUS",
           "marker": {
            "color": "#EF553B",
            "size": [
             20
            ],
            "sizemode": "area",
            "sizeref": 0.2,
            "symbol": "circle"
           },
           "mode": "markers",
           "name": "RUS",
           "orientation": "v",
           "showlegend": true,
           "type": "scatter",
           "x": [
            1.8072289156626504
           ],
           "xaxis": "x",
           "y": [
            0.4159368568670197
           ],
           "yaxis": "y"
          },
          {
           "hovertemplate": "<b>%{hovertext}</b><br><br>Country=ESP<br>Year=2019<br>GDP growth=%{x}<br>Investments=%{y}<br>size=%{marker.size}<extra></extra>",
           "hovertext": [
            "ESP"
           ],
           "legendgroup": "ESP",
           "marker": {
            "color": "#00cc96",
            "size": [
             20
            ],
            "sizemode": "area",
            "sizeref": 0.2,
            "symbol": "circle"
           },
           "mode": "markers",
           "name": "ESP",
           "orientation": "v",
           "showlegend": true,
           "type": "scatter",
           "x": [
            -2.112676056338028
           ],
           "xaxis": "x",
           "y": [
            0.16796667928814846
           ],
           "yaxis": "y"
          },
          {
           "hovertemplate": "<b>%{hovertext}</b><br><br>Country=SWE<br>Year=2019<br>GDP growth=%{x}<br>Investments=%{y}<br>size=%{marker.size}<extra></extra>",
           "hovertext": [
            "SWE"
           ],
           "legendgroup": "SWE",
           "marker": {
            "color": "#ab63fa",
            "size": [
             20
            ],
            "sizemode": "area",
            "sizeref": 0.2,
            "symbol": "circle"
           },
           "mode": "markers",
           "name": "SWE",
           "orientation": "v",
           "showlegend": true,
           "type": "scatter",
           "x": [
            -3.783783783783784
           ],
           "xaxis": "x",
           "y": [
            0.33343928543268286
           ],
           "yaxis": "y"
          },
          {
           "hovertemplate": "<b>%{hovertext}</b><br><br>Country=CHE<br>Year=2019<br>GDP growth=%{x}<br>Investments=%{y}<br>size=%{marker.size}<extra></extra>",
           "hovertext": [
            "CHE"
           ],
           "legendgroup": "CHE",
           "marker": {
            "color": "#FFA15A",
            "size": [
             20
            ],
            "sizemode": "area",
            "sizeref": 0.2,
            "symbol": "circle"
           },
           "mode": "markers",
           "name": "CHE",
           "orientation": "v",
           "showlegend": true,
           "type": "scatter",
           "x": [
            -0.6887052341597797
           ],
           "xaxis": "x",
           "y": [
            0.5014801240966494
           ],
           "yaxis": "y"
          },
          {
           "hovertemplate": "<b>%{hovertext}</b><br><br>Country=TUR<br>Year=2019<br>GDP growth=%{x}<br>Investments=%{y}<br>size=%{marker.size}<extra></extra>",
           "hovertext": [
            "TUR"
           ],
           "legendgroup": "TUR",
           "marker": {
            "color": "#19d3f3",
            "size": [
             20
            ],
            "sizemode": "area",
            "sizeref": 0.2,
            "symbol": "circle"
           },
           "mode": "markers",
           "name": "TUR",
           "orientation": "v",
           "showlegend": true,
           "type": "scatter",
           "x": [
            -2.313624678663239
           ],
           "xaxis": "x",
           "y": [
            0.2733124623268698
           ],
           "yaxis": "y"
          },
          {
           "hovertemplate": "<b>%{hovertext}</b><br><br>Country=GBR<br>Year=2019<br>GDP growth=%{x}<br>Investments=%{y}<br>size=%{marker.size}<extra></extra>",
           "hovertext": [
            "GBR"
           ],
           "legendgroup": "GBR",
           "marker": {
            "color": "#FF6692",
            "size": [
             20
            ],
            "sizemode": "area",
            "sizeref": 0.2,
            "symbol": "circle"
           },
           "mode": "markers",
           "name": "GBR",
           "orientation": "v",
           "showlegend": true,
           "type": "scatter",
           "x": [
            -0.6944444444444444
           ],
           "xaxis": "x",
           "y": [
            0.48945016120721385
           ],
           "yaxis": "y"
          }
         ],
         "name": "2019"
        }
       ],
       "layout": {
        "legend": {
         "itemsizing": "constant",
         "title": {
          "text": "Country"
         },
         "tracegroupgap": 0
        },
        "margin": {
         "t": 60
        },
        "sliders": [
         {
          "active": 0,
          "currentvalue": {
           "prefix": "Year="
          },
          "len": 0.9,
          "pad": {
           "b": 10,
           "t": 60
          },
          "steps": [
           {
            "args": [
             [
              "1999"
             ],
             {
              "frame": {
               "duration": 0,
               "redraw": false
              },
              "fromcurrent": true,
              "mode": "immediate",
              "transition": {
               "duration": 0,
               "easing": "linear"
              }
             }
            ],
            "label": "1999",
            "method": "animate"
           },
           {
            "args": [
             [
              "2000"
             ],
             {
              "frame": {
               "duration": 0,
               "redraw": false
              },
              "fromcurrent": true,
              "mode": "immediate",
              "transition": {
               "duration": 0,
               "easing": "linear"
              }
             }
            ],
            "label": "2000",
            "method": "animate"
           },
           {
            "args": [
             [
              "2001"
             ],
             {
              "frame": {
               "duration": 0,
               "redraw": false
              },
              "fromcurrent": true,
              "mode": "immediate",
              "transition": {
               "duration": 0,
               "easing": "linear"
              }
             }
            ],
            "label": "2001",
            "method": "animate"
           },
           {
            "args": [
             [
              "2002"
             ],
             {
              "frame": {
               "duration": 0,
               "redraw": false
              },
              "fromcurrent": true,
              "mode": "immediate",
              "transition": {
               "duration": 0,
               "easing": "linear"
              }
             }
            ],
            "label": "2002",
            "method": "animate"
           },
           {
            "args": [
             [
              "2003"
             ],
             {
              "frame": {
               "duration": 0,
               "redraw": false
              },
              "fromcurrent": true,
              "mode": "immediate",
              "transition": {
               "duration": 0,
               "easing": "linear"
              }
             }
            ],
            "label": "2003",
            "method": "animate"
           },
           {
            "args": [
             [
              "2004"
             ],
             {
              "frame": {
               "duration": 0,
               "redraw": false
              },
              "fromcurrent": true,
              "mode": "immediate",
              "transition": {
               "duration": 0,
               "easing": "linear"
              }
             }
            ],
            "label": "2004",
            "method": "animate"
           },
           {
            "args": [
             [
              "2005"
             ],
             {
              "frame": {
               "duration": 0,
               "redraw": false
              },
              "fromcurrent": true,
              "mode": "immediate",
              "transition": {
               "duration": 0,
               "easing": "linear"
              }
             }
            ],
            "label": "2005",
            "method": "animate"
           },
           {
            "args": [
             [
              "2006"
             ],
             {
              "frame": {
               "duration": 0,
               "redraw": false
              },
              "fromcurrent": true,
              "mode": "immediate",
              "transition": {
               "duration": 0,
               "easing": "linear"
              }
             }
            ],
            "label": "2006",
            "method": "animate"
           },
           {
            "args": [
             [
              "2007"
             ],
             {
              "frame": {
               "duration": 0,
               "redraw": false
              },
              "fromcurrent": true,
              "mode": "immediate",
              "transition": {
               "duration": 0,
               "easing": "linear"
              }
             }
            ],
            "label": "2007",
            "method": "animate"
           },
           {
            "args": [
             [
              "2008"
             ],
             {
              "frame": {
               "duration": 0,
               "redraw": false
              },
              "fromcurrent": true,
              "mode": "immediate",
              "transition": {
               "duration": 0,
               "easing": "linear"
              }
             }
            ],
            "label": "2008",
            "method": "animate"
           },
           {
            "args": [
             [
              "2009"
             ],
             {
              "frame": {
               "duration": 0,
               "redraw": false
              },
              "fromcurrent": true,
              "mode": "immediate",
              "transition": {
               "duration": 0,
               "easing": "linear"
              }
             }
            ],
            "label": "2009",
            "method": "animate"
           },
           {
            "args": [
             [
              "2010"
             ],
             {
              "frame": {
               "duration": 0,
               "redraw": false
              },
              "fromcurrent": true,
              "mode": "immediate",
              "transition": {
               "duration": 0,
               "easing": "linear"
              }
             }
            ],
            "label": "2010",
            "method": "animate"
           },
           {
            "args": [
             [
              "2011"
             ],
             {
              "frame": {
               "duration": 0,
               "redraw": false
              },
              "fromcurrent": true,
              "mode": "immediate",
              "transition": {
               "duration": 0,
               "easing": "linear"
              }
             }
            ],
            "label": "2011",
            "method": "animate"
           },
           {
            "args": [
             [
              "2012"
             ],
             {
              "frame": {
               "duration": 0,
               "redraw": false
              },
              "fromcurrent": true,
              "mode": "immediate",
              "transition": {
               "duration": 0,
               "easing": "linear"
              }
             }
            ],
            "label": "2012",
            "method": "animate"
           },
           {
            "args": [
             [
              "2013"
             ],
             {
              "frame": {
               "duration": 0,
               "redraw": false
              },
              "fromcurrent": true,
              "mode": "immediate",
              "transition": {
               "duration": 0,
               "easing": "linear"
              }
             }
            ],
            "label": "2013",
            "method": "animate"
           },
           {
            "args": [
             [
              "2014"
             ],
             {
              "frame": {
               "duration": 0,
               "redraw": false
              },
              "fromcurrent": true,
              "mode": "immediate",
              "transition": {
               "duration": 0,
               "easing": "linear"
              }
             }
            ],
            "label": "2014",
            "method": "animate"
           },
           {
            "args": [
             [
              "2015"
             ],
             {
              "frame": {
               "duration": 0,
               "redraw": false
              },
              "fromcurrent": true,
              "mode": "immediate",
              "transition": {
               "duration": 0,
               "easing": "linear"
              }
             }
            ],
            "label": "2015",
            "method": "animate"
           },
           {
            "args": [
             [
              "2016"
             ],
             {
              "frame": {
               "duration": 0,
               "redraw": false
              },
              "fromcurrent": true,
              "mode": "immediate",
              "transition": {
               "duration": 0,
               "easing": "linear"
              }
             }
            ],
            "label": "2016",
            "method": "animate"
           },
           {
            "args": [
             [
              "2017"
             ],
             {
              "frame": {
               "duration": 0,
               "redraw": false
              },
              "fromcurrent": true,
              "mode": "immediate",
              "transition": {
               "duration": 0,
               "easing": "linear"
              }
             }
            ],
            "label": "2017",
            "method": "animate"
           },
           {
            "args": [
             [
              "2018"
             ],
             {
              "frame": {
               "duration": 0,
               "redraw": false
              },
              "fromcurrent": true,
              "mode": "immediate",
              "transition": {
               "duration": 0,
               "easing": "linear"
              }
             }
            ],
            "label": "2018",
            "method": "animate"
           },
           {
            "args": [
             [
              "2019"
             ],
             {
              "frame": {
               "duration": 0,
               "redraw": false
              },
              "fromcurrent": true,
              "mode": "immediate",
              "transition": {
               "duration": 0,
               "easing": "linear"
              }
             }
            ],
            "label": "2019",
            "method": "animate"
           }
          ],
          "x": 0.1,
          "xanchor": "left",
          "y": 0,
          "yanchor": "top"
         }
        ],
        "template": {
         "data": {
          "bar": [
           {
            "error_x": {
             "color": "#2a3f5f"
            },
            "error_y": {
             "color": "#2a3f5f"
            },
            "marker": {
             "line": {
              "color": "#E5ECF6",
              "width": 0.5
             },
             "pattern": {
              "fillmode": "overlay",
              "size": 10,
              "solidity": 0.2
             }
            },
            "type": "bar"
           }
          ],
          "barpolar": [
           {
            "marker": {
             "line": {
              "color": "#E5ECF6",
              "width": 0.5
             },
             "pattern": {
              "fillmode": "overlay",
              "size": 10,
              "solidity": 0.2
             }
            },
            "type": "barpolar"
           }
          ],
          "carpet": [
           {
            "aaxis": {
             "endlinecolor": "#2a3f5f",
             "gridcolor": "white",
             "linecolor": "white",
             "minorgridcolor": "white",
             "startlinecolor": "#2a3f5f"
            },
            "baxis": {
             "endlinecolor": "#2a3f5f",
             "gridcolor": "white",
             "linecolor": "white",
             "minorgridcolor": "white",
             "startlinecolor": "#2a3f5f"
            },
            "type": "carpet"
           }
          ],
          "choropleth": [
           {
            "colorbar": {
             "outlinewidth": 0,
             "ticks": ""
            },
            "type": "choropleth"
           }
          ],
          "contour": [
           {
            "colorbar": {
             "outlinewidth": 0,
             "ticks": ""
            },
            "colorscale": [
             [
              0,
              "#0d0887"
             ],
             [
              0.1111111111111111,
              "#46039f"
             ],
             [
              0.2222222222222222,
              "#7201a8"
             ],
             [
              0.3333333333333333,
              "#9c179e"
             ],
             [
              0.4444444444444444,
              "#bd3786"
             ],
             [
              0.5555555555555556,
              "#d8576b"
             ],
             [
              0.6666666666666666,
              "#ed7953"
             ],
             [
              0.7777777777777778,
              "#fb9f3a"
             ],
             [
              0.8888888888888888,
              "#fdca26"
             ],
             [
              1,
              "#f0f921"
             ]
            ],
            "type": "contour"
           }
          ],
          "contourcarpet": [
           {
            "colorbar": {
             "outlinewidth": 0,
             "ticks": ""
            },
            "type": "contourcarpet"
           }
          ],
          "heatmap": [
           {
            "colorbar": {
             "outlinewidth": 0,
             "ticks": ""
            },
            "colorscale": [
             [
              0,
              "#0d0887"
             ],
             [
              0.1111111111111111,
              "#46039f"
             ],
             [
              0.2222222222222222,
              "#7201a8"
             ],
             [
              0.3333333333333333,
              "#9c179e"
             ],
             [
              0.4444444444444444,
              "#bd3786"
             ],
             [
              0.5555555555555556,
              "#d8576b"
             ],
             [
              0.6666666666666666,
              "#ed7953"
             ],
             [
              0.7777777777777778,
              "#fb9f3a"
             ],
             [
              0.8888888888888888,
              "#fdca26"
             ],
             [
              1,
              "#f0f921"
             ]
            ],
            "type": "heatmap"
           }
          ],
          "heatmapgl": [
           {
            "colorbar": {
             "outlinewidth": 0,
             "ticks": ""
            },
            "colorscale": [
             [
              0,
              "#0d0887"
             ],
             [
              0.1111111111111111,
              "#46039f"
             ],
             [
              0.2222222222222222,
              "#7201a8"
             ],
             [
              0.3333333333333333,
              "#9c179e"
             ],
             [
              0.4444444444444444,
              "#bd3786"
             ],
             [
              0.5555555555555556,
              "#d8576b"
             ],
             [
              0.6666666666666666,
              "#ed7953"
             ],
             [
              0.7777777777777778,
              "#fb9f3a"
             ],
             [
              0.8888888888888888,
              "#fdca26"
             ],
             [
              1,
              "#f0f921"
             ]
            ],
            "type": "heatmapgl"
           }
          ],
          "histogram": [
           {
            "marker": {
             "pattern": {
              "fillmode": "overlay",
              "size": 10,
              "solidity": 0.2
             }
            },
            "type": "histogram"
           }
          ],
          "histogram2d": [
           {
            "colorbar": {
             "outlinewidth": 0,
             "ticks": ""
            },
            "colorscale": [
             [
              0,
              "#0d0887"
             ],
             [
              0.1111111111111111,
              "#46039f"
             ],
             [
              0.2222222222222222,
              "#7201a8"
             ],
             [
              0.3333333333333333,
              "#9c179e"
             ],
             [
              0.4444444444444444,
              "#bd3786"
             ],
             [
              0.5555555555555556,
              "#d8576b"
             ],
             [
              0.6666666666666666,
              "#ed7953"
             ],
             [
              0.7777777777777778,
              "#fb9f3a"
             ],
             [
              0.8888888888888888,
              "#fdca26"
             ],
             [
              1,
              "#f0f921"
             ]
            ],
            "type": "histogram2d"
           }
          ],
          "histogram2dcontour": [
           {
            "colorbar": {
             "outlinewidth": 0,
             "ticks": ""
            },
            "colorscale": [
             [
              0,
              "#0d0887"
             ],
             [
              0.1111111111111111,
              "#46039f"
             ],
             [
              0.2222222222222222,
              "#7201a8"
             ],
             [
              0.3333333333333333,
              "#9c179e"
             ],
             [
              0.4444444444444444,
              "#bd3786"
             ],
             [
              0.5555555555555556,
              "#d8576b"
             ],
             [
              0.6666666666666666,
              "#ed7953"
             ],
             [
              0.7777777777777778,
              "#fb9f3a"
             ],
             [
              0.8888888888888888,
              "#fdca26"
             ],
             [
              1,
              "#f0f921"
             ]
            ],
            "type": "histogram2dcontour"
           }
          ],
          "mesh3d": [
           {
            "colorbar": {
             "outlinewidth": 0,
             "ticks": ""
            },
            "type": "mesh3d"
           }
          ],
          "parcoords": [
           {
            "line": {
             "colorbar": {
              "outlinewidth": 0,
              "ticks": ""
             }
            },
            "type": "parcoords"
           }
          ],
          "pie": [
           {
            "automargin": true,
            "type": "pie"
           }
          ],
          "scatter": [
           {
            "fillpattern": {
             "fillmode": "overlay",
             "size": 10,
             "solidity": 0.2
            },
            "type": "scatter"
           }
          ],
          "scatter3d": [
           {
            "line": {
             "colorbar": {
              "outlinewidth": 0,
              "ticks": ""
             }
            },
            "marker": {
             "colorbar": {
              "outlinewidth": 0,
              "ticks": ""
             }
            },
            "type": "scatter3d"
           }
          ],
          "scattercarpet": [
           {
            "marker": {
             "colorbar": {
              "outlinewidth": 0,
              "ticks": ""
             }
            },
            "type": "scattercarpet"
           }
          ],
          "scattergeo": [
           {
            "marker": {
             "colorbar": {
              "outlinewidth": 0,
              "ticks": ""
             }
            },
            "type": "scattergeo"
           }
          ],
          "scattergl": [
           {
            "marker": {
             "colorbar": {
              "outlinewidth": 0,
              "ticks": ""
             }
            },
            "type": "scattergl"
           }
          ],
          "scattermapbox": [
           {
            "marker": {
             "colorbar": {
              "outlinewidth": 0,
              "ticks": ""
             }
            },
            "type": "scattermapbox"
           }
          ],
          "scatterpolar": [
           {
            "marker": {
             "colorbar": {
              "outlinewidth": 0,
              "ticks": ""
             }
            },
            "type": "scatterpolar"
           }
          ],
          "scatterpolargl": [
           {
            "marker": {
             "colorbar": {
              "outlinewidth": 0,
              "ticks": ""
             }
            },
            "type": "scatterpolargl"
           }
          ],
          "scatterternary": [
           {
            "marker": {
             "colorbar": {
              "outlinewidth": 0,
              "ticks": ""
             }
            },
            "type": "scatterternary"
           }
          ],
          "surface": [
           {
            "colorbar": {
             "outlinewidth": 0,
             "ticks": ""
            },
            "colorscale": [
             [
              0,
              "#0d0887"
             ],
             [
              0.1111111111111111,
              "#46039f"
             ],
             [
              0.2222222222222222,
              "#7201a8"
             ],
             [
              0.3333333333333333,
              "#9c179e"
             ],
             [
              0.4444444444444444,
              "#bd3786"
             ],
             [
              0.5555555555555556,
              "#d8576b"
             ],
             [
              0.6666666666666666,
              "#ed7953"
             ],
             [
              0.7777777777777778,
              "#fb9f3a"
             ],
             [
              0.8888888888888888,
              "#fdca26"
             ],
             [
              1,
              "#f0f921"
             ]
            ],
            "type": "surface"
           }
          ],
          "table": [
           {
            "cells": {
             "fill": {
              "color": "#EBF0F8"
             },
             "line": {
              "color": "white"
             }
            },
            "header": {
             "fill": {
              "color": "#C8D4E3"
             },
             "line": {
              "color": "white"
             }
            },
            "type": "table"
           }
          ]
         },
         "layout": {
          "annotationdefaults": {
           "arrowcolor": "#2a3f5f",
           "arrowhead": 0,
           "arrowwidth": 1
          },
          "autotypenumbers": "strict",
          "coloraxis": {
           "colorbar": {
            "outlinewidth": 0,
            "ticks": ""
           }
          },
          "colorscale": {
           "diverging": [
            [
             0,
             "#8e0152"
            ],
            [
             0.1,
             "#c51b7d"
            ],
            [
             0.2,
             "#de77ae"
            ],
            [
             0.3,
             "#f1b6da"
            ],
            [
             0.4,
             "#fde0ef"
            ],
            [
             0.5,
             "#f7f7f7"
            ],
            [
             0.6,
             "#e6f5d0"
            ],
            [
             0.7,
             "#b8e186"
            ],
            [
             0.8,
             "#7fbc41"
            ],
            [
             0.9,
             "#4d9221"
            ],
            [
             1,
             "#276419"
            ]
           ],
           "sequential": [
            [
             0,
             "#0d0887"
            ],
            [
             0.1111111111111111,
             "#46039f"
            ],
            [
             0.2222222222222222,
             "#7201a8"
            ],
            [
             0.3333333333333333,
             "#9c179e"
            ],
            [
             0.4444444444444444,
             "#bd3786"
            ],
            [
             0.5555555555555556,
             "#d8576b"
            ],
            [
             0.6666666666666666,
             "#ed7953"
            ],
            [
             0.7777777777777778,
             "#fb9f3a"
            ],
            [
             0.8888888888888888,
             "#fdca26"
            ],
            [
             1,
             "#f0f921"
            ]
           ],
           "sequentialminus": [
            [
             0,
             "#0d0887"
            ],
            [
             0.1111111111111111,
             "#46039f"
            ],
            [
             0.2222222222222222,
             "#7201a8"
            ],
            [
             0.3333333333333333,
             "#9c179e"
            ],
            [
             0.4444444444444444,
             "#bd3786"
            ],
            [
             0.5555555555555556,
             "#d8576b"
            ],
            [
             0.6666666666666666,
             "#ed7953"
            ],
            [
             0.7777777777777778,
             "#fb9f3a"
            ],
            [
             0.8888888888888888,
             "#fdca26"
            ],
            [
             1,
             "#f0f921"
            ]
           ]
          },
          "colorway": [
           "#636efa",
           "#EF553B",
           "#00cc96",
           "#ab63fa",
           "#FFA15A",
           "#19d3f3",
           "#FF6692",
           "#B6E880",
           "#FF97FF",
           "#FECB52"
          ],
          "font": {
           "color": "#2a3f5f"
          },
          "geo": {
           "bgcolor": "white",
           "lakecolor": "white",
           "landcolor": "#E5ECF6",
           "showlakes": true,
           "showland": true,
           "subunitcolor": "white"
          },
          "hoverlabel": {
           "align": "left"
          },
          "hovermode": "closest",
          "mapbox": {
           "style": "light"
          },
          "paper_bgcolor": "white",
          "plot_bgcolor": "#E5ECF6",
          "polar": {
           "angularaxis": {
            "gridcolor": "white",
            "linecolor": "white",
            "ticks": ""
           },
           "bgcolor": "#E5ECF6",
           "radialaxis": {
            "gridcolor": "white",
            "linecolor": "white",
            "ticks": ""
           }
          },
          "scene": {
           "xaxis": {
            "backgroundcolor": "#E5ECF6",
            "gridcolor": "white",
            "gridwidth": 2,
            "linecolor": "white",
            "showbackground": true,
            "ticks": "",
            "zerolinecolor": "white"
           },
           "yaxis": {
            "backgroundcolor": "#E5ECF6",
            "gridcolor": "white",
            "gridwidth": 2,
            "linecolor": "white",
            "showbackground": true,
            "ticks": "",
            "zerolinecolor": "white"
           },
           "zaxis": {
            "backgroundcolor": "#E5ECF6",
            "gridcolor": "white",
            "gridwidth": 2,
            "linecolor": "white",
            "showbackground": true,
            "ticks": "",
            "zerolinecolor": "white"
           }
          },
          "shapedefaults": {
           "line": {
            "color": "#2a3f5f"
           }
          },
          "ternary": {
           "aaxis": {
            "gridcolor": "white",
            "linecolor": "white",
            "ticks": ""
           },
           "baxis": {
            "gridcolor": "white",
            "linecolor": "white",
            "ticks": ""
           },
           "bgcolor": "#E5ECF6",
           "caxis": {
            "gridcolor": "white",
            "linecolor": "white",
            "ticks": ""
           }
          },
          "title": {
           "x": 0.05
          },
          "xaxis": {
           "automargin": true,
           "gridcolor": "white",
           "linecolor": "white",
           "ticks": "",
           "title": {
            "standoff": 15
           },
           "zerolinecolor": "white",
           "zerolinewidth": 2
          },
          "yaxis": {
           "automargin": true,
           "gridcolor": "white",
           "linecolor": "white",
           "ticks": "",
           "title": {
            "standoff": 15
           },
           "zerolinecolor": "white",
           "zerolinewidth": 2
          }
         }
        },
        "title": {
         "text": "GDP growth vs. Investments Over the Years"
        },
        "updatemenus": [
         {
          "buttons": [
           {
            "args": [
             null,
             {
              "frame": {
               "duration": 500,
               "redraw": false
              },
              "fromcurrent": true,
              "mode": "immediate",
              "transition": {
               "duration": 500,
               "easing": "linear"
              }
             }
            ],
            "label": "&#9654;",
            "method": "animate"
           },
           {
            "args": [
             [
              null
             ],
             {
              "frame": {
               "duration": 0,
               "redraw": false
              },
              "fromcurrent": true,
              "mode": "immediate",
              "transition": {
               "duration": 0,
               "easing": "linear"
              }
             }
            ],
            "label": "&#9724;",
            "method": "animate"
           }
          ],
          "direction": "left",
          "pad": {
           "r": 10,
           "t": 70
          },
          "showactive": false,
          "type": "buttons",
          "x": 0.1,
          "xanchor": "right",
          "y": 0,
          "yanchor": "top"
         }
        ],
        "xaxis": {
         "anchor": "y",
         "domain": [
          0,
          1
         ],
         "range": [
          -32.28155339805825,
          61.32936399332496
         ],
         "title": {
          "text": "GDP growth"
         }
        },
        "yaxis": {
         "anchor": "x",
         "domain": [
          0,
          1
         ],
         "range": [
          0,
          1.1778757467855308
         ],
         "title": {
          "text": "Investments"
         }
        }
       }
      }
     },
     "metadata": {},
     "output_type": "display_data"
    }
   ],
   "source": [
    "infrastructure_train_data = infrastructure_train_data.astype(float)\n",
    "gdp_data = gdp_data.astype(float)\n",
    "\n",
    "# Determine percentage of GDP that is invested in railway infrastructure\n",
    "infrastructure_gdp = infrastructure_train_data / gdp_data * 100\n",
    "#infrastructure_train_to_total = infrastructure_train_data / (infrastructure_train_data + infrastructure_road_data) * 100\n",
    "\n",
    "years = infrastructure_gdp.columns[:]\n",
    "\n",
    "data = []\n",
    "for year in years:\n",
    "    for country in infrastructure_gdp.index:\n",
    "        data.append({\n",
    "            'Year': year,\n",
    "            'Country': country,\n",
    "            'GDP growth': gdp_growth_data.loc[country, year],\n",
    "            'Investments': infrastructure_gdp.loc[country, year]\n",
    "        })\n",
    "\n",
    "marker_size = 20\n",
    "\n",
    "# Create an animated scatter plot using Plotly Express\n",
    "fig = px.scatter(data_frame=data, x='GDP growth', y='Investments', animation_frame='Year', size=[marker_size]*len(data), size_max=10,\n",
    "                 color='Country', hover_name='Country', range_x=[0.95 * gdp_growth_data.values.min(), 1.05 * gdp_growth_data.values.max()],\n",
    "                 range_y=[0, 1.05 * infrastructure_gdp.values.max()], labels={'GDP growth': 'GDP growth', 'Investments': 'Investments'})\n",
    "\n",
    "# Customize the layout\n",
    "fig.update_layout(title='GDP growth vs. Investments Over the Years',\n",
    "                  xaxis_title='GDP growth', yaxis_title='Investments')\n",
    "\n",
    "# Show the plot\n",
    "fig.show()\n"
   ]
  },
  {
   "cell_type": "markdown",
   "metadata": {},
   "source": [
    "### Travel distance per person\n",
    "In the figure below, we show the railway distance traveled per person for each country from 2000 to 2020. Distances range widely, from 1500 to 14000 kilometers. The data remains consistent over time, revealing three distinct groups: countries with low travel (under 5000 km), moderate travel (6000 to 9000 km), and high travel (over 10000 km). There is a significant decrease in 2020 for all countries, likely due to Covid-19 restrictions."
   ]
  },
  {
   "cell_type": "code",
   "execution_count": 10,
   "metadata": {},
   "outputs": [
    {
     "data": {
      "image/png": "[encoded data removed]",
      "text/plain": [
       "<Figure size 1200x600 with 1 Axes>"
      ]
     },
     "metadata": {},
     "output_type": "display_data"
    }
   ],
   "source": [
    "passenger_data = passenger_data.astype(float)\n",
    "population_data = population_data.astype(float)\n",
    "\n",
    "# Determine amount of kilometers travelled per passenger\n",
    "# Note that passenger data is the total amount of kilometers travelled in millions\n",
    "km_per_passenger = passenger_data / population_data * 1000000\n",
    "\n",
    "# Create figure\n",
    "plt.figure(figsize=(12, 6))\n",
    "\n",
    "# Plot every country\n",
    "for i, (index, row) in enumerate(km_per_passenger.iterrows()):\n",
    "    plt.plot(row.index, row.values, marker='o', label=f'{index}', linewidth=0.5, color=plt.cm.tab20(i))\n",
    "\n",
    "# Adjust years on x-axis for visibility\n",
    "ax = plt.gca()\n",
    "ax.xaxis.set_major_locator(MultipleLocator(base=5))\n",
    "\n",
    "plt.xlabel('Year')\n",
    "plt.ylabel('Passenger train distance (km)')\n",
    "\n",
    "plt.legend(loc='upper left', bbox_to_anchor=(1, 1), fontsize='small')\n",
    "plt.show()"
   ]
  },
  {
   "cell_type": "markdown",
   "metadata": {},
   "source": [
    "### Influence previous investments on passenger growth\n",
    "The figure above shows the relation of investments in railway infrastructure (corrected by GDP) and the amount of kilometers travelled per passenger. \n",
    "Every year from 2005 onwards, we look at the investments made in the 5 years before and look at what the impact has been on the travelled kilometers, for each country. \n",
    "In this way, we want to analyze if the investments in railway lead to more train passengers. \n",
    "As we look at the outcome of the graphs, we see that it not shows what we expected, meaning that the investments in the long term do not seem to increase over a long period. \n",
    "This can have different reasons, for instance in this graph we do not look at the investments in other segments like air transportation and road transportation.\n"
   ]
  },
  {
   "cell_type": "code",
   "execution_count": 11,
   "metadata": {},
   "outputs": [
    {
     "data": {
      "application/vnd.plotly.v1+json": {
       "config": {
        "plotlyServerURL": "https://plot.ly"
       },
       "data": [
        {
         "hovertemplate": "<b>%{hovertext}</b><br><br>Country=AUS<br>Year=2004<br>Investments=%{x}<br>Passengers=%{y}<br>size=%{marker.size}<extra></extra>",
         "hovertext": [
          "AUS"
         ],
         "legendgroup": "AUS",
         "marker": {
          "color": "#636efa",
          "size": [
           20
          ],
          "sizemode": "area",
          "sizeref": 0.2,
          "symbol": "circle"
         },
         "mode": "markers",
         "name": "AUS",
         "orientation": "v",
         "showlegend": true,
         "type": "scatter",
         "x": [
          0.1374318072278406
         ],
         "xaxis": "x",
         "y": [
          4.552168064459172
         ],
         "yaxis": "y"
        },
        {
         "hovertemplate": "<b>%{hovertext}</b><br><br>Country=AZE<br>Year=2004<br>Investments=%{x}<br>Passengers=%{y}<br>size=%{marker.size}<extra></extra>",
         "hovertext": [
          "AZE"
         ],
         "legendgroup": "AZE",
         "marker": {
          "color": "#EF553B",
          "size": [
           20
          ],
          "sizemode": "area",
          "sizeref": 0.2,
          "symbol": "circle"
         },
         "mode": "markers",
         "name": "AZE",
         "orientation": "v",
         "showlegend": true,
         "type": "scatter",
         "x": [
          0.17920224804650053
         ],
         "xaxis": "x",
         "y": [
          9.331817550585185
         ],
         "yaxis": "y"
        },
        {
         "hovertemplate": "<b>%{hovertext}</b><br><br>Country=CZE<br>Year=2004<br>Investments=%{x}<br>Passengers=%{y}<br>size=%{marker.size}<extra></extra>",
         "hovertext": [
          "CZE"
         ],
         "legendgroup": "CZE",
         "marker": {
          "color": "#00cc96",
          "size": [
           20
          ],
          "sizemode": "area",
          "sizeref": 0.2,
          "symbol": "circle"
         },
         "mode": "markers",
         "name": "CZE",
         "orientation": "v",
         "showlegend": true,
         "type": "scatter",
         "x": [
          0.5442732870336717
         ],
         "xaxis": "x",
         "y": [
          6.965716849069614
         ],
         "yaxis": "y"
        },
        {
         "hovertemplate": "<b>%{hovertext}</b><br><br>Country=FIN<br>Year=2004<br>Investments=%{x}<br>Passengers=%{y}<br>size=%{marker.size}<extra></extra>",
         "hovertext": [
          "FIN"
         ],
         "legendgroup": "FIN",
         "marker": {
          "color": "#ab63fa",
          "size": [
           20
          ],
          "sizemode": "area",
          "sizeref": 0.2,
          "symbol": "circle"
         },
         "mode": "markers",
         "name": "FIN",
         "orientation": "v",
         "showlegend": true,
         "type": "scatter",
         "x": [
          0.18063100506184962
         ],
         "xaxis": "x",
         "y": [
          8.357922880074241
         ],
         "yaxis": "y"
        },
        {
         "hovertemplate": "<b>%{hovertext}</b><br><br>Country=FRA<br>Year=2004<br>Investments=%{x}<br>Passengers=%{y}<br>size=%{marker.size}<extra></extra>",
         "hovertext": [
          "FRA"
         ],
         "legendgroup": "FRA",
         "marker": {
          "color": "#FFA15A",
          "size": [
           20
          ],
          "sizemode": "area",
          "sizeref": 0.2,
          "symbol": "circle"
         },
         "mode": "markers",
         "name": "FRA",
         "orientation": "v",
         "showlegend": true,
         "type": "scatter",
         "x": [
          0.20783782804037884
         ],
         "xaxis": "x",
         "y": [
          1.0886272177759615
         ],
         "yaxis": "y"
        },
        {
         "hovertemplate": "<b>%{hovertext}</b><br><br>Country=DEU<br>Year=2004<br>Investments=%{x}<br>Passengers=%{y}<br>size=%{marker.size}<extra></extra>",
         "hovertext": [
          "DEU"
         ],
         "legendgroup": "DEU",
         "marker": {
          "color": "#19d3f3",
          "size": [
           20
          ],
          "sizemode": "area",
          "sizeref": 0.2,
          "symbol": "circle"
         },
         "mode": "markers",
         "name": "DEU",
         "orientation": "v",
         "showlegend": true,
         "type": "scatter",
         "x": [
          0.32324478324367295
         ],
         "xaxis": "x",
         "y": [
          4.200334682223961
         ],
         "yaxis": "y"
        },
        {
         "hovertemplate": "<b>%{hovertext}</b><br><br>Country=HUN<br>Year=2004<br>Investments=%{x}<br>Passengers=%{y}<br>size=%{marker.size}<extra></extra>",
         "hovertext": [
          "HUN"
         ],
         "legendgroup": "HUN",
         "marker": {
          "color": "#FF6692",
          "size": [
           20
          ],
          "sizemode": "area",
          "sizeref": 0.2,
          "symbol": "circle"
         },
         "mode": "markers",
         "name": "HUN",
         "orientation": "v",
         "showlegend": true,
         "type": "scatter",
         "x": [
          0.41307584059296854
         ],
         "xaxis": "x",
         "y": [
          6.444175420648923
         ],
         "yaxis": "y"
        },
        {
         "hovertemplate": "<b>%{hovertext}</b><br><br>Country=ITA<br>Year=2004<br>Investments=%{x}<br>Passengers=%{y}<br>size=%{marker.size}<extra></extra>",
         "hovertext": [
          "ITA"
         ],
         "legendgroup": "ITA",
         "marker": {
          "color": "#B6E880",
          "size": [
           20
          ],
          "sizemode": "area",
          "sizeref": 0.2,
          "symbol": "circle"
         },
         "mode": "markers",
         "name": "ITA",
         "orientation": "v",
         "showlegend": true,
         "type": "scatter",
         "x": [
          0.4221627118382122
         ],
         "xaxis": "x",
         "y": [
          6.307152516574144
         ],
         "yaxis": "y"
        },
        {
         "hovertemplate": "<b>%{hovertext}</b><br><br>Country=JPN<br>Year=2004<br>Investments=%{x}<br>Passengers=%{y}<br>size=%{marker.size}<extra></extra>",
         "hovertext": [
          "JPN"
         ],
         "legendgroup": "JPN",
         "marker": {
          "color": "#FF97FF",
          "size": [
           20
          ],
          "sizemode": "area",
          "sizeref": 0.2,
          "symbol": "circle"
         },
         "mode": "markers",
         "name": "JPN",
         "orientation": "v",
         "showlegend": true,
         "type": "scatter",
         "x": [
          0.20765332180668503
         ],
         "xaxis": "x",
         "y": [
          -1.704178400669465
         ],
         "yaxis": "y"
        },
        {
         "hovertemplate": "<b>%{hovertext}</b><br><br>Country=NOR<br>Year=2004<br>Investments=%{x}<br>Passengers=%{y}<br>size=%{marker.size}<extra></extra>",
         "hovertext": [
          "NOR"
         ],
         "legendgroup": "NOR",
         "marker": {
          "color": "#FECB52",
          "size": [
           20
          ],
          "sizemode": "area",
          "sizeref": 0.2,
          "symbol": "circle"
         },
         "mode": "markers",
         "name": "NOR",
         "orientation": "v",
         "showlegend": true,
         "type": "scatter",
         "x": [
          0.13313286577327849
         ],
         "xaxis": "x",
         "y": [
          4.412490207984776
         ],
         "yaxis": "y"
        },
        {
         "hovertemplate": "<b>%{hovertext}</b><br><br>Country=POL<br>Year=2004<br>Investments=%{x}<br>Passengers=%{y}<br>size=%{marker.size}<extra></extra>",
         "hovertext": [
          "POL"
         ],
         "legendgroup": "POL",
         "marker": {
          "color": "#636efa",
          "size": [
           20
          ],
          "sizemode": "area",
          "sizeref": 0.2,
          "symbol": "circle"
         },
         "mode": "markers",
         "name": "POL",
         "orientation": "v",
         "showlegend": true,
         "type": "scatter",
         "x": [
          0.09631130717557049
         ],
         "xaxis": "x",
         "y": [
          11.579495022607
         ],
         "yaxis": "y"
        },
        {
         "hovertemplate": "<b>%{hovertext}</b><br><br>Country=RUS<br>Year=2004<br>Investments=%{x}<br>Passengers=%{y}<br>size=%{marker.size}<extra></extra>",
         "hovertext": [
          "RUS"
         ],
         "legendgroup": "RUS",
         "marker": {
          "color": "#EF553B",
          "size": [
           20
          ],
          "sizemode": "area",
          "sizeref": 0.2,
          "symbol": "circle"
         },
         "mode": "markers",
         "name": "RUS",
         "orientation": "v",
         "showlegend": true,
         "type": "scatter",
         "x": [
          0.8450772549105221
         ],
         "xaxis": "x",
         "y": [
          -0.09884225804741575
         ],
         "yaxis": "y"
        },
        {
         "hovertemplate": "<b>%{hovertext}</b><br><br>Country=ESP<br>Year=2004<br>Investments=%{x}<br>Passengers=%{y}<br>size=%{marker.size}<extra></extra>",
         "hovertext": [
          "ESP"
         ],
         "legendgroup": "ESP",
         "marker": {
          "color": "#00cc96",
          "size": [
           20
          ],
          "sizemode": "area",
          "sizeref": 0.2,
          "symbol": "circle"
         },
         "mode": "markers",
         "name": "ESP",
         "orientation": "v",
         "showlegend": true,
         "type": "scatter",
         "x": [
          0.3896617349134699
         ],
         "xaxis": "x",
         "y": [
          6.073942762675277
         ],
         "yaxis": "y"
        },
        {
         "hovertemplate": "<b>%{hovertext}</b><br><br>Country=SWE<br>Year=2004<br>Investments=%{x}<br>Passengers=%{y}<br>size=%{marker.size}<extra></extra>",
         "hovertext": [
          "SWE"
         ],
         "legendgroup": "SWE",
         "marker": {
          "color": "#ab63fa",
          "size": [
           20
          ],
          "sizemode": "area",
          "sizeref": 0.2,
          "symbol": "circle"
         },
         "mode": "markers",
         "name": "SWE",
         "orientation": "v",
         "showlegend": true,
         "type": "scatter",
         "x": [
          0.24174068819326028
         ],
         "xaxis": "x",
         "y": [
          5.169124397102265
         ],
         "yaxis": "y"
        },
        {
         "hovertemplate": "<b>%{hovertext}</b><br><br>Country=CHE<br>Year=2004<br>Investments=%{x}<br>Passengers=%{y}<br>size=%{marker.size}<extra></extra>",
         "hovertext": [
          "CHE"
         ],
         "legendgroup": "CHE",
         "marker": {
          "color": "#FFA15A",
          "size": [
           20
          ],
          "sizemode": "area",
          "sizeref": 0.2,
          "symbol": "circle"
         },
         "mode": "markers",
         "name": "CHE",
         "orientation": "v",
         "showlegend": true,
         "type": "scatter",
         "x": [
          0.57949661124538
         ],
         "xaxis": "x",
         "y": [
          2.416007369177531
         ],
         "yaxis": "y"
        },
        {
         "hovertemplate": "<b>%{hovertext}</b><br><br>Country=TUR<br>Year=2004<br>Investments=%{x}<br>Passengers=%{y}<br>size=%{marker.size}<extra></extra>",
         "hovertext": [
          "TUR"
         ],
         "legendgroup": "TUR",
         "marker": {
          "color": "#19d3f3",
          "size": [
           20
          ],
          "sizemode": "area",
          "sizeref": 0.2,
          "symbol": "circle"
         },
         "mode": "markers",
         "name": "TUR",
         "orientation": "v",
         "showlegend": true,
         "type": "scatter",
         "x": [
          0.03299779688450155
         ],
         "xaxis": "x",
         "y": [
          -7.276867961238764
         ],
         "yaxis": "y"
        },
        {
         "hovertemplate": "<b>%{hovertext}</b><br><br>Country=GBR<br>Year=2004<br>Investments=%{x}<br>Passengers=%{y}<br>size=%{marker.size}<extra></extra>",
         "hovertext": [
          "GBR"
         ],
         "legendgroup": "GBR",
         "marker": {
          "color": "#FF6692",
          "size": [
           20
          ],
          "sizemode": "area",
          "sizeref": 0.2,
          "symbol": "circle"
         },
         "mode": "markers",
         "name": "GBR",
         "orientation": "v",
         "showlegend": true,
         "type": "scatter",
         "x": [
          0.3523820175504328
         ],
         "xaxis": "x",
         "y": [
          1.3102813163249127
         ],
         "yaxis": "y"
        }
       ],
       "frames": [
        {
         "data": [
          {
           "hovertemplate": "<b>%{hovertext}</b><br><br>Country=AUS<br>Year=2004<br>Investments=%{x}<br>Passengers=%{y}<br>size=%{marker.size}<extra></extra>",
           "hovertext": [
            "AUS"
           ],
           "legendgroup": "AUS",
           "marker": {
            "color": "#636efa",
            "size": [
             20
            ],
            "sizemode": "area",
            "sizeref": 0.2,
            "symbol": "circle"
           },
           "mode": "markers",
           "name": "AUS",
           "orientation": "v",
           "showlegend": true,
           "type": "scatter",
           "x": [
            0.1374318072278406
           ],
           "xaxis": "x",
           "y": [
            4.552168064459172
           ],
           "yaxis": "y"
          },
          {
           "hovertemplate": "<b>%{hovertext}</b><br><br>Country=AZE<br>Year=2004<br>Investments=%{x}<br>Passengers=%{y}<br>size=%{marker.size}<extra></extra>",
           "hovertext": [
            "AZE"
           ],
           "legendgroup": "AZE",
           "marker": {
            "color": "#EF553B",
            "size": [
             20
            ],
            "sizemode": "area",
            "sizeref": 0.2,
            "symbol": "circle"
           },
           "mode": "markers",
           "name": "AZE",
           "orientation": "v",
           "showlegend": true,
           "type": "scatter",
           "x": [
            0.17920224804650053
           ],
           "xaxis": "x",
           "y": [
            9.331817550585185
           ],
           "yaxis": "y"
          },
          {
           "hovertemplate": "<b>%{hovertext}</b><br><br>Country=CZE<br>Year=2004<br>Investments=%{x}<br>Passengers=%{y}<br>size=%{marker.size}<extra></extra>",
           "hovertext": [
            "CZE"
           ],
           "legendgroup": "CZE",
           "marker": {
            "color": "#00cc96",
            "size": [
             20
            ],
            "sizemode": "area",
            "sizeref": 0.2,
            "symbol": "circle"
           },
           "mode": "markers",
           "name": "CZE",
           "orientation": "v",
           "showlegend": true,
           "type": "scatter",
           "x": [
            0.5442732870336717
           ],
           "xaxis": "x",
           "y": [
            6.965716849069614
           ],
           "yaxis": "y"
          },
          {
           "hovertemplate": "<b>%{hovertext}</b><br><br>Country=FIN<br>Year=2004<br>Investments=%{x}<br>Passengers=%{y}<br>size=%{marker.size}<extra></extra>",
           "hovertext": [
            "FIN"
           ],
           "legendgroup": "FIN",
           "marker": {
            "color": "#ab63fa",
            "size": [
             20
            ],
            "sizemode": "area",
            "sizeref": 0.2,
            "symbol": "circle"
           },
           "mode": "markers",
           "name": "FIN",
           "orientation": "v",
           "showlegend": true,
           "type": "scatter",
           "x": [
            0.18063100506184962
           ],
           "xaxis": "x",
           "y": [
            8.357922880074241
           ],
           "yaxis": "y"
          },
          {
           "hovertemplate": "<b>%{hovertext}</b><br><br>Country=FRA<br>Year=2004<br>Investments=%{x}<br>Passengers=%{y}<br>size=%{marker.size}<extra></extra>",
           "hovertext": [
            "FRA"
           ],
           "legendgroup": "FRA",
           "marker": {
            "color": "#FFA15A",
            "size": [
             20
            ],
            "sizemode": "area",
            "sizeref": 0.2,
            "symbol": "circle"
           },
           "mode": "markers",
           "name": "FRA",
           "orientation": "v",
           "showlegend": true,
           "type": "scatter",
           "x": [
            0.20783782804037884
           ],
           "xaxis": "x",
           "y": [
            1.0886272177759615
           ],
           "yaxis": "y"
          },
          {
           "hovertemplate": "<b>%{hovertext}</b><br><br>Country=DEU<br>Year=2004<br>Investments=%{x}<br>Passengers=%{y}<br>size=%{marker.size}<extra></extra>",
           "hovertext": [
            "DEU"
           ],
           "legendgroup": "DEU",
           "marker": {
            "color": "#19d3f3",
            "size": [
             20
            ],
            "sizemode": "area",
            "sizeref": 0.2,
            "symbol": "circle"
           },
           "mode": "markers",
           "name": "DEU",
           "orientation": "v",
           "showlegend": true,
           "type": "scatter",
           "x": [
            0.32324478324367295
           ],
           "xaxis": "x",
           "y": [
            4.200334682223961
           ],
           "yaxis": "y"
          },
          {
           "hovertemplate": "<b>%{hovertext}</b><br><br>Country=HUN<br>Year=2004<br>Investments=%{x}<br>Passengers=%{y}<br>size=%{marker.size}<extra></extra>",
           "hovertext": [
            "HUN"
           ],
           "legendgroup": "HUN",
           "marker": {
            "color": "#FF6692",
            "size": [
             20
            ],
            "sizemode": "area",
            "sizeref": 0.2,
            "symbol": "circle"
           },
           "mode": "markers",
           "name": "HUN",
           "orientation": "v",
           "showlegend": true,
           "type": "scatter",
           "x": [
            0.41307584059296854
           ],
           "xaxis": "x",
           "y": [
            6.444175420648923
           ],
           "yaxis": "y"
          },
          {
           "hovertemplate": "<b>%{hovertext}</b><br><br>Country=ITA<br>Year=2004<br>Investments=%{x}<br>Passengers=%{y}<br>size=%{marker.size}<extra></extra>",
           "hovertext": [
            "ITA"
           ],
           "legendgroup": "ITA",
           "marker": {
            "color": "#B6E880",
            "size": [
             20
            ],
            "sizemode": "area",
            "sizeref": 0.2,
            "symbol": "circle"
           },
           "mode": "markers",
           "name": "ITA",
           "orientation": "v",
           "showlegend": true,
           "type": "scatter",
           "x": [
            0.4221627118382122
           ],
           "xaxis": "x",
           "y": [
            6.307152516574144
           ],
           "yaxis": "y"
          },
          {
           "hovertemplate": "<b>%{hovertext}</b><br><br>Country=JPN<br>Year=2004<br>Investments=%{x}<br>Passengers=%{y}<br>size=%{marker.size}<extra></extra>",
           "hovertext": [
            "JPN"
           ],
           "legendgroup": "JPN",
           "marker": {
            "color": "#FF97FF",
            "size": [
             20
            ],
            "sizemode": "area",
            "sizeref": 0.2,
            "symbol": "circle"
           },
           "mode": "markers",
           "name": "JPN",
           "orientation": "v",
           "showlegend": true,
           "type": "scatter",
           "x": [
            0.20765332180668503
           ],
           "xaxis": "x",
           "y": [
            -1.704178400669465
           ],
           "yaxis": "y"
          },
          {
           "hovertemplate": "<b>%{hovertext}</b><br><br>Country=NOR<br>Year=2004<br>Investments=%{x}<br>Passengers=%{y}<br>size=%{marker.size}<extra></extra>",
           "hovertext": [
            "NOR"
           ],
           "legendgroup": "NOR",
           "marker": {
            "color": "#FECB52",
            "size": [
             20
            ],
            "sizemode": "area",
            "sizeref": 0.2,
            "symbol": "circle"
           },
           "mode": "markers",
           "name": "NOR",
           "orientation": "v",
           "showlegend": true,
           "type": "scatter",
           "x": [
            0.13313286577327849
           ],
           "xaxis": "x",
           "y": [
            4.412490207984776
           ],
           "yaxis": "y"
          },
          {
           "hovertemplate": "<b>%{hovertext}</b><br><br>Country=POL<br>Year=2004<br>Investments=%{x}<br>Passengers=%{y}<br>size=%{marker.size}<extra></extra>",
           "hovertext": [
            "POL"
           ],
           "legendgroup": "POL",
           "marker": {
            "color": "#636efa",
            "size": [
             20
            ],
            "sizemode": "area",
            "sizeref": 0.2,
            "symbol": "circle"
           },
           "mode": "markers",
           "name": "POL",
           "orientation": "v",
           "showlegend": true,
           "type": "scatter",
           "x": [
            0.09631130717557049
           ],
           "xaxis": "x",
           "y": [
            11.579495022607
           ],
           "yaxis": "y"
          },
          {
           "hovertemplate": "<b>%{hovertext}</b><br><br>Country=RUS<br>Year=2004<br>Investments=%{x}<br>Passengers=%{y}<br>size=%{marker.size}<extra></extra>",
           "hovertext": [
            "RUS"
           ],
           "legendgroup": "RUS",
           "marker": {
            "color": "#EF553B",
            "size": [
             20
            ],
            "sizemode": "area",
            "sizeref": 0.2,
            "symbol": "circle"
           },
           "mode": "markers",
           "name": "RUS",
           "orientation": "v",
           "showlegend": true,
           "type": "scatter",
           "x": [
            0.8450772549105221
           ],
           "xaxis": "x",
           "y": [
            -0.09884225804741575
           ],
           "yaxis": "y"
          },
          {
           "hovertemplate": "<b>%{hovertext}</b><br><br>Country=ESP<br>Year=2004<br>Investments=%{x}<br>Passengers=%{y}<br>size=%{marker.size}<extra></extra>",
           "hovertext": [
            "ESP"
           ],
           "legendgroup": "ESP",
           "marker": {
            "color": "#00cc96",
            "size": [
             20
            ],
            "sizemode": "area",
            "sizeref": 0.2,
            "symbol": "circle"
           },
           "mode": "markers",
           "name": "ESP",
           "orientation": "v",
           "showlegend": true,
           "type": "scatter",
           "x": [
            0.3896617349134699
           ],
           "xaxis": "x",
           "y": [
            6.073942762675277
           ],
           "yaxis": "y"
          },
          {
           "hovertemplate": "<b>%{hovertext}</b><br><br>Country=SWE<br>Year=2004<br>Investments=%{x}<br>Passengers=%{y}<br>size=%{marker.size}<extra></extra>",
           "hovertext": [
            "SWE"
           ],
           "legendgroup": "SWE",
           "marker": {
            "color": "#ab63fa",
            "size": [
             20
            ],
            "sizemode": "area",
            "sizeref": 0.2,
            "symbol": "circle"
           },
           "mode": "markers",
           "name": "SWE",
           "orientation": "v",
           "showlegend": true,
           "type": "scatter",
           "x": [
            0.24174068819326028
           ],
           "xaxis": "x",
           "y": [
            5.169124397102265
           ],
           "yaxis": "y"
          },
          {
           "hovertemplate": "<b>%{hovertext}</b><br><br>Country=CHE<br>Year=2004<br>Investments=%{x}<br>Passengers=%{y}<br>size=%{marker.size}<extra></extra>",
           "hovertext": [
            "CHE"
           ],
           "legendgroup": "CHE",
           "marker": {
            "color": "#FFA15A",
            "size": [
             20
            ],
            "sizemode": "area",
            "sizeref": 0.2,
            "symbol": "circle"
           },
           "mode": "markers",
           "name": "CHE",
           "orientation": "v",
           "showlegend": true,
           "type": "scatter",
           "x": [
            0.57949661124538
           ],
           "xaxis": "x",
           "y": [
            2.416007369177531
           ],
           "yaxis": "y"
          },
          {
           "hovertemplate": "<b>%{hovertext}</b><br><br>Country=TUR<br>Year=2004<br>Investments=%{x}<br>Passengers=%{y}<br>size=%{marker.size}<extra></extra>",
           "hovertext": [
            "TUR"
           ],
           "legendgroup": "TUR",
           "marker": {
            "color": "#19d3f3",
            "size": [
             20
            ],
            "sizemode": "area",
            "sizeref": 0.2,
            "symbol": "circle"
           },
           "mode": "markers",
           "name": "TUR",
           "orientation": "v",
           "showlegend": true,
           "type": "scatter",
           "x": [
            0.03299779688450155
           ],
           "xaxis": "x",
           "y": [
            -7.276867961238764
           ],
           "yaxis": "y"
          },
          {
           "hovertemplate": "<b>%{hovertext}</b><br><br>Country=GBR<br>Year=2004<br>Investments=%{x}<br>Passengers=%{y}<br>size=%{marker.size}<extra></extra>",
           "hovertext": [
            "GBR"
           ],
           "legendgroup": "GBR",
           "marker": {
            "color": "#FF6692",
            "size": [
             20
            ],
            "sizemode": "area",
            "sizeref": 0.2,
            "symbol": "circle"
           },
           "mode": "markers",
           "name": "GBR",
           "orientation": "v",
           "showlegend": true,
           "type": "scatter",
           "x": [
            0.3523820175504328
           ],
           "xaxis": "x",
           "y": [
            1.3102813163249127
           ],
           "yaxis": "y"
          }
         ],
         "name": "2004"
        },
        {
         "data": [
          {
           "hovertemplate": "<b>%{hovertext}</b><br><br>Country=AUS<br>Year=2005<br>Investments=%{x}<br>Passengers=%{y}<br>size=%{marker.size}<extra></extra>",
           "hovertext": [
            "AUS"
           ],
           "legendgroup": "AUS",
           "marker": {
            "color": "#636efa",
            "size": [
             20
            ],
            "sizemode": "area",
            "sizeref": 0.2,
            "symbol": "circle"
           },
           "mode": "markers",
           "name": "AUS",
           "orientation": "v",
           "showlegend": true,
           "type": "scatter",
           "x": [
            0.13453787805349923
           ],
           "xaxis": "x",
           "y": [
            2.760374144774147
           ],
           "yaxis": "y"
          },
          {
           "hovertemplate": "<b>%{hovertext}</b><br><br>Country=AZE<br>Year=2005<br>Investments=%{x}<br>Passengers=%{y}<br>size=%{marker.size}<extra></extra>",
           "hovertext": [
            "AZE"
           ],
           "legendgroup": "AZE",
           "marker": {
            "color": "#EF553B",
            "size": [
             20
            ],
            "sizemode": "area",
            "sizeref": 0.2,
            "symbol": "circle"
           },
           "mode": "markers",
           "name": "AZE",
           "orientation": "v",
           "showlegend": true,
           "type": "scatter",
           "x": [
            0.16566745055635207
           ],
           "xaxis": "x",
           "y": [
            12.594380173829922
           ],
           "yaxis": "y"
          },
          {
           "hovertemplate": "<b>%{hovertext}</b><br><br>Country=CZE<br>Year=2005<br>Investments=%{x}<br>Passengers=%{y}<br>size=%{marker.size}<extra></extra>",
           "hovertext": [
            "CZE"
           ],
           "legendgroup": "CZE",
           "marker": {
            "color": "#00cc96",
            "size": [
             20
            ],
            "sizemode": "area",
            "sizeref": 0.2,
            "symbol": "circle"
           },
           "mode": "markers",
           "name": "CZE",
           "orientation": "v",
           "showlegend": true,
           "type": "scatter",
           "x": [
            0.5297095997731124
           ],
           "xaxis": "x",
           "y": [
            4.933450610454337
           ],
           "yaxis": "y"
          },
          {
           "hovertemplate": "<b>%{hovertext}</b><br><br>Country=FIN<br>Year=2005<br>Investments=%{x}<br>Passengers=%{y}<br>size=%{marker.size}<extra></extra>",
           "hovertext": [
            "FIN"
           ],
           "legendgroup": "FIN",
           "marker": {
            "color": "#ab63fa",
            "size": [
             20
            ],
            "sizemode": "area",
            "sizeref": 0.2,
            "symbol": "circle"
           },
           "mode": "markers",
           "name": "FIN",
           "orientation": "v",
           "showlegend": true,
           "type": "scatter",
           "x": [
            0.1745135116667714
           ],
           "xaxis": "x",
           "y": [
            8.083806331239597
           ],
           "yaxis": "y"
          },
          {
           "hovertemplate": "<b>%{hovertext}</b><br><br>Country=FRA<br>Year=2005<br>Investments=%{x}<br>Passengers=%{y}<br>size=%{marker.size}<extra></extra>",
           "hovertext": [
            "FRA"
           ],
           "legendgroup": "FRA",
           "marker": {
            "color": "#FFA15A",
            "size": [
             20
            ],
            "sizemode": "area",
            "sizeref": 0.2,
            "symbol": "circle"
           },
           "mode": "markers",
           "name": "FRA",
           "orientation": "v",
           "showlegend": true,
           "type": "scatter",
           "x": [
            0.20353920711171175
           ],
           "xaxis": "x",
           "y": [
            -0.4222597882563628
           ],
           "yaxis": "y"
          },
          {
           "hovertemplate": "<b>%{hovertext}</b><br><br>Country=DEU<br>Year=2005<br>Investments=%{x}<br>Passengers=%{y}<br>size=%{marker.size}<extra></extra>",
           "hovertext": [
            "DEU"
           ],
           "legendgroup": "DEU",
           "marker": {
            "color": "#19d3f3",
            "size": [
             20
            ],
            "sizemode": "area",
            "sizeref": 0.2,
            "symbol": "circle"
           },
           "mode": "markers",
           "name": "DEU",
           "orientation": "v",
           "showlegend": true,
           "type": "scatter",
           "x": [
            0.3005677132469827
           ],
           "xaxis": "x",
           "y": [
            4.777981576456125
           ],
           "yaxis": "y"
          },
          {
           "hovertemplate": "<b>%{hovertext}</b><br><br>Country=HUN<br>Year=2005<br>Investments=%{x}<br>Passengers=%{y}<br>size=%{marker.size}<extra></extra>",
           "hovertext": [
            "HUN"
           ],
           "legendgroup": "HUN",
           "marker": {
            "color": "#FF6692",
            "size": [
             20
            ],
            "sizemode": "area",
            "sizeref": 0.2,
            "symbol": "circle"
           },
           "mode": "markers",
           "name": "HUN",
           "orientation": "v",
           "showlegend": true,
           "type": "scatter",
           "x": [
            0.36365082649525926
           ],
           "xaxis": "x",
           "y": [
            4.435310827499439
           ],
           "yaxis": "y"
          },
          {
           "hovertemplate": "<b>%{hovertext}</b><br><br>Country=ITA<br>Year=2005<br>Investments=%{x}<br>Passengers=%{y}<br>size=%{marker.size}<extra></extra>",
           "hovertext": [
            "ITA"
           ],
           "legendgroup": "ITA",
           "marker": {
            "color": "#B6E880",
            "size": [
             20
            ],
            "sizemode": "area",
            "sizeref": 0.2,
            "symbol": "circle"
           },
           "mode": "markers",
           "name": "ITA",
           "orientation": "v",
           "showlegend": true,
           "type": "scatter",
           "x": [
            0.46262693981146014
           ],
           "xaxis": "x",
           "y": [
            -5.69686359028625
           ],
           "yaxis": "y"
          },
          {
           "hovertemplate": "<b>%{hovertext}</b><br><br>Country=JPN<br>Year=2005<br>Investments=%{x}<br>Passengers=%{y}<br>size=%{marker.size}<extra></extra>",
           "hovertext": [
            "JPN"
           ],
           "legendgroup": "JPN",
           "marker": {
            "color": "#FF97FF",
            "size": [
             20
            ],
            "sizemode": "area",
            "sizeref": 0.2,
            "symbol": "circle"
           },
           "mode": "markers",
           "name": "JPN",
           "orientation": "v",
           "showlegend": true,
           "type": "scatter",
           "x": [
            0.19671329827415077
           ],
           "xaxis": "x",
           "y": [
            -2.6813675547430194
           ],
           "yaxis": "y"
          },
          {
           "hovertemplate": "<b>%{hovertext}</b><br><br>Country=NOR<br>Year=2005<br>Investments=%{x}<br>Passengers=%{y}<br>size=%{marker.size}<extra></extra>",
           "hovertext": [
            "NOR"
           ],
           "legendgroup": "NOR",
           "marker": {
            "color": "#FECB52",
            "size": [
             20
            ],
            "sizemode": "area",
            "sizeref": 0.2,
            "symbol": "circle"
           },
           "mode": "markers",
           "name": "NOR",
           "orientation": "v",
           "showlegend": true,
           "type": "scatter",
           "x": [
            0.1251467294540317
           ],
           "xaxis": "x",
           "y": [
            2.4466813940916543
           ],
           "yaxis": "y"
          },
          {
           "hovertemplate": "<b>%{hovertext}</b><br><br>Country=POL<br>Year=2005<br>Investments=%{x}<br>Passengers=%{y}<br>size=%{marker.size}<extra></extra>",
           "hovertext": [
            "POL"
           ],
           "legendgroup": "POL",
           "marker": {
            "color": "#636efa",
            "size": [
             20
            ],
            "sizemode": "area",
            "sizeref": 0.2,
            "symbol": "circle"
           },
           "mode": "markers",
           "name": "POL",
           "orientation": "v",
           "showlegend": true,
           "type": "scatter",
           "x": [
            0.08511570875658184
           ],
           "xaxis": "x",
           "y": [
            6.188153241986805
           ],
           "yaxis": "y"
          },
          {
           "hovertemplate": "<b>%{hovertext}</b><br><br>Country=RUS<br>Year=2005<br>Investments=%{x}<br>Passengers=%{y}<br>size=%{marker.size}<extra></extra>",
           "hovertext": [
            "RUS"
           ],
           "legendgroup": "RUS",
           "marker": {
            "color": "#EF553B",
            "size": [
             20
            ],
            "sizemode": "area",
            "sizeref": 0.2,
            "symbol": "circle"
           },
           "mode": "markers",
           "name": "RUS",
           "orientation": "v",
           "showlegend": true,
           "type": "scatter",
           "x": [
            0.848129552256861
           ],
           "xaxis": "x",
           "y": [
            -16.46476054824737
           ],
           "yaxis": "y"
          },
          {
           "hovertemplate": "<b>%{hovertext}</b><br><br>Country=ESP<br>Year=2005<br>Investments=%{x}<br>Passengers=%{y}<br>size=%{marker.size}<extra></extra>",
           "hovertext": [
            "ESP"
           ],
           "legendgroup": "ESP",
           "marker": {
            "color": "#00cc96",
            "size": [
             20
            ],
            "sizemode": "area",
            "sizeref": 0.2,
            "symbol": "circle"
           },
           "mode": "markers",
           "name": "ESP",
           "orientation": "v",
           "showlegend": true,
           "type": "scatter",
           "x": [
            0.42948682564087715
           ],
           "xaxis": "x",
           "y": [
            10.4051778675186
           ],
           "yaxis": "y"
          },
          {
           "hovertemplate": "<b>%{hovertext}</b><br><br>Country=SWE<br>Year=2005<br>Investments=%{x}<br>Passengers=%{y}<br>size=%{marker.size}<extra></extra>",
           "hovertext": [
            "SWE"
           ],
           "legendgroup": "SWE",
           "marker": {
            "color": "#ab63fa",
            "size": [
             20
            ],
            "sizemode": "area",
            "sizeref": 0.2,
            "symbol": "circle"
           },
           "mode": "markers",
           "name": "SWE",
           "orientation": "v",
           "showlegend": true,
           "type": "scatter",
           "x": [
            0.24911178851895838
           ],
           "xaxis": "x",
           "y": [
            1.8426213973136818
           ],
           "yaxis": "y"
          },
          {
           "hovertemplate": "<b>%{hovertext}</b><br><br>Country=CHE<br>Year=2005<br>Investments=%{x}<br>Passengers=%{y}<br>size=%{marker.size}<extra></extra>",
           "hovertext": [
            "CHE"
           ],
           "legendgroup": "CHE",
           "marker": {
            "color": "#FFA15A",
            "size": [
             20
            ],
            "sizemode": "area",
            "sizeref": 0.2,
            "symbol": "circle"
           },
           "mode": "markers",
           "name": "CHE",
           "orientation": "v",
           "showlegend": true,
           "type": "scatter",
           "x": [
            0.5948884738048786
           ],
           "xaxis": "x",
           "y": [
            0.8124242354366595
           ],
           "yaxis": "y"
          },
          {
           "hovertemplate": "<b>%{hovertext}</b><br><br>Country=TUR<br>Year=2005<br>Investments=%{x}<br>Passengers=%{y}<br>size=%{marker.size}<extra></extra>",
           "hovertext": [
            "TUR"
           ],
           "legendgroup": "TUR",
           "marker": {
            "color": "#19d3f3",
            "size": [
             20
            ],
            "sizemode": "area",
            "sizeref": 0.2,
            "symbol": "circle"
           },
           "mode": "markers",
           "name": "TUR",
           "orientation": "v",
           "showlegend": true,
           "type": "scatter",
           "x": [
            0.04188423284699633
           ],
           "xaxis": "x",
           "y": [
            -8.456025204345464
           ],
           "yaxis": "y"
          },
          {
           "hovertemplate": "<b>%{hovertext}</b><br><br>Country=GBR<br>Year=2005<br>Investments=%{x}<br>Passengers=%{y}<br>size=%{marker.size}<extra></extra>",
           "hovertext": [
            "GBR"
           ],
           "legendgroup": "GBR",
           "marker": {
            "color": "#FF6692",
            "size": [
             20
            ],
            "sizemode": "area",
            "sizeref": 0.2,
            "symbol": "circle"
           },
           "mode": "markers",
           "name": "GBR",
           "orientation": "v",
           "showlegend": true,
           "type": "scatter",
           "x": [
            0.3398027075961692
           ],
           "xaxis": "x",
           "y": [
            0.890272103144274
           ],
           "yaxis": "y"
          }
         ],
         "name": "2005"
        },
        {
         "data": [
          {
           "hovertemplate": "<b>%{hovertext}</b><br><br>Country=AUS<br>Year=2006<br>Investments=%{x}<br>Passengers=%{y}<br>size=%{marker.size}<extra></extra>",
           "hovertext": [
            "AUS"
           ],
           "legendgroup": "AUS",
           "marker": {
            "color": "#636efa",
            "size": [
             20
            ],
            "sizemode": "area",
            "sizeref": 0.2,
            "symbol": "circle"
           },
           "mode": "markers",
           "name": "AUS",
           "orientation": "v",
           "showlegend": true,
           "type": "scatter",
           "x": [
            0.15155952111454837
           ],
           "xaxis": "x",
           "y": [
            1.8267572304784485
           ],
           "yaxis": "y"
          },
          {
           "hovertemplate": "<b>%{hovertext}</b><br><br>Country=AZE<br>Year=2006<br>Investments=%{x}<br>Passengers=%{y}<br>size=%{marker.size}<extra></extra>",
           "hovertext": [
            "AZE"
           ],
           "legendgroup": "AZE",
           "marker": {
            "color": "#EF553B",
            "size": [
             20
            ],
            "sizemode": "area",
            "sizeref": 0.2,
            "symbol": "circle"
           },
           "mode": "markers",
           "name": "AZE",
           "orientation": "v",
           "showlegend": true,
           "type": "scatter",
           "x": [
            0.17737435227492931
           ],
           "xaxis": "x",
           "y": [
            17.969281398050207
           ],
           "yaxis": "y"
          },
          {
           "hovertemplate": "<b>%{hovertext}</b><br><br>Country=CZE<br>Year=2006<br>Investments=%{x}<br>Passengers=%{y}<br>size=%{marker.size}<extra></extra>",
           "hovertext": [
            "CZE"
           ],
           "legendgroup": "CZE",
           "marker": {
            "color": "#00cc96",
            "size": [
             20
            ],
            "sizemode": "area",
            "sizeref": 0.2,
            "symbol": "circle"
           },
           "mode": "markers",
           "name": "CZE",
           "orientation": "v",
           "showlegend": true,
           "type": "scatter",
           "x": [
            0.4778970723455429
           ],
           "xaxis": "x",
           "y": [
            6.048403388653756
           ],
           "yaxis": "y"
          },
          {
           "hovertemplate": "<b>%{hovertext}</b><br><br>Country=FIN<br>Year=2006<br>Investments=%{x}<br>Passengers=%{y}<br>size=%{marker.size}<extra></extra>",
           "hovertext": [
            "FIN"
           ],
           "legendgroup": "FIN",
           "marker": {
            "color": "#ab63fa",
            "size": [
             20
            ],
            "sizemode": "area",
            "sizeref": 0.2,
            "symbol": "circle"
           },
           "mode": "markers",
           "name": "FIN",
           "orientation": "v",
           "showlegend": true,
           "type": "scatter",
           "x": [
            0.1644403613112077
           ],
           "xaxis": "x",
           "y": [
            6.576609726812754
           ],
           "yaxis": "y"
          },
          {
           "hovertemplate": "<b>%{hovertext}</b><br><br>Country=FRA<br>Year=2006<br>Investments=%{x}<br>Passengers=%{y}<br>size=%{marker.size}<extra></extra>",
           "hovertext": [
            "FRA"
           ],
           "legendgroup": "FRA",
           "marker": {
            "color": "#FFA15A",
            "size": [
             20
            ],
            "sizemode": "area",
            "sizeref": 0.2,
            "symbol": "circle"
           },
           "mode": "markers",
           "name": "FRA",
           "orientation": "v",
           "showlegend": true,
           "type": "scatter",
           "x": [
            0.19805144142177356
           ],
           "xaxis": "x",
           "y": [
            -3.759274269979773
           ],
           "yaxis": "y"
          },
          {
           "hovertemplate": "<b>%{hovertext}</b><br><br>Country=DEU<br>Year=2006<br>Investments=%{x}<br>Passengers=%{y}<br>size=%{marker.size}<extra></extra>",
           "hovertext": [
            "DEU"
           ],
           "legendgroup": "DEU",
           "marker": {
            "color": "#19d3f3",
            "size": [
             20
            ],
            "sizemode": "area",
            "sizeref": 0.2,
            "symbol": "circle"
           },
           "mode": "markers",
           "name": "DEU",
           "orientation": "v",
           "showlegend": true,
           "type": "scatter",
           "x": [
            0.2684904350312004
           ],
           "xaxis": "x",
           "y": [
            3.0036234952943053
           ],
           "yaxis": "y"
          },
          {
           "hovertemplate": "<b>%{hovertext}</b><br><br>Country=HUN<br>Year=2006<br>Investments=%{x}<br>Passengers=%{y}<br>size=%{marker.size}<extra></extra>",
           "hovertext": [
            "HUN"
           ],
           "legendgroup": "HUN",
           "marker": {
            "color": "#FF6692",
            "size": [
             20
            ],
            "sizemode": "area",
            "sizeref": 0.2,
            "symbol": "circle"
           },
           "mode": "markers",
           "name": "HUN",
           "orientation": "v",
           "showlegend": true,
           "type": "scatter",
           "x": [
            0.3077071292021155
           ],
           "xaxis": "x",
           "y": [
            9.240992856903961
           ],
           "yaxis": "y"
          },
          {
           "hovertemplate": "<b>%{hovertext}</b><br><br>Country=ITA<br>Year=2006<br>Investments=%{x}<br>Passengers=%{y}<br>size=%{marker.size}<extra></extra>",
           "hovertext": [
            "ITA"
           ],
           "legendgroup": "ITA",
           "marker": {
            "color": "#B6E880",
            "size": [
             20
            ],
            "sizemode": "area",
            "sizeref": 0.2,
            "symbol": "circle"
           },
           "mode": "markers",
           "name": "ITA",
           "orientation": "v",
           "showlegend": true,
           "type": "scatter",
           "x": [
            0.49451700157175155
           ],
           "xaxis": "x",
           "y": [
            -6.530380808865344
           ],
           "yaxis": "y"
          },
          {
           "hovertemplate": "<b>%{hovertext}</b><br><br>Country=JPN<br>Year=2006<br>Investments=%{x}<br>Passengers=%{y}<br>size=%{marker.size}<extra></extra>",
           "hovertext": [
            "JPN"
           ],
           "legendgroup": "JPN",
           "marker": {
            "color": "#FF97FF",
            "size": [
             20
            ],
            "sizemode": "area",
            "sizeref": 0.2,
            "symbol": "circle"
           },
           "mode": "markers",
           "name": "JPN",
           "orientation": "v",
           "showlegend": true,
           "type": "scatter",
           "x": [
            0.18010942675039343
           ],
           "xaxis": "x",
           "y": [
            -4.438675411776116
           ],
           "yaxis": "y"
          },
          {
           "hovertemplate": "<b>%{hovertext}</b><br><br>Country=NOR<br>Year=2006<br>Investments=%{x}<br>Passengers=%{y}<br>size=%{marker.size}<extra></extra>",
           "hovertext": [
            "NOR"
           ],
           "legendgroup": "NOR",
           "marker": {
            "color": "#FECB52",
            "size": [
             20
            ],
            "sizemode": "area",
            "sizeref": 0.2,
            "symbol": "circle"
           },
           "mode": "markers",
           "name": "NOR",
           "orientation": "v",
           "showlegend": true,
           "type": "scatter",
           "x": [
            0.09361030792228497
           ],
           "xaxis": "x",
           "y": [
            1.532515169580284
           ],
           "yaxis": "y"
          },
          {
           "hovertemplate": "<b>%{hovertext}</b><br><br>Country=POL<br>Year=2006<br>Investments=%{x}<br>Passengers=%{y}<br>size=%{marker.size}<extra></extra>",
           "hovertext": [
            "POL"
           ],
           "legendgroup": "POL",
           "marker": {
            "color": "#636efa",
            "size": [
             20
            ],
            "sizemode": "area",
            "sizeref": 0.2,
            "symbol": "circle"
           },
           "mode": "markers",
           "name": "POL",
           "orientation": "v",
           "showlegend": true,
           "type": "scatter",
           "x": [
            0.07711485622268209
           ],
           "xaxis": "x",
           "y": [
            9.677406065245187
           ],
           "yaxis": "y"
          },
          {
           "hovertemplate": "<b>%{hovertext}</b><br><br>Country=RUS<br>Year=2006<br>Investments=%{x}<br>Passengers=%{y}<br>size=%{marker.size}<extra></extra>",
           "hovertext": [
            "RUS"
           ],
           "legendgroup": "RUS",
           "marker": {
            "color": "#EF553B",
            "size": [
             20
            ],
            "sizemode": "area",
            "sizeref": 0.2,
            "symbol": "circle"
           },
           "mode": "markers",
           "name": "RUS",
           "orientation": "v",
           "showlegend": true,
           "type": "scatter",
           "x": [
            0.7479954342735218
           ],
           "xaxis": "x",
           "y": [
            -19.464334813331906
           ],
           "yaxis": "y"
          },
          {
           "hovertemplate": "<b>%{hovertext}</b><br><br>Country=ESP<br>Year=2006<br>Investments=%{x}<br>Passengers=%{y}<br>size=%{marker.size}<extra></extra>",
           "hovertext": [
            "ESP"
           ],
           "legendgroup": "ESP",
           "marker": {
            "color": "#00cc96",
            "size": [
             20
            ],
            "sizemode": "area",
            "sizeref": 0.2,
            "symbol": "circle"
           },
           "mode": "markers",
           "name": "ESP",
           "orientation": "v",
           "showlegend": true,
           "type": "scatter",
           "x": [
            0.4702289485065698
           ],
           "xaxis": "x",
           "y": [
            6.958793088927995
           ],
           "yaxis": "y"
          },
          {
           "hovertemplate": "<b>%{hovertext}</b><br><br>Country=SWE<br>Year=2006<br>Investments=%{x}<br>Passengers=%{y}<br>size=%{marker.size}<extra></extra>",
           "hovertext": [
            "SWE"
           ],
           "legendgroup": "SWE",
           "marker": {
            "color": "#ab63fa",
            "size": [
             20
            ],
            "sizemode": "area",
            "sizeref": 0.2,
            "symbol": "circle"
           },
           "mode": "markers",
           "name": "SWE",
           "orientation": "v",
           "showlegend": true,
           "type": "scatter",
           "x": [
            0.27175989687580926
           ],
           "xaxis": "x",
           "y": [
            0.692520702233379
           ],
           "yaxis": "y"
          },
          {
           "hovertemplate": "<b>%{hovertext}</b><br><br>Country=CHE<br>Year=2006<br>Investments=%{x}<br>Passengers=%{y}<br>size=%{marker.size}<extra></extra>",
           "hovertext": [
            "CHE"
           ],
           "legendgroup": "CHE",
           "marker": {
            "color": "#FFA15A",
            "size": [
             20
            ],
            "sizemode": "area",
            "sizeref": 0.2,
            "symbol": "circle"
           },
           "mode": "markers",
           "name": "CHE",
           "orientation": "v",
           "showlegend": true,
           "type": "scatter",
           "x": [
            0.5948620812072917
           ],
           "xaxis": "x",
           "y": [
            1.0253323520233337
           ],
           "yaxis": "y"
          },
          {
           "hovertemplate": "<b>%{hovertext}</b><br><br>Country=TUR<br>Year=2006<br>Investments=%{x}<br>Passengers=%{y}<br>size=%{marker.size}<extra></extra>",
           "hovertext": [
            "TUR"
           ],
           "legendgroup": "TUR",
           "marker": {
            "color": "#19d3f3",
            "size": [
             20
            ],
            "sizemode": "area",
            "sizeref": 0.2,
            "symbol": "circle"
           },
           "mode": "markers",
           "name": "TUR",
           "orientation": "v",
           "showlegend": true,
           "type": "scatter",
           "x": [
            0.047136782883378796
           ],
           "xaxis": "x",
           "y": [
            4.265101856849585
           ],
           "yaxis": "y"
          },
          {
           "hovertemplate": "<b>%{hovertext}</b><br><br>Country=GBR<br>Year=2006<br>Investments=%{x}<br>Passengers=%{y}<br>size=%{marker.size}<extra></extra>",
           "hovertext": [
            "GBR"
           ],
           "legendgroup": "GBR",
           "marker": {
            "color": "#FF6692",
            "size": [
             20
            ],
            "sizemode": "area",
            "sizeref": 0.2,
            "symbol": "circle"
           },
           "mode": "markers",
           "name": "GBR",
           "orientation": "v",
           "showlegend": true,
           "type": "scatter",
           "x": [
            0.32606709825792896
           ],
           "xaxis": "x",
           "y": [
            -0.7310184075545401
           ],
           "yaxis": "y"
          }
         ],
         "name": "2006"
        },
        {
         "data": [
          {
           "hovertemplate": "<b>%{hovertext}</b><br><br>Country=AUS<br>Year=2007<br>Investments=%{x}<br>Passengers=%{y}<br>size=%{marker.size}<extra></extra>",
           "hovertext": [
            "AUS"
           ],
           "legendgroup": "AUS",
           "marker": {
            "color": "#636efa",
            "size": [
             20
            ],
            "sizemode": "area",
            "sizeref": 0.2,
            "symbol": "circle"
           },
           "mode": "markers",
           "name": "AUS",
           "orientation": "v",
           "showlegend": true,
           "type": "scatter",
           "x": [
            0.16971336949667298
           ],
           "xaxis": "x",
           "y": [
            0.11210050422303386
           ],
           "yaxis": "y"
          },
          {
           "hovertemplate": "<b>%{hovertext}</b><br><br>Country=AZE<br>Year=2007<br>Investments=%{x}<br>Passengers=%{y}<br>size=%{marker.size}<extra></extra>",
           "hovertext": [
            "AZE"
           ],
           "legendgroup": "AZE",
           "marker": {
            "color": "#EF553B",
            "size": [
             20
            ],
            "sizemode": "area",
            "sizeref": 0.2,
            "symbol": "circle"
           },
           "mode": "markers",
           "name": "AZE",
           "orientation": "v",
           "showlegend": true,
           "type": "scatter",
           "x": [
            0.15804731447202638
           ],
           "xaxis": "x",
           "y": [
            26.604112911408272
           ],
           "yaxis": "y"
          },
          {
           "hovertemplate": "<b>%{hovertext}</b><br><br>Country=CZE<br>Year=2007<br>Investments=%{x}<br>Passengers=%{y}<br>size=%{marker.size}<extra></extra>",
           "hovertext": [
            "CZE"
           ],
           "legendgroup": "CZE",
           "marker": {
            "color": "#00cc96",
            "size": [
             20
            ],
            "sizemode": "area",
            "sizeref": 0.2,
            "symbol": "circle"
           },
           "mode": "markers",
           "name": "CZE",
           "orientation": "v",
           "showlegend": true,
           "type": "scatter",
           "x": [
            0.4183427838366992
           ],
           "xaxis": "x",
           "y": [
            7.096717430892574
           ],
           "yaxis": "y"
          },
          {
           "hovertemplate": "<b>%{hovertext}</b><br><br>Country=FIN<br>Year=2007<br>Investments=%{x}<br>Passengers=%{y}<br>size=%{marker.size}<extra></extra>",
           "hovertext": [
            "FIN"
           ],
           "legendgroup": "FIN",
           "marker": {
            "color": "#ab63fa",
            "size": [
             20
            ],
            "sizemode": "area",
            "sizeref": 0.2,
            "symbol": "circle"
           },
           "mode": "markers",
           "name": "FIN",
           "orientation": "v",
           "showlegend": true,
           "type": "scatter",
           "x": [
            0.15410584014476805
           ],
           "xaxis": "x",
           "y": [
            6.267840329853569
           ],
           "yaxis": "y"
          },
          {
           "hovertemplate": "<b>%{hovertext}</b><br><br>Country=FRA<br>Year=2007<br>Investments=%{x}<br>Passengers=%{y}<br>size=%{marker.size}<extra></extra>",
           "hovertext": [
            "FRA"
           ],
           "legendgroup": "FRA",
           "marker": {
            "color": "#FFA15A",
            "size": [
             20
            ],
            "sizemode": "area",
            "sizeref": 0.2,
            "symbol": "circle"
           },
           "mode": "markers",
           "name": "FRA",
           "orientation": "v",
           "showlegend": true,
           "type": "scatter",
           "x": [
            0.19981981670781473
           ],
           "xaxis": "x",
           "y": [
            -3.9436344079389007
           ],
           "yaxis": "y"
          },
          {
           "hovertemplate": "<b>%{hovertext}</b><br><br>Country=DEU<br>Year=2007<br>Investments=%{x}<br>Passengers=%{y}<br>size=%{marker.size}<extra></extra>",
           "hovertext": [
            "DEU"
           ],
           "legendgroup": "DEU",
           "marker": {
            "color": "#19d3f3",
            "size": [
             20
            ],
            "sizemode": "area",
            "sizeref": 0.2,
            "symbol": "circle"
           },
           "mode": "markers",
           "name": "DEU",
           "orientation": "v",
           "showlegend": true,
           "type": "scatter",
           "x": [
            0.2372762121831103
           ],
           "xaxis": "x",
           "y": [
            2.185673409016875
           ],
           "yaxis": "y"
          },
          {
           "hovertemplate": "<b>%{hovertext}</b><br><br>Country=HUN<br>Year=2007<br>Investments=%{x}<br>Passengers=%{y}<br>size=%{marker.size}<extra></extra>",
           "hovertext": [
            "HUN"
           ],
           "legendgroup": "HUN",
           "marker": {
            "color": "#FF6692",
            "size": [
             20
            ],
            "sizemode": "area",
            "sizeref": 0.2,
            "symbol": "circle"
           },
           "mode": "markers",
           "name": "HUN",
           "orientation": "v",
           "showlegend": true,
           "type": "scatter",
           "x": [
            0.23516275450165178
           ],
           "xaxis": "x",
           "y": [
            10.041925921886374
           ],
           "yaxis": "y"
          },
          {
           "hovertemplate": "<b>%{hovertext}</b><br><br>Country=ITA<br>Year=2007<br>Investments=%{x}<br>Passengers=%{y}<br>size=%{marker.size}<extra></extra>",
           "hovertext": [
            "ITA"
           ],
           "legendgroup": "ITA",
           "marker": {
            "color": "#B6E880",
            "size": [
             20
            ],
            "sizemode": "area",
            "sizeref": 0.2,
            "symbol": "circle"
           },
           "mode": "markers",
           "name": "ITA",
           "orientation": "v",
           "showlegend": true,
           "type": "scatter",
           "x": [
            0.5039816889311758
           ],
           "xaxis": "x",
           "y": [
            -6.322666073554362
           ],
           "yaxis": "y"
          },
          {
           "hovertemplate": "<b>%{hovertext}</b><br><br>Country=JPN<br>Year=2007<br>Investments=%{x}<br>Passengers=%{y}<br>size=%{marker.size}<extra></extra>",
           "hovertext": [
            "JPN"
           ],
           "legendgroup": "JPN",
           "marker": {
            "color": "#FF97FF",
            "size": [
             20
            ],
            "sizemode": "area",
            "sizeref": 0.2,
            "symbol": "circle"
           },
           "mode": "markers",
           "name": "JPN",
           "orientation": "v",
           "showlegend": true,
           "type": "scatter",
           "x": [
            0.16476484208557346
           ],
           "xaxis": "x",
           "y": [
            -4.3342002816318725
           ],
           "yaxis": "y"
          },
          {
           "hovertemplate": "<b>%{hovertext}</b><br><br>Country=NOR<br>Year=2007<br>Investments=%{x}<br>Passengers=%{y}<br>size=%{marker.size}<extra></extra>",
           "hovertext": [
            "NOR"
           ],
           "legendgroup": "NOR",
           "marker": {
            "color": "#FECB52",
            "size": [
             20
            ],
            "sizemode": "area",
            "sizeref": 0.2,
            "symbol": "circle"
           },
           "mode": "markers",
           "name": "NOR",
           "orientation": "v",
           "showlegend": true,
           "type": "scatter",
           "x": [
            0.08518225596348505
           ],
           "xaxis": "x",
           "y": [
            1.9376538840483404
           ],
           "yaxis": "y"
          },
          {
           "hovertemplate": "<b>%{hovertext}</b><br><br>Country=POL<br>Year=2007<br>Investments=%{x}<br>Passengers=%{y}<br>size=%{marker.size}<extra></extra>",
           "hovertext": [
            "POL"
           ],
           "legendgroup": "POL",
           "marker": {
            "color": "#636efa",
            "size": [
             20
            ],
            "sizemode": "area",
            "sizeref": 0.2,
            "symbol": "circle"
           },
           "mode": "markers",
           "name": "POL",
           "orientation": "v",
           "showlegend": true,
           "type": "scatter",
           "x": [
            0.08621499274683335
           ],
           "xaxis": "x",
           "y": [
            12.119021648180706
           ],
           "yaxis": "y"
          },
          {
           "hovertemplate": "<b>%{hovertext}</b><br><br>Country=RUS<br>Year=2007<br>Investments=%{x}<br>Passengers=%{y}<br>size=%{marker.size}<extra></extra>",
           "hovertext": [
            "RUS"
           ],
           "legendgroup": "RUS",
           "marker": {
            "color": "#EF553B",
            "size": [
             20
            ],
            "sizemode": "area",
            "sizeref": 0.2,
            "symbol": "circle"
           },
           "mode": "markers",
           "name": "RUS",
           "orientation": "v",
           "showlegend": true,
           "type": "scatter",
           "x": [
            0.6122874503092086
           ],
           "xaxis": "x",
           "y": [
            -10.66404829553399
           ],
           "yaxis": "y"
          },
          {
           "hovertemplate": "<b>%{hovertext}</b><br><br>Country=ESP<br>Year=2007<br>Investments=%{x}<br>Passengers=%{y}<br>size=%{marker.size}<extra></extra>",
           "hovertext": [
            "ESP"
           ],
           "legendgroup": "ESP",
           "marker": {
            "color": "#00cc96",
            "size": [
             20
            ],
            "sizemode": "area",
            "sizeref": 0.2,
            "symbol": "circle"
           },
           "mode": "markers",
           "name": "ESP",
           "orientation": "v",
           "showlegend": true,
           "type": "scatter",
           "x": [
            0.49376038857170085
           ],
           "xaxis": "x",
           "y": [
            1.7549156528262166
           ],
           "yaxis": "y"
          },
          {
           "hovertemplate": "<b>%{hovertext}</b><br><br>Country=SWE<br>Year=2007<br>Investments=%{x}<br>Passengers=%{y}<br>size=%{marker.size}<extra></extra>",
           "hovertext": [
            "SWE"
           ],
           "legendgroup": "SWE",
           "marker": {
            "color": "#ab63fa",
            "size": [
             20
            ],
            "sizemode": "area",
            "sizeref": 0.2,
            "symbol": "circle"
           },
           "mode": "markers",
           "name": "SWE",
           "orientation": "v",
           "showlegend": true,
           "type": "scatter",
           "x": [
            0.2855559280850204
           ],
           "xaxis": "x",
           "y": [
            0.6039508095829982
           ],
           "yaxis": "y"
          },
          {
           "hovertemplate": "<b>%{hovertext}</b><br><br>Country=CHE<br>Year=2007<br>Investments=%{x}<br>Passengers=%{y}<br>size=%{marker.size}<extra></extra>",
           "hovertext": [
            "CHE"
           ],
           "legendgroup": "CHE",
           "marker": {
            "color": "#FFA15A",
            "size": [
             20
            ],
            "sizemode": "area",
            "sizeref": 0.2,
            "symbol": "circle"
           },
           "mode": "markers",
           "name": "CHE",
           "orientation": "v",
           "showlegend": true,
           "type": "scatter",
           "x": [
            0.5862408529769099
           ],
           "xaxis": "x",
           "y": [
            0.8973665848130086
           ],
           "yaxis": "y"
          },
          {
           "hovertemplate": "<b>%{hovertext}</b><br><br>Country=TUR<br>Year=2007<br>Investments=%{x}<br>Passengers=%{y}<br>size=%{marker.size}<extra></extra>",
           "hovertext": [
            "TUR"
           ],
           "legendgroup": "TUR",
           "marker": {
            "color": "#19d3f3",
            "size": [
             20
            ],
            "sizemode": "area",
            "sizeref": 0.2,
            "symbol": "circle"
           },
           "mode": "markers",
           "name": "TUR",
           "orientation": "v",
           "showlegend": true,
           "type": "scatter",
           "x": [
            0.05878490407548496
           ],
           "xaxis": "x",
           "y": [
            19.8945015693619
           ],
           "yaxis": "y"
          },
          {
           "hovertemplate": "<b>%{hovertext}</b><br><br>Country=GBR<br>Year=2007<br>Investments=%{x}<br>Passengers=%{y}<br>size=%{marker.size}<extra></extra>",
           "hovertext": [
            "GBR"
           ],
           "legendgroup": "GBR",
           "marker": {
            "color": "#FF6692",
            "size": [
             20
            ],
            "sizemode": "area",
            "sizeref": 0.2,
            "symbol": "circle"
           },
           "mode": "markers",
           "name": "GBR",
           "orientation": "v",
           "showlegend": true,
           "type": "scatter",
           "x": [
            0.3127763204467858
           ],
           "xaxis": "x",
           "y": [
            -3.8945934134345106
           ],
           "yaxis": "y"
          }
         ],
         "name": "2007"
        },
        {
         "data": [
          {
           "hovertemplate": "<b>%{hovertext}</b><br><br>Country=AUS<br>Year=2008<br>Investments=%{x}<br>Passengers=%{y}<br>size=%{marker.size}<extra></extra>",
           "hovertext": [
            "AUS"
           ],
           "legendgroup": "AUS",
           "marker": {
            "color": "#636efa",
            "size": [
             20
            ],
            "sizemode": "area",
            "sizeref": 0.2,
            "symbol": "circle"
           },
           "mode": "markers",
           "name": "AUS",
           "orientation": "v",
           "showlegend": true,
           "type": "scatter",
           "x": [
            0.1835425163373962
           ],
           "xaxis": "x",
           "y": [
            -2.565532453918773
           ],
           "yaxis": "y"
          },
          {
           "hovertemplate": "<b>%{hovertext}</b><br><br>Country=AZE<br>Year=2008<br>Investments=%{x}<br>Passengers=%{y}<br>size=%{marker.size}<extra></extra>",
           "hovertext": [
            "AZE"
           ],
           "legendgroup": "AZE",
           "marker": {
            "color": "#EF553B",
            "size": [
             20
            ],
            "sizemode": "area",
            "sizeref": 0.2,
            "symbol": "circle"
           },
           "mode": "markers",
           "name": "AZE",
           "orientation": "v",
           "showlegend": true,
           "type": "scatter",
           "x": [
            0.07572411917108726
           ],
           "xaxis": "x",
           "y": [
            33.887307046937345
           ],
           "yaxis": "y"
          },
          {
           "hovertemplate": "<b>%{hovertext}</b><br><br>Country=CZE<br>Year=2008<br>Investments=%{x}<br>Passengers=%{y}<br>size=%{marker.size}<extra></extra>",
           "hovertext": [
            "CZE"
           ],
           "legendgroup": "CZE",
           "marker": {
            "color": "#00cc96",
            "size": [
             20
            ],
            "sizemode": "area",
            "sizeref": 0.2,
            "symbol": "circle"
           },
           "mode": "markers",
           "name": "CZE",
           "orientation": "v",
           "showlegend": true,
           "type": "scatter",
           "x": [
            0.3648630718345973
           ],
           "xaxis": "x",
           "y": [
            5.092789321671476
           ],
           "yaxis": "y"
          },
          {
           "hovertemplate": "<b>%{hovertext}</b><br><br>Country=FIN<br>Year=2008<br>Investments=%{x}<br>Passengers=%{y}<br>size=%{marker.size}<extra></extra>",
           "hovertext": [
            "FIN"
           ],
           "legendgroup": "FIN",
           "marker": {
            "color": "#ab63fa",
            "size": [
             20
            ],
            "sizemode": "area",
            "sizeref": 0.2,
            "symbol": "circle"
           },
           "mode": "markers",
           "name": "FIN",
           "orientation": "v",
           "showlegend": true,
           "type": "scatter",
           "x": [
            0.13762322736281313
           ],
           "xaxis": "x",
           "y": [
            3.478998726442928
           ],
           "yaxis": "y"
          },
          {
           "hovertemplate": "<b>%{hovertext}</b><br><br>Country=FRA<br>Year=2008<br>Investments=%{x}<br>Passengers=%{y}<br>size=%{marker.size}<extra></extra>",
           "hovertext": [
            "FRA"
           ],
           "legendgroup": "FRA",
           "marker": {
            "color": "#FFA15A",
            "size": [
             20
            ],
            "sizemode": "area",
            "sizeref": 0.2,
            "symbol": "circle"
           },
           "mode": "markers",
           "name": "FRA",
           "orientation": "v",
           "showlegend": true,
           "type": "scatter",
           "x": [
            0.19362474629494048
           ],
           "xaxis": "x",
           "y": [
            -6.029694880611136
           ],
           "yaxis": "y"
          },
          {
           "hovertemplate": "<b>%{hovertext}</b><br><br>Country=DEU<br>Year=2008<br>Investments=%{x}<br>Passengers=%{y}<br>size=%{marker.size}<extra></extra>",
           "hovertext": [
            "DEU"
           ],
           "legendgroup": "DEU",
           "marker": {
            "color": "#19d3f3",
            "size": [
             20
            ],
            "sizemode": "area",
            "sizeref": 0.2,
            "symbol": "circle"
           },
           "mode": "markers",
           "name": "DEU",
           "orientation": "v",
           "showlegend": true,
           "type": "scatter",
           "x": [
            0.18554750855591043
           ],
           "xaxis": "x",
           "y": [
            2.9394789122655807
           ],
           "yaxis": "y"
          },
          {
           "hovertemplate": "<b>%{hovertext}</b><br><br>Country=HUN<br>Year=2008<br>Investments=%{x}<br>Passengers=%{y}<br>size=%{marker.size}<extra></extra>",
           "hovertext": [
            "HUN"
           ],
           "legendgroup": "HUN",
           "marker": {
            "color": "#FF6692",
            "size": [
             20
            ],
            "sizemode": "area",
            "sizeref": 0.2,
            "symbol": "circle"
           },
           "mode": "markers",
           "name": "HUN",
           "orientation": "v",
           "showlegend": true,
           "type": "scatter",
           "x": [
            0.20523303976856644
           ],
           "xaxis": "x",
           "y": [
            8.365738839737546
           ],
           "yaxis": "y"
          },
          {
           "hovertemplate": "<b>%{hovertext}</b><br><br>Country=ITA<br>Year=2008<br>Investments=%{x}<br>Passengers=%{y}<br>size=%{marker.size}<extra></extra>",
           "hovertext": [
            "ITA"
           ],
           "legendgroup": "ITA",
           "marker": {
            "color": "#B6E880",
            "size": [
             20
            ],
            "sizemode": "area",
            "sizeref": 0.2,
            "symbol": "circle"
           },
           "mode": "markers",
           "name": "ITA",
           "orientation": "v",
           "showlegend": true,
           "type": "scatter",
           "x": [
            0.4864798283691372
           ],
           "xaxis": "x",
           "y": [
            -6.693070151567026
           ],
           "yaxis": "y"
          },
          {
           "hovertemplate": "<b>%{hovertext}</b><br><br>Country=JPN<br>Year=2008<br>Investments=%{x}<br>Passengers=%{y}<br>size=%{marker.size}<extra></extra>",
           "hovertext": [
            "JPN"
           ],
           "legendgroup": "JPN",
           "marker": {
            "color": "#FF97FF",
            "size": [
             20
            ],
            "sizemode": "area",
            "sizeref": 0.2,
            "symbol": "circle"
           },
           "mode": "markers",
           "name": "JPN",
           "orientation": "v",
           "showlegend": true,
           "type": "scatter",
           "x": [
            0.1506455023411601
           ],
           "xaxis": "x",
           "y": [
            -5.486143992236336
           ],
           "yaxis": "y"
          },
          {
           "hovertemplate": "<b>%{hovertext}</b><br><br>Country=NOR<br>Year=2008<br>Investments=%{x}<br>Passengers=%{y}<br>size=%{marker.size}<extra></extra>",
           "hovertext": [
            "NOR"
           ],
           "legendgroup": "NOR",
           "marker": {
            "color": "#FECB52",
            "size": [
             20
            ],
            "sizemode": "area",
            "sizeref": 0.2,
            "symbol": "circle"
           },
           "mode": "markers",
           "name": "NOR",
           "orientation": "v",
           "showlegend": true,
           "type": "scatter",
           "x": [
            0.08102660565684287
           ],
           "xaxis": "x",
           "y": [
            2.4927230379032883
           ],
           "yaxis": "y"
          },
          {
           "hovertemplate": "<b>%{hovertext}</b><br><br>Country=POL<br>Year=2008<br>Investments=%{x}<br>Passengers=%{y}<br>size=%{marker.size}<extra></extra>",
           "hovertext": [
            "POL"
           ],
           "legendgroup": "POL",
           "marker": {
            "color": "#636efa",
            "size": [
             20
            ],
            "sizemode": "area",
            "sizeref": 0.2,
            "symbol": "circle"
           },
           "mode": "markers",
           "name": "POL",
           "orientation": "v",
           "showlegend": true,
           "type": "scatter",
           "x": [
            0.10648149373581703
           ],
           "xaxis": "x",
           "y": [
            14.492945734597274
           ],
           "yaxis": "y"
          },
          {
           "hovertemplate": "<b>%{hovertext}</b><br><br>Country=RUS<br>Year=2008<br>Investments=%{x}<br>Passengers=%{y}<br>size=%{marker.size}<extra></extra>",
           "hovertext": [
            "RUS"
           ],
           "legendgroup": "RUS",
           "marker": {
            "color": "#EF553B",
            "size": [
             20
            ],
            "sizemode": "area",
            "sizeref": 0.2,
            "symbol": "circle"
           },
           "mode": "markers",
           "name": "RUS",
           "orientation": "v",
           "showlegend": true,
           "type": "scatter",
           "x": [
            0.5754131059104524
           ],
           "xaxis": "x",
           "y": [
            -7.19158294046458
           ],
           "yaxis": "y"
          },
          {
           "hovertemplate": "<b>%{hovertext}</b><br><br>Country=ESP<br>Year=2008<br>Investments=%{x}<br>Passengers=%{y}<br>size=%{marker.size}<extra></extra>",
           "hovertext": [
            "ESP"
           ],
           "legendgroup": "ESP",
           "marker": {
            "color": "#00cc96",
            "size": [
             20
            ],
            "sizemode": "area",
            "sizeref": 0.2,
            "symbol": "circle"
           },
           "mode": "markers",
           "name": "ESP",
           "orientation": "v",
           "showlegend": true,
           "type": "scatter",
           "x": [
            0.5048331036053054
           ],
           "xaxis": "x",
           "y": [
            -0.12325908956317688
           ],
           "yaxis": "y"
          },
          {
           "hovertemplate": "<b>%{hovertext}</b><br><br>Country=SWE<br>Year=2008<br>Investments=%{x}<br>Passengers=%{y}<br>size=%{marker.size}<extra></extra>",
           "hovertext": [
            "SWE"
           ],
           "legendgroup": "SWE",
           "marker": {
            "color": "#ab63fa",
            "size": [
             20
            ],
            "sizemode": "area",
            "sizeref": 0.2,
            "symbol": "circle"
           },
           "mode": "markers",
           "name": "SWE",
           "orientation": "v",
           "showlegend": true,
           "type": "scatter",
           "x": [
            0.29502434049712345
           ],
           "xaxis": "x",
           "y": [
            -1.1797319949881202
           ],
           "yaxis": "y"
          },
          {
           "hovertemplate": "<b>%{hovertext}</b><br><br>Country=CHE<br>Year=2008<br>Investments=%{x}<br>Passengers=%{y}<br>size=%{marker.size}<extra></extra>",
           "hovertext": [
            "CHE"
           ],
           "legendgroup": "CHE",
           "marker": {
            "color": "#FFA15A",
            "size": [
             20
            ],
            "sizemode": "area",
            "sizeref": 0.2,
            "symbol": "circle"
           },
           "mode": "markers",
           "name": "CHE",
           "orientation": "v",
           "showlegend": true,
           "type": "scatter",
           "x": [
            0.5490251938722146
           ],
           "xaxis": "x",
           "y": [
            1.599968016769493
           ],
           "yaxis": "y"
          },
          {
           "hovertemplate": "<b>%{hovertext}</b><br><br>Country=TUR<br>Year=2008<br>Investments=%{x}<br>Passengers=%{y}<br>size=%{marker.size}<extra></extra>",
           "hovertext": [
            "TUR"
           ],
           "legendgroup": "TUR",
           "marker": {
            "color": "#19d3f3",
            "size": [
             20
            ],
            "sizemode": "area",
            "sizeref": 0.2,
            "symbol": "circle"
           },
           "mode": "markers",
           "name": "TUR",
           "orientation": "v",
           "showlegend": true,
           "type": "scatter",
           "x": [
            0.0695765413910387
           ],
           "xaxis": "x",
           "y": [
            17.599456419396418
           ],
           "yaxis": "y"
          },
          {
           "hovertemplate": "<b>%{hovertext}</b><br><br>Country=GBR<br>Year=2008<br>Investments=%{x}<br>Passengers=%{y}<br>size=%{marker.size}<extra></extra>",
           "hovertext": [
            "GBR"
           ],
           "legendgroup": "GBR",
           "marker": {
            "color": "#FF6692",
            "size": [
             20
            ],
            "sizemode": "area",
            "sizeref": 0.2,
            "symbol": "circle"
           },
           "mode": "markers",
           "name": "GBR",
           "orientation": "v",
           "showlegend": true,
           "type": "scatter",
           "x": [
            0.28605876794421903
           ],
           "xaxis": "x",
           "y": [
            -4.0035310532978485
           ],
           "yaxis": "y"
          }
         ],
         "name": "2008"
        },
        {
         "data": [
          {
           "hovertemplate": "<b>%{hovertext}</b><br><br>Country=AUS<br>Year=2009<br>Investments=%{x}<br>Passengers=%{y}<br>size=%{marker.size}<extra></extra>",
           "hovertext": [
            "AUS"
           ],
           "legendgroup": "AUS",
           "marker": {
            "color": "#636efa",
            "size": [
             20
            ],
            "sizemode": "area",
            "sizeref": 0.2,
            "symbol": "circle"
           },
           "mode": "markers",
           "name": "AUS",
           "orientation": "v",
           "showlegend": true,
           "type": "scatter",
           "x": [
            0.184768633353487
           ],
           "xaxis": "x",
           "y": [
            -7.746417633826342
           ],
           "yaxis": "y"
          },
          {
           "hovertemplate": "<b>%{hovertext}</b><br><br>Country=AZE<br>Year=2009<br>Investments=%{x}<br>Passengers=%{y}<br>size=%{marker.size}<extra></extra>",
           "hovertext": [
            "AZE"
           ],
           "legendgroup": "AZE",
           "marker": {
            "color": "#EF553B",
            "size": [
             20
            ],
            "sizemode": "area",
            "sizeref": 0.2,
            "symbol": "circle"
           },
           "mode": "markers",
           "name": "AZE",
           "orientation": "v",
           "showlegend": true,
           "type": "scatter",
           "x": [
            0.06733387123586819
           ],
           "xaxis": "x",
           "y": [
            39.56840231589893
           ],
           "yaxis": "y"
          },
          {
           "hovertemplate": "<b>%{hovertext}</b><br><br>Country=CZE<br>Year=2009<br>Investments=%{x}<br>Passengers=%{y}<br>size=%{marker.size}<extra></extra>",
           "hovertext": [
            "CZE"
           ],
           "legendgroup": "CZE",
           "marker": {
            "color": "#00cc96",
            "size": [
             20
            ],
            "sizemode": "area",
            "sizeref": 0.2,
            "symbol": "circle"
           },
           "mode": "markers",
           "name": "CZE",
           "orientation": "v",
           "showlegend": true,
           "type": "scatter",
           "x": [
            0.3854206477447905
           ],
           "xaxis": "x",
           "y": [
            5.8333519934282485
           ],
           "yaxis": "y"
          },
          {
           "hovertemplate": "<b>%{hovertext}</b><br><br>Country=FIN<br>Year=2009<br>Investments=%{x}<br>Passengers=%{y}<br>size=%{marker.size}<extra></extra>",
           "hovertext": [
            "FIN"
           ],
           "legendgroup": "FIN",
           "marker": {
            "color": "#ab63fa",
            "size": [
             20
            ],
            "sizemode": "area",
            "sizeref": 0.2,
            "symbol": "circle"
           },
           "mode": "markers",
           "name": "FIN",
           "orientation": "v",
           "showlegend": true,
           "type": "scatter",
           "x": [
            0.12803416281658825
           ],
           "xaxis": "x",
           "y": [
            2.6773408342279703
           ],
           "yaxis": "y"
          },
          {
           "hovertemplate": "<b>%{hovertext}</b><br><br>Country=FRA<br>Year=2009<br>Investments=%{x}<br>Passengers=%{y}<br>size=%{marker.size}<extra></extra>",
           "hovertext": [
            "FRA"
           ],
           "legendgroup": "FRA",
           "marker": {
            "color": "#FFA15A",
            "size": [
             20
            ],
            "sizemode": "area",
            "sizeref": 0.2,
            "symbol": "circle"
           },
           "mode": "markers",
           "name": "FRA",
           "orientation": "v",
           "showlegend": true,
           "type": "scatter",
           "x": [
            0.18579616777587232
           ],
           "xaxis": "x",
           "y": [
            -5.705452279619827
           ],
           "yaxis": "y"
          },
          {
           "hovertemplate": "<b>%{hovertext}</b><br><br>Country=DEU<br>Year=2009<br>Investments=%{x}<br>Passengers=%{y}<br>size=%{marker.size}<extra></extra>",
           "hovertext": [
            "DEU"
           ],
           "legendgroup": "DEU",
           "marker": {
            "color": "#19d3f3",
            "size": [
             20
            ],
            "sizemode": "area",
            "sizeref": 0.2,
            "symbol": "circle"
           },
           "mode": "markers",
           "name": "DEU",
           "orientation": "v",
           "showlegend": true,
           "type": "scatter",
           "x": [
            0.14610329802959462
           ],
           "xaxis": "x",
           "y": [
            0.8694154690405131
           ],
           "yaxis": "y"
          },
          {
           "hovertemplate": "<b>%{hovertext}</b><br><br>Country=HUN<br>Year=2009<br>Investments=%{x}<br>Passengers=%{y}<br>size=%{marker.size}<extra></extra>",
           "hovertext": [
            "HUN"
           ],
           "legendgroup": "HUN",
           "marker": {
            "color": "#FF6692",
            "size": [
             20
            ],
            "sizemode": "area",
            "sizeref": 0.2,
            "symbol": "circle"
           },
           "mode": "markers",
           "name": "HUN",
           "orientation": "v",
           "showlegend": true,
           "type": "scatter",
           "x": [
            0.1759999950142917
           ],
           "xaxis": "x",
           "y": [
            5.261450834004311
           ],
           "yaxis": "y"
          },
          {
           "hovertemplate": "<b>%{hovertext}</b><br><br>Country=ITA<br>Year=2009<br>Investments=%{x}<br>Passengers=%{y}<br>size=%{marker.size}<extra></extra>",
           "hovertext": [
            "ITA"
           ],
           "legendgroup": "ITA",
           "marker": {
            "color": "#B6E880",
            "size": [
             20
            ],
            "sizemode": "area",
            "sizeref": 0.2,
            "symbol": "circle"
           },
           "mode": "markers",
           "name": "ITA",
           "orientation": "v",
           "showlegend": true,
           "type": "scatter",
           "x": [
            0.4499398176985192
           ],
           "xaxis": "x",
           "y": [
            -2.1674025219170945
           ],
           "yaxis": "y"
          },
          {
           "hovertemplate": "<b>%{hovertext}</b><br><br>Country=JPN<br>Year=2009<br>Investments=%{x}<br>Passengers=%{y}<br>size=%{marker.size}<extra></extra>",
           "hovertext": [
            "JPN"
           ],
           "legendgroup": "JPN",
           "marker": {
            "color": "#FF97FF",
            "size": [
             20
            ],
            "sizemode": "area",
            "sizeref": 0.2,
            "symbol": "circle"
           },
           "mode": "markers",
           "name": "JPN",
           "orientation": "v",
           "showlegend": true,
           "type": "scatter",
           "x": [
            0.14596708066461148
           ],
           "xaxis": "x",
           "y": [
            -5.484582776212166
           ],
           "yaxis": "y"
          },
          {
           "hovertemplate": "<b>%{hovertext}</b><br><br>Country=NOR<br>Year=2009<br>Investments=%{x}<br>Passengers=%{y}<br>size=%{marker.size}<extra></extra>",
           "hovertext": [
            "NOR"
           ],
           "legendgroup": "NOR",
           "marker": {
            "color": "#FECB52",
            "size": [
             20
            ],
            "sizemode": "area",
            "sizeref": 0.2,
            "symbol": "circle"
           },
           "mode": "markers",
           "name": "NOR",
           "orientation": "v",
           "showlegend": true,
           "type": "scatter",
           "x": [
            0.07563434267838531
           ],
           "xaxis": "x",
           "y": [
            1.8658772448361338
           ],
           "yaxis": "y"
          },
          {
           "hovertemplate": "<b>%{hovertext}</b><br><br>Country=POL<br>Year=2009<br>Investments=%{x}<br>Passengers=%{y}<br>size=%{marker.size}<extra></extra>",
           "hovertext": [
            "POL"
           ],
           "legendgroup": "POL",
           "marker": {
            "color": "#636efa",
            "size": [
             20
            ],
            "sizemode": "area",
            "sizeref": 0.2,
            "symbol": "circle"
           },
           "mode": "markers",
           "name": "POL",
           "orientation": "v",
           "showlegend": true,
           "type": "scatter",
           "x": [
            0.12332975305764497
           ],
           "xaxis": "x",
           "y": [
            14.657053060617109
           ],
           "yaxis": "y"
          },
          {
           "hovertemplate": "<b>%{hovertext}</b><br><br>Country=RUS<br>Year=2009<br>Investments=%{x}<br>Passengers=%{y}<br>size=%{marker.size}<extra></extra>",
           "hovertext": [
            "RUS"
           ],
           "legendgroup": "RUS",
           "marker": {
            "color": "#EF553B",
            "size": [
             20
            ],
            "sizemode": "area",
            "sizeref": 0.2,
            "symbol": "circle"
           },
           "mode": "markers",
           "name": "RUS",
           "orientation": "v",
           "showlegend": true,
           "type": "scatter",
           "x": [
            0.537561221681935
           ],
           "xaxis": "x",
           "y": [
            -15.426322227829415
           ],
           "yaxis": "y"
          },
          {
           "hovertemplate": "<b>%{hovertext}</b><br><br>Country=ESP<br>Year=2009<br>Investments=%{x}<br>Passengers=%{y}<br>size=%{marker.size}<extra></extra>",
           "hovertext": [
            "ESP"
           ],
           "legendgroup": "ESP",
           "marker": {
            "color": "#00cc96",
            "size": [
             20
            ],
            "sizemode": "area",
            "sizeref": 0.2,
            "symbol": "circle"
           },
           "mode": "markers",
           "name": "ESP",
           "orientation": "v",
           "showlegend": true,
           "type": "scatter",
           "x": [
            0.5328352638208143
           ],
           "xaxis": "x",
           "y": [
            -1.603997964798476
           ],
           "yaxis": "y"
          },
          {
           "hovertemplate": "<b>%{hovertext}</b><br><br>Country=SWE<br>Year=2009<br>Investments=%{x}<br>Passengers=%{y}<br>size=%{marker.size}<extra></extra>",
           "hovertext": [
            "SWE"
           ],
           "legendgroup": "SWE",
           "marker": {
            "color": "#ab63fa",
            "size": [
             20
            ],
            "sizemode": "area",
            "sizeref": 0.2,
            "symbol": "circle"
           },
           "mode": "markers",
           "name": "SWE",
           "orientation": "v",
           "showlegend": true,
           "type": "scatter",
           "x": [
            0.31634088775839037
           ],
           "xaxis": "x",
           "y": [
            -2.7167038709446922
           ],
           "yaxis": "y"
          },
          {
           "hovertemplate": "<b>%{hovertext}</b><br><br>Country=CHE<br>Year=2009<br>Investments=%{x}<br>Passengers=%{y}<br>size=%{marker.size}<extra></extra>",
           "hovertext": [
            "CHE"
           ],
           "legendgroup": "CHE",
           "marker": {
            "color": "#FFA15A",
            "size": [
             20
            ],
            "sizemode": "area",
            "sizeref": 0.2,
            "symbol": "circle"
           },
           "mode": "markers",
           "name": "CHE",
           "orientation": "v",
           "showlegend": true,
           "type": "scatter",
           "x": [
            0.5298289980685044
           ],
           "xaxis": "x",
           "y": [
            3.027757903547501
           ],
           "yaxis": "y"
          },
          {
           "hovertemplate": "<b>%{hovertext}</b><br><br>Country=TUR<br>Year=2009<br>Investments=%{x}<br>Passengers=%{y}<br>size=%{marker.size}<extra></extra>",
           "hovertext": [
            "TUR"
           ],
           "legendgroup": "TUR",
           "marker": {
            "color": "#19d3f3",
            "size": [
             20
            ],
            "sizemode": "area",
            "sizeref": 0.2,
            "symbol": "circle"
           },
           "mode": "markers",
           "name": "TUR",
           "orientation": "v",
           "showlegend": true,
           "type": "scatter",
           "x": [
            0.08274772008109718
           ],
           "xaxis": "x",
           "y": [
            14.393338198804372
           ],
           "yaxis": "y"
          },
          {
           "hovertemplate": "<b>%{hovertext}</b><br><br>Country=GBR<br>Year=2009<br>Investments=%{x}<br>Passengers=%{y}<br>size=%{marker.size}<extra></extra>",
           "hovertext": [
            "GBR"
           ],
           "legendgroup": "GBR",
           "marker": {
            "color": "#FF6692",
            "size": [
             20
            ],
            "sizemode": "area",
            "sizeref": 0.2,
            "symbol": "circle"
           },
           "mode": "markers",
           "name": "GBR",
           "orientation": "v",
           "showlegend": true,
           "type": "scatter",
           "x": [
            0.26363880473962054
           ],
           "xaxis": "x",
           "y": [
            -4.597100322917658
           ],
           "yaxis": "y"
          }
         ],
         "name": "2009"
        },
        {
         "data": [
          {
           "hovertemplate": "<b>%{hovertext}</b><br><br>Country=AUS<br>Year=2010<br>Investments=%{x}<br>Passengers=%{y}<br>size=%{marker.size}<extra></extra>",
           "hovertext": [
            "AUS"
           ],
           "legendgroup": "AUS",
           "marker": {
            "color": "#636efa",
            "size": [
             20
            ],
            "sizemode": "area",
            "sizeref": 0.2,
            "symbol": "circle"
           },
           "mode": "markers",
           "name": "AUS",
           "orientation": "v",
           "showlegend": true,
           "type": "scatter",
           "x": [
            0.19728979149599568
           ],
           "xaxis": "x",
           "y": [
            -7.779569240461937
           ],
           "yaxis": "y"
          },
          {
           "hovertemplate": "<b>%{hovertext}</b><br><br>Country=AZE<br>Year=2010<br>Investments=%{x}<br>Passengers=%{y}<br>size=%{marker.size}<extra></extra>",
           "hovertext": [
            "AZE"
           ],
           "legendgroup": "AZE",
           "marker": {
            "color": "#EF553B",
            "size": [
             20
            ],
            "sizemode": "area",
            "sizeref": 0.2,
            "symbol": "circle"
           },
           "mode": "markers",
           "name": "AZE",
           "orientation": "v",
           "showlegend": true,
           "type": "scatter",
           "x": [
            0.050742024079146276
           ],
           "xaxis": "x",
           "y": [
            43.10404391206812
           ],
           "yaxis": "y"
          },
          {
           "hovertemplate": "<b>%{hovertext}</b><br><br>Country=CZE<br>Year=2010<br>Investments=%{x}<br>Passengers=%{y}<br>size=%{marker.size}<extra></extra>",
           "hovertext": [
            "CZE"
           ],
           "legendgroup": "CZE",
           "marker": {
            "color": "#00cc96",
            "size": [
             20
            ],
            "sizemode": "area",
            "sizeref": 0.2,
            "symbol": "circle"
           },
           "mode": "markers",
           "name": "CZE",
           "orientation": "v",
           "showlegend": true,
           "type": "scatter",
           "x": [
            0.3885085997023293
           ],
           "xaxis": "x",
           "y": [
            -5.403869273979778
           ],
           "yaxis": "y"
          },
          {
           "hovertemplate": "<b>%{hovertext}</b><br><br>Country=FIN<br>Year=2010<br>Investments=%{x}<br>Passengers=%{y}<br>size=%{marker.size}<extra></extra>",
           "hovertext": [
            "FIN"
           ],
           "legendgroup": "FIN",
           "marker": {
            "color": "#ab63fa",
            "size": [
             20
            ],
            "sizemode": "area",
            "sizeref": 0.2,
            "symbol": "circle"
           },
           "mode": "markers",
           "name": "FIN",
           "orientation": "v",
           "showlegend": true,
           "type": "scatter",
           "x": [
            0.1230215912600912
           ],
           "xaxis": "x",
           "y": [
            1.8074657276941242
           ],
           "yaxis": "y"
          },
          {
           "hovertemplate": "<b>%{hovertext}</b><br><br>Country=FRA<br>Year=2010<br>Investments=%{x}<br>Passengers=%{y}<br>size=%{marker.size}<extra></extra>",
           "hovertext": [
            "FRA"
           ],
           "legendgroup": "FRA",
           "marker": {
            "color": "#FFA15A",
            "size": [
             20
            ],
            "sizemode": "area",
            "sizeref": 0.2,
            "symbol": "circle"
           },
           "mode": "markers",
           "name": "FRA",
           "orientation": "v",
           "showlegend": true,
           "type": "scatter",
           "x": [
            0.1879898784650481
           ],
           "xaxis": "x",
           "y": [
            -3.5208780410029727
           ],
           "yaxis": "y"
          },
          {
           "hovertemplate": "<b>%{hovertext}</b><br><br>Country=DEU<br>Year=2010<br>Investments=%{x}<br>Passengers=%{y}<br>size=%{marker.size}<extra></extra>",
           "hovertext": [
            "DEU"
           ],
           "legendgroup": "DEU",
           "marker": {
            "color": "#19d3f3",
            "size": [
             20
            ],
            "sizemode": "area",
            "sizeref": 0.2,
            "symbol": "circle"
           },
           "mode": "markers",
           "name": "DEU",
           "orientation": "v",
           "showlegend": true,
           "type": "scatter",
           "x": [
            0.11918925490422763
           ],
           "xaxis": "x",
           "y": [
            2.359621316909366
           ],
           "yaxis": "y"
          },
          {
           "hovertemplate": "<b>%{hovertext}</b><br><br>Country=HUN<br>Year=2010<br>Investments=%{x}<br>Passengers=%{y}<br>size=%{marker.size}<extra></extra>",
           "hovertext": [
            "HUN"
           ],
           "legendgroup": "HUN",
           "marker": {
            "color": "#FF6692",
            "size": [
             20
            ],
            "sizemode": "area",
            "sizeref": 0.2,
            "symbol": "circle"
           },
           "mode": "markers",
           "name": "HUN",
           "orientation": "v",
           "showlegend": true,
           "type": "scatter",
           "x": [
            0.1957655607380918
           ],
           "xaxis": "x",
           "y": [
            4.208829886254795
           ],
           "yaxis": "y"
          },
          {
           "hovertemplate": "<b>%{hovertext}</b><br><br>Country=ITA<br>Year=2010<br>Investments=%{x}<br>Passengers=%{y}<br>size=%{marker.size}<extra></extra>",
           "hovertext": [
            "ITA"
           ],
           "legendgroup": "ITA",
           "marker": {
            "color": "#B6E880",
            "size": [
             20
            ],
            "sizemode": "area",
            "sizeref": 0.2,
            "symbol": "circle"
           },
           "mode": "markers",
           "name": "ITA",
           "orientation": "v",
           "showlegend": true,
           "type": "scatter",
           "x": [
            0.40190085288316596
           ],
           "xaxis": "x",
           "y": [
            0.11901857001503924
           ],
           "yaxis": "y"
          },
          {
           "hovertemplate": "<b>%{hovertext}</b><br><br>Country=JPN<br>Year=2010<br>Investments=%{x}<br>Passengers=%{y}<br>size=%{marker.size}<extra></extra>",
           "hovertext": [
            "JPN"
           ],
           "legendgroup": "JPN",
           "marker": {
            "color": "#FF97FF",
            "size": [
             20
            ],
            "sizemode": "area",
            "sizeref": 0.2,
            "symbol": "circle"
           },
           "mode": "markers",
           "name": "JPN",
           "orientation": "v",
           "showlegend": true,
           "type": "scatter",
           "x": [
            0.15742429213287182
           ],
           "xaxis": "x",
           "y": [
            -6.233188939852097
           ],
           "yaxis": "y"
          },
          {
           "hovertemplate": "<b>%{hovertext}</b><br><br>Country=NOR<br>Year=2010<br>Investments=%{x}<br>Passengers=%{y}<br>size=%{marker.size}<extra></extra>",
           "hovertext": [
            "NOR"
           ],
           "legendgroup": "NOR",
           "marker": {
            "color": "#FECB52",
            "size": [
             20
            ],
            "sizemode": "area",
            "sizeref": 0.2,
            "symbol": "circle"
           },
           "mode": "markers",
           "name": "NOR",
           "orientation": "v",
           "showlegend": true,
           "type": "scatter",
           "x": [
            0.0774596180066954
           ],
           "xaxis": "x",
           "y": [
            1.6566125748682436
           ],
           "yaxis": "y"
          },
          {
           "hovertemplate": "<b>%{hovertext}</b><br><br>Country=POL<br>Year=2010<br>Investments=%{x}<br>Passengers=%{y}<br>size=%{marker.size}<extra></extra>",
           "hovertext": [
            "POL"
           ],
           "legendgroup": "POL",
           "marker": {
            "color": "#636efa",
            "size": [
             20
            ],
            "sizemode": "area",
            "sizeref": 0.2,
            "symbol": "circle"
           },
           "mode": "markers",
           "name": "POL",
           "orientation": "v",
           "showlegend": true,
           "type": "scatter",
           "x": [
            0.13626461826329278
           ],
           "xaxis": "x",
           "y": [
            14.329019926168085
           ],
           "yaxis": "y"
          },
          {
           "hovertemplate": "<b>%{hovertext}</b><br><br>Country=RUS<br>Year=2010<br>Investments=%{x}<br>Passengers=%{y}<br>size=%{marker.size}<extra></extra>",
           "hovertext": [
            "RUS"
           ],
           "legendgroup": "RUS",
           "marker": {
            "color": "#EF553B",
            "size": [
             20
            ],
            "sizemode": "area",
            "sizeref": 0.2,
            "symbol": "circle"
           },
           "mode": "markers",
           "name": "RUS",
           "orientation": "v",
           "showlegend": true,
           "type": "scatter",
           "x": [
            0.5211290504168412
           ],
           "xaxis": "x",
           "y": [
            -0.5856888645411673
           ],
           "yaxis": "y"
          },
          {
           "hovertemplate": "<b>%{hovertext}</b><br><br>Country=ESP<br>Year=2010<br>Investments=%{x}<br>Passengers=%{y}<br>size=%{marker.size}<extra></extra>",
           "hovertext": [
            "ESP"
           ],
           "legendgroup": "ESP",
           "marker": {
            "color": "#00cc96",
            "size": [
             20
            ],
            "sizemode": "area",
            "sizeref": 0.2,
            "symbol": "circle"
           },
           "mode": "markers",
           "name": "ESP",
           "orientation": "v",
           "showlegend": true,
           "type": "scatter",
           "x": [
            0.5708353760627815
           ],
           "xaxis": "x",
           "y": [
            -5.825980514191265
           ],
           "yaxis": "y"
          },
          {
           "hovertemplate": "<b>%{hovertext}</b><br><br>Country=SWE<br>Year=2010<br>Investments=%{x}<br>Passengers=%{y}<br>size=%{marker.size}<extra></extra>",
           "hovertext": [
            "SWE"
           ],
           "legendgroup": "SWE",
           "marker": {
            "color": "#ab63fa",
            "size": [
             20
            ],
            "sizemode": "area",
            "sizeref": 0.2,
            "symbol": "circle"
           },
           "mode": "markers",
           "name": "SWE",
           "orientation": "v",
           "showlegend": true,
           "type": "scatter",
           "x": [
            0.330149335282568
           ],
           "xaxis": "x",
           "y": [
            -3.332872215104832
           ],
           "yaxis": "y"
          },
          {
           "hovertemplate": "<b>%{hovertext}</b><br><br>Country=CHE<br>Year=2010<br>Investments=%{x}<br>Passengers=%{y}<br>size=%{marker.size}<extra></extra>",
           "hovertext": [
            "CHE"
           ],
           "legendgroup": "CHE",
           "marker": {
            "color": "#FFA15A",
            "size": [
             20
            ],
            "sizemode": "area",
            "sizeref": 0.2,
            "symbol": "circle"
           },
           "mode": "markers",
           "name": "CHE",
           "orientation": "v",
           "showlegend": true,
           "type": "scatter",
           "x": [
            0.5293314666374229
           ],
           "xaxis": "x",
           "y": [
            4.559771102578969
           ],
           "yaxis": "y"
          },
          {
           "hovertemplate": "<b>%{hovertext}</b><br><br>Country=TUR<br>Year=2010<br>Investments=%{x}<br>Passengers=%{y}<br>size=%{marker.size}<extra></extra>",
           "hovertext": [
            "TUR"
           ],
           "legendgroup": "TUR",
           "marker": {
            "color": "#19d3f3",
            "size": [
             20
            ],
            "sizemode": "area",
            "sizeref": 0.2,
            "symbol": "circle"
           },
           "mode": "markers",
           "name": "TUR",
           "orientation": "v",
           "showlegend": true,
           "type": "scatter",
           "x": [
            0.09320527823147215
           ],
           "xaxis": "x",
           "y": [
            16.930674085091724
           ],
           "yaxis": "y"
          },
          {
           "hovertemplate": "<b>%{hovertext}</b><br><br>Country=GBR<br>Year=2010<br>Investments=%{x}<br>Passengers=%{y}<br>size=%{marker.size}<extra></extra>",
           "hovertext": [
            "GBR"
           ],
           "legendgroup": "GBR",
           "marker": {
            "color": "#FF6692",
            "size": [
             20
            ],
            "sizemode": "area",
            "sizeref": 0.2,
            "symbol": "circle"
           },
           "mode": "markers",
           "name": "GBR",
           "orientation": "v",
           "showlegend": true,
           "type": "scatter",
           "x": [
            0.27108732005932473
           ],
           "xaxis": "x",
           "y": [
            -5.603451877398713
           ],
           "yaxis": "y"
          }
         ],
         "name": "2010"
        },
        {
         "data": [
          {
           "hovertemplate": "<b>%{hovertext}</b><br><br>Country=AUS<br>Year=2011<br>Investments=%{x}<br>Passengers=%{y}<br>size=%{marker.size}<extra></extra>",
           "hovertext": [
            "AUS"
           ],
           "legendgroup": "AUS",
           "marker": {
            "color": "#636efa",
            "size": [
             20
            ],
            "sizemode": "area",
            "sizeref": 0.2,
            "symbol": "circle"
           },
           "mode": "markers",
           "name": "AUS",
           "orientation": "v",
           "showlegend": true,
           "type": "scatter",
           "x": [
            0.21485359849426708
           ],
           "xaxis": "x",
           "y": [
            -5.360439300779074
           ],
           "yaxis": "y"
          },
          {
           "hovertemplate": "<b>%{hovertext}</b><br><br>Country=AZE<br>Year=2011<br>Investments=%{x}<br>Passengers=%{y}<br>size=%{marker.size}<extra></extra>",
           "hovertext": [
            "AZE"
           ],
           "legendgroup": "AZE",
           "marker": {
            "color": "#EF553B",
            "size": [
             20
            ],
            "sizemode": "area",
            "sizeref": 0.2,
            "symbol": "circle"
           },
           "mode": "markers",
           "name": "AZE",
           "orientation": "v",
           "showlegend": true,
           "type": "scatter",
           "x": [
            0.020827385409452143
           ],
           "xaxis": "x",
           "y": [
            45.10069252398152
           ],
           "yaxis": "y"
          },
          {
           "hovertemplate": "<b>%{hovertext}</b><br><br>Country=CZE<br>Year=2011<br>Investments=%{x}<br>Passengers=%{y}<br>size=%{marker.size}<extra></extra>",
           "hovertext": [
            "CZE"
           ],
           "legendgroup": "CZE",
           "marker": {
            "color": "#00cc96",
            "size": [
             20
            ],
            "sizemode": "area",
            "sizeref": 0.2,
            "symbol": "circle"
           },
           "mode": "markers",
           "name": "CZE",
           "orientation": "v",
           "showlegend": true,
           "type": "scatter",
           "x": [
            0.370800621594625
           ],
           "xaxis": "x",
           "y": [
            -7.2516480248952515
           ],
           "yaxis": "y"
          },
          {
           "hovertemplate": "<b>%{hovertext}</b><br><br>Country=FIN<br>Year=2011<br>Investments=%{x}<br>Passengers=%{y}<br>size=%{marker.size}<extra></extra>",
           "hovertext": [
            "FIN"
           ],
           "legendgroup": "FIN",
           "marker": {
            "color": "#ab63fa",
            "size": [
             20
            ],
            "sizemode": "area",
            "sizeref": 0.2,
            "symbol": "circle"
           },
           "mode": "markers",
           "name": "FIN",
           "orientation": "v",
           "showlegend": true,
           "type": "scatter",
           "x": [
            0.12696898545819296
           ],
           "xaxis": "x",
           "y": [
            1.975100291509646
           ],
           "yaxis": "y"
          },
          {
           "hovertemplate": "<b>%{hovertext}</b><br><br>Country=FRA<br>Year=2011<br>Investments=%{x}<br>Passengers=%{y}<br>size=%{marker.size}<extra></extra>",
           "hovertext": [
            "FRA"
           ],
           "legendgroup": "FRA",
           "marker": {
            "color": "#FFA15A",
            "size": [
             20
            ],
            "sizemode": "area",
            "sizeref": 0.2,
            "symbol": "circle"
           },
           "mode": "markers",
           "name": "FRA",
           "orientation": "v",
           "showlegend": true,
           "type": "scatter",
           "x": [
            0.18861387981920535
           ],
           "xaxis": "x",
           "y": [
            -3.1278255600459937
           ],
           "yaxis": "y"
          },
          {
           "hovertemplate": "<b>%{hovertext}</b><br><br>Country=DEU<br>Year=2011<br>Investments=%{x}<br>Passengers=%{y}<br>size=%{marker.size}<extra></extra>",
           "hovertext": [
            "DEU"
           ],
           "legendgroup": "DEU",
           "marker": {
            "color": "#19d3f3",
            "size": [
             20
            ],
            "sizemode": "area",
            "sizeref": 0.2,
            "symbol": "circle"
           },
           "mode": "markers",
           "name": "DEU",
           "orientation": "v",
           "showlegend": true,
           "type": "scatter",
           "x": [
            0.11756533442190728
           ],
           "xaxis": "x",
           "y": [
            2.5789512234192236
           ],
           "yaxis": "y"
          },
          {
           "hovertemplate": "<b>%{hovertext}</b><br><br>Country=HUN<br>Year=2011<br>Investments=%{x}<br>Passengers=%{y}<br>size=%{marker.size}<extra></extra>",
           "hovertext": [
            "HUN"
           ],
           "legendgroup": "HUN",
           "marker": {
            "color": "#FF6692",
            "size": [
             20
            ],
            "sizemode": "area",
            "sizeref": 0.2,
            "symbol": "circle"
           },
           "mode": "markers",
           "name": "HUN",
           "orientation": "v",
           "showlegend": true,
           "type": "scatter",
           "x": [
            0.2073469753203842
           ],
           "xaxis": "x",
           "y": [
            -0.5822428378083333
           ],
           "yaxis": "y"
          },
          {
           "hovertemplate": "<b>%{hovertext}</b><br><br>Country=ITA<br>Year=2011<br>Investments=%{x}<br>Passengers=%{y}<br>size=%{marker.size}<extra></extra>",
           "hovertext": [
            "ITA"
           ],
           "legendgroup": "ITA",
           "marker": {
            "color": "#B6E880",
            "size": [
             20
            ],
            "sizemode": "area",
            "sizeref": 0.2,
            "symbol": "circle"
           },
           "mode": "markers",
           "name": "ITA",
           "orientation": "v",
           "showlegend": true,
           "type": "scatter",
           "x": [
            0.33368914181472004
           ],
           "xaxis": "x",
           "y": [
            -4.099365518135489
           ],
           "yaxis": "y"
          },
          {
           "hovertemplate": "<b>%{hovertext}</b><br><br>Country=JPN<br>Year=2011<br>Investments=%{x}<br>Passengers=%{y}<br>size=%{marker.size}<extra></extra>",
           "hovertext": [
            "JPN"
           ],
           "legendgroup": "JPN",
           "marker": {
            "color": "#FF97FF",
            "size": [
             20
            ],
            "sizemode": "area",
            "sizeref": 0.2,
            "symbol": "circle"
           },
           "mode": "markers",
           "name": "JPN",
           "orientation": "v",
           "showlegend": true,
           "type": "scatter",
           "x": [
            0.1723747845611572
           ],
           "xaxis": "x",
           "y": [
            -5.564344983872749
           ],
           "yaxis": "y"
          },
          {
           "hovertemplate": "<b>%{hovertext}</b><br><br>Country=NOR<br>Year=2011<br>Investments=%{x}<br>Passengers=%{y}<br>size=%{marker.size}<extra></extra>",
           "hovertext": [
            "NOR"
           ],
           "legendgroup": "NOR",
           "marker": {
            "color": "#FECB52",
            "size": [
             20
            ],
            "sizemode": "area",
            "sizeref": 0.2,
            "symbol": "circle"
           },
           "mode": "markers",
           "name": "NOR",
           "orientation": "v",
           "showlegend": true,
           "type": "scatter",
           "x": [
            0.08775006810953202
           ],
           "xaxis": "x",
           "y": [
            1.2564442723269842
           ],
           "yaxis": "y"
          },
          {
           "hovertemplate": "<b>%{hovertext}</b><br><br>Country=POL<br>Year=2011<br>Investments=%{x}<br>Passengers=%{y}<br>size=%{marker.size}<extra></extra>",
           "hovertext": [
            "POL"
           ],
           "legendgroup": "POL",
           "marker": {
            "color": "#636efa",
            "size": [
             20
            ],
            "sizemode": "area",
            "sizeref": 0.2,
            "symbol": "circle"
           },
           "mode": "markers",
           "name": "POL",
           "orientation": "v",
           "showlegend": true,
           "type": "scatter",
           "x": [
            0.15053900261240086
           ],
           "xaxis": "x",
           "y": [
            11.448617902535885
           ],
           "yaxis": "y"
          },
          {
           "hovertemplate": "<b>%{hovertext}</b><br><br>Country=RUS<br>Year=2011<br>Investments=%{x}<br>Passengers=%{y}<br>size=%{marker.size}<extra></extra>",
           "hovertext": [
            "RUS"
           ],
           "legendgroup": "RUS",
           "marker": {
            "color": "#EF553B",
            "size": [
             20
            ],
            "sizemode": "area",
            "sizeref": 0.2,
            "symbol": "circle"
           },
           "mode": "markers",
           "name": "RUS",
           "orientation": "v",
           "showlegend": true,
           "type": "scatter",
           "x": [
            0.5358276602763791
           ],
           "xaxis": "x",
           "y": [
            2.086045920615587
           ],
           "yaxis": "y"
          },
          {
           "hovertemplate": "<b>%{hovertext}</b><br><br>Country=ESP<br>Year=2011<br>Investments=%{x}<br>Passengers=%{y}<br>size=%{marker.size}<extra></extra>",
           "hovertext": [
            "ESP"
           ],
           "legendgroup": "ESP",
           "marker": {
            "color": "#00cc96",
            "size": [
             20
            ],
            "sizemode": "area",
            "sizeref": 0.2,
            "symbol": "circle"
           },
           "mode": "markers",
           "name": "ESP",
           "orientation": "v",
           "showlegend": true,
           "type": "scatter",
           "x": [
            0.5790149615850686
           ],
           "xaxis": "x",
           "y": [
            -5.067940660711489
           ],
           "yaxis": "y"
          },
          {
           "hovertemplate": "<b>%{hovertext}</b><br><br>Country=SWE<br>Year=2011<br>Investments=%{x}<br>Passengers=%{y}<br>size=%{marker.size}<extra></extra>",
           "hovertext": [
            "SWE"
           ],
           "legendgroup": "SWE",
           "marker": {
            "color": "#ab63fa",
            "size": [
             20
            ],
            "sizemode": "area",
            "sizeref": 0.2,
            "symbol": "circle"
           },
           "mode": "markers",
           "name": "SWE",
           "orientation": "v",
           "showlegend": true,
           "type": "scatter",
           "x": [
            0.33054687103669983
           ],
           "xaxis": "x",
           "y": [
            -2.73563264431953
           ],
           "yaxis": "y"
          },
          {
           "hovertemplate": "<b>%{hovertext}</b><br><br>Country=CHE<br>Year=2011<br>Investments=%{x}<br>Passengers=%{y}<br>size=%{marker.size}<extra></extra>",
           "hovertext": [
            "CHE"
           ],
           "legendgroup": "CHE",
           "marker": {
            "color": "#FFA15A",
            "size": [
             20
            ],
            "sizemode": "area",
            "sizeref": 0.2,
            "symbol": "circle"
           },
           "mode": "markers",
           "name": "CHE",
           "orientation": "v",
           "showlegend": true,
           "type": "scatter",
           "x": [
            0.5255273647637806
           ],
           "xaxis": "x",
           "y": [
            4.092652600097657
           ],
           "yaxis": "y"
          },
          {
           "hovertemplate": "<b>%{hovertext}</b><br><br>Country=TUR<br>Year=2011<br>Investments=%{x}<br>Passengers=%{y}<br>size=%{marker.size}<extra></extra>",
           "hovertext": [
            "TUR"
           ],
           "legendgroup": "TUR",
           "marker": {
            "color": "#19d3f3",
            "size": [
             20
            ],
            "sizemode": "area",
            "sizeref": 0.2,
            "symbol": "circle"
           },
           "mode": "markers",
           "name": "TUR",
           "orientation": "v",
           "showlegend": true,
           "type": "scatter",
           "x": [
            0.12854309313304615
           ],
           "xaxis": "x",
           "y": [
            21.182725724282257
           ],
           "yaxis": "y"
          },
          {
           "hovertemplate": "<b>%{hovertext}</b><br><br>Country=GBR<br>Year=2011<br>Investments=%{x}<br>Passengers=%{y}<br>size=%{marker.size}<extra></extra>",
           "hovertext": [
            "GBR"
           ],
           "legendgroup": "GBR",
           "marker": {
            "color": "#FF6692",
            "size": [
             20
            ],
            "sizemode": "area",
            "sizeref": 0.2,
            "symbol": "circle"
           },
           "mode": "markers",
           "name": "GBR",
           "orientation": "v",
           "showlegend": true,
           "type": "scatter",
           "x": [
            0.2773753903100583
           ],
           "xaxis": "x",
           "y": [
            -6.161903358166299
           ],
           "yaxis": "y"
          }
         ],
         "name": "2011"
        },
        {
         "data": [
          {
           "hovertemplate": "<b>%{hovertext}</b><br><br>Country=AUS<br>Year=2012<br>Investments=%{x}<br>Passengers=%{y}<br>size=%{marker.size}<extra></extra>",
           "hovertext": [
            "AUS"
           ],
           "legendgroup": "AUS",
           "marker": {
            "color": "#636efa",
            "size": [
             20
            ],
            "sizemode": "area",
            "sizeref": 0.2,
            "symbol": "circle"
           },
           "mode": "markers",
           "name": "AUS",
           "orientation": "v",
           "showlegend": true,
           "type": "scatter",
           "x": [
            0.24583541311418586
           ],
           "xaxis": "x",
           "y": [
            -5.514304437174788
           ],
           "yaxis": "y"
          },
          {
           "hovertemplate": "<b>%{hovertext}</b><br><br>Country=AZE<br>Year=2012<br>Investments=%{x}<br>Passengers=%{y}<br>size=%{marker.size}<extra></extra>",
           "hovertext": [
            "AZE"
           ],
           "legendgroup": "AZE",
           "marker": {
            "color": "#EF553B",
            "size": [
             20
            ],
            "sizemode": "area",
            "sizeref": 0.2,
            "symbol": "circle"
           },
           "mode": "markers",
           "name": "AZE",
           "orientation": "v",
           "showlegend": true,
           "type": "scatter",
           "x": [
            0.01006702867184705
           ],
           "xaxis": "x",
           "y": [
            45.44039044022057
           ],
           "yaxis": "y"
          },
          {
           "hovertemplate": "<b>%{hovertext}</b><br><br>Country=CZE<br>Year=2012<br>Investments=%{x}<br>Passengers=%{y}<br>size=%{marker.size}<extra></extra>",
           "hovertext": [
            "CZE"
           ],
           "legendgroup": "CZE",
           "marker": {
            "color": "#00cc96",
            "size": [
             20
            ],
            "sizemode": "area",
            "sizeref": 0.2,
            "symbol": "circle"
           },
           "mode": "markers",
           "name": "CZE",
           "orientation": "v",
           "showlegend": true,
           "type": "scatter",
           "x": [
            0.3489431309700871
           ],
           "xaxis": "x",
           "y": [
            -11.092726540429531
           ],
           "yaxis": "y"
          },
          {
           "hovertemplate": "<b>%{hovertext}</b><br><br>Country=FIN<br>Year=2012<br>Investments=%{x}<br>Passengers=%{y}<br>size=%{marker.size}<extra></extra>",
           "hovertext": [
            "FIN"
           ],
           "legendgroup": "FIN",
           "marker": {
            "color": "#ab63fa",
            "size": [
             20
            ],
            "sizemode": "area",
            "sizeref": 0.2,
            "symbol": "circle"
           },
           "mode": "markers",
           "name": "FIN",
           "orientation": "v",
           "showlegend": true,
           "type": "scatter",
           "x": [
            0.13134563535783692
           ],
           "xaxis": "x",
           "y": [
            -0.2781633806044792
           ],
           "yaxis": "y"
          },
          {
           "hovertemplate": "<b>%{hovertext}</b><br><br>Country=FRA<br>Year=2012<br>Investments=%{x}<br>Passengers=%{y}<br>size=%{marker.size}<extra></extra>",
           "hovertext": [
            "FRA"
           ],
           "legendgroup": "FRA",
           "marker": {
            "color": "#FFA15A",
            "size": [
             20
            ],
            "sizemode": "area",
            "sizeref": 0.2,
            "symbol": "circle"
           },
           "mode": "markers",
           "name": "FRA",
           "orientation": "v",
           "showlegend": true,
           "type": "scatter",
           "x": [
            0.20135456201249347
           ],
           "xaxis": "x",
           "y": [
            3.566972937747548
           ],
           "yaxis": "y"
          },
          {
           "hovertemplate": "<b>%{hovertext}</b><br><br>Country=DEU<br>Year=2012<br>Investments=%{x}<br>Passengers=%{y}<br>size=%{marker.size}<extra></extra>",
           "hovertext": [
            "DEU"
           ],
           "legendgroup": "DEU",
           "marker": {
            "color": "#19d3f3",
            "size": [
             20
            ],
            "sizemode": "area",
            "sizeref": 0.2,
            "symbol": "circle"
           },
           "mode": "markers",
           "name": "DEU",
           "orientation": "v",
           "showlegend": true,
           "type": "scatter",
           "x": [
            0.11254441556959256
           ],
           "xaxis": "x",
           "y": [
            2.131108398767978
           ],
           "yaxis": "y"
          },
          {
           "hovertemplate": "<b>%{hovertext}</b><br><br>Country=HUN<br>Year=2012<br>Investments=%{x}<br>Passengers=%{y}<br>size=%{marker.size}<extra></extra>",
           "hovertext": [
            "HUN"
           ],
           "legendgroup": "HUN",
           "marker": {
            "color": "#FF6692",
            "size": [
             20
            ],
            "sizemode": "area",
            "sizeref": 0.2,
            "symbol": "circle"
           },
           "mode": "markers",
           "name": "HUN",
           "orientation": "v",
           "showlegend": true,
           "type": "scatter",
           "x": [
            0.24246640103956318
           ],
           "xaxis": "x",
           "y": [
            -1.3659332035061755
           ],
           "yaxis": "y"
          },
          {
           "hovertemplate": "<b>%{hovertext}</b><br><br>Country=ITA<br>Year=2012<br>Investments=%{x}<br>Passengers=%{y}<br>size=%{marker.size}<extra></extra>",
           "hovertext": [
            "ITA"
           ],
           "legendgroup": "ITA",
           "marker": {
            "color": "#B6E880",
            "size": [
             20
            ],
            "sizemode": "area",
            "sizeref": 0.2,
            "symbol": "circle"
           },
           "mode": "markers",
           "name": "ITA",
           "orientation": "v",
           "showlegend": true,
           "type": "scatter",
           "x": [
            0.2779042647749591
           ],
           "xaxis": "x",
           "y": [
            -14.811299450303906
           ],
           "yaxis": "y"
          },
          {
           "hovertemplate": "<b>%{hovertext}</b><br><br>Country=JPN<br>Year=2012<br>Investments=%{x}<br>Passengers=%{y}<br>size=%{marker.size}<extra></extra>",
           "hovertext": [
            "JPN"
           ],
           "legendgroup": "JPN",
           "marker": {
            "color": "#FF97FF",
            "size": [
             20
            ],
            "sizemode": "area",
            "sizeref": 0.2,
            "symbol": "circle"
           },
           "mode": "markers",
           "name": "JPN",
           "orientation": "v",
           "showlegend": true,
           "type": "scatter",
           "x": [
            0.1760318378109304
           ],
           "xaxis": "x",
           "y": [
            -2.8114768537206625
           ],
           "yaxis": "y"
          },
          {
           "hovertemplate": "<b>%{hovertext}</b><br><br>Country=NOR<br>Year=2012<br>Investments=%{x}<br>Passengers=%{y}<br>size=%{marker.size}<extra></extra>",
           "hovertext": [
            "NOR"
           ],
           "legendgroup": "NOR",
           "marker": {
            "color": "#FECB52",
            "size": [
             20
            ],
            "sizemode": "area",
            "sizeref": 0.2,
            "symbol": "circle"
           },
           "mode": "markers",
           "name": "NOR",
           "orientation": "v",
           "showlegend": true,
           "type": "scatter",
           "x": [
            0.0956606849247534
           ],
           "xaxis": "x",
           "y": [
            -0.7170166771105491
           ],
           "yaxis": "y"
          },
          {
           "hovertemplate": "<b>%{hovertext}</b><br><br>Country=POL<br>Year=2012<br>Investments=%{x}<br>Passengers=%{y}<br>size=%{marker.size}<extra></extra>",
           "hovertext": [
            "POL"
           ],
           "legendgroup": "POL",
           "marker": {
            "color": "#636efa",
            "size": [
             20
            ],
            "sizemode": "area",
            "sizeref": 0.2,
            "symbol": "circle"
           },
           "mode": "markers",
           "name": "POL",
           "orientation": "v",
           "showlegend": true,
           "type": "scatter",
           "x": [
            0.166157311937757
           ],
           "xaxis": "x",
           "y": [
            8.653159299717395
           ],
           "yaxis": "y"
          },
          {
           "hovertemplate": "<b>%{hovertext}</b><br><br>Country=RUS<br>Year=2012<br>Investments=%{x}<br>Passengers=%{y}<br>size=%{marker.size}<extra></extra>",
           "hovertext": [
            "RUS"
           ],
           "legendgroup": "RUS",
           "marker": {
            "color": "#EF553B",
            "size": [
             20
            ],
            "sizemode": "area",
            "sizeref": 0.2,
            "symbol": "circle"
           },
           "mode": "markers",
           "name": "RUS",
           "orientation": "v",
           "showlegend": true,
           "type": "scatter",
           "x": [
            0.5485388492028712
           ],
           "xaxis": "x",
           "y": [
            -11.253058648055536
           ],
           "yaxis": "y"
          },
          {
           "hovertemplate": "<b>%{hovertext}</b><br><br>Country=ESP<br>Year=2012<br>Investments=%{x}<br>Passengers=%{y}<br>size=%{marker.size}<extra></extra>",
           "hovertext": [
            "ESP"
           ],
           "legendgroup": "ESP",
           "marker": {
            "color": "#00cc96",
            "size": [
             20
            ],
            "sizemode": "area",
            "sizeref": 0.2,
            "symbol": "circle"
           },
           "mode": "markers",
           "name": "ESP",
           "orientation": "v",
           "showlegend": true,
           "type": "scatter",
           "x": [
            0.5805898447388991
           ],
           "xaxis": "x",
           "y": [
            -9.693416238853258
           ],
           "yaxis": "y"
          },
          {
           "hovertemplate": "<b>%{hovertext}</b><br><br>Country=SWE<br>Year=2012<br>Investments=%{x}<br>Passengers=%{y}<br>size=%{marker.size}<extra></extra>",
           "hovertext": [
            "SWE"
           ],
           "legendgroup": "SWE",
           "marker": {
            "color": "#ab63fa",
            "size": [
             20
            ],
            "sizemode": "area",
            "sizeref": 0.2,
            "symbol": "circle"
           },
           "mode": "markers",
           "name": "SWE",
           "orientation": "v",
           "showlegend": true,
           "type": "scatter",
           "x": [
            0.3265644348396513
           ],
           "xaxis": "x",
           "y": [
            -5.4493853510120704
           ],
           "yaxis": "y"
          },
          {
           "hovertemplate": "<b>%{hovertext}</b><br><br>Country=CHE<br>Year=2012<br>Investments=%{x}<br>Passengers=%{y}<br>size=%{marker.size}<extra></extra>",
           "hovertext": [
            "CHE"
           ],
           "legendgroup": "CHE",
           "marker": {
            "color": "#FFA15A",
            "size": [
             20
            ],
            "sizemode": "area",
            "sizeref": 0.2,
            "symbol": "circle"
           },
           "mode": "markers",
           "name": "CHE",
           "orientation": "v",
           "showlegend": true,
           "type": "scatter",
           "x": [
            0.5138252224050651
           ],
           "xaxis": "x",
           "y": [
            4.476817328473848
           ],
           "yaxis": "y"
          },
          {
           "hovertemplate": "<b>%{hovertext}</b><br><br>Country=TUR<br>Year=2012<br>Investments=%{x}<br>Passengers=%{y}<br>size=%{marker.size}<extra></extra>",
           "hovertext": [
            "TUR"
           ],
           "legendgroup": "TUR",
           "marker": {
            "color": "#19d3f3",
            "size": [
             20
            ],
            "sizemode": "area",
            "sizeref": 0.2,
            "symbol": "circle"
           },
           "mode": "markers",
           "name": "TUR",
           "orientation": "v",
           "showlegend": true,
           "type": "scatter",
           "x": [
            0.15344401546087147
           ],
           "xaxis": "x",
           "y": [
            15.887255312301418
           ],
           "yaxis": "y"
          },
          {
           "hovertemplate": "<b>%{hovertext}</b><br><br>Country=GBR<br>Year=2012<br>Investments=%{x}<br>Passengers=%{y}<br>size=%{marker.size}<extra></extra>",
           "hovertext": [
            "GBR"
           ],
           "legendgroup": "GBR",
           "marker": {
            "color": "#FF6692",
            "size": [
             20
            ],
            "sizemode": "area",
            "sizeref": 0.2,
            "symbol": "circle"
           },
           "mode": "markers",
           "name": "GBR",
           "orientation": "v",
           "showlegend": true,
           "type": "scatter",
           "x": [
            0.2750935023286095
           ],
           "xaxis": "x",
           "y": [
            -5.418031659804779
           ],
           "yaxis": "y"
          }
         ],
         "name": "2012"
        },
        {
         "data": [
          {
           "hovertemplate": "<b>%{hovertext}</b><br><br>Country=AUS<br>Year=2013<br>Investments=%{x}<br>Passengers=%{y}<br>size=%{marker.size}<extra></extra>",
           "hovertext": [
            "AUS"
           ],
           "legendgroup": "AUS",
           "marker": {
            "color": "#636efa",
            "size": [
             20
            ],
            "sizemode": "area",
            "sizeref": 0.2,
            "symbol": "circle"
           },
           "mode": "markers",
           "name": "AUS",
           "orientation": "v",
           "showlegend": true,
           "type": "scatter",
           "x": [
            0.2889936681729327
           ],
           "xaxis": "x",
           "y": [
            -3.934299203942704
           ],
           "yaxis": "y"
          },
          {
           "hovertemplate": "<b>%{hovertext}</b><br><br>Country=AZE<br>Year=2013<br>Investments=%{x}<br>Passengers=%{y}<br>size=%{marker.size}<extra></extra>",
           "hovertext": [
            "AZE"
           ],
           "legendgroup": "AZE",
           "marker": {
            "color": "#EF553B",
            "size": [
             20
            ],
            "sizemode": "area",
            "sizeref": 0.2,
            "symbol": "circle"
           },
           "mode": "markers",
           "name": "AZE",
           "orientation": "v",
           "showlegend": true,
           "type": "scatter",
           "x": [
            0.00879439350204836
           ],
           "xaxis": "x",
           "y": [
            45.86512087869774
           ],
           "yaxis": "y"
          },
          {
           "hovertemplate": "<b>%{hovertext}</b><br><br>Country=CZE<br>Year=2013<br>Investments=%{x}<br>Passengers=%{y}<br>size=%{marker.size}<extra></extra>",
           "hovertext": [
            "CZE"
           ],
           "legendgroup": "CZE",
           "marker": {
            "color": "#00cc96",
            "size": [
             20
            ],
            "sizemode": "area",
            "sizeref": 0.2,
            "symbol": "circle"
           },
           "mode": "markers",
           "name": "CZE",
           "orientation": "v",
           "showlegend": true,
           "type": "scatter",
           "x": [
            0.31950381580514126
           ],
           "xaxis": "x",
           "y": [
            -11.04072965639833
           ],
           "yaxis": "y"
          },
          {
           "hovertemplate": "<b>%{hovertext}</b><br><br>Country=FIN<br>Year=2013<br>Investments=%{x}<br>Passengers=%{y}<br>size=%{marker.size}<extra></extra>",
           "hovertext": [
            "FIN"
           ],
           "legendgroup": "FIN",
           "marker": {
            "color": "#ab63fa",
            "size": [
             20
            ],
            "sizemode": "area",
            "sizeref": 0.2,
            "symbol": "circle"
           },
           "mode": "markers",
           "name": "FIN",
           "orientation": "v",
           "showlegend": true,
           "type": "scatter",
           "x": [
            0.15071336791597645
           ],
           "xaxis": "x",
           "y": [
            0.05400640137664947
           ],
           "yaxis": "y"
          },
          {
           "hovertemplate": "<b>%{hovertext}</b><br><br>Country=FRA<br>Year=2013<br>Investments=%{x}<br>Passengers=%{y}<br>size=%{marker.size}<extra></extra>",
           "hovertext": [
            "FRA"
           ],
           "legendgroup": "FRA",
           "marker": {
            "color": "#FFA15A",
            "size": [
             20
            ],
            "sizemode": "area",
            "sizeref": 0.2,
            "symbol": "circle"
           },
           "mode": "markers",
           "name": "FRA",
           "orientation": "v",
           "showlegend": true,
           "type": "scatter",
           "x": [
            0.22799995942196372
           ],
           "xaxis": "x",
           "y": [
            6.602358456771551
           ],
           "yaxis": "y"
          },
          {
           "hovertemplate": "<b>%{hovertext}</b><br><br>Country=DEU<br>Year=2013<br>Investments=%{x}<br>Passengers=%{y}<br>size=%{marker.size}<extra></extra>",
           "hovertext": [
            "DEU"
           ],
           "legendgroup": "DEU",
           "marker": {
            "color": "#19d3f3",
            "size": [
             20
            ],
            "sizemode": "area",
            "sizeref": 0.2,
            "symbol": "circle"
           },
           "mode": "markers",
           "name": "DEU",
           "orientation": "v",
           "showlegend": true,
           "type": "scatter",
           "x": [
            0.12427641655546476
           ],
           "xaxis": "x",
           "y": [
            2.503602411633188
           ],
           "yaxis": "y"
          },
          {
           "hovertemplate": "<b>%{hovertext}</b><br><br>Country=HUN<br>Year=2013<br>Investments=%{x}<br>Passengers=%{y}<br>size=%{marker.size}<extra></extra>",
           "hovertext": [
            "HUN"
           ],
           "legendgroup": "HUN",
           "marker": {
            "color": "#FF6692",
            "size": [
             20
            ],
            "sizemode": "area",
            "sizeref": 0.2,
            "symbol": "circle"
           },
           "mode": "markers",
           "name": "HUN",
           "orientation": "v",
           "showlegend": true,
           "type": "scatter",
           "x": [
            0.26295758958639537
           ],
           "xaxis": "x",
           "y": [
            -1.8315148621484423
           ],
           "yaxis": "y"
          },
          {
           "hovertemplate": "<b>%{hovertext}</b><br><br>Country=ITA<br>Year=2013<br>Investments=%{x}<br>Passengers=%{y}<br>size=%{marker.size}<extra></extra>",
           "hovertext": [
            "ITA"
           ],
           "legendgroup": "ITA",
           "marker": {
            "color": "#B6E880",
            "size": [
             20
            ],
            "sizemode": "area",
            "sizeref": 0.2,
            "symbol": "circle"
           },
           "mode": "markers",
           "name": "ITA",
           "orientation": "v",
           "showlegend": true,
           "type": "scatter",
           "x": [
            0.24722391367746602
           ],
           "xaxis": "x",
           "y": [
            -8.948461919251848
           ],
           "yaxis": "y"
          },
          {
           "hovertemplate": "<b>%{hovertext}</b><br><br>Country=JPN<br>Year=2013<br>Investments=%{x}<br>Passengers=%{y}<br>size=%{marker.size}<extra></extra>",
           "hovertext": [
            "JPN"
           ],
           "legendgroup": "JPN",
           "marker": {
            "color": "#FF97FF",
            "size": [
             20
            ],
            "sizemode": "area",
            "sizeref": 0.2,
            "symbol": "circle"
           },
           "mode": "markers",
           "name": "JPN",
           "orientation": "v",
           "showlegend": true,
           "type": "scatter",
           "x": [
            0.1840251367041728
           ],
           "xaxis": "x",
           "y": [
            -1.4718259355515517
           ],
           "yaxis": "y"
          },
          {
           "hovertemplate": "<b>%{hovertext}</b><br><br>Country=NOR<br>Year=2013<br>Investments=%{x}<br>Passengers=%{y}<br>size=%{marker.size}<extra></extra>",
           "hovertext": [
            "NOR"
           ],
           "legendgroup": "NOR",
           "marker": {
            "color": "#FECB52",
            "size": [
             20
            ],
            "sizemode": "area",
            "sizeref": 0.2,
            "symbol": "circle"
           },
           "mode": "markers",
           "name": "NOR",
           "orientation": "v",
           "showlegend": true,
           "type": "scatter",
           "x": [
            0.1071981976159702
           ],
           "xaxis": "x",
           "y": [
            -1.4242861925689132
           ],
           "yaxis": "y"
          },
          {
           "hovertemplate": "<b>%{hovertext}</b><br><br>Country=POL<br>Year=2013<br>Investments=%{x}<br>Passengers=%{y}<br>size=%{marker.size}<extra></extra>",
           "hovertext": [
            "POL"
           ],
           "legendgroup": "POL",
           "marker": {
            "color": "#636efa",
            "size": [
             20
            ],
            "sizemode": "area",
            "sizeref": 0.2,
            "symbol": "circle"
           },
           "mode": "markers",
           "name": "POL",
           "orientation": "v",
           "showlegend": true,
           "type": "scatter",
           "x": [
            0.1527415128214114
           ],
           "xaxis": "x",
           "y": [
            4.660164041673331
           ],
           "yaxis": "y"
          },
          {
           "hovertemplate": "<b>%{hovertext}</b><br><br>Country=RUS<br>Year=2013<br>Investments=%{x}<br>Passengers=%{y}<br>size=%{marker.size}<extra></extra>",
           "hovertext": [
            "RUS"
           ],
           "legendgroup": "RUS",
           "marker": {
            "color": "#EF553B",
            "size": [
             20
            ],
            "sizemode": "area",
            "sizeref": 0.2,
            "symbol": "circle"
           },
           "mode": "markers",
           "name": "RUS",
           "orientation": "v",
           "showlegend": true,
           "type": "scatter",
           "x": [
            0.5671720001635763
           ],
           "xaxis": "x",
           "y": [
            -17.302546797608954
           ],
           "yaxis": "y"
          },
          {
           "hovertemplate": "<b>%{hovertext}</b><br><br>Country=ESP<br>Year=2013<br>Investments=%{x}<br>Passengers=%{y}<br>size=%{marker.size}<extra></extra>",
           "hovertext": [
            "ESP"
           ],
           "legendgroup": "ESP",
           "marker": {
            "color": "#00cc96",
            "size": [
             20
            ],
            "sizemode": "area",
            "sizeref": 0.2,
            "symbol": "circle"
           },
           "mode": "markers",
           "name": "ESP",
           "orientation": "v",
           "showlegend": true,
           "type": "scatter",
           "x": [
            0.5464037301016567
           ],
           "xaxis": "x",
           "y": [
            -9.458283148221469
           ],
           "yaxis": "y"
          },
          {
           "hovertemplate": "<b>%{hovertext}</b><br><br>Country=SWE<br>Year=2013<br>Investments=%{x}<br>Passengers=%{y}<br>size=%{marker.size}<extra></extra>",
           "hovertext": [
            "SWE"
           ],
           "legendgroup": "SWE",
           "marker": {
            "color": "#ab63fa",
            "size": [
             20
            ],
            "sizemode": "area",
            "sizeref": 0.2,
            "symbol": "circle"
           },
           "mode": "markers",
           "name": "SWE",
           "orientation": "v",
           "showlegend": true,
           "type": "scatter",
           "x": [
            0.32445632428778015
           ],
           "xaxis": "x",
           "y": [
            -4.824419370194066
           ],
           "yaxis": "y"
          },
          {
           "hovertemplate": "<b>%{hovertext}</b><br><br>Country=CHE<br>Year=2013<br>Investments=%{x}<br>Passengers=%{y}<br>size=%{marker.size}<extra></extra>",
           "hovertext": [
            "CHE"
           ],
           "legendgroup": "CHE",
           "marker": {
            "color": "#FFA15A",
            "size": [
             20
            ],
            "sizemode": "area",
            "sizeref": 0.2,
            "symbol": "circle"
           },
           "mode": "markers",
           "name": "CHE",
           "orientation": "v",
           "showlegend": true,
           "type": "scatter",
           "x": [
            0.5202631425005573
           ],
           "xaxis": "x",
           "y": [
            3.849983466910034
           ],
           "yaxis": "y"
          },
          {
           "hovertemplate": "<b>%{hovertext}</b><br><br>Country=TUR<br>Year=2013<br>Investments=%{x}<br>Passengers=%{y}<br>size=%{marker.size}<extra></extra>",
           "hovertext": [
            "TUR"
           ],
           "legendgroup": "TUR",
           "marker": {
            "color": "#19d3f3",
            "size": [
             20
            ],
            "sizemode": "area",
            "sizeref": 0.2,
            "symbol": "circle"
           },
           "mode": "markers",
           "name": "TUR",
           "orientation": "v",
           "showlegend": true,
           "type": "scatter",
           "x": [
            0.17942359989269113
           ],
           "xaxis": "x",
           "y": [
            21.1913938135331
           ],
           "yaxis": "y"
          },
          {
           "hovertemplate": "<b>%{hovertext}</b><br><br>Country=GBR<br>Year=2013<br>Investments=%{x}<br>Passengers=%{y}<br>size=%{marker.size}<extra></extra>",
           "hovertext": [
            "GBR"
           ],
           "legendgroup": "GBR",
           "marker": {
            "color": "#FF6692",
            "size": [
             20
            ],
            "sizemode": "area",
            "sizeref": 0.2,
            "symbol": "circle"
           },
           "mode": "markers",
           "name": "GBR",
           "orientation": "v",
           "showlegend": true,
           "type": "scatter",
           "x": [
            0.29052768368733006
           ],
           "xaxis": "x",
           "y": [
            -5.3784229415888
           ],
           "yaxis": "y"
          }
         ],
         "name": "2013"
        },
        {
         "data": [
          {
           "hovertemplate": "<b>%{hovertext}</b><br><br>Country=AUS<br>Year=2014<br>Investments=%{x}<br>Passengers=%{y}<br>size=%{marker.size}<extra></extra>",
           "hovertext": [
            "AUS"
           ],
           "legendgroup": "AUS",
           "marker": {
            "color": "#636efa",
            "size": [
             20
            ],
            "sizemode": "area",
            "sizeref": 0.2,
            "symbol": "circle"
           },
           "mode": "markers",
           "name": "AUS",
           "orientation": "v",
           "showlegend": true,
           "type": "scatter",
           "x": [
            0.32825373313616474
           ],
           "xaxis": "x",
           "y": [
            -1.7731206072198802
           ],
           "yaxis": "y"
          },
          {
           "hovertemplate": "<b>%{hovertext}</b><br><br>Country=AZE<br>Year=2014<br>Investments=%{x}<br>Passengers=%{y}<br>size=%{marker.size}<extra></extra>",
           "hovertext": [
            "AZE"
           ],
           "legendgroup": "AZE",
           "marker": {
            "color": "#EF553B",
            "size": [
             20
            ],
            "sizemode": "area",
            "sizeref": 0.2,
            "symbol": "circle"
           },
           "mode": "markers",
           "name": "AZE",
           "orientation": "v",
           "showlegend": true,
           "type": "scatter",
           "x": [
            0.005249851994194629
           ],
           "xaxis": "x",
           "y": [
            40.75873331680546
           ],
           "yaxis": "y"
          },
          {
           "hovertemplate": "<b>%{hovertext}</b><br><br>Country=CZE<br>Year=2014<br>Investments=%{x}<br>Passengers=%{y}<br>size=%{marker.size}<extra></extra>",
           "hovertext": [
            "CZE"
           ],
           "legendgroup": "CZE",
           "marker": {
            "color": "#00cc96",
            "size": [
             20
            ],
            "sizemode": "area",
            "sizeref": 0.2,
            "symbol": "circle"
           },
           "mode": "markers",
           "name": "CZE",
           "orientation": "v",
           "showlegend": true,
           "type": "scatter",
           "x": [
            0.24461807791719234
           ],
           "xaxis": "x",
           "y": [
            -7.590412363271815
           ],
           "yaxis": "y"
          },
          {
           "hovertemplate": "<b>%{hovertext}</b><br><br>Country=FIN<br>Year=2014<br>Investments=%{x}<br>Passengers=%{y}<br>size=%{marker.size}<extra></extra>",
           "hovertext": [
            "FIN"
           ],
           "legendgroup": "FIN",
           "marker": {
            "color": "#ab63fa",
            "size": [
             20
            ],
            "sizemode": "area",
            "sizeref": 0.2,
            "symbol": "circle"
           },
           "mode": "markers",
           "name": "FIN",
           "orientation": "v",
           "showlegend": true,
           "type": "scatter",
           "x": [
            0.17364211910264177
           ],
           "xaxis": "x",
           "y": [
            -0.6266607730237128
           ],
           "yaxis": "y"
          },
          {
           "hovertemplate": "<b>%{hovertext}</b><br><br>Country=FRA<br>Year=2014<br>Investments=%{x}<br>Passengers=%{y}<br>size=%{marker.size}<extra></extra>",
           "hovertext": [
            "FRA"
           ],
           "legendgroup": "FRA",
           "marker": {
            "color": "#FFA15A",
            "size": [
             20
            ],
            "sizemode": "area",
            "sizeref": 0.2,
            "symbol": "circle"
           },
           "mode": "markers",
           "name": "FRA",
           "orientation": "v",
           "showlegend": true,
           "type": "scatter",
           "x": [
            0.2726803817157169
           ],
           "xaxis": "x",
           "y": [
            8.295912281258722
           ],
           "yaxis": "y"
          },
          {
           "hovertemplate": "<b>%{hovertext}</b><br><br>Country=DEU<br>Year=2014<br>Investments=%{x}<br>Passengers=%{y}<br>size=%{marker.size}<extra></extra>",
           "hovertext": [
            "DEU"
           ],
           "legendgroup": "DEU",
           "marker": {
            "color": "#19d3f3",
            "size": [
             20
            ],
            "sizemode": "area",
            "sizeref": 0.2,
            "symbol": "circle"
           },
           "mode": "markers",
           "name": "DEU",
           "orientation": "v",
           "showlegend": true,
           "type": "scatter",
           "x": [
            0.1354385617621813
           ],
           "xaxis": "x",
           "y": [
            2.9408797733391
           ],
           "yaxis": "y"
          },
          {
           "hovertemplate": "<b>%{hovertext}</b><br><br>Country=HUN<br>Year=2014<br>Investments=%{x}<br>Passengers=%{y}<br>size=%{marker.size}<extra></extra>",
           "hovertext": [
            "HUN"
           ],
           "legendgroup": "HUN",
           "marker": {
            "color": "#FF6692",
            "size": [
             20
            ],
            "sizemode": "area",
            "sizeref": 0.2,
            "symbol": "circle"
           },
           "mode": "markers",
           "name": "HUN",
           "orientation": "v",
           "showlegend": true,
           "type": "scatter",
           "x": [
            0.3197002818862347
           ],
           "xaxis": "x",
           "y": [
            0.9732293399746572
           ],
           "yaxis": "y"
          },
          {
           "hovertemplate": "<b>%{hovertext}</b><br><br>Country=ITA<br>Year=2014<br>Investments=%{x}<br>Passengers=%{y}<br>size=%{marker.size}<extra></extra>",
           "hovertext": [
            "ITA"
           ],
           "legendgroup": "ITA",
           "marker": {
            "color": "#B6E880",
            "size": [
             20
            ],
            "sizemode": "area",
            "sizeref": 0.2,
            "symbol": "circle"
           },
           "mode": "markers",
           "name": "ITA",
           "orientation": "v",
           "showlegend": true,
           "type": "scatter",
           "x": [
            0.22548701238285207
           ],
           "xaxis": "x",
           "y": [
            -10.380331769243046
           ],
           "yaxis": "y"
          },
          {
           "hovertemplate": "<b>%{hovertext}</b><br><br>Country=JPN<br>Year=2014<br>Investments=%{x}<br>Passengers=%{y}<br>size=%{marker.size}<extra></extra>",
           "hovertext": [
            "JPN"
           ],
           "legendgroup": "JPN",
           "marker": {
            "color": "#FF97FF",
            "size": [
             20
            ],
            "sizemode": "area",
            "sizeref": 0.2,
            "symbol": "circle"
           },
           "mode": "markers",
           "name": "JPN",
           "orientation": "v",
           "showlegend": true,
           "type": "scatter",
           "x": [
            0.19080788455628933
           ],
           "xaxis": "x",
           "y": [
            -2.0024322786116433
           ],
           "yaxis": "y"
          },
          {
           "hovertemplate": "<b>%{hovertext}</b><br><br>Country=NOR<br>Year=2014<br>Investments=%{x}<br>Passengers=%{y}<br>size=%{marker.size}<extra></extra>",
           "hovertext": [
            "NOR"
           ],
           "legendgroup": "NOR",
           "marker": {
            "color": "#FECB52",
            "size": [
             20
            ],
            "sizemode": "area",
            "sizeref": 0.2,
            "symbol": "circle"
           },
           "mode": "markers",
           "name": "NOR",
           "orientation": "v",
           "showlegend": true,
           "type": "scatter",
           "x": [
            0.12774718536703805
           ],
           "xaxis": "x",
           "y": [
            0.7756227445463004
           ],
           "yaxis": "y"
          },
          {
           "hovertemplate": "<b>%{hovertext}</b><br><br>Country=POL<br>Year=2014<br>Investments=%{x}<br>Passengers=%{y}<br>size=%{marker.size}<extra></extra>",
           "hovertext": [
            "POL"
           ],
           "legendgroup": "POL",
           "marker": {
            "color": "#636efa",
            "size": [
             20
            ],
            "sizemode": "area",
            "sizeref": 0.2,
            "symbol": "circle"
           },
           "mode": "markers",
           "name": "POL",
           "orientation": "v",
           "showlegend": true,
           "type": "scatter",
           "x": [
            0.12784253713760427
           ],
           "xaxis": "x",
           "y": [
            4.132254545570779
           ],
           "yaxis": "y"
          },
          {
           "hovertemplate": "<b>%{hovertext}</b><br><br>Country=RUS<br>Year=2014<br>Investments=%{x}<br>Passengers=%{y}<br>size=%{marker.size}<extra></extra>",
           "hovertext": [
            "RUS"
           ],
           "legendgroup": "RUS",
           "marker": {
            "color": "#EF553B",
            "size": [
             20
            ],
            "sizemode": "area",
            "sizeref": 0.2,
            "symbol": "circle"
           },
           "mode": "markers",
           "name": "RUS",
           "orientation": "v",
           "showlegend": true,
           "type": "scatter",
           "x": [
            0.5368057974141737
           ],
           "xaxis": "x",
           "y": [
            -10.571000136602194
           ],
           "yaxis": "y"
          },
          {
           "hovertemplate": "<b>%{hovertext}</b><br><br>Country=ESP<br>Year=2014<br>Investments=%{x}<br>Passengers=%{y}<br>size=%{marker.size}<extra></extra>",
           "hovertext": [
            "ESP"
           ],
           "legendgroup": "ESP",
           "marker": {
            "color": "#00cc96",
            "size": [
             20
            ],
            "sizemode": "area",
            "sizeref": 0.2,
            "symbol": "circle"
           },
           "mode": "markers",
           "name": "ESP",
           "orientation": "v",
           "showlegend": true,
           "type": "scatter",
           "x": [
            0.47235806921540996
           ],
           "xaxis": "x",
           "y": [
            -14.72501055912131
           ],
           "yaxis": "y"
          },
          {
           "hovertemplate": "<b>%{hovertext}</b><br><br>Country=SWE<br>Year=2014<br>Investments=%{x}<br>Passengers=%{y}<br>size=%{marker.size}<extra></extra>",
           "hovertext": [
            "SWE"
           ],
           "legendgroup": "SWE",
           "marker": {
            "color": "#ab63fa",
            "size": [
             20
            ],
            "sizemode": "area",
            "sizeref": 0.2,
            "symbol": "circle"
           },
           "mode": "markers",
           "name": "SWE",
           "orientation": "v",
           "showlegend": true,
           "type": "scatter",
           "x": [
            0.311872641493913
           ],
           "xaxis": "x",
           "y": [
            -2.964924841091532
           ],
           "yaxis": "y"
          },
          {
           "hovertemplate": "<b>%{hovertext}</b><br><br>Country=CHE<br>Year=2014<br>Investments=%{x}<br>Passengers=%{y}<br>size=%{marker.size}<extra></extra>",
           "hovertext": [
            "CHE"
           ],
           "legendgroup": "CHE",
           "marker": {
            "color": "#FFA15A",
            "size": [
             20
            ],
            "sizemode": "area",
            "sizeref": 0.2,
            "symbol": "circle"
           },
           "mode": "markers",
           "name": "CHE",
           "orientation": "v",
           "showlegend": true,
           "type": "scatter",
           "x": [
            0.5322010599454653
           ],
           "xaxis": "x",
           "y": [
            2.293849241912782
           ],
           "yaxis": "y"
          },
          {
           "hovertemplate": "<b>%{hovertext}</b><br><br>Country=TUR<br>Year=2014<br>Investments=%{x}<br>Passengers=%{y}<br>size=%{marker.size}<extra></extra>",
           "hovertext": [
            "TUR"
           ],
           "legendgroup": "TUR",
           "marker": {
            "color": "#19d3f3",
            "size": [
             20
            ],
            "sizemode": "area",
            "sizeref": 0.2,
            "symbol": "circle"
           },
           "mode": "markers",
           "name": "TUR",
           "orientation": "v",
           "showlegend": true,
           "type": "scatter",
           "x": [
            0.21146637888206438
           ],
           "xaxis": "x",
           "y": [
            20.146718722412803
           ],
           "yaxis": "y"
          },
          {
           "hovertemplate": "<b>%{hovertext}</b><br><br>Country=GBR<br>Year=2014<br>Investments=%{x}<br>Passengers=%{y}<br>size=%{marker.size}<extra></extra>",
           "hovertext": [
            "GBR"
           ],
           "legendgroup": "GBR",
           "marker": {
            "color": "#FF6692",
            "size": [
             20
            ],
            "sizemode": "area",
            "sizeref": 0.2,
            "symbol": "circle"
           },
           "mode": "markers",
           "name": "GBR",
           "orientation": "v",
           "showlegend": true,
           "type": "scatter",
           "x": [
            0.29994559378496766
           ],
           "xaxis": "x",
           "y": [
            -2.5402329679219515
           ],
           "yaxis": "y"
          }
         ],
         "name": "2014"
        },
        {
         "data": [
          {
           "hovertemplate": "<b>%{hovertext}</b><br><br>Country=AUS<br>Year=2015<br>Investments=%{x}<br>Passengers=%{y}<br>size=%{marker.size}<extra></extra>",
           "hovertext": [
            "AUS"
           ],
           "legendgroup": "AUS",
           "marker": {
            "color": "#636efa",
            "size": [
             20
            ],
            "sizemode": "area",
            "sizeref": 0.2,
            "symbol": "circle"
           },
           "mode": "markers",
           "name": "AUS",
           "orientation": "v",
           "showlegend": true,
           "type": "scatter",
           "x": [
            0.3503178224163543
           ],
           "xaxis": "x",
           "y": [
            -1.106576538711812
           ],
           "yaxis": "y"
          },
          {
           "hovertemplate": "<b>%{hovertext}</b><br><br>Country=AZE<br>Year=2015<br>Investments=%{x}<br>Passengers=%{y}<br>size=%{marker.size}<extra></extra>",
           "hovertext": [
            "AZE"
           ],
           "legendgroup": "AZE",
           "marker": {
            "color": "#EF553B",
            "size": [
             20
            ],
            "sizemode": "area",
            "sizeref": 0.2,
            "symbol": "circle"
           },
           "mode": "markers",
           "name": "AZE",
           "orientation": "v",
           "showlegend": true,
           "type": "scatter",
           "x": [
            0.005050279761695225
           ],
           "xaxis": "x",
           "y": [
            34.14436107059258
           ],
           "yaxis": "y"
          },
          {
           "hovertemplate": "<b>%{hovertext}</b><br><br>Country=CZE<br>Year=2015<br>Investments=%{x}<br>Passengers=%{y}<br>size=%{marker.size}<extra></extra>",
           "hovertext": [
            "CZE"
           ],
           "legendgroup": "CZE",
           "marker": {
            "color": "#00cc96",
            "size": [
             20
            ],
            "sizemode": "area",
            "sizeref": 0.2,
            "symbol": "circle"
           },
           "mode": "markers",
           "name": "CZE",
           "orientation": "v",
           "showlegend": true,
           "type": "scatter",
           "x": [
            0.21505046410697162
           ],
           "xaxis": "x",
           "y": [
            6.543816662238289
           ],
           "yaxis": "y"
          },
          {
           "hovertemplate": "<b>%{hovertext}</b><br><br>Country=FIN<br>Year=2015<br>Investments=%{x}<br>Passengers=%{y}<br>size=%{marker.size}<extra></extra>",
           "hovertext": [
            "FIN"
           ],
           "legendgroup": "FIN",
           "marker": {
            "color": "#ab63fa",
            "size": [
             20
            ],
            "sizemode": "area",
            "sizeref": 0.2,
            "symbol": "circle"
           },
           "mode": "markers",
           "name": "FIN",
           "orientation": "v",
           "showlegend": true,
           "type": "scatter",
           "x": [
            0.19282747379371729
           ],
           "xaxis": "x",
           "y": [
            -0.02142085788978676
           ],
           "yaxis": "y"
          },
          {
           "hovertemplate": "<b>%{hovertext}</b><br><br>Country=FRA<br>Year=2015<br>Investments=%{x}<br>Passengers=%{y}<br>size=%{marker.size}<extra></extra>",
           "hovertext": [
            "FRA"
           ],
           "legendgroup": "FRA",
           "marker": {
            "color": "#FFA15A",
            "size": [
             20
            ],
            "sizemode": "area",
            "sizeref": 0.2,
            "symbol": "circle"
           },
           "mode": "markers",
           "name": "FRA",
           "orientation": "v",
           "showlegend": true,
           "type": "scatter",
           "x": [
            0.3011095703119627
           ],
           "xaxis": "x",
           "y": [
            9.040533955136866
           ],
           "yaxis": "y"
          },
          {
           "hovertemplate": "<b>%{hovertext}</b><br><br>Country=DEU<br>Year=2015<br>Investments=%{x}<br>Passengers=%{y}<br>size=%{marker.size}<extra></extra>",
           "hovertext": [
            "DEU"
           ],
           "legendgroup": "DEU",
           "marker": {
            "color": "#19d3f3",
            "size": [
             20
            ],
            "sizemode": "area",
            "sizeref": 0.2,
            "symbol": "circle"
           },
           "mode": "markers",
           "name": "DEU",
           "orientation": "v",
           "showlegend": true,
           "type": "scatter",
           "x": [
            0.1514354964885962
           ],
           "xaxis": "x",
           "y": [
            3.809719149959956
           ],
           "yaxis": "y"
          },
          {
           "hovertemplate": "<b>%{hovertext}</b><br><br>Country=HUN<br>Year=2015<br>Investments=%{x}<br>Passengers=%{y}<br>size=%{marker.size}<extra></extra>",
           "hovertext": [
            "HUN"
           ],
           "legendgroup": "HUN",
           "marker": {
            "color": "#FF6692",
            "size": [
             20
            ],
            "sizemode": "area",
            "sizeref": 0.2,
            "symbol": "circle"
           },
           "mode": "markers",
           "name": "HUN",
           "orientation": "v",
           "showlegend": true,
           "type": "scatter",
           "x": [
            0.3622230235353062
           ],
           "xaxis": "x",
           "y": [
            6.42284377549589
           ],
           "yaxis": "y"
          },
          {
           "hovertemplate": "<b>%{hovertext}</b><br><br>Country=ITA<br>Year=2015<br>Investments=%{x}<br>Passengers=%{y}<br>size=%{marker.size}<extra></extra>",
           "hovertext": [
            "ITA"
           ],
           "legendgroup": "ITA",
           "marker": {
            "color": "#B6E880",
            "size": [
             20
            ],
            "sizemode": "area",
            "sizeref": 0.2,
            "symbol": "circle"
           },
           "mode": "markers",
           "name": "ITA",
           "orientation": "v",
           "showlegend": true,
           "type": "scatter",
           "x": [
            0.21728428333801775
           ],
           "xaxis": "x",
           "y": [
            -3.379741290737759
           ],
           "yaxis": "y"
          },
          {
           "hovertemplate": "<b>%{hovertext}</b><br><br>Country=JPN<br>Year=2015<br>Investments=%{x}<br>Passengers=%{y}<br>size=%{marker.size}<extra></extra>",
           "hovertext": [
            "JPN"
           ],
           "legendgroup": "JPN",
           "marker": {
            "color": "#FF97FF",
            "size": [
             20
            ],
            "sizemode": "area",
            "sizeref": 0.2,
            "symbol": "circle"
           },
           "mode": "markers",
           "name": "JPN",
           "orientation": "v",
           "showlegend": true,
           "type": "scatter",
           "x": [
            0.1897346951607129
           ],
           "xaxis": "x",
           "y": [
            1.0140594823508486
           ],
           "yaxis": "y"
          },
          {
           "hovertemplate": "<b>%{hovertext}</b><br><br>Country=NOR<br>Year=2015<br>Investments=%{x}<br>Passengers=%{y}<br>size=%{marker.size}<extra></extra>",
           "hovertext": [
            "NOR"
           ],
           "legendgroup": "NOR",
           "marker": {
            "color": "#FECB52",
            "size": [
             20
            ],
            "sizemode": "area",
            "sizeref": 0.2,
            "symbol": "circle"
           },
           "mode": "markers",
           "name": "NOR",
           "orientation": "v",
           "showlegend": true,
           "type": "scatter",
           "x": [
            0.15938307716775704
           ],
           "xaxis": "x",
           "y": [
            3.327507647065775
           ],
           "yaxis": "y"
          },
          {
           "hovertemplate": "<b>%{hovertext}</b><br><br>Country=POL<br>Year=2015<br>Investments=%{x}<br>Passengers=%{y}<br>size=%{marker.size}<extra></extra>",
           "hovertext": [
            "POL"
           ],
           "legendgroup": "POL",
           "marker": {
            "color": "#636efa",
            "size": [
             20
            ],
            "sizemode": "area",
            "sizeref": 0.2,
            "symbol": "circle"
           },
           "mode": "markers",
           "name": "POL",
           "orientation": "v",
           "showlegend": true,
           "type": "scatter",
           "x": [
            0.0988183252425745
           ],
           "xaxis": "x",
           "y": [
            3.454849661149395
           ],
           "yaxis": "y"
          },
          {
           "hovertemplate": "<b>%{hovertext}</b><br><br>Country=RUS<br>Year=2015<br>Investments=%{x}<br>Passengers=%{y}<br>size=%{marker.size}<extra></extra>",
           "hovertext": [
            "RUS"
           ],
           "legendgroup": "RUS",
           "marker": {
            "color": "#EF553B",
            "size": [
             20
            ],
            "sizemode": "area",
            "sizeref": 0.2,
            "symbol": "circle"
           },
           "mode": "markers",
           "name": "RUS",
           "orientation": "v",
           "showlegend": true,
           "type": "scatter",
           "x": [
            0.4895245237891034
           ],
           "xaxis": "x",
           "y": [
            -10.847010746846397
           ],
           "yaxis": "y"
          },
          {
           "hovertemplate": "<b>%{hovertext}</b><br><br>Country=ESP<br>Year=2015<br>Investments=%{x}<br>Passengers=%{y}<br>size=%{marker.size}<extra></extra>",
           "hovertext": [
            "ESP"
           ],
           "legendgroup": "ESP",
           "marker": {
            "color": "#00cc96",
            "size": [
             20
            ],
            "sizemode": "area",
            "sizeref": 0.2,
            "symbol": "circle"
           },
           "mode": "markers",
           "name": "ESP",
           "orientation": "v",
           "showlegend": true,
           "type": "scatter",
           "x": [
            0.3951620615113411
           ],
           "xaxis": "x",
           "y": [
            -7.00082694167633
           ],
           "yaxis": "y"
          },
          {
           "hovertemplate": "<b>%{hovertext}</b><br><br>Country=SWE<br>Year=2015<br>Investments=%{x}<br>Passengers=%{y}<br>size=%{marker.size}<extra></extra>",
           "hovertext": [
            "SWE"
           ],
           "legendgroup": "SWE",
           "marker": {
            "color": "#ab63fa",
            "size": [
             20
            ],
            "sizemode": "area",
            "sizeref": 0.2,
            "symbol": "circle"
           },
           "mode": "markers",
           "name": "SWE",
           "orientation": "v",
           "showlegend": true,
           "type": "scatter",
           "x": [
            0.2918236865564975
           ],
           "xaxis": "x",
           "y": [
            -1.1479741594163984
           ],
           "yaxis": "y"
          },
          {
           "hovertemplate": "<b>%{hovertext}</b><br><br>Country=CHE<br>Year=2015<br>Investments=%{x}<br>Passengers=%{y}<br>size=%{marker.size}<extra></extra>",
           "hovertext": [
            "CHE"
           ],
           "legendgroup": "CHE",
           "marker": {
            "color": "#FFA15A",
            "size": [
             20
            ],
            "sizemode": "area",
            "sizeref": 0.2,
            "symbol": "circle"
           },
           "mode": "markers",
           "name": "CHE",
           "orientation": "v",
           "showlegend": true,
           "type": "scatter",
           "x": [
            0.5252492405148603
           ],
           "xaxis": "x",
           "y": [
            1.3412303511033619
           ],
           "yaxis": "y"
          },
          {
           "hovertemplate": "<b>%{hovertext}</b><br><br>Country=TUR<br>Year=2015<br>Investments=%{x}<br>Passengers=%{y}<br>size=%{marker.size}<extra></extra>",
           "hovertext": [
            "TUR"
           ],
           "legendgroup": "TUR",
           "marker": {
            "color": "#19d3f3",
            "size": [
             20
            ],
            "sizemode": "area",
            "sizeref": 0.2,
            "symbol": "circle"
           },
           "mode": "markers",
           "name": "TUR",
           "orientation": "v",
           "showlegend": true,
           "type": "scatter",
           "x": [
            0.21993963889666174
           ],
           "xaxis": "x",
           "y": [
            17.748401589777927
           ],
           "yaxis": "y"
          },
          {
           "hovertemplate": "<b>%{hovertext}</b><br><br>Country=GBR<br>Year=2015<br>Investments=%{x}<br>Passengers=%{y}<br>size=%{marker.size}<extra></extra>",
           "hovertext": [
            "GBR"
           ],
           "legendgroup": "GBR",
           "marker": {
            "color": "#FF6692",
            "size": [
             20
            ],
            "sizemode": "area",
            "sizeref": 0.2,
            "symbol": "circle"
           },
           "mode": "markers",
           "name": "GBR",
           "orientation": "v",
           "showlegend": true,
           "type": "scatter",
           "x": [
            0.31575568044017677
           ],
           "xaxis": "x",
           "y": [
            -0.23771663276196398
           ],
           "yaxis": "y"
          }
         ],
         "name": "2015"
        },
        {
         "data": [
          {
           "hovertemplate": "<b>%{hovertext}</b><br><br>Country=AUS<br>Year=2016<br>Investments=%{x}<br>Passengers=%{y}<br>size=%{marker.size}<extra></extra>",
           "hovertext": [
            "AUS"
           ],
           "legendgroup": "AUS",
           "marker": {
            "color": "#636efa",
            "size": [
             20
            ],
            "sizemode": "area",
            "sizeref": 0.2,
            "symbol": "circle"
           },
           "mode": "markers",
           "name": "AUS",
           "orientation": "v",
           "showlegend": true,
           "type": "scatter",
           "x": [
            0.34654415513811043
           ],
           "xaxis": "x",
           "y": [
            -1.5185160392087393
           ],
           "yaxis": "y"
          },
          {
           "hovertemplate": "<b>%{hovertext}</b><br><br>Country=AZE<br>Year=2016<br>Investments=%{x}<br>Passengers=%{y}<br>size=%{marker.size}<extra></extra>",
           "hovertext": [
            "AZE"
           ],
           "legendgroup": "AZE",
           "marker": {
            "color": "#EF553B",
            "size": [
             20
            ],
            "sizemode": "area",
            "sizeref": 0.2,
            "symbol": "circle"
           },
           "mode": "markers",
           "name": "AZE",
           "orientation": "v",
           "showlegend": true,
           "type": "scatter",
           "x": [
            0.00462833049907616
           ],
           "xaxis": "x",
           "y": [
            25.479441099099343
           ],
           "yaxis": "y"
          },
          {
           "hovertemplate": "<b>%{hovertext}</b><br><br>Country=CZE<br>Year=2016<br>Investments=%{x}<br>Passengers=%{y}<br>size=%{marker.size}<extra></extra>",
           "hovertext": [
            "CZE"
           ],
           "legendgroup": "CZE",
           "marker": {
            "color": "#00cc96",
            "size": [
             20
            ],
            "sizemode": "area",
            "sizeref": 0.2,
            "symbol": "circle"
           },
           "mode": "markers",
           "name": "CZE",
           "orientation": "v",
           "showlegend": true,
           "type": "scatter",
           "x": [
            0.2887720664163743
           ],
           "xaxis": "x",
           "y": [
            10.04658347555376
           ],
           "yaxis": "y"
          },
          {
           "hovertemplate": "<b>%{hovertext}</b><br><br>Country=FIN<br>Year=2016<br>Investments=%{x}<br>Passengers=%{y}<br>size=%{marker.size}<extra></extra>",
           "hovertext": [
            "FIN"
           ],
           "legendgroup": "FIN",
           "marker": {
            "color": "#ab63fa",
            "size": [
             20
            ],
            "sizemode": "area",
            "sizeref": 0.2,
            "symbol": "circle"
           },
           "mode": "markers",
           "name": "FIN",
           "orientation": "v",
           "showlegend": true,
           "type": "scatter",
           "x": [
            0.2108176427562415
           ],
           "xaxis": "x",
           "y": [
            -12.37747526254246
           ],
           "yaxis": "y"
          },
          {
           "hovertemplate": "<b>%{hovertext}</b><br><br>Country=FRA<br>Year=2016<br>Investments=%{x}<br>Passengers=%{y}<br>size=%{marker.size}<extra></extra>",
           "hovertext": [
            "FRA"
           ],
           "legendgroup": "FRA",
           "marker": {
            "color": "#FFA15A",
            "size": [
             20
            ],
            "sizemode": "area",
            "sizeref": 0.2,
            "symbol": "circle"
           },
           "mode": "markers",
           "name": "FRA",
           "orientation": "v",
           "showlegend": true,
           "type": "scatter",
           "x": [
            0.33647134627367337
           ],
           "xaxis": "x",
           "y": [
            10.99713958785349
           ],
           "yaxis": "y"
          },
          {
           "hovertemplate": "<b>%{hovertext}</b><br><br>Country=DEU<br>Year=2016<br>Investments=%{x}<br>Passengers=%{y}<br>size=%{marker.size}<extra></extra>",
           "hovertext": [
            "DEU"
           ],
           "legendgroup": "DEU",
           "marker": {
            "color": "#19d3f3",
            "size": [
             20
            ],
            "sizemode": "area",
            "sizeref": 0.2,
            "symbol": "circle"
           },
           "mode": "markers",
           "name": "DEU",
           "orientation": "v",
           "showlegend": true,
           "type": "scatter",
           "x": [
            0.1708273364841734
           ],
           "xaxis": "x",
           "y": [
            4.531535988925284
           ],
           "yaxis": "y"
          },
          {
           "hovertemplate": "<b>%{hovertext}</b><br><br>Country=HUN<br>Year=2016<br>Investments=%{x}<br>Passengers=%{y}<br>size=%{marker.size}<extra></extra>",
           "hovertext": [
            "HUN"
           ],
           "legendgroup": "HUN",
           "marker": {
            "color": "#FF6692",
            "size": [
             20
            ],
            "sizemode": "area",
            "sizeref": 0.2,
            "symbol": "circle"
           },
           "mode": "markers",
           "name": "HUN",
           "orientation": "v",
           "showlegend": true,
           "type": "scatter",
           "x": [
            0.4369550407896603
           ],
           "xaxis": "x",
           "y": [
            10.97964012646826
           ],
           "yaxis": "y"
          },
          {
           "hovertemplate": "<b>%{hovertext}</b><br><br>Country=ITA<br>Year=2016<br>Investments=%{x}<br>Passengers=%{y}<br>size=%{marker.size}<extra></extra>",
           "hovertext": [
            "ITA"
           ],
           "legendgroup": "ITA",
           "marker": {
            "color": "#B6E880",
            "size": [
             20
            ],
            "sizemode": "area",
            "sizeref": 0.2,
            "symbol": "circle"
           },
           "mode": "markers",
           "name": "ITA",
           "orientation": "v",
           "showlegend": true,
           "type": "scatter",
           "x": [
            0.20306359855006248
           ],
           "xaxis": "x",
           "y": [
            4.9284411183718735
           ],
           "yaxis": "y"
          },
          {
           "hovertemplate": "<b>%{hovertext}</b><br><br>Country=JPN<br>Year=2016<br>Investments=%{x}<br>Passengers=%{y}<br>size=%{marker.size}<extra></extra>",
           "hovertext": [
            "JPN"
           ],
           "legendgroup": "JPN",
           "marker": {
            "color": "#FF97FF",
            "size": [
             20
            ],
            "sizemode": "area",
            "sizeref": 0.2,
            "symbol": "circle"
           },
           "mode": "markers",
           "name": "JPN",
           "orientation": "v",
           "showlegend": true,
           "type": "scatter",
           "x": [
            0.19051806030918375
           ],
           "xaxis": "x",
           "y": [
            3.575483032086768
           ],
           "yaxis": "y"
          },
          {
           "hovertemplate": "<b>%{hovertext}</b><br><br>Country=NOR<br>Year=2016<br>Investments=%{x}<br>Passengers=%{y}<br>size=%{marker.size}<extra></extra>",
           "hovertext": [
            "NOR"
           ],
           "legendgroup": "NOR",
           "marker": {
            "color": "#FECB52",
            "size": [
             20
            ],
            "sizemode": "area",
            "sizeref": 0.2,
            "symbol": "circle"
           },
           "mode": "markers",
           "name": "NOR",
           "orientation": "v",
           "showlegend": true,
           "type": "scatter",
           "x": [
            0.20550145035149736
           ],
           "xaxis": "x",
           "y": [
            2.8369079793243435
           ],
           "yaxis": "y"
          },
          {
           "hovertemplate": "<b>%{hovertext}</b><br><br>Country=POL<br>Year=2016<br>Investments=%{x}<br>Passengers=%{y}<br>size=%{marker.size}<extra></extra>",
           "hovertext": [
            "POL"
           ],
           "legendgroup": "POL",
           "marker": {
            "color": "#636efa",
            "size": [
             20
            ],
            "sizemode": "area",
            "sizeref": 0.2,
            "symbol": "circle"
           },
           "mode": "markers",
           "name": "POL",
           "orientation": "v",
           "showlegend": true,
           "type": "scatter",
           "x": [
            0.0833214412980851
           ],
           "xaxis": "x",
           "y": [
            9.352641018374431
           ],
           "yaxis": "y"
          },
          {
           "hovertemplate": "<b>%{hovertext}</b><br><br>Country=RUS<br>Year=2016<br>Investments=%{x}<br>Passengers=%{y}<br>size=%{marker.size}<extra></extra>",
           "hovertext": [
            "RUS"
           ],
           "legendgroup": "RUS",
           "marker": {
            "color": "#EF553B",
            "size": [
             20
            ],
            "sizemode": "area",
            "sizeref": 0.2,
            "symbol": "circle"
           },
           "mode": "markers",
           "name": "RUS",
           "orientation": "v",
           "showlegend": true,
           "type": "scatter",
           "x": [
            0.44188190524584126
           ],
           "xaxis": "x",
           "y": [
            -11.2840373918613
           ],
           "yaxis": "y"
          },
          {
           "hovertemplate": "<b>%{hovertext}</b><br><br>Country=ESP<br>Year=2016<br>Investments=%{x}<br>Passengers=%{y}<br>size=%{marker.size}<extra></extra>",
           "hovertext": [
            "ESP"
           ],
           "legendgroup": "ESP",
           "marker": {
            "color": "#00cc96",
            "size": [
             20
            ],
            "sizemode": "area",
            "sizeref": 0.2,
            "symbol": "circle"
           },
           "mode": "markers",
           "name": "ESP",
           "orientation": "v",
           "showlegend": true,
           "type": "scatter",
           "x": [
            0.32730513045129667
           ],
           "xaxis": "x",
           "y": [
            -2.576040997589335
           ],
           "yaxis": "y"
          },
          {
           "hovertemplate": "<b>%{hovertext}</b><br><br>Country=SWE<br>Year=2016<br>Investments=%{x}<br>Passengers=%{y}<br>size=%{marker.size}<extra></extra>",
           "hovertext": [
            "SWE"
           ],
           "legendgroup": "SWE",
           "marker": {
            "color": "#ab63fa",
            "size": [
             20
            ],
            "sizemode": "area",
            "sizeref": 0.2,
            "symbol": "circle"
           },
           "mode": "markers",
           "name": "SWE",
           "orientation": "v",
           "showlegend": true,
           "type": "scatter",
           "x": [
            0.2895028212002132
           ],
           "xaxis": "x",
           "y": [
            -16.88292740505143
           ],
           "yaxis": "y"
          },
          {
           "hovertemplate": "<b>%{hovertext}</b><br><br>Country=CHE<br>Year=2016<br>Investments=%{x}<br>Passengers=%{y}<br>size=%{marker.size}<extra></extra>",
           "hovertext": [
            "CHE"
           ],
           "legendgroup": "CHE",
           "marker": {
            "color": "#FFA15A",
            "size": [
             20
            ],
            "sizemode": "area",
            "sizeref": 0.2,
            "symbol": "circle"
           },
           "mode": "markers",
           "name": "CHE",
           "orientation": "v",
           "showlegend": true,
           "type": "scatter",
           "x": [
            0.5458925863382624
           ],
           "xaxis": "x",
           "y": [
            2.450110514828352
           ],
           "yaxis": "y"
          },
          {
           "hovertemplate": "<b>%{hovertext}</b><br><br>Country=TUR<br>Year=2016<br>Investments=%{x}<br>Passengers=%{y}<br>size=%{marker.size}<extra></extra>",
           "hovertext": [
            "TUR"
           ],
           "legendgroup": "TUR",
           "marker": {
            "color": "#19d3f3",
            "size": [
             20
            ],
            "sizemode": "area",
            "sizeref": 0.2,
            "symbol": "circle"
           },
           "mode": "markers",
           "name": "TUR",
           "orientation": "v",
           "showlegend": true,
           "type": "scatter",
           "x": [
            0.20370044268983456
           ],
           "xaxis": "x",
           "y": [
            13.690469752976808
           ],
           "yaxis": "y"
          },
          {
           "hovertemplate": "<b>%{hovertext}</b><br><br>Country=GBR<br>Year=2016<br>Investments=%{x}<br>Passengers=%{y}<br>size=%{marker.size}<extra></extra>",
           "hovertext": [
            "GBR"
           ],
           "legendgroup": "GBR",
           "marker": {
            "color": "#FF6692",
            "size": [
             20
            ],
            "sizemode": "area",
            "sizeref": 0.2,
            "symbol": "circle"
           },
           "mode": "markers",
           "name": "GBR",
           "orientation": "v",
           "showlegend": true,
           "type": "scatter",
           "x": [
            0.36712913618144616
           ],
           "xaxis": "x",
           "y": [
            1.2587289241592359
           ],
           "yaxis": "y"
          }
         ],
         "name": "2016"
        },
        {
         "data": [
          {
           "hovertemplate": "<b>%{hovertext}</b><br><br>Country=AUS<br>Year=2017<br>Investments=%{x}<br>Passengers=%{y}<br>size=%{marker.size}<extra></extra>",
           "hovertext": [
            "AUS"
           ],
           "legendgroup": "AUS",
           "marker": {
            "color": "#636efa",
            "size": [
             20
            ],
            "sizemode": "area",
            "sizeref": 0.2,
            "symbol": "circle"
           },
           "mode": "markers",
           "name": "AUS",
           "orientation": "v",
           "showlegend": true,
           "type": "scatter",
           "x": [
            0.32210917799177347
           ],
           "xaxis": "x",
           "y": [
            -1.7478206725777823
           ],
           "yaxis": "y"
          },
          {
           "hovertemplate": "<b>%{hovertext}</b><br><br>Country=AZE<br>Year=2017<br>Investments=%{x}<br>Passengers=%{y}<br>size=%{marker.size}<extra></extra>",
           "hovertext": [
            "AZE"
           ],
           "legendgroup": "AZE",
           "marker": {
            "color": "#EF553B",
            "size": [
             20
            ],
            "sizemode": "area",
            "sizeref": 0.2,
            "symbol": "circle"
           },
           "mode": "markers",
           "name": "AZE",
           "orientation": "v",
           "showlegend": true,
           "type": "scatter",
           "x": [
            0.0043871360621237105
           ],
           "xaxis": "x",
           "y": [
            16.991429813149097
           ],
           "yaxis": "y"
          },
          {
           "hovertemplate": "<b>%{hovertext}</b><br><br>Country=CZE<br>Year=2017<br>Investments=%{x}<br>Passengers=%{y}<br>size=%{marker.size}<extra></extra>",
           "hovertext": [
            "CZE"
           ],
           "legendgroup": "CZE",
           "marker": {
            "color": "#00cc96",
            "size": [
             20
            ],
            "sizemode": "area",
            "sizeref": 0.2,
            "symbol": "circle"
           },
           "mode": "markers",
           "name": "CZE",
           "orientation": "v",
           "showlegend": true,
           "type": "scatter",
           "x": [
            0.3210734438218757
           ],
           "xaxis": "x",
           "y": [
            16.46589999899366
           ],
           "yaxis": "y"
          },
          {
           "hovertemplate": "<b>%{hovertext}</b><br><br>Country=FIN<br>Year=2017<br>Investments=%{x}<br>Passengers=%{y}<br>size=%{marker.size}<extra></extra>",
           "hovertext": [
            "FIN"
           ],
           "legendgroup": "FIN",
           "marker": {
            "color": "#ab63fa",
            "size": [
             20
            ],
            "sizemode": "area",
            "sizeref": 0.2,
            "symbol": "circle"
           },
           "mode": "markers",
           "name": "FIN",
           "orientation": "v",
           "showlegend": true,
           "type": "scatter",
           "x": [
            0.23064888241049175
           ],
           "xaxis": "x",
           "y": [
            0.9746939681291034
           ],
           "yaxis": "y"
          },
          {
           "hovertemplate": "<b>%{hovertext}</b><br><br>Country=FRA<br>Year=2017<br>Investments=%{x}<br>Passengers=%{y}<br>size=%{marker.size}<extra></extra>",
           "hovertext": [
            "FRA"
           ],
           "legendgroup": "FRA",
           "marker": {
            "color": "#FFA15A",
            "size": [
             20
            ],
            "sizemode": "area",
            "sizeref": 0.2,
            "symbol": "circle"
           },
           "mode": "markers",
           "name": "FRA",
           "orientation": "v",
           "showlegend": true,
           "type": "scatter",
           "x": [
            0.3581088230405387
           ],
           "xaxis": "x",
           "y": [
            4.512599006716411
           ],
           "yaxis": "y"
          },
          {
           "hovertemplate": "<b>%{hovertext}</b><br><br>Country=DEU<br>Year=2017<br>Investments=%{x}<br>Passengers=%{y}<br>size=%{marker.size}<extra></extra>",
           "hovertext": [
            "DEU"
           ],
           "legendgroup": "DEU",
           "marker": {
            "color": "#19d3f3",
            "size": [
             20
            ],
            "sizemode": "area",
            "sizeref": 0.2,
            "symbol": "circle"
           },
           "mode": "markers",
           "name": "DEU",
           "orientation": "v",
           "showlegend": true,
           "type": "scatter",
           "x": [
            0.18679632177159944
           ],
           "xaxis": "x",
           "y": [
            -0.7868807997054694
           ],
           "yaxis": "y"
          },
          {
           "hovertemplate": "<b>%{hovertext}</b><br><br>Country=HUN<br>Year=2017<br>Investments=%{x}<br>Passengers=%{y}<br>size=%{marker.size}<extra></extra>",
           "hovertext": [
            "HUN"
           ],
           "legendgroup": "HUN",
           "marker": {
            "color": "#FF6692",
            "size": [
             20
            ],
            "sizemode": "area",
            "sizeref": 0.2,
            "symbol": "circle"
           },
           "mode": "markers",
           "name": "HUN",
           "orientation": "v",
           "showlegend": true,
           "type": "scatter",
           "x": [
            0.43798614147406045
           ],
           "xaxis": "x",
           "y": [
            16.247525935776363
           ],
           "yaxis": "y"
          },
          {
           "hovertemplate": "<b>%{hovertext}</b><br><br>Country=ITA<br>Year=2017<br>Investments=%{x}<br>Passengers=%{y}<br>size=%{marker.size}<extra></extra>",
           "hovertext": [
            "ITA"
           ],
           "legendgroup": "ITA",
           "marker": {
            "color": "#B6E880",
            "size": [
             20
            ],
            "sizemode": "area",
            "sizeref": 0.2,
            "symbol": "circle"
           },
           "mode": "markers",
           "name": "ITA",
           "orientation": "v",
           "showlegend": true,
           "type": "scatter",
           "x": [
            0.2053882292292412
           ],
           "xaxis": "x",
           "y": [
            25.00032133822623
           ],
           "yaxis": "y"
          },
          {
           "hovertemplate": "<b>%{hovertext}</b><br><br>Country=JPN<br>Year=2017<br>Investments=%{x}<br>Passengers=%{y}<br>size=%{marker.size}<extra></extra>",
           "hovertext": [
            "JPN"
           ],
           "legendgroup": "JPN",
           "marker": {
            "color": "#FF97FF",
            "size": [
             20
            ],
            "sizemode": "area",
            "sizeref": 0.2,
            "symbol": "circle"
           },
           "mode": "markers",
           "name": "JPN",
           "orientation": "v",
           "showlegend": true,
           "type": "scatter",
           "x": [
            0.1946505465616531
           ],
           "xaxis": "x",
           "y": [
            2.3898208543222887
           ],
           "yaxis": "y"
          },
          {
           "hovertemplate": "<b>%{hovertext}</b><br><br>Country=NOR<br>Year=2017<br>Investments=%{x}<br>Passengers=%{y}<br>size=%{marker.size}<extra></extra>",
           "hovertext": [
            "NOR"
           ],
           "legendgroup": "NOR",
           "marker": {
            "color": "#FECB52",
            "size": [
             20
            ],
            "sizemode": "area",
            "sizeref": 0.2,
            "symbol": "circle"
           },
           "mode": "markers",
           "name": "NOR",
           "orientation": "v",
           "showlegend": true,
           "type": "scatter",
           "x": [
            0.2648055576954532
           ],
           "xaxis": "x",
           "y": [
            4.051594028717553
           ],
           "yaxis": "y"
          },
          {
           "hovertemplate": "<b>%{hovertext}</b><br><br>Country=POL<br>Year=2017<br>Investments=%{x}<br>Passengers=%{y}<br>size=%{marker.size}<extra></extra>",
           "hovertext": [
            "POL"
           ],
           "legendgroup": "POL",
           "marker": {
            "color": "#636efa",
            "size": [
             20
            ],
            "sizemode": "area",
            "sizeref": 0.2,
            "symbol": "circle"
           },
           "mode": "markers",
           "name": "POL",
           "orientation": "v",
           "showlegend": true,
           "type": "scatter",
           "x": [
            0.06077397322978456
           ],
           "xaxis": "x",
           "y": [
            12.891814451860185
           ],
           "yaxis": "y"
          },
          {
           "hovertemplate": "<b>%{hovertext}</b><br><br>Country=RUS<br>Year=2017<br>Investments=%{x}<br>Passengers=%{y}<br>size=%{marker.size}<extra></extra>",
           "hovertext": [
            "RUS"
           ],
           "legendgroup": "RUS",
           "marker": {
            "color": "#EF553B",
            "size": [
             20
            ],
            "sizemode": "area",
            "sizeref": 0.2,
            "symbol": "circle"
           },
           "mode": "markers",
           "name": "RUS",
           "orientation": "v",
           "showlegend": true,
           "type": "scatter",
           "x": [
            0.419968859984288
           ],
           "xaxis": "x",
           "y": [
            -8.560223441638403
           ],
           "yaxis": "y"
          },
          {
           "hovertemplate": "<b>%{hovertext}</b><br><br>Country=ESP<br>Year=2017<br>Investments=%{x}<br>Passengers=%{y}<br>size=%{marker.size}<extra></extra>",
           "hovertext": [
            "ESP"
           ],
           "legendgroup": "ESP",
           "marker": {
            "color": "#00cc96",
            "size": [
             20
            ],
            "sizemode": "area",
            "sizeref": 0.2,
            "symbol": "circle"
           },
           "mode": "markers",
           "name": "ESP",
           "orientation": "v",
           "showlegend": true,
           "type": "scatter",
           "x": [
            0.24822673241269316
           ],
           "xaxis": "x",
           "y": [
            -2.8934257775628747
           ],
           "yaxis": "y"
          },
          {
           "hovertemplate": "<b>%{hovertext}</b><br><br>Country=SWE<br>Year=2017<br>Investments=%{x}<br>Passengers=%{y}<br>size=%{marker.size}<extra></extra>",
           "hovertext": [
            "SWE"
           ],
           "legendgroup": "SWE",
           "marker": {
            "color": "#ab63fa",
            "size": [
             20
            ],
            "sizemode": "area",
            "sizeref": 0.2,
            "symbol": "circle"
           },
           "mode": "markers",
           "name": "SWE",
           "orientation": "v",
           "showlegend": true,
           "type": "scatter",
           "x": [
            0.292513723089366
           ],
           "xaxis": "x",
           "y": [
            -14.929219446170638
           ],
           "yaxis": "y"
          },
          {
           "hovertemplate": "<b>%{hovertext}</b><br><br>Country=CHE<br>Year=2017<br>Investments=%{x}<br>Passengers=%{y}<br>size=%{marker.size}<extra></extra>",
           "hovertext": [
            "CHE"
           ],
           "legendgroup": "CHE",
           "marker": {
            "color": "#FFA15A",
            "size": [
             20
            ],
            "sizemode": "area",
            "sizeref": 0.2,
            "symbol": "circle"
           },
           "mode": "markers",
           "name": "CHE",
           "orientation": "v",
           "showlegend": true,
           "type": "scatter",
           "x": [
            0.5630069875232764
           ],
           "xaxis": "x",
           "y": [
            2.6890194843719906
           ],
           "yaxis": "y"
          },
          {
           "hovertemplate": "<b>%{hovertext}</b><br><br>Country=TUR<br>Year=2017<br>Investments=%{x}<br>Passengers=%{y}<br>size=%{marker.size}<extra></extra>",
           "hovertext": [
            "TUR"
           ],
           "legendgroup": "TUR",
           "marker": {
            "color": "#19d3f3",
            "size": [
             20
            ],
            "sizemode": "area",
            "sizeref": 0.2,
            "symbol": "circle"
           },
           "mode": "markers",
           "name": "TUR",
           "orientation": "v",
           "showlegend": true,
           "type": "scatter",
           "x": [
            0.20673564455250779
           ],
           "xaxis": "x",
           "y": [
            11.488672380387111
           ],
           "yaxis": "y"
          },
          {
           "hovertemplate": "<b>%{hovertext}</b><br><br>Country=GBR<br>Year=2017<br>Investments=%{x}<br>Passengers=%{y}<br>size=%{marker.size}<extra></extra>",
           "hovertext": [
            "GBR"
           ],
           "legendgroup": "GBR",
           "marker": {
            "color": "#FF6692",
            "size": [
             20
            ],
            "sizemode": "area",
            "sizeref": 0.2,
            "symbol": "circle"
           },
           "mode": "markers",
           "name": "GBR",
           "orientation": "v",
           "showlegend": true,
           "type": "scatter",
           "x": [
            0.41308438350939153
           ],
           "xaxis": "x",
           "y": [
            2.375545173709992
           ],
           "yaxis": "y"
          }
         ],
         "name": "2017"
        },
        {
         "data": [
          {
           "hovertemplate": "<b>%{hovertext}</b><br><br>Country=AUS<br>Year=2018<br>Investments=%{x}<br>Passengers=%{y}<br>size=%{marker.size}<extra></extra>",
           "hovertext": [
            "AUS"
           ],
           "legendgroup": "AUS",
           "marker": {
            "color": "#636efa",
            "size": [
             20
            ],
            "sizemode": "area",
            "sizeref": 0.2,
            "symbol": "circle"
           },
           "mode": "markers",
           "name": "AUS",
           "orientation": "v",
           "showlegend": true,
           "type": "scatter",
           "x": [
            0.28686222670591877
           ],
           "xaxis": "x",
           "y": [
            -2.8404969169570027
           ],
           "yaxis": "y"
          },
          {
           "hovertemplate": "<b>%{hovertext}</b><br><br>Country=AZE<br>Year=2018<br>Investments=%{x}<br>Passengers=%{y}<br>size=%{marker.size}<extra></extra>",
           "hovertext": [
            "AZE"
           ],
           "legendgroup": "AZE",
           "marker": {
            "color": "#EF553B",
            "size": [
             20
            ],
            "sizemode": "area",
            "sizeref": 0.2,
            "symbol": "circle"
           },
           "mode": "markers",
           "name": "AZE",
           "orientation": "v",
           "showlegend": true,
           "type": "scatter",
           "x": [
            0.004023179196159074
           ],
           "xaxis": "x",
           "y": [
            9.39883929707026
           ],
           "yaxis": "y"
          },
          {
           "hovertemplate": "<b>%{hovertext}</b><br><br>Country=CZE<br>Year=2018<br>Investments=%{x}<br>Passengers=%{y}<br>size=%{marker.size}<extra></extra>",
           "hovertext": [
            "CZE"
           ],
           "legendgroup": "CZE",
           "marker": {
            "color": "#00cc96",
            "size": [
             20
            ],
            "sizemode": "area",
            "sizeref": 0.2,
            "symbol": "circle"
           },
           "mode": "markers",
           "name": "CZE",
           "orientation": "v",
           "showlegend": true,
           "type": "scatter",
           "x": [
            0.337014093086671
           ],
           "xaxis": "x",
           "y": [
            20.462771705963977
           ],
           "yaxis": "y"
          },
          {
           "hovertemplate": "<b>%{hovertext}</b><br><br>Country=FIN<br>Year=2018<br>Investments=%{x}<br>Passengers=%{y}<br>size=%{marker.size}<extra></extra>",
           "hovertext": [
            "FIN"
           ],
           "legendgroup": "FIN",
           "marker": {
            "color": "#ab63fa",
            "size": [
             20
            ],
            "sizemode": "area",
            "sizeref": 0.2,
            "symbol": "circle"
           },
           "mode": "markers",
           "name": "FIN",
           "orientation": "v",
           "showlegend": true,
           "type": "scatter",
           "x": [
            0.23677457090498377
           ],
           "xaxis": "x",
           "y": [
            1.5226337089617736
           ],
           "yaxis": "y"
          },
          {
           "hovertemplate": "<b>%{hovertext}</b><br><br>Country=FRA<br>Year=2018<br>Investments=%{x}<br>Passengers=%{y}<br>size=%{marker.size}<extra></extra>",
           "hovertext": [
            "FRA"
           ],
           "legendgroup": "FRA",
           "marker": {
            "color": "#FFA15A",
            "size": [
             20
            ],
            "sizemode": "area",
            "sizeref": 0.2,
            "symbol": "circle"
           },
           "mode": "markers",
           "name": "FRA",
           "orientation": "v",
           "showlegend": true,
           "type": "scatter",
           "x": [
            0.3705118606863179
           ],
           "xaxis": "x",
           "y": [
            3.7862710150438295
           ],
           "yaxis": "y"
          },
          {
           "hovertemplate": "<b>%{hovertext}</b><br><br>Country=DEU<br>Year=2018<br>Investments=%{x}<br>Passengers=%{y}<br>size=%{marker.size}<extra></extra>",
           "hovertext": [
            "DEU"
           ],
           "legendgroup": "DEU",
           "marker": {
            "color": "#19d3f3",
            "size": [
             20
            ],
            "sizemode": "area",
            "sizeref": 0.2,
            "symbol": "circle"
           },
           "mode": "markers",
           "name": "DEU",
           "orientation": "v",
           "showlegend": true,
           "type": "scatter",
           "x": [
            0.19177648447019974
           ],
           "xaxis": "x",
           "y": [
            -1.6222121938512246
           ],
           "yaxis": "y"
          },
          {
           "hovertemplate": "<b>%{hovertext}</b><br><br>Country=HUN<br>Year=2018<br>Investments=%{x}<br>Passengers=%{y}<br>size=%{marker.size}<extra></extra>",
           "hovertext": [
            "HUN"
           ],
           "legendgroup": "HUN",
           "marker": {
            "color": "#FF6692",
            "size": [
             20
            ],
            "sizemode": "area",
            "sizeref": 0.2,
            "symbol": "circle"
           },
           "mode": "markers",
           "name": "HUN",
           "orientation": "v",
           "showlegend": true,
           "type": "scatter",
           "x": [
            0.44275095481618143
           ],
           "xaxis": "x",
           "y": [
            21.541996669421913
           ],
           "yaxis": "y"
          },
          {
           "hovertemplate": "<b>%{hovertext}</b><br><br>Country=ITA<br>Year=2018<br>Investments=%{x}<br>Passengers=%{y}<br>size=%{marker.size}<extra></extra>",
           "hovertext": [
            "ITA"
           ],
           "legendgroup": "ITA",
           "marker": {
            "color": "#B6E880",
            "size": [
             20
            ],
            "sizemode": "area",
            "sizeref": 0.2,
            "symbol": "circle"
           },
           "mode": "markers",
           "name": "ITA",
           "orientation": "v",
           "showlegend": true,
           "type": "scatter",
           "x": [
            0.19810152305848275
           ],
           "xaxis": "x",
           "y": [
            15.143282648795985
           ],
           "yaxis": "y"
          },
          {
           "hovertemplate": "<b>%{hovertext}</b><br><br>Country=JPN<br>Year=2018<br>Investments=%{x}<br>Passengers=%{y}<br>size=%{marker.size}<extra></extra>",
           "hovertext": [
            "JPN"
           ],
           "legendgroup": "JPN",
           "marker": {
            "color": "#FF97FF",
            "size": [
             20
            ],
            "sizemode": "area",
            "sizeref": 0.2,
            "symbol": "circle"
           },
           "mode": "markers",
           "name": "JPN",
           "orientation": "v",
           "showlegend": true,
           "type": "scatter",
           "x": [
            0.21298720169436733
           ],
           "xaxis": "x",
           "y": [
            4.323694664688116
           ],
           "yaxis": "y"
          },
          {
           "hovertemplate": "<b>%{hovertext}</b><br><br>Country=NOR<br>Year=2018<br>Investments=%{x}<br>Passengers=%{y}<br>size=%{marker.size}<extra></extra>",
           "hovertext": [
            "NOR"
           ],
           "legendgroup": "NOR",
           "marker": {
            "color": "#FECB52",
            "size": [
             20
            ],
            "sizemode": "area",
            "sizeref": 0.2,
            "symbol": "circle"
           },
           "mode": "markers",
           "name": "NOR",
           "orientation": "v",
           "showlegend": true,
           "type": "scatter",
           "x": [
            0.3024846239130877
           ],
           "xaxis": "x",
           "y": [
            4.300864092758849
           ],
           "yaxis": "y"
          },
          {
           "hovertemplate": "<b>%{hovertext}</b><br><br>Country=POL<br>Year=2018<br>Investments=%{x}<br>Passengers=%{y}<br>size=%{marker.size}<extra></extra>",
           "hovertext": [
            "POL"
           ],
           "legendgroup": "POL",
           "marker": {
            "color": "#636efa",
            "size": [
             20
            ],
            "sizemode": "area",
            "sizeref": 0.2,
            "symbol": "circle"
           },
           "mode": "markers",
           "name": "POL",
           "orientation": "v",
           "showlegend": true,
           "type": "scatter",
           "x": [
            0.06291095540388648
           ],
           "xaxis": "x",
           "y": [
            13.682899448699848
           ],
           "yaxis": "y"
          },
          {
           "hovertemplate": "<b>%{hovertext}</b><br><br>Country=RUS<br>Year=2018<br>Investments=%{x}<br>Passengers=%{y}<br>size=%{marker.size}<extra></extra>",
           "hovertext": [
            "RUS"
           ],
           "legendgroup": "RUS",
           "marker": {
            "color": "#EF553B",
            "size": [
             20
            ],
            "sizemode": "area",
            "sizeref": 0.2,
            "symbol": "circle"
           },
           "mode": "markers",
           "name": "RUS",
           "orientation": "v",
           "showlegend": true,
           "type": "scatter",
           "x": [
            0.36172666575696966
           ],
           "xaxis": "x",
           "y": [
            -4.167132474542279
           ],
           "yaxis": "y"
          },
          {
           "hovertemplate": "<b>%{hovertext}</b><br><br>Country=ESP<br>Year=2018<br>Investments=%{x}<br>Passengers=%{y}<br>size=%{marker.size}<extra></extra>",
           "hovertext": [
            "ESP"
           ],
           "legendgroup": "ESP",
           "marker": {
            "color": "#00cc96",
            "size": [
             20
            ],
            "sizemode": "area",
            "sizeref": 0.2,
            "symbol": "circle"
           },
           "mode": "markers",
           "name": "ESP",
           "orientation": "v",
           "showlegend": true,
           "type": "scatter",
           "x": [
            0.19849640381534972
           ],
           "xaxis": "x",
           "y": [
            0.23401838381580387
           ],
           "yaxis": "y"
          },
          {
           "hovertemplate": "<b>%{hovertext}</b><br><br>Country=SWE<br>Year=2018<br>Investments=%{x}<br>Passengers=%{y}<br>size=%{marker.size}<extra></extra>",
           "hovertext": [
            "SWE"
           ],
           "legendgroup": "SWE",
           "marker": {
            "color": "#ab63fa",
            "size": [
             20
            ],
            "sizemode": "area",
            "sizeref": 0.2,
            "symbol": "circle"
           },
           "mode": "markers",
           "name": "SWE",
           "orientation": "v",
           "showlegend": true,
           "type": "scatter",
           "x": [
            0.29197419169194816
           ],
           "xaxis": "x",
           "y": [
            -14.255967942599156
           ],
           "yaxis": "y"
          },
          {
           "hovertemplate": "<b>%{hovertext}</b><br><br>Country=CHE<br>Year=2018<br>Investments=%{x}<br>Passengers=%{y}<br>size=%{marker.size}<extra></extra>",
           "hovertext": [
            "CHE"
           ],
           "legendgroup": "CHE",
           "marker": {
            "color": "#FFA15A",
            "size": [
             20
            ],
            "sizemode": "area",
            "sizeref": 0.2,
            "symbol": "circle"
           },
           "mode": "markers",
           "name": "CHE",
           "orientation": "v",
           "showlegend": true,
           "type": "scatter",
           "x": [
            0.5512361319905964
           ],
           "xaxis": "x",
           "y": [
            2.8518172943627684
           ],
           "yaxis": "y"
          },
          {
           "hovertemplate": "<b>%{hovertext}</b><br><br>Country=TUR<br>Year=2018<br>Investments=%{x}<br>Passengers=%{y}<br>size=%{marker.size}<extra></extra>",
           "hovertext": [
            "TUR"
           ],
           "legendgroup": "TUR",
           "marker": {
            "color": "#19d3f3",
            "size": [
             20
            ],
            "sizemode": "area",
            "sizeref": 0.2,
            "symbol": "circle"
           },
           "mode": "markers",
           "name": "TUR",
           "orientation": "v",
           "showlegend": true,
           "type": "scatter",
           "x": [
            0.21187200147578672
           ],
           "xaxis": "x",
           "y": [
            13.570590849461905
           ],
           "yaxis": "y"
          },
          {
           "hovertemplate": "<b>%{hovertext}</b><br><br>Country=GBR<br>Year=2018<br>Investments=%{x}<br>Passengers=%{y}<br>size=%{marker.size}<extra></extra>",
           "hovertext": [
            "GBR"
           ],
           "legendgroup": "GBR",
           "marker": {
            "color": "#FF6692",
            "size": [
             20
            ],
            "sizemode": "area",
            "sizeref": 0.2,
            "symbol": "circle"
           },
           "mode": "markers",
           "name": "GBR",
           "orientation": "v",
           "showlegend": true,
           "type": "scatter",
           "x": [
            0.44837653894780444
           ],
           "xaxis": "x",
           "y": [
            4.711069823372838
           ],
           "yaxis": "y"
          }
         ],
         "name": "2018"
        },
        {
         "data": [
          {
           "hovertemplate": "<b>%{hovertext}</b><br><br>Country=AUS<br>Year=2019<br>Investments=%{x}<br>Passengers=%{y}<br>size=%{marker.size}<extra></extra>",
           "hovertext": [
            "AUS"
           ],
           "legendgroup": "AUS",
           "marker": {
            "color": "#636efa",
            "size": [
             20
            ],
            "sizemode": "area",
            "sizeref": 0.2,
            "symbol": "circle"
           },
           "mode": "markers",
           "name": "AUS",
           "orientation": "v",
           "showlegend": true,
           "type": "scatter",
           "x": [
            0.2812068173459117
           ],
           "xaxis": "x",
           "y": [
            -4.642104192498653
           ],
           "yaxis": "y"
          },
          {
           "hovertemplate": "<b>%{hovertext}</b><br><br>Country=AZE<br>Year=2019<br>Investments=%{x}<br>Passengers=%{y}<br>size=%{marker.size}<extra></extra>",
           "hovertext": [
            "AZE"
           ],
           "legendgroup": "AZE",
           "marker": {
            "color": "#EF553B",
            "size": [
             20
            ],
            "sizemode": "area",
            "sizeref": 0.2,
            "symbol": "circle"
           },
           "mode": "markers",
           "name": "AZE",
           "orientation": "v",
           "showlegend": true,
           "type": "scatter",
           "x": [
            0.004490741928911914
           ],
           "xaxis": "x",
           "y": [
            7.451012399984447
           ],
           "yaxis": "y"
          },
          {
           "hovertemplate": "<b>%{hovertext}</b><br><br>Country=CZE<br>Year=2019<br>Investments=%{x}<br>Passengers=%{y}<br>size=%{marker.size}<extra></extra>",
           "hovertext": [
            "CZE"
           ],
           "legendgroup": "CZE",
           "marker": {
            "color": "#00cc96",
            "size": [
             20
            ],
            "sizemode": "area",
            "sizeref": 0.2,
            "symbol": "circle"
           },
           "mode": "markers",
           "name": "CZE",
           "orientation": "v",
           "showlegend": true,
           "type": "scatter",
           "x": [
            0.3664356799465235
           ],
           "xaxis": "x",
           "y": [
            20.04002130175049
           ],
           "yaxis": "y"
          },
          {
           "hovertemplate": "<b>%{hovertext}</b><br><br>Country=FIN<br>Year=2019<br>Investments=%{x}<br>Passengers=%{y}<br>size=%{marker.size}<extra></extra>",
           "hovertext": [
            "FIN"
           ],
           "legendgroup": "FIN",
           "marker": {
            "color": "#ab63fa",
            "size": [
             20
            ],
            "sizemode": "area",
            "sizeref": 0.2,
            "symbol": "circle"
           },
           "mode": "markers",
           "name": "FIN",
           "orientation": "v",
           "showlegend": true,
           "type": "scatter",
           "x": [
            0.2272274800107339
           ],
           "xaxis": "x",
           "y": [
            1.1317770626635415
           ],
           "yaxis": "y"
          },
          {
           "hovertemplate": "<b>%{hovertext}</b><br><br>Country=FRA<br>Year=2019<br>Investments=%{x}<br>Passengers=%{y}<br>size=%{marker.size}<extra></extra>",
           "hovertext": [
            "FRA"
           ],
           "legendgroup": "FRA",
           "marker": {
            "color": "#FFA15A",
            "size": [
             20
            ],
            "sizemode": "area",
            "sizeref": 0.2,
            "symbol": "circle"
           },
           "mode": "markers",
           "name": "FRA",
           "orientation": "v",
           "showlegend": true,
           "type": "scatter",
           "x": [
            0.36969317675087565
           ],
           "xaxis": "x",
           "y": [
            2.046163956907554
           ],
           "yaxis": "y"
          },
          {
           "hovertemplate": "<b>%{hovertext}</b><br><br>Country=DEU<br>Year=2019<br>Investments=%{x}<br>Passengers=%{y}<br>size=%{marker.size}<extra></extra>",
           "hovertext": [
            "DEU"
           ],
           "legendgroup": "DEU",
           "marker": {
            "color": "#19d3f3",
            "size": [
             20
            ],
            "sizemode": "area",
            "sizeref": 0.2,
            "symbol": "circle"
           },
           "mode": "markers",
           "name": "DEU",
           "orientation": "v",
           "showlegend": true,
           "type": "scatter",
           "x": [
            0.19944041907257776
           ],
           "xaxis": "x",
           "y": [
            -2.9096643230675845
           ],
           "yaxis": "y"
          },
          {
           "hovertemplate": "<b>%{hovertext}</b><br><br>Country=HUN<br>Year=2019<br>Investments=%{x}<br>Passengers=%{y}<br>size=%{marker.size}<extra></extra>",
           "hovertext": [
            "HUN"
           ],
           "legendgroup": "HUN",
           "marker": {
            "color": "#FF6692",
            "size": [
             20
            ],
            "sizemode": "area",
            "sizeref": 0.2,
            "symbol": "circle"
           },
           "mode": "markers",
           "name": "HUN",
           "orientation": "v",
           "showlegend": true,
           "type": "scatter",
           "x": [
            0.4512986529673458
           ],
           "xaxis": "x",
           "y": [
            23.42697309880677
           ],
           "yaxis": "y"
          },
          {
           "hovertemplate": "<b>%{hovertext}</b><br><br>Country=ITA<br>Year=2019<br>Investments=%{x}<br>Passengers=%{y}<br>size=%{marker.size}<extra></extra>",
           "hovertext": [
            "ITA"
           ],
           "legendgroup": "ITA",
           "marker": {
            "color": "#B6E880",
            "size": [
             20
            ],
            "sizemode": "area",
            "sizeref": 0.2,
            "symbol": "circle"
           },
           "mode": "markers",
           "name": "ITA",
           "orientation": "v",
           "showlegend": true,
           "type": "scatter",
           "x": [
            0.18649602807969967
           ],
           "xaxis": "x",
           "y": [
            13.31980800183883
           ],
           "yaxis": "y"
          },
          {
           "hovertemplate": "<b>%{hovertext}</b><br><br>Country=JPN<br>Year=2019<br>Investments=%{x}<br>Passengers=%{y}<br>size=%{marker.size}<extra></extra>",
           "hovertext": [
            "JPN"
           ],
           "legendgroup": "JPN",
           "marker": {
            "color": "#FF97FF",
            "size": [
             20
            ],
            "sizemode": "area",
            "sizeref": 0.2,
            "symbol": "circle"
           },
           "mode": "markers",
           "name": "JPN",
           "orientation": "v",
           "showlegend": true,
           "type": "scatter",
           "x": [
            0.23901696620569363
           ],
           "xaxis": "x",
           "y": [
            5.1876547827199415
           ],
           "yaxis": "y"
          },
          {
           "hovertemplate": "<b>%{hovertext}</b><br><br>Country=NOR<br>Year=2019<br>Investments=%{x}<br>Passengers=%{y}<br>size=%{marker.size}<extra></extra>",
           "hovertext": [
            "NOR"
           ],
           "legendgroup": "NOR",
           "marker": {
            "color": "#FECB52",
            "size": [
             20
            ],
            "sizemode": "area",
            "sizeref": 0.2,
            "symbol": "circle"
           },
           "mode": "markers",
           "name": "NOR",
           "orientation": "v",
           "showlegend": true,
           "type": "scatter",
           "x": [
            0.3319166391258518
           ],
           "xaxis": "x",
           "y": [
            2.50142695878266
           ],
           "yaxis": "y"
          },
          {
           "hovertemplate": "<b>%{hovertext}</b><br><br>Country=POL<br>Year=2019<br>Investments=%{x}<br>Passengers=%{y}<br>size=%{marker.size}<extra></extra>",
           "hovertext": [
            "POL"
           ],
           "legendgroup": "POL",
           "marker": {
            "color": "#636efa",
            "size": [
             20
            ],
            "sizemode": "area",
            "sizeref": 0.2,
            "symbol": "circle"
           },
           "mode": "markers",
           "name": "POL",
           "orientation": "v",
           "showlegend": true,
           "type": "scatter",
           "x": [
            0.06869871797647562
           ],
           "xaxis": "x",
           "y": [
            13.936554779768429
           ],
           "yaxis": "y"
          },
          {
           "hovertemplate": "<b>%{hovertext}</b><br><br>Country=RUS<br>Year=2019<br>Investments=%{x}<br>Passengers=%{y}<br>size=%{marker.size}<extra></extra>",
           "hovertext": [
            "RUS"
           ],
           "legendgroup": "RUS",
           "marker": {
            "color": "#EF553B",
            "size": [
             20
            ],
            "sizemode": "area",
            "sizeref": 0.2,
            "symbol": "circle"
           },
           "mode": "markers",
           "name": "RUS",
           "orientation": "v",
           "showlegend": true,
           "type": "scatter",
           "x": [
            0.3269864685571015
           ],
           "xaxis": "x",
           "y": [
            -5.206196088287262
           ],
           "yaxis": "y"
          },
          {
           "hovertemplate": "<b>%{hovertext}</b><br><br>Country=ESP<br>Year=2019<br>Investments=%{x}<br>Passengers=%{y}<br>size=%{marker.size}<extra></extra>",
           "hovertext": [
            "ESP"
           ],
           "legendgroup": "ESP",
           "marker": {
            "color": "#00cc96",
            "size": [
             20
            ],
            "sizemode": "area",
            "sizeref": 0.2,
            "symbol": "circle"
           },
           "mode": "markers",
           "name": "ESP",
           "orientation": "v",
           "showlegend": true,
           "type": "scatter",
           "x": [
            0.18868826706917607
           ],
           "xaxis": "x",
           "y": [
            6.253448091809677
           ],
           "yaxis": "y"
          },
          {
           "hovertemplate": "<b>%{hovertext}</b><br><br>Country=SWE<br>Year=2019<br>Investments=%{x}<br>Passengers=%{y}<br>size=%{marker.size}<extra></extra>",
           "hovertext": [
            "SWE"
           ],
           "legendgroup": "SWE",
           "marker": {
            "color": "#ab63fa",
            "size": [
             20
            ],
            "sizemode": "area",
            "sizeref": 0.2,
            "symbol": "circle"
           },
           "mode": "markers",
           "name": "SWE",
           "orientation": "v",
           "showlegend": true,
           "type": "scatter",
           "x": [
            0.29615314562853695
           ],
           "xaxis": "x",
           "y": [
            -16.218089341499066
           ],
           "yaxis": "y"
          },
          {
           "hovertemplate": "<b>%{hovertext}</b><br><br>Country=CHE<br>Year=2019<br>Investments=%{x}<br>Passengers=%{y}<br>size=%{marker.size}<extra></extra>",
           "hovertext": [
            "CHE"
           ],
           "legendgroup": "CHE",
           "marker": {
            "color": "#FFA15A",
            "size": [
             20
            ],
            "sizemode": "area",
            "sizeref": 0.2,
            "symbol": "circle"
           },
           "mode": "markers",
           "name": "CHE",
           "orientation": "v",
           "showlegend": true,
           "type": "scatter",
           "x": [
            0.5311907905654747
           ],
           "xaxis": "x",
           "y": [
            3.1438645363614404
           ],
           "yaxis": "y"
          },
          {
           "hovertemplate": "<b>%{hovertext}</b><br><br>Country=TUR<br>Year=2019<br>Investments=%{x}<br>Passengers=%{y}<br>size=%{marker.size}<extra></extra>",
           "hovertext": [
            "TUR"
           ],
           "legendgroup": "TUR",
           "marker": {
            "color": "#19d3f3",
            "size": [
             20
            ],
            "sizemode": "area",
            "sizeref": 0.2,
            "symbol": "circle"
           },
           "mode": "markers",
           "name": "TUR",
           "orientation": "v",
           "showlegend": true,
           "type": "scatter",
           "x": [
            0.21244366243685514
           ],
           "xaxis": "x",
           "y": [
            15.099097270216234
           ],
           "yaxis": "y"
          },
          {
           "hovertemplate": "<b>%{hovertext}</b><br><br>Country=GBR<br>Year=2019<br>Investments=%{x}<br>Passengers=%{y}<br>size=%{marker.size}<extra></extra>",
           "hovertext": [
            "GBR"
           ],
           "legendgroup": "GBR",
           "marker": {
            "color": "#FF6692",
            "size": [
             20
            ],
            "sizemode": "area",
            "sizeref": 0.2,
            "symbol": "circle"
           },
           "mode": "markers",
           "name": "GBR",
           "orientation": "v",
           "showlegend": true,
           "type": "scatter",
           "x": [
            0.4837915909363443
           ],
           "xaxis": "x",
           "y": [
            4.306370989746777
           ],
           "yaxis": "y"
          }
         ],
         "name": "2019"
        }
       ],
       "layout": {
        "legend": {
         "itemsizing": "constant",
         "title": {
          "text": "Country"
         },
         "tracegroupgap": 0
        },
        "margin": {
         "t": 60
        },
        "sliders": [
         {
          "active": 0,
          "currentvalue": {
           "prefix": "Year="
          },
          "len": 0.9,
          "pad": {
           "b": 10,
           "t": 60
          },
          "steps": [
           {
            "args": [
             [
              "2004"
             ],
             {
              "frame": {
               "duration": 0,
               "redraw": false
              },
              "fromcurrent": true,
              "mode": "immediate",
              "transition": {
               "duration": 0,
               "easing": "linear"
              }
             }
            ],
            "label": "2004",
            "method": "animate"
           },
           {
            "args": [
             [
              "2005"
             ],
             {
              "frame": {
               "duration": 0,
               "redraw": false
              },
              "fromcurrent": true,
              "mode": "immediate",
              "transition": {
               "duration": 0,
               "easing": "linear"
              }
             }
            ],
            "label": "2005",
            "method": "animate"
           },
           {
            "args": [
             [
              "2006"
             ],
             {
              "frame": {
               "duration": 0,
               "redraw": false
              },
              "fromcurrent": true,
              "mode": "immediate",
              "transition": {
               "duration": 0,
               "easing": "linear"
              }
             }
            ],
            "label": "2006",
            "method": "animate"
           },
           {
            "args": [
             [
              "2007"
             ],
             {
              "frame": {
               "duration": 0,
               "redraw": false
              },
              "fromcurrent": true,
              "mode": "immediate",
              "transition": {
               "duration": 0,
               "easing": "linear"
              }
             }
            ],
            "label": "2007",
            "method": "animate"
           },
           {
            "args": [
             [
              "2008"
             ],
             {
              "frame": {
               "duration": 0,
               "redraw": false
              },
              "fromcurrent": true,
              "mode": "immediate",
              "transition": {
               "duration": 0,
               "easing": "linear"
              }
             }
            ],
            "label": "2008",
            "method": "animate"
           },
           {
            "args": [
             [
              "2009"
             ],
             {
              "frame": {
               "duration": 0,
               "redraw": false
              },
              "fromcurrent": true,
              "mode": "immediate",
              "transition": {
               "duration": 0,
               "easing": "linear"
              }
             }
            ],
            "label": "2009",
            "method": "animate"
           },
           {
            "args": [
             [
              "2010"
             ],
             {
              "frame": {
               "duration": 0,
               "redraw": false
              },
              "fromcurrent": true,
              "mode": "immediate",
              "transition": {
               "duration": 0,
               "easing": "linear"
              }
             }
            ],
            "label": "2010",
            "method": "animate"
           },
           {
            "args": [
             [
              "2011"
             ],
             {
              "frame": {
               "duration": 0,
               "redraw": false
              },
              "fromcurrent": true,
              "mode": "immediate",
              "transition": {
               "duration": 0,
               "easing": "linear"
              }
             }
            ],
            "label": "2011",
            "method": "animate"
           },
           {
            "args": [
             [
              "2012"
             ],
             {
              "frame": {
               "duration": 0,
               "redraw": false
              },
              "fromcurrent": true,
              "mode": "immediate",
              "transition": {
               "duration": 0,
               "easing": "linear"
              }
             }
            ],
            "label": "2012",
            "method": "animate"
           },
           {
            "args": [
             [
              "2013"
             ],
             {
              "frame": {
               "duration": 0,
               "redraw": false
              },
              "fromcurrent": true,
              "mode": "immediate",
              "transition": {
               "duration": 0,
               "easing": "linear"
              }
             }
            ],
            "label": "2013",
            "method": "animate"
           },
           {
            "args": [
             [
              "2014"
             ],
             {
              "frame": {
               "duration": 0,
               "redraw": false
              },
              "fromcurrent": true,
              "mode": "immediate",
              "transition": {
               "duration": 0,
               "easing": "linear"
              }
             }
            ],
            "label": "2014",
            "method": "animate"
           },
           {
            "args": [
             [
              "2015"
             ],
             {
              "frame": {
               "duration": 0,
               "redraw": false
              },
              "fromcurrent": true,
              "mode": "immediate",
              "transition": {
               "duration": 0,
               "easing": "linear"
              }
             }
            ],
            "label": "2015",
            "method": "animate"
           },
           {
            "args": [
             [
              "2016"
             ],
             {
              "frame": {
               "duration": 0,
               "redraw": false
              },
              "fromcurrent": true,
              "mode": "immediate",
              "transition": {
               "duration": 0,
               "easing": "linear"
              }
             }
            ],
            "label": "2016",
            "method": "animate"
           },
           {
            "args": [
             [
              "2017"
             ],
             {
              "frame": {
               "duration": 0,
               "redraw": false
              },
              "fromcurrent": true,
              "mode": "immediate",
              "transition": {
               "duration": 0,
               "easing": "linear"
              }
             }
            ],
            "label": "2017",
            "method": "animate"
           },
           {
            "args": [
             [
              "2018"
             ],
             {
              "frame": {
               "duration": 0,
               "redraw": false
              },
              "fromcurrent": true,
              "mode": "immediate",
              "transition": {
               "duration": 0,
               "easing": "linear"
              }
             }
            ],
            "label": "2018",
            "method": "animate"
           },
           {
            "args": [
             [
              "2019"
             ],
             {
              "frame": {
               "duration": 0,
               "redraw": false
              },
              "fromcurrent": true,
              "mode": "immediate",
              "transition": {
               "duration": 0,
               "easing": "linear"
              }
             }
            ],
            "label": "2019",
            "method": "animate"
           }
          ],
          "x": 0.1,
          "xanchor": "left",
          "y": 0,
          "yanchor": "top"
         }
        ],
        "template": {
         "data": {
          "bar": [
           {
            "error_x": {
             "color": "#2a3f5f"
            },
            "error_y": {
             "color": "#2a3f5f"
            },
            "marker": {
             "line": {
              "color": "#E5ECF6",
              "width": 0.5
             },
             "pattern": {
              "fillmode": "overlay",
              "size": 10,
              "solidity": 0.2
             }
            },
            "type": "bar"
           }
          ],
          "barpolar": [
           {
            "marker": {
             "line": {
              "color": "#E5ECF6",
              "width": 0.5
             },
             "pattern": {
              "fillmode": "overlay",
              "size": 10,
              "solidity": 0.2
             }
            },
            "type": "barpolar"
           }
          ],
          "carpet": [
           {
            "aaxis": {
             "endlinecolor": "#2a3f5f",
             "gridcolor": "white",
             "linecolor": "white",
             "minorgridcolor": "white",
             "startlinecolor": "#2a3f5f"
            },
            "baxis": {
             "endlinecolor": "#2a3f5f",
             "gridcolor": "white",
             "linecolor": "white",
             "minorgridcolor": "white",
             "startlinecolor": "#2a3f5f"
            },
            "type": "carpet"
           }
          ],
          "choropleth": [
           {
            "colorbar": {
             "outlinewidth": 0,
             "ticks": ""
            },
            "type": "choropleth"
           }
          ],
          "contour": [
           {
            "colorbar": {
             "outlinewidth": 0,
             "ticks": ""
            },
            "colorscale": [
             [
              0,
              "#0d0887"
             ],
             [
              0.1111111111111111,
              "#46039f"
             ],
             [
              0.2222222222222222,
              "#7201a8"
             ],
             [
              0.3333333333333333,
              "#9c179e"
             ],
             [
              0.4444444444444444,
              "#bd3786"
             ],
             [
              0.5555555555555556,
              "#d8576b"
             ],
             [
              0.6666666666666666,
              "#ed7953"
             ],
             [
              0.7777777777777778,
              "#fb9f3a"
             ],
             [
              0.8888888888888888,
              "#fdca26"
             ],
             [
              1,
              "#f0f921"
             ]
            ],
            "type": "contour"
           }
          ],
          "contourcarpet": [
           {
            "colorbar": {
             "outlinewidth": 0,
             "ticks": ""
            },
            "type": "contourcarpet"
           }
          ],
          "heatmap": [
           {
            "colorbar": {
             "outlinewidth": 0,
             "ticks": ""
            },
            "colorscale": [
             [
              0,
              "#0d0887"
             ],
             [
              0.1111111111111111,
              "#46039f"
             ],
             [
              0.2222222222222222,
              "#7201a8"
             ],
             [
              0.3333333333333333,
              "#9c179e"
             ],
             [
              0.4444444444444444,
              "#bd3786"
             ],
             [
              0.5555555555555556,
              "#d8576b"
             ],
             [
              0.6666666666666666,
              "#ed7953"
             ],
             [
              0.7777777777777778,
              "#fb9f3a"
             ],
             [
              0.8888888888888888,
              "#fdca26"
             ],
             [
              1,
              "#f0f921"
             ]
            ],
            "type": "heatmap"
           }
          ],
          "heatmapgl": [
           {
            "colorbar": {
             "outlinewidth": 0,
             "ticks": ""
            },
            "colorscale": [
             [
              0,
              "#0d0887"
             ],
             [
              0.1111111111111111,
              "#46039f"
             ],
             [
              0.2222222222222222,
              "#7201a8"
             ],
             [
              0.3333333333333333,
              "#9c179e"
             ],
             [
              0.4444444444444444,
              "#bd3786"
             ],
             [
              0.5555555555555556,
              "#d8576b"
             ],
             [
              0.6666666666666666,
              "#ed7953"
             ],
             [
              0.7777777777777778,
              "#fb9f3a"
             ],
             [
              0.8888888888888888,
              "#fdca26"
             ],
             [
              1,
              "#f0f921"
             ]
            ],
            "type": "heatmapgl"
           }
          ],
          "histogram": [
           {
            "marker": {
             "pattern": {
              "fillmode": "overlay",
              "size": 10,
              "solidity": 0.2
             }
            },
            "type": "histogram"
           }
          ],
          "histogram2d": [
           {
            "colorbar": {
             "outlinewidth": 0,
             "ticks": ""
            },
            "colorscale": [
             [
              0,
              "#0d0887"
             ],
             [
              0.1111111111111111,
              "#46039f"
             ],
             [
              0.2222222222222222,
              "#7201a8"
             ],
             [
              0.3333333333333333,
              "#9c179e"
             ],
             [
              0.4444444444444444,
              "#bd3786"
             ],
             [
              0.5555555555555556,
              "#d8576b"
             ],
             [
              0.6666666666666666,
              "#ed7953"
             ],
             [
              0.7777777777777778,
              "#fb9f3a"
             ],
             [
              0.8888888888888888,
              "#fdca26"
             ],
             [
              1,
              "#f0f921"
             ]
            ],
            "type": "histogram2d"
           }
          ],
          "histogram2dcontour": [
           {
            "colorbar": {
             "outlinewidth": 0,
             "ticks": ""
            },
            "colorscale": [
             [
              0,
              "#0d0887"
             ],
             [
              0.1111111111111111,
              "#46039f"
             ],
             [
              0.2222222222222222,
              "#7201a8"
             ],
             [
              0.3333333333333333,
              "#9c179e"
             ],
             [
              0.4444444444444444,
              "#bd3786"
             ],
             [
              0.5555555555555556,
              "#d8576b"
             ],
             [
              0.6666666666666666,
              "#ed7953"
             ],
             [
              0.7777777777777778,
              "#fb9f3a"
             ],
             [
              0.8888888888888888,
              "#fdca26"
             ],
             [
              1,
              "#f0f921"
             ]
            ],
            "type": "histogram2dcontour"
           }
          ],
          "mesh3d": [
           {
            "colorbar": {
             "outlinewidth": 0,
             "ticks": ""
            },
            "type": "mesh3d"
           }
          ],
          "parcoords": [
           {
            "line": {
             "colorbar": {
              "outlinewidth": 0,
              "ticks": ""
             }
            },
            "type": "parcoords"
           }
          ],
          "pie": [
           {
            "automargin": true,
            "type": "pie"
           }
          ],
          "scatter": [
           {
            "fillpattern": {
             "fillmode": "overlay",
             "size": 10,
             "solidity": 0.2
            },
            "type": "scatter"
           }
          ],
          "scatter3d": [
           {
            "line": {
             "colorbar": {
              "outlinewidth": 0,
              "ticks": ""
             }
            },
            "marker": {
             "colorbar": {
              "outlinewidth": 0,
              "ticks": ""
             }
            },
            "type": "scatter3d"
           }
          ],
          "scattercarpet": [
           {
            "marker": {
             "colorbar": {
              "outlinewidth": 0,
              "ticks": ""
             }
            },
            "type": "scattercarpet"
           }
          ],
          "scattergeo": [
           {
            "marker": {
             "colorbar": {
              "outlinewidth": 0,
              "ticks": ""
             }
            },
            "type": "scattergeo"
           }
          ],
          "scattergl": [
           {
            "marker": {
             "colorbar": {
              "outlinewidth": 0,
              "ticks": ""
             }
            },
            "type": "scattergl"
           }
          ],
          "scattermapbox": [
           {
            "marker": {
             "colorbar": {
              "outlinewidth": 0,
              "ticks": ""
             }
            },
            "type": "scattermapbox"
           }
          ],
          "scatterpolar": [
           {
            "marker": {
             "colorbar": {
              "outlinewidth": 0,
              "ticks": ""
             }
            },
            "type": "scatterpolar"
           }
          ],
          "scatterpolargl": [
           {
            "marker": {
             "colorbar": {
              "outlinewidth": 0,
              "ticks": ""
             }
            },
            "type": "scatterpolargl"
           }
          ],
          "scatterternary": [
           {
            "marker": {
             "colorbar": {
              "outlinewidth": 0,
              "ticks": ""
             }
            },
            "type": "scatterternary"
           }
          ],
          "surface": [
           {
            "colorbar": {
             "outlinewidth": 0,
             "ticks": ""
            },
            "colorscale": [
             [
              0,
              "#0d0887"
             ],
             [
              0.1111111111111111,
              "#46039f"
             ],
             [
              0.2222222222222222,
              "#7201a8"
             ],
             [
              0.3333333333333333,
              "#9c179e"
             ],
             [
              0.4444444444444444,
              "#bd3786"
             ],
             [
              0.5555555555555556,
              "#d8576b"
             ],
             [
              0.6666666666666666,
              "#ed7953"
             ],
             [
              0.7777777777777778,
              "#fb9f3a"
             ],
             [
              0.8888888888888888,
              "#fdca26"
             ],
             [
              1,
              "#f0f921"
             ]
            ],
            "type": "surface"
           }
          ],
          "table": [
           {
            "cells": {
             "fill": {
              "color": "#EBF0F8"
             },
             "line": {
              "color": "white"
             }
            },
            "header": {
             "fill": {
              "color": "#C8D4E3"
             },
             "line": {
              "color": "white"
             }
            },
            "type": "table"
           }
          ]
         },
         "layout": {
          "annotationdefaults": {
           "arrowcolor": "#2a3f5f",
           "arrowhead": 0,
           "arrowwidth": 1
          },
          "autotypenumbers": "strict",
          "coloraxis": {
           "colorbar": {
            "outlinewidth": 0,
            "ticks": ""
           }
          },
          "colorscale": {
           "diverging": [
            [
             0,
             "#8e0152"
            ],
            [
             0.1,
             "#c51b7d"
            ],
            [
             0.2,
             "#de77ae"
            ],
            [
             0.3,
             "#f1b6da"
            ],
            [
             0.4,
             "#fde0ef"
            ],
            [
             0.5,
             "#f7f7f7"
            ],
            [
             0.6,
             "#e6f5d0"
            ],
            [
             0.7,
             "#b8e186"
            ],
            [
             0.8,
             "#7fbc41"
            ],
            [
             0.9,
             "#4d9221"
            ],
            [
             1,
             "#276419"
            ]
           ],
           "sequential": [
            [
             0,
             "#0d0887"
            ],
            [
             0.1111111111111111,
             "#46039f"
            ],
            [
             0.2222222222222222,
             "#7201a8"
            ],
            [
             0.3333333333333333,
             "#9c179e"
            ],
            [
             0.4444444444444444,
             "#bd3786"
            ],
            [
             0.5555555555555556,
             "#d8576b"
            ],
            [
             0.6666666666666666,
             "#ed7953"
            ],
            [
             0.7777777777777778,
             "#fb9f3a"
            ],
            [
             0.8888888888888888,
             "#fdca26"
            ],
            [
             1,
             "#f0f921"
            ]
           ],
           "sequentialminus": [
            [
             0,
             "#0d0887"
            ],
            [
             0.1111111111111111,
             "#46039f"
            ],
            [
             0.2222222222222222,
             "#7201a8"
            ],
            [
             0.3333333333333333,
             "#9c179e"
            ],
            [
             0.4444444444444444,
             "#bd3786"
            ],
            [
             0.5555555555555556,
             "#d8576b"
            ],
            [
             0.6666666666666666,
             "#ed7953"
            ],
            [
             0.7777777777777778,
             "#fb9f3a"
            ],
            [
             0.8888888888888888,
             "#fdca26"
            ],
            [
             1,
             "#f0f921"
            ]
           ]
          },
          "colorway": [
           "#636efa",
           "#EF553B",
           "#00cc96",
           "#ab63fa",
           "#FFA15A",
           "#19d3f3",
           "#FF6692",
           "#B6E880",
           "#FF97FF",
           "#FECB52"
          ],
          "font": {
           "color": "#2a3f5f"
          },
          "geo": {
           "bgcolor": "white",
           "lakecolor": "white",
           "landcolor": "#E5ECF6",
           "showlakes": true,
           "showland": true,
           "subunitcolor": "white"
          },
          "hoverlabel": {
           "align": "left"
          },
          "hovermode": "closest",
          "mapbox": {
           "style": "light"
          },
          "paper_bgcolor": "white",
          "plot_bgcolor": "#E5ECF6",
          "polar": {
           "angularaxis": {
            "gridcolor": "white",
            "linecolor": "white",
            "ticks": ""
           },
           "bgcolor": "#E5ECF6",
           "radialaxis": {
            "gridcolor": "white",
            "linecolor": "white",
            "ticks": ""
           }
          },
          "scene": {
           "xaxis": {
            "backgroundcolor": "#E5ECF6",
            "gridcolor": "white",
            "gridwidth": 2,
            "linecolor": "white",
            "showbackground": true,
            "ticks": "",
            "zerolinecolor": "white"
           },
           "yaxis": {
            "backgroundcolor": "#E5ECF6",
            "gridcolor": "white",
            "gridwidth": 2,
            "linecolor": "white",
            "showbackground": true,
            "ticks": "",
            "zerolinecolor": "white"
           },
           "zaxis": {
            "backgroundcolor": "#E5ECF6",
            "gridcolor": "white",
            "gridwidth": 2,
            "linecolor": "white",
            "showbackground": true,
            "ticks": "",
            "zerolinecolor": "white"
           }
          },
          "shapedefaults": {
           "line": {
            "color": "#2a3f5f"
           }
          },
          "ternary": {
           "aaxis": {
            "gridcolor": "white",
            "linecolor": "white",
            "ticks": ""
           },
           "baxis": {
            "gridcolor": "white",
            "linecolor": "white",
            "ticks": ""
           },
           "bgcolor": "#E5ECF6",
           "caxis": {
            "gridcolor": "white",
            "linecolor": "white",
            "ticks": ""
           }
          },
          "title": {
           "x": 0.05
          },
          "xaxis": {
           "automargin": true,
           "gridcolor": "white",
           "linecolor": "white",
           "ticks": "",
           "title": {
            "standoff": 15
           },
           "zerolinecolor": "white",
           "zerolinewidth": 2
          },
          "yaxis": {
           "automargin": true,
           "gridcolor": "white",
           "linecolor": "white",
           "ticks": "",
           "title": {
            "standoff": 15
           },
           "zerolinecolor": "white",
           "zerolinewidth": 2
          }
         }
        },
        "title": {
         "text": "Investments vs. Passengers Over the Years"
        },
        "updatemenus": [
         {
          "buttons": [
           {
            "args": [
             null,
             {
              "frame": {
               "duration": 500,
               "redraw": false
              },
              "fromcurrent": true,
              "mode": "immediate",
              "transition": {
               "duration": 500,
               "easing": "linear"
              }
             }
            ],
            "label": "&#9654;",
            "method": "animate"
           },
           {
            "args": [
             [
              null
             ],
             {
              "frame": {
               "duration": 0,
               "redraw": false
              },
              "fromcurrent": true,
              "mode": "immediate",
              "transition": {
               "duration": 0,
               "easing": "linear"
              }
             }
            ],
            "label": "&#9724;",
            "method": "animate"
           }
          ],
          "direction": "left",
          "pad": {
           "r": 10,
           "t": 70
          },
          "showactive": false,
          "type": "buttons",
          "x": 0.1,
          "xanchor": "right",
          "y": 0,
          "yanchor": "top"
         }
        ],
        "xaxis": {
         "anchor": "y",
         "domain": [
          0,
          1
         ],
         "range": [
          0,
          0.8905360298697041
         ],
         "title": {
          "text": "Investments in railway infrastructure corrected by GDP "
         }
        },
        "yaxis": {
         "anchor": "x",
         "domain": [
          0,
          1
         ],
         "range": [
          -18.49111807266531,
          48.15837692263263
         ],
         "title": {
          "text": "Kilometers traveled per passengers"
         }
        }
       }
      }
     },
     "metadata": {},
     "output_type": "display_data"
    }
   ],
   "source": [
    "infrastructure_train_data = infrastructure_train_data.astype(float)\n",
    "gdp_data = gdp_data.astype(float)\n",
    "passenger_data = passenger_data.astype(float)\n",
    "population_data = population_data.astype(float)\n",
    "\n",
    "# Determine percentage of GDP that is invested in railway infrastructure and km travelled per passenger\n",
    "infrastructure_gdp = infrastructure_train_data / gdp_data*100\n",
    "km_per_passenger = passenger_data / population_data*1000000\n",
    "\n",
    "# Calculate rolling average for each year based on the past 5 years\n",
    "investments_over_years = infrastructure_gdp.shift(axis=1).rolling(window=5,axis=1, min_periods=1).mean()\n",
    "passenger_growth = km_per_passenger.pct_change(periods=5, axis=1)*100\n",
    "\n",
    "# Since the rolling average starts from the fifth year, remove the first 4 years \n",
    "for years in investments_over_years.columns[:5]:\n",
    "    investments_over_years = investments_over_years.drop(years, axis=1)\n",
    "\n",
    "for years in passenger_growth.columns[:5]:\n",
    "    passenger_growth = passenger_growth.drop(years, axis=1)\n",
    "\n",
    "#make new dataframes\n",
    "df1 = pd.DataFrame(investments_over_years)\n",
    "df2 = pd.DataFrame(passenger_growth)\n",
    "\n",
    "years = df2.columns[:]\n",
    "\n",
    "data = []\n",
    "for year in years:\n",
    "    for country in df1.index:\n",
    "        data.append({\n",
    "            'Year': year,\n",
    "            'Country': country,\n",
    "            'Investments': df1.loc[country, year],\n",
    "            'Passengers': df2.loc[country, year]\n",
    "        })\n",
    "\n",
    "marker_size = 20\n",
    "\n",
    "# Scatter plot\n",
    "fig = px.scatter(data_frame=data, x='Investments', y='Passengers', animation_frame='Year', size=[marker_size]*len(data), size_max=10,\n",
    "                 color='Country', hover_name='Country', range_x=[0, 1.05 * df1.values.max()],\n",
    "                 range_y=[0.95 * df2.values.min(), 1.05 * df2.values.max()], labels={'Investments': 'Investments', 'Passengers': 'Passengers'},)\n",
    "\n",
    "# Layout\n",
    "fig.update_layout(title='Investments vs. Passengers Over the Years',\n",
    "                  xaxis_title='Investments in railway infrastructure corrected by GDP ', yaxis_title='Kilometers traveled per passengers')\n",
    "\n",
    "# Show the plot\n",
    "fig.show()"
   ]
  },
  {
   "cell_type": "markdown",
   "metadata": {},
   "source": [
    "### Influence of total investments on passenger growth\n",
    "The figure above shows the relation between railway infrastructure investments (corrected by GDP) and the growth of the average distance travelled per passenger.\n",
    "In this figure we decided to aggregate all data from 2000-2020 in one figure. \n",
    "The passenger growth is from 2000-2020, but we excluded the final year of investments, since the effects of the investments could only affect passenger levels after 2020.\n",
    "As we look at the outcome of the graphs, we see that it not shows what we expected, meaning that the investments in the long term do not seem to increase over a long period. \n",
    "This can have different reasons, for instance we did not take other factors into account that might effect the passenger levels such as affordability, economic development and competing modes of transport to name a few."
   ]
  },
  {
   "cell_type": "code",
   "execution_count": 12,
   "metadata": {},
   "outputs": [
    {
     "data": {
      "application/vnd.plotly.v1+json": {
       "config": {
        "plotlyServerURL": "https://plot.ly"
       },
       "data": [
        {
         "hovertemplate": "Country=AUS<br>Investments average=%{x}<br>Passenger growth=%{y}<extra></extra>",
         "legendgroup": "AUS",
         "marker": {
          "color": "#636efa",
          "symbol": "circle"
         },
         "mode": "markers",
         "name": "AUS",
         "orientation": "v",
         "showlegend": true,
         "type": "scatter",
         "x": [
          0.23291524776585099
         ],
         "xaxis": "x",
         "y": [
          -10.351159083223703
         ],
         "yaxis": "y"
        },
        {
         "hovertemplate": "Country=AZE<br>Investments average=%{x}<br>Passenger growth=%{y}<extra></extra>",
         "legendgroup": "AZE",
         "marker": {
          "color": "#EF553B",
          "symbol": "circle"
         },
         "mode": "markers",
         "name": "AZE",
         "orientation": "v",
         "showlegend": true,
         "type": "scatter",
         "x": [
          0.06406917830136881
         ],
         "xaxis": "x",
         "y": [
          126.92537031972665
         ],
         "yaxis": "y"
        },
        {
         "hovertemplate": "Country=CZE<br>Investments average=%{x}<br>Passenger growth=%{y}<extra></extra>",
         "legendgroup": "CZE",
         "marker": {
          "color": "#00cc96",
          "symbol": "circle"
         },
         "mode": "markers",
         "name": "CZE",
         "orientation": "v",
         "showlegend": true,
         "type": "scatter",
         "x": [
          0.3851869231605446
         ],
         "xaxis": "x",
         "y": [
          21.56416319601247
         ],
         "yaxis": "y"
        },
        {
         "hovertemplate": "Country=FIN<br>Investments average=%{x}<br>Passenger growth=%{y}<extra></extra>",
         "legendgroup": "FIN",
         "marker": {
          "color": "#ab63fa",
          "symbol": "circle"
         },
         "mode": "markers",
         "name": "FIN",
         "orientation": "v",
         "showlegend": true,
         "type": "scatter",
         "x": [
          0.17738369174795338
         ],
         "xaxis": "x",
         "y": [
          10.454374227144434
         ],
         "yaxis": "y"
        },
        {
         "hovertemplate": "Country=FRA<br>Investments average=%{x}<br>Passenger growth=%{y}<extra></extra>",
         "legendgroup": "FRA",
         "marker": {
          "color": "#FFA15A",
          "symbol": "circle"
         },
         "mode": "markers",
         "name": "FRA",
         "orientation": "v",
         "showlegend": true,
         "type": "scatter",
         "x": [
          0.25900188857071094
         ],
         "xaxis": "x",
         "y": [
          5.825876712170134
         ],
         "yaxis": "y"
        },
        {
         "hovertemplate": "Country=DEU<br>Investments average=%{x}<br>Passenger growth=%{y}<extra></extra>",
         "legendgroup": "DEU",
         "marker": {
          "color": "#19d3f3",
          "symbol": "circle"
         },
         "mode": "markers",
         "name": "DEU",
         "orientation": "v",
         "showlegend": true,
         "type": "scatter",
         "x": [
          0.20105676552700663
         ],
         "xaxis": "x",
         "y": [
          6.920791939672849
         ],
         "yaxis": "y"
        },
        {
         "hovertemplate": "Country=HUN<br>Investments average=%{x}<br>Passenger growth=%{y}<extra></extra>",
         "legendgroup": "HUN",
         "marker": {
          "color": "#FF6692",
          "symbol": "circle"
         },
         "mode": "markers",
         "name": "HUN",
         "orientation": "v",
         "showlegend": true,
         "type": "scatter",
         "x": [
          0.34001869261521017
         ],
         "xaxis": "x",
         "y": [
          38.54742181660632
         ],
         "yaxis": "y"
        },
        {
         "hovertemplate": "Country=ITA<br>Investments average=%{x}<br>Passenger growth=%{y}<extra></extra>",
         "legendgroup": "ITA",
         "marker": {
          "color": "#B6E880",
          "symbol": "circle"
         },
         "mode": "markers",
         "name": "ITA",
         "orientation": "v",
         "showlegend": true,
         "type": "scatter",
         "x": [
          0.32102139249982076
         ],
         "xaxis": "x",
         "y": [
          -1.169693170342512
         ],
         "yaxis": "y"
        },
        {
         "hovertemplate": "Country=JPN<br>Investments average=%{x}<br>Passenger growth=%{y}<extra></extra>",
         "legendgroup": "JPN",
         "marker": {
          "color": "#FF97FF",
          "symbol": "circle"
         },
         "mode": "markers",
         "name": "JPN",
         "orientation": "v",
         "showlegend": true,
         "type": "scatter",
         "x": [
          0.19586131330831985
         ],
         "xaxis": "x",
         "y": [
          -3.6093429259813528
         ],
         "yaxis": "y"
        },
        {
         "hovertemplate": "Country=NOR<br>Investments average=%{x}<br>Passenger growth=%{y}<extra></extra>",
         "legendgroup": "NOR",
         "marker": {
          "color": "#FECB52",
          "symbol": "circle"
         },
         "mode": "markers",
         "name": "NOR",
         "orientation": "v",
         "showlegend": true,
         "type": "scatter",
         "x": [
          0.16710775823613838
         ],
         "xaxis": "x",
         "y": [
          8.97091018727156
         ],
         "yaxis": "y"
        },
        {
         "hovertemplate": "Country=POL<br>Investments average=%{x}<br>Passenger growth=%{y}<extra></extra>",
         "legendgroup": "POL",
         "marker": {
          "color": "#636efa",
          "symbol": "circle"
         },
         "mode": "markers",
         "name": "POL",
         "orientation": "v",
         "showlegend": true,
         "type": "scatter",
         "x": [
          0.10404557883682383
         ],
         "xaxis": "x",
         "y": [
          41.818819301907226
         ],
         "yaxis": "y"
        },
        {
         "hovertemplate": "Country=RUS<br>Investments average=%{x}<br>Passenger growth=%{y}<extra></extra>",
         "legendgroup": "RUS",
         "marker": {
          "color": "#EF553B",
          "symbol": "circle"
         },
         "mode": "markers",
         "name": "RUS",
         "orientation": "v",
         "showlegend": true,
         "type": "scatter",
         "x": [
          0.5616076856409331
         ],
         "xaxis": "x",
         "y": [
          -29.223883256557166
         ],
         "yaxis": "y"
        },
        {
         "hovertemplate": "Country=ESP<br>Investments average=%{x}<br>Passenger growth=%{y}<extra></extra>",
         "legendgroup": "ESP",
         "marker": {
          "color": "#00cc96",
          "symbol": "circle"
         },
         "mode": "markers",
         "name": "ESP",
         "orientation": "v",
         "showlegend": true,
         "type": "scatter",
         "x": [
          0.3958858337547176
         ],
         "xaxis": "x",
         "y": [
          -1.781088091877988
         ],
         "yaxis": "y"
        },
        {
         "hovertemplate": "Country=SWE<br>Investments average=%{x}<br>Passenger growth=%{y}<extra></extra>",
         "legendgroup": "SWE",
         "marker": {
          "color": "#ab63fa",
          "symbol": "circle"
         },
         "mode": "markers",
         "name": "SWE",
         "orientation": "v",
         "showlegend": true,
         "type": "scatter",
         "x": [
          0.2915268407685251
         ],
         "xaxis": "x",
         "y": [
          -18.776321306318696
         ],
         "yaxis": "y"
        },
        {
         "hovertemplate": "Country=CHE<br>Investments average=%{x}<br>Passenger growth=%{y}<extra></extra>",
         "legendgroup": "CHE",
         "marker": {
          "color": "#FFA15A",
          "symbol": "circle"
         },
         "mode": "markers",
         "name": "CHE",
         "orientation": "v",
         "showlegend": true,
         "type": "scatter",
         "x": [
          0.5431793649562061
         ],
         "xaxis": "x",
         "y": [
          9.829690478002465
         ],
         "yaxis": "y"
        },
        {
         "hovertemplate": "Country=TUR<br>Investments average=%{x}<br>Passenger growth=%{y}<extra></extra>",
         "legendgroup": "TUR",
         "marker": {
          "color": "#19d3f3",
          "symbol": "circle"
         },
         "mode": "markers",
         "name": "TUR",
         "orientation": "v",
         "showlegend": true,
         "type": "scatter",
         "x": [
          0.13491388957112957
         ],
         "xaxis": "x",
         "y": [
          40.462399526903866
         ],
         "yaxis": "y"
        },
        {
         "hovertemplate": "Country=GBR<br>Investments average=%{x}<br>Passenger growth=%{y}<extra></extra>",
         "legendgroup": "GBR",
         "marker": {
          "color": "#FF6692",
          "symbol": "circle"
         },
         "mode": "markers",
         "name": "GBR",
         "orientation": "v",
         "showlegend": true,
         "type": "scatter",
         "x": [
          0.3499395017528414
         ],
         "xaxis": "x",
         "y": [
          -0.9221534546057039
         ],
         "yaxis": "y"
        }
       ],
       "layout": {
        "legend": {
         "title": {
          "text": "Country"
         },
         "tracegroupgap": 0
        },
        "template": {
         "data": {
          "bar": [
           {
            "error_x": {
             "color": "#2a3f5f"
            },
            "error_y": {
             "color": "#2a3f5f"
            },
            "marker": {
             "line": {
              "color": "#E5ECF6",
              "width": 0.5
             },
             "pattern": {
              "fillmode": "overlay",
              "size": 10,
              "solidity": 0.2
             }
            },
            "type": "bar"
           }
          ],
          "barpolar": [
           {
            "marker": {
             "line": {
              "color": "#E5ECF6",
              "width": 0.5
             },
             "pattern": {
              "fillmode": "overlay",
              "size": 10,
              "solidity": 0.2
             }
            },
            "type": "barpolar"
           }
          ],
          "carpet": [
           {
            "aaxis": {
             "endlinecolor": "#2a3f5f",
             "gridcolor": "white",
             "linecolor": "white",
             "minorgridcolor": "white",
             "startlinecolor": "#2a3f5f"
            },
            "baxis": {
             "endlinecolor": "#2a3f5f",
             "gridcolor": "white",
             "linecolor": "white",
             "minorgridcolor": "white",
             "startlinecolor": "#2a3f5f"
            },
            "type": "carpet"
           }
          ],
          "choropleth": [
           {
            "colorbar": {
             "outlinewidth": 0,
             "ticks": ""
            },
            "type": "choropleth"
           }
          ],
          "contour": [
           {
            "colorbar": {
             "outlinewidth": 0,
             "ticks": ""
            },
            "colorscale": [
             [
              0,
              "#0d0887"
             ],
             [
              0.1111111111111111,
              "#46039f"
             ],
             [
              0.2222222222222222,
              "#7201a8"
             ],
             [
              0.3333333333333333,
              "#9c179e"
             ],
             [
              0.4444444444444444,
              "#bd3786"
             ],
             [
              0.5555555555555556,
              "#d8576b"
             ],
             [
              0.6666666666666666,
              "#ed7953"
             ],
             [
              0.7777777777777778,
              "#fb9f3a"
             ],
             [
              0.8888888888888888,
              "#fdca26"
             ],
             [
              1,
              "#f0f921"
             ]
            ],
            "type": "contour"
           }
          ],
          "contourcarpet": [
           {
            "colorbar": {
             "outlinewidth": 0,
             "ticks": ""
            },
            "type": "contourcarpet"
           }
          ],
          "heatmap": [
           {
            "colorbar": {
             "outlinewidth": 0,
             "ticks": ""
            },
            "colorscale": [
             [
              0,
              "#0d0887"
             ],
             [
              0.1111111111111111,
              "#46039f"
             ],
             [
              0.2222222222222222,
              "#7201a8"
             ],
             [
              0.3333333333333333,
              "#9c179e"
             ],
             [
              0.4444444444444444,
              "#bd3786"
             ],
             [
              0.5555555555555556,
              "#d8576b"
             ],
             [
              0.6666666666666666,
              "#ed7953"
             ],
             [
              0.7777777777777778,
              "#fb9f3a"
             ],
             [
              0.8888888888888888,
              "#fdca26"
             ],
             [
              1,
              "#f0f921"
             ]
            ],
            "type": "heatmap"
           }
          ],
          "heatmapgl": [
           {
            "colorbar": {
             "outlinewidth": 0,
             "ticks": ""
            },
            "colorscale": [
             [
              0,
              "#0d0887"
             ],
             [
              0.1111111111111111,
              "#46039f"
             ],
             [
              0.2222222222222222,
              "#7201a8"
             ],
             [
              0.3333333333333333,
              "#9c179e"
             ],
             [
              0.4444444444444444,
              "#bd3786"
             ],
             [
              0.5555555555555556,
              "#d8576b"
             ],
             [
              0.6666666666666666,
              "#ed7953"
             ],
             [
              0.7777777777777778,
              "#fb9f3a"
             ],
             [
              0.8888888888888888,
              "#fdca26"
             ],
             [
              1,
              "#f0f921"
             ]
            ],
            "type": "heatmapgl"
           }
          ],
          "histogram": [
           {
            "marker": {
             "pattern": {
              "fillmode": "overlay",
              "size": 10,
              "solidity": 0.2
             }
            },
            "type": "histogram"
           }
          ],
          "histogram2d": [
           {
            "colorbar": {
             "outlinewidth": 0,
             "ticks": ""
            },
            "colorscale": [
             [
              0,
              "#0d0887"
             ],
             [
              0.1111111111111111,
              "#46039f"
             ],
             [
              0.2222222222222222,
              "#7201a8"
             ],
             [
              0.3333333333333333,
              "#9c179e"
             ],
             [
              0.4444444444444444,
              "#bd3786"
             ],
             [
              0.5555555555555556,
              "#d8576b"
             ],
             [
              0.6666666666666666,
              "#ed7953"
             ],
             [
              0.7777777777777778,
              "#fb9f3a"
             ],
             [
              0.8888888888888888,
              "#fdca26"
             ],
             [
              1,
              "#f0f921"
             ]
            ],
            "type": "histogram2d"
           }
          ],
          "histogram2dcontour": [
           {
            "colorbar": {
             "outlinewidth": 0,
             "ticks": ""
            },
            "colorscale": [
             [
              0,
              "#0d0887"
             ],
             [
              0.1111111111111111,
              "#46039f"
             ],
             [
              0.2222222222222222,
              "#7201a8"
             ],
             [
              0.3333333333333333,
              "#9c179e"
             ],
             [
              0.4444444444444444,
              "#bd3786"
             ],
             [
              0.5555555555555556,
              "#d8576b"
             ],
             [
              0.6666666666666666,
              "#ed7953"
             ],
             [
              0.7777777777777778,
              "#fb9f3a"
             ],
             [
              0.8888888888888888,
              "#fdca26"
             ],
             [
              1,
              "#f0f921"
             ]
            ],
            "type": "histogram2dcontour"
           }
          ],
          "mesh3d": [
           {
            "colorbar": {
             "outlinewidth": 0,
             "ticks": ""
            },
            "type": "mesh3d"
           }
          ],
          "parcoords": [
           {
            "line": {
             "colorbar": {
              "outlinewidth": 0,
              "ticks": ""
             }
            },
            "type": "parcoords"
           }
          ],
          "pie": [
           {
            "automargin": true,
            "type": "pie"
           }
          ],
          "scatter": [
           {
            "fillpattern": {
             "fillmode": "overlay",
             "size": 10,
             "solidity": 0.2
            },
            "type": "scatter"
           }
          ],
          "scatter3d": [
           {
            "line": {
             "colorbar": {
              "outlinewidth": 0,
              "ticks": ""
             }
            },
            "marker": {
             "colorbar": {
              "outlinewidth": 0,
              "ticks": ""
             }
            },
            "type": "scatter3d"
           }
          ],
          "scattercarpet": [
           {
            "marker": {
             "colorbar": {
              "outlinewidth": 0,
              "ticks": ""
             }
            },
            "type": "scattercarpet"
           }
          ],
          "scattergeo": [
           {
            "marker": {
             "colorbar": {
              "outlinewidth": 0,
              "ticks": ""
             }
            },
            "type": "scattergeo"
           }
          ],
          "scattergl": [
           {
            "marker": {
             "colorbar": {
              "outlinewidth": 0,
              "ticks": ""
             }
            },
            "type": "scattergl"
           }
          ],
          "scattermapbox": [
           {
            "marker": {
             "colorbar": {
              "outlinewidth": 0,
              "ticks": ""
             }
            },
            "type": "scattermapbox"
           }
          ],
          "scatterpolar": [
           {
            "marker": {
             "colorbar": {
              "outlinewidth": 0,
              "ticks": ""
             }
            },
            "type": "scatterpolar"
           }
          ],
          "scatterpolargl": [
           {
            "marker": {
             "colorbar": {
              "outlinewidth": 0,
              "ticks": ""
             }
            },
            "type": "scatterpolargl"
           }
          ],
          "scatterternary": [
           {
            "marker": {
             "colorbar": {
              "outlinewidth": 0,
              "ticks": ""
             }
            },
            "type": "scatterternary"
           }
          ],
          "surface": [
           {
            "colorbar": {
             "outlinewidth": 0,
             "ticks": ""
            },
            "colorscale": [
             [
              0,
              "#0d0887"
             ],
             [
              0.1111111111111111,
              "#46039f"
             ],
             [
              0.2222222222222222,
              "#7201a8"
             ],
             [
              0.3333333333333333,
              "#9c179e"
             ],
             [
              0.4444444444444444,
              "#bd3786"
             ],
             [
              0.5555555555555556,
              "#d8576b"
             ],
             [
              0.6666666666666666,
              "#ed7953"
             ],
             [
              0.7777777777777778,
              "#fb9f3a"
             ],
             [
              0.8888888888888888,
              "#fdca26"
             ],
             [
              1,
              "#f0f921"
             ]
            ],
            "type": "surface"
           }
          ],
          "table": [
           {
            "cells": {
             "fill": {
              "color": "#EBF0F8"
             },
             "line": {
              "color": "white"
             }
            },
            "header": {
             "fill": {
              "color": "#C8D4E3"
             },
             "line": {
              "color": "white"
             }
            },
            "type": "table"
           }
          ]
         },
         "layout": {
          "annotationdefaults": {
           "arrowcolor": "#2a3f5f",
           "arrowhead": 0,
           "arrowwidth": 1
          },
          "autotypenumbers": "strict",
          "coloraxis": {
           "colorbar": {
            "outlinewidth": 0,
            "ticks": ""
           }
          },
          "colorscale": {
           "diverging": [
            [
             0,
             "#8e0152"
            ],
            [
             0.1,
             "#c51b7d"
            ],
            [
             0.2,
             "#de77ae"
            ],
            [
             0.3,
             "#f1b6da"
            ],
            [
             0.4,
             "#fde0ef"
            ],
            [
             0.5,
             "#f7f7f7"
            ],
            [
             0.6,
             "#e6f5d0"
            ],
            [
             0.7,
             "#b8e186"
            ],
            [
             0.8,
             "#7fbc41"
            ],
            [
             0.9,
             "#4d9221"
            ],
            [
             1,
             "#276419"
            ]
           ],
           "sequential": [
            [
             0,
             "#0d0887"
            ],
            [
             0.1111111111111111,
             "#46039f"
            ],
            [
             0.2222222222222222,
             "#7201a8"
            ],
            [
             0.3333333333333333,
             "#9c179e"
            ],
            [
             0.4444444444444444,
             "#bd3786"
            ],
            [
             0.5555555555555556,
             "#d8576b"
            ],
            [
             0.6666666666666666,
             "#ed7953"
            ],
            [
             0.7777777777777778,
             "#fb9f3a"
            ],
            [
             0.8888888888888888,
             "#fdca26"
            ],
            [
             1,
             "#f0f921"
            ]
           ],
           "sequentialminus": [
            [
             0,
             "#0d0887"
            ],
            [
             0.1111111111111111,
             "#46039f"
            ],
            [
             0.2222222222222222,
             "#7201a8"
            ],
            [
             0.3333333333333333,
             "#9c179e"
            ],
            [
             0.4444444444444444,
             "#bd3786"
            ],
            [
             0.5555555555555556,
             "#d8576b"
            ],
            [
             0.6666666666666666,
             "#ed7953"
            ],
            [
             0.7777777777777778,
             "#fb9f3a"
            ],
            [
             0.8888888888888888,
             "#fdca26"
            ],
            [
             1,
             "#f0f921"
            ]
           ]
          },
          "colorway": [
           "#636efa",
           "#EF553B",
           "#00cc96",
           "#ab63fa",
           "#FFA15A",
           "#19d3f3",
           "#FF6692",
           "#B6E880",
           "#FF97FF",
           "#FECB52"
          ],
          "font": {
           "color": "#2a3f5f"
          },
          "geo": {
           "bgcolor": "white",
           "lakecolor": "white",
           "landcolor": "#E5ECF6",
           "showlakes": true,
           "showland": true,
           "subunitcolor": "white"
          },
          "hoverlabel": {
           "align": "left"
          },
          "hovermode": "closest",
          "mapbox": {
           "style": "light"
          },
          "paper_bgcolor": "white",
          "plot_bgcolor": "#E5ECF6",
          "polar": {
           "angularaxis": {
            "gridcolor": "white",
            "linecolor": "white",
            "ticks": ""
           },
           "bgcolor": "#E5ECF6",
           "radialaxis": {
            "gridcolor": "white",
            "linecolor": "white",
            "ticks": ""
           }
          },
          "scene": {
           "xaxis": {
            "backgroundcolor": "#E5ECF6",
            "gridcolor": "white",
            "gridwidth": 2,
            "linecolor": "white",
            "showbackground": true,
            "ticks": "",
            "zerolinecolor": "white"
           },
           "yaxis": {
            "backgroundcolor": "#E5ECF6",
            "gridcolor": "white",
            "gridwidth": 2,
            "linecolor": "white",
            "showbackground": true,
            "ticks": "",
            "zerolinecolor": "white"
           },
           "zaxis": {
            "backgroundcolor": "#E5ECF6",
            "gridcolor": "white",
            "gridwidth": 2,
            "linecolor": "white",
            "showbackground": true,
            "ticks": "",
            "zerolinecolor": "white"
           }
          },
          "shapedefaults": {
           "line": {
            "color": "#2a3f5f"
           }
          },
          "ternary": {
           "aaxis": {
            "gridcolor": "white",
            "linecolor": "white",
            "ticks": ""
           },
           "baxis": {
            "gridcolor": "white",
            "linecolor": "white",
            "ticks": ""
           },
           "bgcolor": "#E5ECF6",
           "caxis": {
            "gridcolor": "white",
            "linecolor": "white",
            "ticks": ""
           }
          },
          "title": {
           "x": 0.05
          },
          "xaxis": {
           "automargin": true,
           "gridcolor": "white",
           "linecolor": "white",
           "ticks": "",
           "title": {
            "standoff": 15
           },
           "zerolinecolor": "white",
           "zerolinewidth": 2
          },
          "yaxis": {
           "automargin": true,
           "gridcolor": "white",
           "linecolor": "white",
           "ticks": "",
           "title": {
            "standoff": 15
           },
           "zerolinecolor": "white",
           "zerolinewidth": 2
          }
         }
        },
        "title": {
         "text": "Investments vs. Passengers average over the years"
        },
        "xaxis": {
         "anchor": "y",
         "domain": [
          0,
          1
         ],
         "title": {
          "text": "Average Investments in railway infrastructure corrected by GDP"
         }
        },
        "yaxis": {
         "anchor": "x",
         "domain": [
          0,
          1
         ],
         "title": {
          "text": "Growth of kilometres travelled per passenger"
         }
        }
       }
      }
     },
     "metadata": {},
     "output_type": "display_data"
    }
   ],
   "source": [
    "# Set the data type of the used datasets to float\n",
    "\n",
    "infrastructure_train_data = infrastructure_train_data.astype(float)\n",
    "gdp_data = gdp_data.astype(float)\n",
    "\n",
    "# Determine percentage of GDP that is invested in railway infrastructure\n",
    "infrastructure_gdp = infrastructure_train_data / gdp_data*100\n",
    "\n",
    "passenger_data = passenger_data.astype(float)\n",
    "population_data = population_data.astype(float)\n",
    "\n",
    "# Determine amount of kilometers travelled per passenger\n",
    "# Note that passenger data is the total amount of kilometers travelled in millions\n",
    "km_per_passenger = passenger_data / population_data*1000000\n",
    "\n",
    "# Exclude the 2020 data of investments before we determine the average\n",
    "infrastructure_gdp_up_to_2019 = infrastructure_gdp.iloc[:, :-1]\n",
    "\n",
    "# Determine the average for all years of the infrastructure data\n",
    "year_average_infrastructure_gdp_up_to_2019 = infrastructure_gdp_up_to_2019.mean(axis=1)\n",
    "\n",
    "# Select columns from 2000 to 2020 from the kilometers per passenger data\n",
    "km_per_passengers_2000_2020 = km_per_passenger.loc[:, '2000':'2020']\n",
    "\n",
    "# Calculate percentage growth for each country\n",
    "passenger_growth = ((km_per_passengers_2000_2020.iloc[:, -1] - km_per_passengers_2000_2020.iloc[:, 0]) / km_per_passengers_2000_2020.iloc[:, 0]) * 100\n",
    "\n",
    "# Investments year average comparing with passenger transport year average dataframe making\n",
    "df3 = pd.DataFrame({'Country': year_average_infrastructure_gdp_up_to_2019.index, 'Investments average': year_average_infrastructure_gdp_up_to_2019})\n",
    "df4 = pd.DataFrame({'Country': passenger_growth.index, 'Passenger growth': passenger_growth.values})\n",
    "\n",
    "# Drop the existing \"Country\" column, if it exists\n",
    "if 'Country' in df3.columns:\n",
    "    df3 = df3.drop('Country', axis=1)\n",
    "\n",
    "# Reset the index of df3 to make \"Country\" a regular column\n",
    "df3_reset = df3.reset_index()\n",
    "\n",
    "# Reset the index of df4 to make \"Country\" a regular column\n",
    "df4_reset = df4.reset_index()\n",
    "\n",
    "# Merge the two DataFrames based on the \"Country\" column\n",
    "df5 = pd.merge(df3_reset, df4_reset, left_on='Country', right_on='Country')\n",
    "\n",
    "df5 = df5.drop(df5.columns[2], axis=1)\n",
    "\n",
    "# Create a scatter plot using Plotly Express\n",
    "fig = px.scatter(df5, x='Investments average', y='Passenger growth', color= 'Country',\n",
    "                 title='Scatter Plot for Average Values', labels={'Investments': 'Average Investments', 'Passengers': 'Average Passengers'})\n",
    "\n",
    "# Customize the layout\n",
    "fig.update_layout(title='Investments vs. Passengers average over the years',\n",
    "                  xaxis_title='Average Investments in railway infrastructure corrected by GDP', yaxis_title='Growth of kilometres travelled per passenger')\n",
    "\n",
    "# Show the plot\n",
    "fig.show()\n"
   ]
  }
 ],
 "metadata": {
  "kernelspec": {
   "display_name": "Python 3 (ipykernel)",
   "language": "python",
   "name": "python3"
  },
  "language_info": {
   "codemirror_mode": {
    "name": "ipython",
    "version": 3
   },
   "file_extension": ".py",
   "mimetype": "text/x-python",
   "name": "python",
   "nbconvert_exporter": "python",
   "pygments_lexer": "ipython3",
   "version": "3.11.4"
  },
  "vscode": {
   "interpreter": {
    "hash": "31f2aee4e71d21fbe5cf8b01ff0e069b9275f58929596ceb00d14d90e3e16cd6"
   }
  }
 },
 "nbformat": 4,
 "nbformat_minor": 2
}
