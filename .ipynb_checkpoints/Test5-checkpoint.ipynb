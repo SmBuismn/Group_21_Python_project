{
 "cells": [
  {
   "cell_type": "code",
   "execution_count": 2,
   "id": "6bae7b99",
   "metadata": {},
   "outputs": [
    {
     "name": "stdout",
     "output_type": "stream",
     "text": [
      "Country\n",
      "AUS    12913.455031\n",
      "AZE     1789.267842\n",
      "CZE     7552.008289\n",
      "FIN    13157.742081\n",
      "FRA    12833.204304\n",
      "DEU    11694.672477\n",
      "HUN     7136.509977\n",
      "ITA    13189.816665\n",
      "MKD     3711.436504\n",
      "NOR    12884.177900\n",
      "RUS      970.007579\n",
      "ESP     8234.177264\n",
      "SWE    12180.539981\n",
      "CHE    11602.311270\n",
      "TUR     3173.803264\n",
      "dtype: float64\n",
      "Country\n",
      "AUS    0.231066\n",
      "AZE    0.053463\n",
      "CZE    0.360389\n",
      "FIN    0.167324\n",
      "FRA    0.257465\n",
      "DEU    0.185248\n",
      "HUN    0.330675\n",
      "ITA    0.300809\n",
      "MKD    0.065399\n",
      "NOR    0.171458\n",
      "RUS    0.523162\n",
      "ESP    0.373117\n",
      "SWE    0.280336\n",
      "CHE    0.517311\n",
      "TUR    0.139565\n",
      "dtype: float64\n",
      "   Country  Year average infrastructure gdp  \\\n",
      "0      AUS                         0.231066   \n",
      "1      AZE                         0.053463   \n",
      "2      CZE                         0.360389   \n",
      "3      FIN                         0.167324   \n",
      "4      FRA                         0.257465   \n",
      "5      DEU                         0.185248   \n",
      "6      HUN                         0.330675   \n",
      "7      ITA                         0.300809   \n",
      "8      MKD                         0.065399   \n",
      "9      NOR                         0.171458   \n",
      "10     RUS                         0.523162   \n",
      "11     ESP                         0.373117   \n",
      "12     SWE                         0.280336   \n",
      "13     CHE                         0.517311   \n",
      "14     TUR                         0.139565   \n",
      "\n",
      "    Year average passenger km per person  \n",
      "0                           12913.455031  \n",
      "1                            1789.267842  \n",
      "2                            7552.008289  \n",
      "3                           13157.742081  \n",
      "4                           12833.204304  \n",
      "5                           11694.672477  \n",
      "6                            7136.509977  \n",
      "7                           13189.816665  \n",
      "8                            3711.436504  \n",
      "9                           12884.177900  \n",
      "10                            970.007579  \n",
      "11                           8234.177264  \n",
      "12                          12180.539981  \n",
      "13                          11602.311270  \n",
      "14                           3173.803264  \n"
     ]
    },
    {
     "data": {
      "application/vnd.plotly.v1+json": {
       "config": {
        "plotlyServerURL": "https://plot.ly"
       },
       "data": [
        {
         "hovertemplate": "Country=AUS<br>Year average infrastructure gdp=%{x}<br>Year average passenger km per person=%{y}<extra></extra>",
         "legendgroup": "AUS",
         "marker": {
          "color": "#636efa",
          "symbol": "circle"
         },
         "mode": "markers",
         "name": "AUS",
         "orientation": "v",
         "showlegend": true,
         "type": "scatter",
         "x": [
          0.23106638683517905
         ],
         "xaxis": "x",
         "y": [
          12913.455031254822
         ],
         "yaxis": "y"
        },
        {
         "hovertemplate": "Country=AZE<br>Year average infrastructure gdp=%{x}<br>Year average passenger km per person=%{y}<extra></extra>",
         "legendgroup": "AZE",
         "marker": {
          "color": "#EF553B",
          "symbol": "circle"
         },
         "mode": "markers",
         "name": "AZE",
         "orientation": "v",
         "showlegend": true,
         "type": "scatter",
         "x": [
          0.05346274519247331
         ],
         "xaxis": "x",
         "y": [
          1789.267842129213
         ],
         "yaxis": "y"
        },
        {
         "hovertemplate": "Country=CZE<br>Year average infrastructure gdp=%{x}<br>Year average passenger km per person=%{y}<extra></extra>",
         "legendgroup": "CZE",
         "marker": {
          "color": "#00cc96",
          "symbol": "circle"
         },
         "mode": "markers",
         "name": "CZE",
         "orientation": "v",
         "showlegend": true,
         "type": "scatter",
         "x": [
          0.36038860350990326
         ],
         "xaxis": "x",
         "y": [
          7552.008289275003
         ],
         "yaxis": "y"
        },
        {
         "hovertemplate": "Country=FIN<br>Year average infrastructure gdp=%{x}<br>Year average passenger km per person=%{y}<extra></extra>",
         "legendgroup": "FIN",
         "marker": {
          "color": "#ab63fa",
          "symbol": "circle"
         },
         "mode": "markers",
         "name": "FIN",
         "orientation": "v",
         "showlegend": true,
         "type": "scatter",
         "x": [
          0.16732408997757348
         ],
         "xaxis": "x",
         "y": [
          13157.742081416289
         ],
         "yaxis": "y"
        },
        {
         "hovertemplate": "Country=FRA<br>Year average infrastructure gdp=%{x}<br>Year average passenger km per person=%{y}<extra></extra>",
         "legendgroup": "FRA",
         "marker": {
          "color": "#FFA15A",
          "symbol": "circle"
         },
         "mode": "markers",
         "name": "FRA",
         "orientation": "v",
         "showlegend": true,
         "type": "scatter",
         "x": [
          0.257464706217439
         ],
         "xaxis": "x",
         "y": [
          12833.20430395479
         ],
         "yaxis": "y"
        },
        {
         "hovertemplate": "Country=DEU<br>Year average infrastructure gdp=%{x}<br>Year average passenger km per person=%{y}<extra></extra>",
         "legendgroup": "DEU",
         "marker": {
          "color": "#19d3f3",
          "symbol": "circle"
         },
         "mode": "markers",
         "name": "DEU",
         "orientation": "v",
         "showlegend": true,
         "type": "scatter",
         "x": [
          0.18524752692667842
         ],
         "xaxis": "x",
         "y": [
          11694.672476700174
         ],
         "yaxis": "y"
        },
        {
         "hovertemplate": "Country=HUN<br>Year average infrastructure gdp=%{x}<br>Year average passenger km per person=%{y}<extra></extra>",
         "legendgroup": "HUN",
         "marker": {
          "color": "#FF6692",
          "symbol": "circle"
         },
         "mode": "markers",
         "name": "HUN",
         "orientation": "v",
         "showlegend": true,
         "type": "scatter",
         "x": [
          0.3306754130411452
         ],
         "xaxis": "x",
         "y": [
          7136.509977155081
         ],
         "yaxis": "y"
        },
        {
         "hovertemplate": "Country=ITA<br>Year average infrastructure gdp=%{x}<br>Year average passenger km per person=%{y}<extra></extra>",
         "legendgroup": "ITA",
         "marker": {
          "color": "#B6E880",
          "symbol": "circle"
         },
         "mode": "markers",
         "name": "ITA",
         "orientation": "v",
         "showlegend": true,
         "type": "scatter",
         "x": [
          0.30080851192955604
         ],
         "xaxis": "x",
         "y": [
          13189.816665217006
         ],
         "yaxis": "y"
        },
        {
         "hovertemplate": "Country=MKD<br>Year average infrastructure gdp=%{x}<br>Year average passenger km per person=%{y}<extra></extra>",
         "legendgroup": "MKD",
         "marker": {
          "color": "#FF97FF",
          "symbol": "circle"
         },
         "mode": "markers",
         "name": "MKD",
         "orientation": "v",
         "showlegend": true,
         "type": "scatter",
         "x": [
          0.06539865541358232
         ],
         "xaxis": "x",
         "y": [
          3711.4365039565446
         ],
         "yaxis": "y"
        },
        {
         "hovertemplate": "Country=NOR<br>Year average infrastructure gdp=%{x}<br>Year average passenger km per person=%{y}<extra></extra>",
         "legendgroup": "NOR",
         "marker": {
          "color": "#FECB52",
          "symbol": "circle"
         },
         "mode": "markers",
         "name": "NOR",
         "orientation": "v",
         "showlegend": true,
         "type": "scatter",
         "x": [
          0.17145799467170086
         ],
         "xaxis": "x",
         "y": [
          12884.177900102213
         ],
         "yaxis": "y"
        },
        {
         "hovertemplate": "Country=RUS<br>Year average infrastructure gdp=%{x}<br>Year average passenger km per person=%{y}<extra></extra>",
         "legendgroup": "RUS",
         "marker": {
          "color": "#636efa",
          "symbol": "circle"
         },
         "mode": "markers",
         "name": "RUS",
         "orientation": "v",
         "showlegend": true,
         "type": "scatter",
         "x": [
          0.5231623491519065
         ],
         "xaxis": "x",
         "y": [
          970.0075786191373
         ],
         "yaxis": "y"
        },
        {
         "hovertemplate": "Country=ESP<br>Year average infrastructure gdp=%{x}<br>Year average passenger km per person=%{y}<extra></extra>",
         "legendgroup": "ESP",
         "marker": {
          "color": "#EF553B",
          "symbol": "circle"
         },
         "mode": "markers",
         "name": "ESP",
         "orientation": "v",
         "showlegend": true,
         "type": "scatter",
         "x": [
          0.373117203427657
         ],
         "xaxis": "x",
         "y": [
          8234.177264439388
         ],
         "yaxis": "y"
        },
        {
         "hovertemplate": "Country=SWE<br>Year average infrastructure gdp=%{x}<br>Year average passenger km per person=%{y}<extra></extra>",
         "legendgroup": "SWE",
         "marker": {
          "color": "#00cc96",
          "symbol": "circle"
         },
         "mode": "markers",
         "name": "SWE",
         "orientation": "v",
         "showlegend": true,
         "type": "scatter",
         "x": [
          0.28033647673888124
         ],
         "xaxis": "x",
         "y": [
          12180.539980891477
         ],
         "yaxis": "y"
        },
        {
         "hovertemplate": "Country=CHE<br>Year average infrastructure gdp=%{x}<br>Year average passenger km per person=%{y}<extra></extra>",
         "legendgroup": "CHE",
         "marker": {
          "color": "#ab63fa",
          "symbol": "circle"
         },
         "mode": "markers",
         "name": "CHE",
         "orientation": "v",
         "showlegend": true,
         "type": "scatter",
         "x": [
          0.5173106807405705
         ],
         "xaxis": "x",
         "y": [
          11602.311270214423
         ],
         "yaxis": "y"
        },
        {
         "hovertemplate": "Country=TUR<br>Year average infrastructure gdp=%{x}<br>Year average passenger km per person=%{y}<extra></extra>",
         "legendgroup": "TUR",
         "marker": {
          "color": "#FFA15A",
          "symbol": "circle"
         },
         "mode": "markers",
         "name": "TUR",
         "orientation": "v",
         "showlegend": true,
         "type": "scatter",
         "x": [
          0.13956507490837283
         ],
         "xaxis": "x",
         "y": [
          3173.803264307118
         ],
         "yaxis": "y"
        }
       ],
       "layout": {
        "legend": {
         "title": {
          "text": "Country"
         },
         "tracegroupgap": 0
        },
        "template": {
         "data": {
          "bar": [
           {
            "error_x": {
             "color": "#2a3f5f"
            },
            "error_y": {
             "color": "#2a3f5f"
            },
            "marker": {
             "line": {
              "color": "#E5ECF6",
              "width": 0.5
             },
             "pattern": {
              "fillmode": "overlay",
              "size": 10,
              "solidity": 0.2
             }
            },
            "type": "bar"
           }
          ],
          "barpolar": [
           {
            "marker": {
             "line": {
              "color": "#E5ECF6",
              "width": 0.5
             },
             "pattern": {
              "fillmode": "overlay",
              "size": 10,
              "solidity": 0.2
             }
            },
            "type": "barpolar"
           }
          ],
          "carpet": [
           {
            "aaxis": {
             "endlinecolor": "#2a3f5f",
             "gridcolor": "white",
             "linecolor": "white",
             "minorgridcolor": "white",
             "startlinecolor": "#2a3f5f"
            },
            "baxis": {
             "endlinecolor": "#2a3f5f",
             "gridcolor": "white",
             "linecolor": "white",
             "minorgridcolor": "white",
             "startlinecolor": "#2a3f5f"
            },
            "type": "carpet"
           }
          ],
          "choropleth": [
           {
            "colorbar": {
             "outlinewidth": 0,
             "ticks": ""
            },
            "type": "choropleth"
           }
          ],
          "contour": [
           {
            "colorbar": {
             "outlinewidth": 0,
             "ticks": ""
            },
            "colorscale": [
             [
              0,
              "#0d0887"
             ],
             [
              0.1111111111111111,
              "#46039f"
             ],
             [
              0.2222222222222222,
              "#7201a8"
             ],
             [
              0.3333333333333333,
              "#9c179e"
             ],
             [
              0.4444444444444444,
              "#bd3786"
             ],
             [
              0.5555555555555556,
              "#d8576b"
             ],
             [
              0.6666666666666666,
              "#ed7953"
             ],
             [
              0.7777777777777778,
              "#fb9f3a"
             ],
             [
              0.8888888888888888,
              "#fdca26"
             ],
             [
              1,
              "#f0f921"
             ]
            ],
            "type": "contour"
           }
          ],
          "contourcarpet": [
           {
            "colorbar": {
             "outlinewidth": 0,
             "ticks": ""
            },
            "type": "contourcarpet"
           }
          ],
          "heatmap": [
           {
            "colorbar": {
             "outlinewidth": 0,
             "ticks": ""
            },
            "colorscale": [
             [
              0,
              "#0d0887"
             ],
             [
              0.1111111111111111,
              "#46039f"
             ],
             [
              0.2222222222222222,
              "#7201a8"
             ],
             [
              0.3333333333333333,
              "#9c179e"
             ],
             [
              0.4444444444444444,
              "#bd3786"
             ],
             [
              0.5555555555555556,
              "#d8576b"
             ],
             [
              0.6666666666666666,
              "#ed7953"
             ],
             [
              0.7777777777777778,
              "#fb9f3a"
             ],
             [
              0.8888888888888888,
              "#fdca26"
             ],
             [
              1,
              "#f0f921"
             ]
            ],
            "type": "heatmap"
           }
          ],
          "heatmapgl": [
           {
            "colorbar": {
             "outlinewidth": 0,
             "ticks": ""
            },
            "colorscale": [
             [
              0,
              "#0d0887"
             ],
             [
              0.1111111111111111,
              "#46039f"
             ],
             [
              0.2222222222222222,
              "#7201a8"
             ],
             [
              0.3333333333333333,
              "#9c179e"
             ],
             [
              0.4444444444444444,
              "#bd3786"
             ],
             [
              0.5555555555555556,
              "#d8576b"
             ],
             [
              0.6666666666666666,
              "#ed7953"
             ],
             [
              0.7777777777777778,
              "#fb9f3a"
             ],
             [
              0.8888888888888888,
              "#fdca26"
             ],
             [
              1,
              "#f0f921"
             ]
            ],
            "type": "heatmapgl"
           }
          ],
          "histogram": [
           {
            "marker": {
             "pattern": {
              "fillmode": "overlay",
              "size": 10,
              "solidity": 0.2
             }
            },
            "type": "histogram"
           }
          ],
          "histogram2d": [
           {
            "colorbar": {
             "outlinewidth": 0,
             "ticks": ""
            },
            "colorscale": [
             [
              0,
              "#0d0887"
             ],
             [
              0.1111111111111111,
              "#46039f"
             ],
             [
              0.2222222222222222,
              "#7201a8"
             ],
             [
              0.3333333333333333,
              "#9c179e"
             ],
             [
              0.4444444444444444,
              "#bd3786"
             ],
             [
              0.5555555555555556,
              "#d8576b"
             ],
             [
              0.6666666666666666,
              "#ed7953"
             ],
             [
              0.7777777777777778,
              "#fb9f3a"
             ],
             [
              0.8888888888888888,
              "#fdca26"
             ],
             [
              1,
              "#f0f921"
             ]
            ],
            "type": "histogram2d"
           }
          ],
          "histogram2dcontour": [
           {
            "colorbar": {
             "outlinewidth": 0,
             "ticks": ""
            },
            "colorscale": [
             [
              0,
              "#0d0887"
             ],
             [
              0.1111111111111111,
              "#46039f"
             ],
             [
              0.2222222222222222,
              "#7201a8"
             ],
             [
              0.3333333333333333,
              "#9c179e"
             ],
             [
              0.4444444444444444,
              "#bd3786"
             ],
             [
              0.5555555555555556,
              "#d8576b"
             ],
             [
              0.6666666666666666,
              "#ed7953"
             ],
             [
              0.7777777777777778,
              "#fb9f3a"
             ],
             [
              0.8888888888888888,
              "#fdca26"
             ],
             [
              1,
              "#f0f921"
             ]
            ],
            "type": "histogram2dcontour"
           }
          ],
          "mesh3d": [
           {
            "colorbar": {
             "outlinewidth": 0,
             "ticks": ""
            },
            "type": "mesh3d"
           }
          ],
          "parcoords": [
           {
            "line": {
             "colorbar": {
              "outlinewidth": 0,
              "ticks": ""
             }
            },
            "type": "parcoords"
           }
          ],
          "pie": [
           {
            "automargin": true,
            "type": "pie"
           }
          ],
          "scatter": [
           {
            "fillpattern": {
             "fillmode": "overlay",
             "size": 10,
             "solidity": 0.2
            },
            "type": "scatter"
           }
          ],
          "scatter3d": [
           {
            "line": {
             "colorbar": {
              "outlinewidth": 0,
              "ticks": ""
             }
            },
            "marker": {
             "colorbar": {
              "outlinewidth": 0,
              "ticks": ""
             }
            },
            "type": "scatter3d"
           }
          ],
          "scattercarpet": [
           {
            "marker": {
             "colorbar": {
              "outlinewidth": 0,
              "ticks": ""
             }
            },
            "type": "scattercarpet"
           }
          ],
          "scattergeo": [
           {
            "marker": {
             "colorbar": {
              "outlinewidth": 0,
              "ticks": ""
             }
            },
            "type": "scattergeo"
           }
          ],
          "scattergl": [
           {
            "marker": {
             "colorbar": {
              "outlinewidth": 0,
              "ticks": ""
             }
            },
            "type": "scattergl"
           }
          ],
          "scattermapbox": [
           {
            "marker": {
             "colorbar": {
              "outlinewidth": 0,
              "ticks": ""
             }
            },
            "type": "scattermapbox"
           }
          ],
          "scatterpolar": [
           {
            "marker": {
             "colorbar": {
              "outlinewidth": 0,
              "ticks": ""
             }
            },
            "type": "scatterpolar"
           }
          ],
          "scatterpolargl": [
           {
            "marker": {
             "colorbar": {
              "outlinewidth": 0,
              "ticks": ""
             }
            },
            "type": "scatterpolargl"
           }
          ],
          "scatterternary": [
           {
            "marker": {
             "colorbar": {
              "outlinewidth": 0,
              "ticks": ""
             }
            },
            "type": "scatterternary"
           }
          ],
          "surface": [
           {
            "colorbar": {
             "outlinewidth": 0,
             "ticks": ""
            },
            "colorscale": [
             [
              0,
              "#0d0887"
             ],
             [
              0.1111111111111111,
              "#46039f"
             ],
             [
              0.2222222222222222,
              "#7201a8"
             ],
             [
              0.3333333333333333,
              "#9c179e"
             ],
             [
              0.4444444444444444,
              "#bd3786"
             ],
             [
              0.5555555555555556,
              "#d8576b"
             ],
             [
              0.6666666666666666,
              "#ed7953"
             ],
             [
              0.7777777777777778,
              "#fb9f3a"
             ],
             [
              0.8888888888888888,
              "#fdca26"
             ],
             [
              1,
              "#f0f921"
             ]
            ],
            "type": "surface"
           }
          ],
          "table": [
           {
            "cells": {
             "fill": {
              "color": "#EBF0F8"
             },
             "line": {
              "color": "white"
             }
            },
            "header": {
             "fill": {
              "color": "#C8D4E3"
             },
             "line": {
              "color": "white"
             }
            },
            "type": "table"
           }
          ]
         },
         "layout": {
          "annotationdefaults": {
           "arrowcolor": "#2a3f5f",
           "arrowhead": 0,
           "arrowwidth": 1
          },
          "autotypenumbers": "strict",
          "coloraxis": {
           "colorbar": {
            "outlinewidth": 0,
            "ticks": ""
           }
          },
          "colorscale": {
           "diverging": [
            [
             0,
             "#8e0152"
            ],
            [
             0.1,
             "#c51b7d"
            ],
            [
             0.2,
             "#de77ae"
            ],
            [
             0.3,
             "#f1b6da"
            ],
            [
             0.4,
             "#fde0ef"
            ],
            [
             0.5,
             "#f7f7f7"
            ],
            [
             0.6,
             "#e6f5d0"
            ],
            [
             0.7,
             "#b8e186"
            ],
            [
             0.8,
             "#7fbc41"
            ],
            [
             0.9,
             "#4d9221"
            ],
            [
             1,
             "#276419"
            ]
           ],
           "sequential": [
            [
             0,
             "#0d0887"
            ],
            [
             0.1111111111111111,
             "#46039f"
            ],
            [
             0.2222222222222222,
             "#7201a8"
            ],
            [
             0.3333333333333333,
             "#9c179e"
            ],
            [
             0.4444444444444444,
             "#bd3786"
            ],
            [
             0.5555555555555556,
             "#d8576b"
            ],
            [
             0.6666666666666666,
             "#ed7953"
            ],
            [
             0.7777777777777778,
             "#fb9f3a"
            ],
            [
             0.8888888888888888,
             "#fdca26"
            ],
            [
             1,
             "#f0f921"
            ]
           ],
           "sequentialminus": [
            [
             0,
             "#0d0887"
            ],
            [
             0.1111111111111111,
             "#46039f"
            ],
            [
             0.2222222222222222,
             "#7201a8"
            ],
            [
             0.3333333333333333,
             "#9c179e"
            ],
            [
             0.4444444444444444,
             "#bd3786"
            ],
            [
             0.5555555555555556,
             "#d8576b"
            ],
            [
             0.6666666666666666,
             "#ed7953"
            ],
            [
             0.7777777777777778,
             "#fb9f3a"
            ],
            [
             0.8888888888888888,
             "#fdca26"
            ],
            [
             1,
             "#f0f921"
            ]
           ]
          },
          "colorway": [
           "#636efa",
           "#EF553B",
           "#00cc96",
           "#ab63fa",
           "#FFA15A",
           "#19d3f3",
           "#FF6692",
           "#B6E880",
           "#FF97FF",
           "#FECB52"
          ],
          "font": {
           "color": "#2a3f5f"
          },
          "geo": {
           "bgcolor": "white",
           "lakecolor": "white",
           "landcolor": "#E5ECF6",
           "showlakes": true,
           "showland": true,
           "subunitcolor": "white"
          },
          "hoverlabel": {
           "align": "left"
          },
          "hovermode": "closest",
          "mapbox": {
           "style": "light"
          },
          "paper_bgcolor": "white",
          "plot_bgcolor": "#E5ECF6",
          "polar": {
           "angularaxis": {
            "gridcolor": "white",
            "linecolor": "white",
            "ticks": ""
           },
           "bgcolor": "#E5ECF6",
           "radialaxis": {
            "gridcolor": "white",
            "linecolor": "white",
            "ticks": ""
           }
          },
          "scene": {
           "xaxis": {
            "backgroundcolor": "#E5ECF6",
            "gridcolor": "white",
            "gridwidth": 2,
            "linecolor": "white",
            "showbackground": true,
            "ticks": "",
            "zerolinecolor": "white"
           },
           "yaxis": {
            "backgroundcolor": "#E5ECF6",
            "gridcolor": "white",
            "gridwidth": 2,
            "linecolor": "white",
            "showbackground": true,
            "ticks": "",
            "zerolinecolor": "white"
           },
           "zaxis": {
            "backgroundcolor": "#E5ECF6",
            "gridcolor": "white",
            "gridwidth": 2,
            "linecolor": "white",
            "showbackground": true,
            "ticks": "",
            "zerolinecolor": "white"
           }
          },
          "shapedefaults": {
           "line": {
            "color": "#2a3f5f"
           }
          },
          "ternary": {
           "aaxis": {
            "gridcolor": "white",
            "linecolor": "white",
            "ticks": ""
           },
           "baxis": {
            "gridcolor": "white",
            "linecolor": "white",
            "ticks": ""
           },
           "bgcolor": "#E5ECF6",
           "caxis": {
            "gridcolor": "white",
            "linecolor": "white",
            "ticks": ""
           }
          },
          "title": {
           "x": 0.05
          },
          "xaxis": {
           "automargin": true,
           "gridcolor": "white",
           "linecolor": "white",
           "ticks": "",
           "title": {
            "standoff": 15
           },
           "zerolinecolor": "white",
           "zerolinewidth": 2
          },
          "yaxis": {
           "automargin": true,
           "gridcolor": "white",
           "linecolor": "white",
           "ticks": "",
           "title": {
            "standoff": 15
           },
           "zerolinecolor": "white",
           "zerolinewidth": 2
          }
         }
        },
        "title": {
         "text": "Investments vs. Passengers average over the years"
        },
        "xaxis": {
         "anchor": "y",
         "domain": [
          0,
          1
         ],
         "title": {
          "text": "Average Investments in railway infrastructure corrected by GDP"
         }
        },
        "yaxis": {
         "anchor": "x",
         "domain": [
          0,
          1
         ],
         "title": {
          "text": "Kilometres travelled per passenger"
         }
        }
       }
      },
      "text/html": [
       "<div>                            <div id=\"b6fc046d-2961-4e7e-8f55-1fcb229b0737\" class=\"plotly-graph-div\" style=\"height:525px; width:100%;\"></div>            <script type=\"text/javascript\">                require([\"plotly\"], function(Plotly) {                    window.PLOTLYENV=window.PLOTLYENV || {};                                    if (document.getElementById(\"b6fc046d-2961-4e7e-8f55-1fcb229b0737\")) {                    Plotly.newPlot(                        \"b6fc046d-2961-4e7e-8f55-1fcb229b0737\",                        [{\"hovertemplate\":\"Country=AUS<br>Year average infrastructure gdp=%{x}<br>Year average passenger km per person=%{y}<extra></extra>\",\"legendgroup\":\"AUS\",\"marker\":{\"color\":\"#636efa\",\"symbol\":\"circle\"},\"mode\":\"markers\",\"name\":\"AUS\",\"orientation\":\"v\",\"showlegend\":true,\"x\":[0.23106638683517905],\"xaxis\":\"x\",\"y\":[12913.455031254822],\"yaxis\":\"y\",\"type\":\"scatter\"},{\"hovertemplate\":\"Country=AZE<br>Year average infrastructure gdp=%{x}<br>Year average passenger km per person=%{y}<extra></extra>\",\"legendgroup\":\"AZE\",\"marker\":{\"color\":\"#EF553B\",\"symbol\":\"circle\"},\"mode\":\"markers\",\"name\":\"AZE\",\"orientation\":\"v\",\"showlegend\":true,\"x\":[0.05346274519247331],\"xaxis\":\"x\",\"y\":[1789.267842129213],\"yaxis\":\"y\",\"type\":\"scatter\"},{\"hovertemplate\":\"Country=CZE<br>Year average infrastructure gdp=%{x}<br>Year average passenger km per person=%{y}<extra></extra>\",\"legendgroup\":\"CZE\",\"marker\":{\"color\":\"#00cc96\",\"symbol\":\"circle\"},\"mode\":\"markers\",\"name\":\"CZE\",\"orientation\":\"v\",\"showlegend\":true,\"x\":[0.36038860350990326],\"xaxis\":\"x\",\"y\":[7552.008289275003],\"yaxis\":\"y\",\"type\":\"scatter\"},{\"hovertemplate\":\"Country=FIN<br>Year average infrastructure gdp=%{x}<br>Year average passenger km per person=%{y}<extra></extra>\",\"legendgroup\":\"FIN\",\"marker\":{\"color\":\"#ab63fa\",\"symbol\":\"circle\"},\"mode\":\"markers\",\"name\":\"FIN\",\"orientation\":\"v\",\"showlegend\":true,\"x\":[0.16732408997757348],\"xaxis\":\"x\",\"y\":[13157.742081416289],\"yaxis\":\"y\",\"type\":\"scatter\"},{\"hovertemplate\":\"Country=FRA<br>Year average infrastructure gdp=%{x}<br>Year average passenger km per person=%{y}<extra></extra>\",\"legendgroup\":\"FRA\",\"marker\":{\"color\":\"#FFA15A\",\"symbol\":\"circle\"},\"mode\":\"markers\",\"name\":\"FRA\",\"orientation\":\"v\",\"showlegend\":true,\"x\":[0.257464706217439],\"xaxis\":\"x\",\"y\":[12833.20430395479],\"yaxis\":\"y\",\"type\":\"scatter\"},{\"hovertemplate\":\"Country=DEU<br>Year average infrastructure gdp=%{x}<br>Year average passenger km per person=%{y}<extra></extra>\",\"legendgroup\":\"DEU\",\"marker\":{\"color\":\"#19d3f3\",\"symbol\":\"circle\"},\"mode\":\"markers\",\"name\":\"DEU\",\"orientation\":\"v\",\"showlegend\":true,\"x\":[0.18524752692667842],\"xaxis\":\"x\",\"y\":[11694.672476700174],\"yaxis\":\"y\",\"type\":\"scatter\"},{\"hovertemplate\":\"Country=HUN<br>Year average infrastructure gdp=%{x}<br>Year average passenger km per person=%{y}<extra></extra>\",\"legendgroup\":\"HUN\",\"marker\":{\"color\":\"#FF6692\",\"symbol\":\"circle\"},\"mode\":\"markers\",\"name\":\"HUN\",\"orientation\":\"v\",\"showlegend\":true,\"x\":[0.3306754130411452],\"xaxis\":\"x\",\"y\":[7136.509977155081],\"yaxis\":\"y\",\"type\":\"scatter\"},{\"hovertemplate\":\"Country=ITA<br>Year average infrastructure gdp=%{x}<br>Year average passenger km per person=%{y}<extra></extra>\",\"legendgroup\":\"ITA\",\"marker\":{\"color\":\"#B6E880\",\"symbol\":\"circle\"},\"mode\":\"markers\",\"name\":\"ITA\",\"orientation\":\"v\",\"showlegend\":true,\"x\":[0.30080851192955604],\"xaxis\":\"x\",\"y\":[13189.816665217006],\"yaxis\":\"y\",\"type\":\"scatter\"},{\"hovertemplate\":\"Country=MKD<br>Year average infrastructure gdp=%{x}<br>Year average passenger km per person=%{y}<extra></extra>\",\"legendgroup\":\"MKD\",\"marker\":{\"color\":\"#FF97FF\",\"symbol\":\"circle\"},\"mode\":\"markers\",\"name\":\"MKD\",\"orientation\":\"v\",\"showlegend\":true,\"x\":[0.06539865541358232],\"xaxis\":\"x\",\"y\":[3711.4365039565446],\"yaxis\":\"y\",\"type\":\"scatter\"},{\"hovertemplate\":\"Country=NOR<br>Year average infrastructure gdp=%{x}<br>Year average passenger km per person=%{y}<extra></extra>\",\"legendgroup\":\"NOR\",\"marker\":{\"color\":\"#FECB52\",\"symbol\":\"circle\"},\"mode\":\"markers\",\"name\":\"NOR\",\"orientation\":\"v\",\"showlegend\":true,\"x\":[0.17145799467170086],\"xaxis\":\"x\",\"y\":[12884.177900102213],\"yaxis\":\"y\",\"type\":\"scatter\"},{\"hovertemplate\":\"Country=RUS<br>Year average infrastructure gdp=%{x}<br>Year average passenger km per person=%{y}<extra></extra>\",\"legendgroup\":\"RUS\",\"marker\":{\"color\":\"#636efa\",\"symbol\":\"circle\"},\"mode\":\"markers\",\"name\":\"RUS\",\"orientation\":\"v\",\"showlegend\":true,\"x\":[0.5231623491519065],\"xaxis\":\"x\",\"y\":[970.0075786191373],\"yaxis\":\"y\",\"type\":\"scatter\"},{\"hovertemplate\":\"Country=ESP<br>Year average infrastructure gdp=%{x}<br>Year average passenger km per person=%{y}<extra></extra>\",\"legendgroup\":\"ESP\",\"marker\":{\"color\":\"#EF553B\",\"symbol\":\"circle\"},\"mode\":\"markers\",\"name\":\"ESP\",\"orientation\":\"v\",\"showlegend\":true,\"x\":[0.373117203427657],\"xaxis\":\"x\",\"y\":[8234.177264439388],\"yaxis\":\"y\",\"type\":\"scatter\"},{\"hovertemplate\":\"Country=SWE<br>Year average infrastructure gdp=%{x}<br>Year average passenger km per person=%{y}<extra></extra>\",\"legendgroup\":\"SWE\",\"marker\":{\"color\":\"#00cc96\",\"symbol\":\"circle\"},\"mode\":\"markers\",\"name\":\"SWE\",\"orientation\":\"v\",\"showlegend\":true,\"x\":[0.28033647673888124],\"xaxis\":\"x\",\"y\":[12180.539980891477],\"yaxis\":\"y\",\"type\":\"scatter\"},{\"hovertemplate\":\"Country=CHE<br>Year average infrastructure gdp=%{x}<br>Year average passenger km per person=%{y}<extra></extra>\",\"legendgroup\":\"CHE\",\"marker\":{\"color\":\"#ab63fa\",\"symbol\":\"circle\"},\"mode\":\"markers\",\"name\":\"CHE\",\"orientation\":\"v\",\"showlegend\":true,\"x\":[0.5173106807405705],\"xaxis\":\"x\",\"y\":[11602.311270214423],\"yaxis\":\"y\",\"type\":\"scatter\"},{\"hovertemplate\":\"Country=TUR<br>Year average infrastructure gdp=%{x}<br>Year average passenger km per person=%{y}<extra></extra>\",\"legendgroup\":\"TUR\",\"marker\":{\"color\":\"#FFA15A\",\"symbol\":\"circle\"},\"mode\":\"markers\",\"name\":\"TUR\",\"orientation\":\"v\",\"showlegend\":true,\"x\":[0.13956507490837283],\"xaxis\":\"x\",\"y\":[3173.803264307118],\"yaxis\":\"y\",\"type\":\"scatter\"}],                        {\"template\":{\"data\":{\"histogram2dcontour\":[{\"type\":\"histogram2dcontour\",\"colorbar\":{\"outlinewidth\":0,\"ticks\":\"\"},\"colorscale\":[[0.0,\"#0d0887\"],[0.1111111111111111,\"#46039f\"],[0.2222222222222222,\"#7201a8\"],[0.3333333333333333,\"#9c179e\"],[0.4444444444444444,\"#bd3786\"],[0.5555555555555556,\"#d8576b\"],[0.6666666666666666,\"#ed7953\"],[0.7777777777777778,\"#fb9f3a\"],[0.8888888888888888,\"#fdca26\"],[1.0,\"#f0f921\"]]}],\"choropleth\":[{\"type\":\"choropleth\",\"colorbar\":{\"outlinewidth\":0,\"ticks\":\"\"}}],\"histogram2d\":[{\"type\":\"histogram2d\",\"colorbar\":{\"outlinewidth\":0,\"ticks\":\"\"},\"colorscale\":[[0.0,\"#0d0887\"],[0.1111111111111111,\"#46039f\"],[0.2222222222222222,\"#7201a8\"],[0.3333333333333333,\"#9c179e\"],[0.4444444444444444,\"#bd3786\"],[0.5555555555555556,\"#d8576b\"],[0.6666666666666666,\"#ed7953\"],[0.7777777777777778,\"#fb9f3a\"],[0.8888888888888888,\"#fdca26\"],[1.0,\"#f0f921\"]]}],\"heatmap\":[{\"type\":\"heatmap\",\"colorbar\":{\"outlinewidth\":0,\"ticks\":\"\"},\"colorscale\":[[0.0,\"#0d0887\"],[0.1111111111111111,\"#46039f\"],[0.2222222222222222,\"#7201a8\"],[0.3333333333333333,\"#9c179e\"],[0.4444444444444444,\"#bd3786\"],[0.5555555555555556,\"#d8576b\"],[0.6666666666666666,\"#ed7953\"],[0.7777777777777778,\"#fb9f3a\"],[0.8888888888888888,\"#fdca26\"],[1.0,\"#f0f921\"]]}],\"heatmapgl\":[{\"type\":\"heatmapgl\",\"colorbar\":{\"outlinewidth\":0,\"ticks\":\"\"},\"colorscale\":[[0.0,\"#0d0887\"],[0.1111111111111111,\"#46039f\"],[0.2222222222222222,\"#7201a8\"],[0.3333333333333333,\"#9c179e\"],[0.4444444444444444,\"#bd3786\"],[0.5555555555555556,\"#d8576b\"],[0.6666666666666666,\"#ed7953\"],[0.7777777777777778,\"#fb9f3a\"],[0.8888888888888888,\"#fdca26\"],[1.0,\"#f0f921\"]]}],\"contourcarpet\":[{\"type\":\"contourcarpet\",\"colorbar\":{\"outlinewidth\":0,\"ticks\":\"\"}}],\"contour\":[{\"type\":\"contour\",\"colorbar\":{\"outlinewidth\":0,\"ticks\":\"\"},\"colorscale\":[[0.0,\"#0d0887\"],[0.1111111111111111,\"#46039f\"],[0.2222222222222222,\"#7201a8\"],[0.3333333333333333,\"#9c179e\"],[0.4444444444444444,\"#bd3786\"],[0.5555555555555556,\"#d8576b\"],[0.6666666666666666,\"#ed7953\"],[0.7777777777777778,\"#fb9f3a\"],[0.8888888888888888,\"#fdca26\"],[1.0,\"#f0f921\"]]}],\"surface\":[{\"type\":\"surface\",\"colorbar\":{\"outlinewidth\":0,\"ticks\":\"\"},\"colorscale\":[[0.0,\"#0d0887\"],[0.1111111111111111,\"#46039f\"],[0.2222222222222222,\"#7201a8\"],[0.3333333333333333,\"#9c179e\"],[0.4444444444444444,\"#bd3786\"],[0.5555555555555556,\"#d8576b\"],[0.6666666666666666,\"#ed7953\"],[0.7777777777777778,\"#fb9f3a\"],[0.8888888888888888,\"#fdca26\"],[1.0,\"#f0f921\"]]}],\"mesh3d\":[{\"type\":\"mesh3d\",\"colorbar\":{\"outlinewidth\":0,\"ticks\":\"\"}}],\"scatter\":[{\"fillpattern\":{\"fillmode\":\"overlay\",\"size\":10,\"solidity\":0.2},\"type\":\"scatter\"}],\"parcoords\":[{\"type\":\"parcoords\",\"line\":{\"colorbar\":{\"outlinewidth\":0,\"ticks\":\"\"}}}],\"scatterpolargl\":[{\"type\":\"scatterpolargl\",\"marker\":{\"colorbar\":{\"outlinewidth\":0,\"ticks\":\"\"}}}],\"bar\":[{\"error_x\":{\"color\":\"#2a3f5f\"},\"error_y\":{\"color\":\"#2a3f5f\"},\"marker\":{\"line\":{\"color\":\"#E5ECF6\",\"width\":0.5},\"pattern\":{\"fillmode\":\"overlay\",\"size\":10,\"solidity\":0.2}},\"type\":\"bar\"}],\"scattergeo\":[{\"type\":\"scattergeo\",\"marker\":{\"colorbar\":{\"outlinewidth\":0,\"ticks\":\"\"}}}],\"scatterpolar\":[{\"type\":\"scatterpolar\",\"marker\":{\"colorbar\":{\"outlinewidth\":0,\"ticks\":\"\"}}}],\"histogram\":[{\"marker\":{\"pattern\":{\"fillmode\":\"overlay\",\"size\":10,\"solidity\":0.2}},\"type\":\"histogram\"}],\"scattergl\":[{\"type\":\"scattergl\",\"marker\":{\"colorbar\":{\"outlinewidth\":0,\"ticks\":\"\"}}}],\"scatter3d\":[{\"type\":\"scatter3d\",\"line\":{\"colorbar\":{\"outlinewidth\":0,\"ticks\":\"\"}},\"marker\":{\"colorbar\":{\"outlinewidth\":0,\"ticks\":\"\"}}}],\"scattermapbox\":[{\"type\":\"scattermapbox\",\"marker\":{\"colorbar\":{\"outlinewidth\":0,\"ticks\":\"\"}}}],\"scatterternary\":[{\"type\":\"scatterternary\",\"marker\":{\"colorbar\":{\"outlinewidth\":0,\"ticks\":\"\"}}}],\"scattercarpet\":[{\"type\":\"scattercarpet\",\"marker\":{\"colorbar\":{\"outlinewidth\":0,\"ticks\":\"\"}}}],\"carpet\":[{\"aaxis\":{\"endlinecolor\":\"#2a3f5f\",\"gridcolor\":\"white\",\"linecolor\":\"white\",\"minorgridcolor\":\"white\",\"startlinecolor\":\"#2a3f5f\"},\"baxis\":{\"endlinecolor\":\"#2a3f5f\",\"gridcolor\":\"white\",\"linecolor\":\"white\",\"minorgridcolor\":\"white\",\"startlinecolor\":\"#2a3f5f\"},\"type\":\"carpet\"}],\"table\":[{\"cells\":{\"fill\":{\"color\":\"#EBF0F8\"},\"line\":{\"color\":\"white\"}},\"header\":{\"fill\":{\"color\":\"#C8D4E3\"},\"line\":{\"color\":\"white\"}},\"type\":\"table\"}],\"barpolar\":[{\"marker\":{\"line\":{\"color\":\"#E5ECF6\",\"width\":0.5},\"pattern\":{\"fillmode\":\"overlay\",\"size\":10,\"solidity\":0.2}},\"type\":\"barpolar\"}],\"pie\":[{\"automargin\":true,\"type\":\"pie\"}]},\"layout\":{\"autotypenumbers\":\"strict\",\"colorway\":[\"#636efa\",\"#EF553B\",\"#00cc96\",\"#ab63fa\",\"#FFA15A\",\"#19d3f3\",\"#FF6692\",\"#B6E880\",\"#FF97FF\",\"#FECB52\"],\"font\":{\"color\":\"#2a3f5f\"},\"hovermode\":\"closest\",\"hoverlabel\":{\"align\":\"left\"},\"paper_bgcolor\":\"white\",\"plot_bgcolor\":\"#E5ECF6\",\"polar\":{\"bgcolor\":\"#E5ECF6\",\"angularaxis\":{\"gridcolor\":\"white\",\"linecolor\":\"white\",\"ticks\":\"\"},\"radialaxis\":{\"gridcolor\":\"white\",\"linecolor\":\"white\",\"ticks\":\"\"}},\"ternary\":{\"bgcolor\":\"#E5ECF6\",\"aaxis\":{\"gridcolor\":\"white\",\"linecolor\":\"white\",\"ticks\":\"\"},\"baxis\":{\"gridcolor\":\"white\",\"linecolor\":\"white\",\"ticks\":\"\"},\"caxis\":{\"gridcolor\":\"white\",\"linecolor\":\"white\",\"ticks\":\"\"}},\"coloraxis\":{\"colorbar\":{\"outlinewidth\":0,\"ticks\":\"\"}},\"colorscale\":{\"sequential\":[[0.0,\"#0d0887\"],[0.1111111111111111,\"#46039f\"],[0.2222222222222222,\"#7201a8\"],[0.3333333333333333,\"#9c179e\"],[0.4444444444444444,\"#bd3786\"],[0.5555555555555556,\"#d8576b\"],[0.6666666666666666,\"#ed7953\"],[0.7777777777777778,\"#fb9f3a\"],[0.8888888888888888,\"#fdca26\"],[1.0,\"#f0f921\"]],\"sequentialminus\":[[0.0,\"#0d0887\"],[0.1111111111111111,\"#46039f\"],[0.2222222222222222,\"#7201a8\"],[0.3333333333333333,\"#9c179e\"],[0.4444444444444444,\"#bd3786\"],[0.5555555555555556,\"#d8576b\"],[0.6666666666666666,\"#ed7953\"],[0.7777777777777778,\"#fb9f3a\"],[0.8888888888888888,\"#fdca26\"],[1.0,\"#f0f921\"]],\"diverging\":[[0,\"#8e0152\"],[0.1,\"#c51b7d\"],[0.2,\"#de77ae\"],[0.3,\"#f1b6da\"],[0.4,\"#fde0ef\"],[0.5,\"#f7f7f7\"],[0.6,\"#e6f5d0\"],[0.7,\"#b8e186\"],[0.8,\"#7fbc41\"],[0.9,\"#4d9221\"],[1,\"#276419\"]]},\"xaxis\":{\"gridcolor\":\"white\",\"linecolor\":\"white\",\"ticks\":\"\",\"title\":{\"standoff\":15},\"zerolinecolor\":\"white\",\"automargin\":true,\"zerolinewidth\":2},\"yaxis\":{\"gridcolor\":\"white\",\"linecolor\":\"white\",\"ticks\":\"\",\"title\":{\"standoff\":15},\"zerolinecolor\":\"white\",\"automargin\":true,\"zerolinewidth\":2},\"scene\":{\"xaxis\":{\"backgroundcolor\":\"#E5ECF6\",\"gridcolor\":\"white\",\"linecolor\":\"white\",\"showbackground\":true,\"ticks\":\"\",\"zerolinecolor\":\"white\",\"gridwidth\":2},\"yaxis\":{\"backgroundcolor\":\"#E5ECF6\",\"gridcolor\":\"white\",\"linecolor\":\"white\",\"showbackground\":true,\"ticks\":\"\",\"zerolinecolor\":\"white\",\"gridwidth\":2},\"zaxis\":{\"backgroundcolor\":\"#E5ECF6\",\"gridcolor\":\"white\",\"linecolor\":\"white\",\"showbackground\":true,\"ticks\":\"\",\"zerolinecolor\":\"white\",\"gridwidth\":2}},\"shapedefaults\":{\"line\":{\"color\":\"#2a3f5f\"}},\"annotationdefaults\":{\"arrowcolor\":\"#2a3f5f\",\"arrowhead\":0,\"arrowwidth\":1},\"geo\":{\"bgcolor\":\"white\",\"landcolor\":\"#E5ECF6\",\"subunitcolor\":\"white\",\"showland\":true,\"showlakes\":true,\"lakecolor\":\"white\"},\"title\":{\"x\":0.05},\"mapbox\":{\"style\":\"light\"}}},\"xaxis\":{\"anchor\":\"y\",\"domain\":[0.0,1.0],\"title\":{\"text\":\"Average Investments in railway infrastructure corrected by GDP\"}},\"yaxis\":{\"anchor\":\"x\",\"domain\":[0.0,1.0],\"title\":{\"text\":\"Kilometres travelled per passenger\"}},\"legend\":{\"title\":{\"text\":\"Country\"},\"tracegroupgap\":0},\"title\":{\"text\":\"Investments vs. Passengers average over the years\"}},                        {\"responsive\": true}                    ).then(function(){\n",
       "                            \n",
       "var gd = document.getElementById('b6fc046d-2961-4e7e-8f55-1fcb229b0737');\n",
       "var x = new MutationObserver(function (mutations, observer) {{\n",
       "        var display = window.getComputedStyle(gd).display;\n",
       "        if (!display || display === 'none') {{\n",
       "            console.log([gd, 'removed!']);\n",
       "            Plotly.purge(gd);\n",
       "            observer.disconnect();\n",
       "        }}\n",
       "}});\n",
       "\n",
       "// Listen for the removal of the full notebook cells\n",
       "var notebookContainer = gd.closest('#notebook-container');\n",
       "if (notebookContainer) {{\n",
       "    x.observe(notebookContainer, {childList: true});\n",
       "}}\n",
       "\n",
       "// Listen for the clearing of the current output cell\n",
       "var outputEl = gd.closest('.output');\n",
       "if (outputEl) {{\n",
       "    x.observe(outputEl, {childList: true});\n",
       "}}\n",
       "\n",
       "                        })                };                });            </script>        </div>"
      ]
     },
     "metadata": {},
     "output_type": "display_data"
    }
   ],
   "source": [
    "# Import packages\n",
    "import numpy as np\n",
    "import pandas as pd\n",
    "import matplotlib.pyplot as plt\n",
    "from matplotlib.ticker import MultipleLocator\n",
    "import seaborn as sns\n",
    "from matplotlib.animation import FuncAnimation\n",
    "import plotly.express as px\n",
    "\n",
    "# Import data\n",
    "passenger_data = pd.read_csv(\"passenger_new.csv\", index_col='Country')\n",
    "infrastructure_road_data = pd.read_csv(\"infrastructure_road_new.csv\", index_col='Country')\n",
    "infrastructure_train_data = pd.read_csv(\"infrastructure_train_new.csv\", index_col='Country')\n",
    "population_data = pd.read_csv(\"population_new.csv\", index_col='Country')\n",
    "gdp_data = pd.read_csv(\"gdp_new.csv\", index_col='Country')\n",
    "gdp_per_capita_data = pd.read_csv(\"GDP_per_capita_new.csv\", index_col='Country')\n",
    "\n",
    "# Set the data type of the used datasets to float\n",
    "\n",
    "infrastructure_train_data = infrastructure_train_data.astype(float)\n",
    "gdp_data = gdp_data.astype(float)\n",
    "\n",
    "# Determine percentage of GDP that is invested in railway infrastructure\n",
    "infrastructure_gdp = infrastructure_train_data / gdp_data*100\n",
    "\n",
    "passenger_data = passenger_data.astype(float)\n",
    "population_data = population_data.astype(float)\n",
    "\n",
    "# Determine amount of kilometers travelled per passenger\n",
    "# Note that passenger data is the total amount of kilometers travelled in millions\n",
    "km_per_passenger = passenger_data / population_data*1000000\n",
    "\n",
    "# Exclude the 2020 data of investments before we determine the average\n",
    "infrastructure_gdp_up_to_2019 = infrastructure_gdp.iloc[:, :-1]\n",
    "\n",
    "# Determine the average for all years of both of the datasets\n",
    "year_average_km_per_passenger = km_per_passenger.mean(axis=1)\n",
    "year_average_infrastructure_gdp_up_to_2019 = infrastructure_gdp_up_to_2019.mean(axis=1)\n",
    "print(year_average_km_per_passenger)\n",
    "print(year_average_infrastructure_gdp_up_to_2019)\n",
    "\n",
    "# Investments year average comparing with passenger transport year average dataframe making\n",
    "df3 = pd.DataFrame(year_average_infrastructure_gdp_up_to_2019)\n",
    "df4 = pd.DataFrame(year_average_km_per_passenger)\n",
    "\n",
    "# Combine the two data frames into a seperate data frame\n",
    "df5 = pd.concat([df3, df4], axis=1)\n",
    "\n",
    "#Set the column names\n",
    "df5.columns = ['Year average infrastructure gdp', 'Year average passenger km per person'] + list(df.columns[2:])\n",
    "\n",
    "# Include the index as one of the columns as well\n",
    "df5_reset = df5.reset_index()\n",
    "print(df5_reset)\n",
    "\n",
    "# Create a scatter plot using Plotly Express\n",
    "fig = px.scatter(df5_reset, x='Year average infrastructure gdp', y='Year average passenger km per person', color= 'Country',\n",
    "                 title='Scatter Plot for Average Values', labels={'Investments': 'Average Investments', 'Passengers': 'Average Passengers'})\n",
    "\n",
    "# Customize the layout\n",
    "fig.update_layout(title='Investments vs. Passengers average over the years',\n",
    "                  xaxis_title='Average Investments in railway infrastructure corrected by GDP', yaxis_title='Kilometres travelled per passenger')\n",
    "\n",
    "# Show the plot\n",
    "fig.show()\n"
   ]
  },
  {
   "cell_type": "code",
   "execution_count": null,
   "id": "02e5a4dd",
   "metadata": {},
   "outputs": [],
   "source": []
  }
 ],
 "metadata": {
  "kernelspec": {
   "display_name": "Python 3 (ipykernel)",
   "language": "python",
   "name": "python3"
  },
  "language_info": {
   "codemirror_mode": {
    "name": "ipython",
    "version": 3
   },
   "file_extension": ".py",
   "mimetype": "text/x-python",
   "name": "python",
   "nbconvert_exporter": "python",
   "pygments_lexer": "ipython3",
   "version": "3.11.4"
  }
 },
 "nbformat": 4,
 "nbformat_minor": 5
}
