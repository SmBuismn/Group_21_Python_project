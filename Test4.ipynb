{
 "cells": [
  {
   "cell_type": "code",
   "execution_count": 1,
   "id": "3266b342",
   "metadata": {},
   "outputs": [],
   "source": [
    " Import packages\n",
    "import numpy as np\n",
    "import pandas as pd\n",
    "import matplotlib.pyplot as plt\n",
    "from matplotlib.ticker import MultipleLocator"
   ]
  },
  {
   "cell_type": "code",
   "execution_count": 2,
   "id": "1451e566",
   "metadata": {},
   "outputs": [],
   "source": [
    "# Import data\n",
    "prepare_passenger_data = pd.read_csv(\"passenger_data.csv\")\n",
    "prepare_infrastructure_data = pd.read_csv(\"InfrastructureInvestments_data.csv\")\n",
    "prepare_population_data = pd.read_csv(\"population_data.csv\")\n",
    "gdp_data = pd.read_csv(\"GDP_data.csv\")\n",
    "gdp_per_capita_data = pd.read_csv(\"GDP_per_capita_data.csv\")\n",
    "\n",
    "# Choose the timeframe you want to consider\n",
    "start_timeframe = 2000\n",
    "end_timeframe = 2020"
   ]
  },
  {
   "cell_type": "code",
   "execution_count": 3,
   "id": "df48990d",
   "metadata": {},
   "outputs": [
    {
     "name": "stdout",
     "output_type": "stream",
     "text": [
      "    Country      1995      1996      1997      1998      1999      2000  \\\n",
      "0       AFG  16418911  17106600  17788818  18493134  19262854  19542986   \n",
      "1       ALB   3284370   3271336   3253721   3232185   3208265   3182027   \n",
      "2       DZA  28478024  28984640  29476030  29924664  30346086  30774624   \n",
      "3       ASM     53421     54523     55595     56626     57617     58251   \n",
      "4       AND     62944     64166     64702     65204     65675     66116   \n",
      "..      ...       ...       ...       ...       ...       ...       ...   \n",
      "212     VIR    103468    104648    105801    106879    107842    108199   \n",
      "213     PSE   2623149   2734003   2847222   2950926   3044490   3139950   \n",
      "214     YEM  16103338  16614329  17108686  17608138  18114552  18628704   \n",
      "215     ZMB   8684139   8902025   9133160   9372432   9621248   9891140   \n",
      "216     ZWE  10994044  11178171  11362406  11548365  11716452  11834679   \n",
      "\n",
      "         2001      2002      2003  ...      2011      2012      2013  \\\n",
      "0    19688634  21000258  22645136  ...  29249156  30466484  31541216   \n",
      "1     3153615   3123554   3092993  ...   2900660   2892191   2887019   \n",
      "2    31200984  31624700  32055882  ...  36543548  37260568  38000628   \n",
      "3       58342     58200     57962  ...     54334     53718     53017   \n",
      "4       67841     70868     73929  ...     70587     71035     71385   \n",
      "..        ...       ...       ...  ...       ...       ...       ...   \n",
      "212    108019    107742    107303  ...    105491    104780    104070   \n",
      "213   3230085   3309493   3384195  ...   4087747   4184161   4281800   \n",
      "214  19143456  19660662  20188800  ...  25475608  26223390  26984008   \n",
      "215  10191966  10508294  10837971  ...  14265824  14744662  15234976   \n",
      "216  11910981  11984643  12075835  ...  13025789  13265331  13555420   \n",
      "\n",
      "         2014      2015      2016      2017      2018      2019      2020  \n",
      "0    32716214  33753500  34636212  35643420  36686788  37769496  38972236  \n",
      "1     2884100   2882482   2881064   2879361   2877019   2873883   2866850  \n",
      "2    38760168  39543148  40339328  41136548  41927008  42705372  43451668  \n",
      "3       52234     51391     50468     49486     48445     47341     46216  \n",
      "4       71644     71766     72563     73853     75034     76361     77723  \n",
      "..        ...       ...       ...       ...       ...       ...       ...  \n",
      "212    103393    102808    102330    101860    101377    100837    100452  \n",
      "213   4380473   4484615   4593855   4700954   4805549   4909775   5019407  \n",
      "214  27753310  28516552  29274010  30034386  30790514  31546694  32284044  \n",
      "215  15737796  16248231  16767758  17298056  17835898  18380478  18927716  \n",
      "216  13855758  14154937  14452705  14751101  15052191  15354606  15669663  \n",
      "\n",
      "[217 rows x 27 columns]\n"
     ]
    }
   ],
   "source": [
    "# Prepare data\n",
    "\n",
    "num_of_countries = gdp_data.shape[0]\n",
    "num_of_columns = gdp_data.shape[1]\n",
    "\n",
    "# Make new dataframes in same format as gdp_data and gdp_per_capita_data\n",
    "passenger_data = pd.DataFrame(columns=gdp_data.columns)\n",
    "infrastructure_data = pd.DataFrame(columns=gdp_data.columns)\n",
    "population_data = pd.DataFrame(columns=gdp_data.columns)\n",
    "\n",
    "# Initialize dataframe\n",
    "for i in range(num_of_countries):\n",
    "    passenger_data.loc[i] = ['..' for _ in range(num_of_columns)]\n",
    "    infrastructure_data.loc[i] = ['..' for _ in range(num_of_columns)]\n",
    "    population_data.loc[i] = ['..' for _ in range(num_of_columns)]\n",
    "\n",
    "# Every row corresponds to data of a country\n",
    "for i in range(num_of_countries):\n",
    "    passenger_data.loc[i, \"Country\"] = gdp_data.loc[i, \"Country\"]\n",
    "    infrastructure_data.loc[i, \"Country\"] = gdp_data.loc[i, \"Country\"]\n",
    "    population_data.loc[i, \"Country\"] = gdp_data.loc[i, \"Country\"]\n",
    "\n",
    "# Fill dataframes with values if they exist\n",
    "for country in gdp_data[\"Country\"]:\n",
    "    country_index = gdp_data.loc[gdp_data[\"Country\"] == country].index[0]\n",
    "\n",
    "    for year in gdp_data.columns[1:]:\n",
    "        if ((prepare_passenger_data[\"LOCATION\"] == country) & \n",
    "                                      (prepare_passenger_data[\"TIME\"] == int(year))).any():\n",
    "            if np.isnan(prepare_passenger_data[\"Value\"].iloc[prepare_passenger_data.loc[(prepare_passenger_data[\"LOCATION\"] == country) & \n",
    "                                      (prepare_passenger_data[\"TIME\"] == int(year))].index[0]]) :\n",
    "                continue\n",
    "            else:\n",
    "                passenger_data.loc[country_index,year] = prepare_passenger_data[\"Value\"].iloc[prepare_passenger_data.loc[(prepare_passenger_data[\"LOCATION\"] == country) & \n",
    "                                      (prepare_passenger_data[\"TIME\"] == int(year))].index[0]]\n",
    "                \n",
    "        if ((prepare_infrastructure_data[\"LOCATION\"] == country) & \n",
    "                                      (prepare_infrastructure_data[\"TIME\"] == int(year))).any():\n",
    "            if np.isnan(prepare_infrastructure_data[\"Value\"].iloc[prepare_infrastructure_data.loc[(prepare_infrastructure_data[\"LOCATION\"] == country) & \n",
    "                                      (prepare_infrastructure_data[\"TIME\"] == int(year))].index[0]]):\n",
    "                continue\n",
    "            else:\n",
    "                infrastructure_data.loc[country_index,year] = prepare_infrastructure_data[\"Value\"].iloc[prepare_infrastructure_data.loc[(prepare_infrastructure_data[\"LOCATION\"] == country) & \n",
    "                                        (prepare_infrastructure_data[\"TIME\"] == int(year))].index[0]]\n",
    "        \n",
    "        if ((prepare_population_data[\"Code\"] == country) & \n",
    "                                      (prepare_population_data[\"Year\"] == int(year))).any():\n",
    "            if np.isnan(prepare_population_data[\"Population\"].iloc[prepare_population_data.loc[(prepare_population_data[\"Code\"] == country) & \n",
    "                                      (prepare_population_data[\"Year\"] == int(year))].index[0]]):\n",
    "                continue\n",
    "            else:\n",
    "                population_data.loc[country_index,year] = prepare_population_data[\"Population\"].iloc[prepare_population_data.loc[(prepare_population_data[\"Code\"] == country) & \n",
    "                                        (prepare_population_data[\"Year\"] == int(year))].index[0]]\n",
    "                \n",
    "print(population_data)"
   ]
  },
  {
   "cell_type": "code",
   "execution_count": 4,
   "id": "391f0203",
   "metadata": {},
   "outputs": [
    {
     "name": "stderr",
     "output_type": "stream",
     "text": [
      "C:\\Users\\Van Heijningen\\AppData\\Local\\Temp\\ipykernel_19872\\1352832676.py:37: FutureWarning: The frame.append method is deprecated and will be removed from pandas in a future version. Use pandas.concat instead.\n",
      "  country_timeframe = country_timeframe.append(new_row, ignore_index=True)\n",
      "C:\\Users\\Van Heijningen\\AppData\\Local\\Temp\\ipykernel_19872\\1352832676.py:37: FutureWarning: The frame.append method is deprecated and will be removed from pandas in a future version. Use pandas.concat instead.\n",
      "  country_timeframe = country_timeframe.append(new_row, ignore_index=True)\n",
      "C:\\Users\\Van Heijningen\\AppData\\Local\\Temp\\ipykernel_19872\\1352832676.py:37: FutureWarning: The frame.append method is deprecated and will be removed from pandas in a future version. Use pandas.concat instead.\n",
      "  country_timeframe = country_timeframe.append(new_row, ignore_index=True)\n",
      "C:\\Users\\Van Heijningen\\AppData\\Local\\Temp\\ipykernel_19872\\1352832676.py:37: FutureWarning: The frame.append method is deprecated and will be removed from pandas in a future version. Use pandas.concat instead.\n",
      "  country_timeframe = country_timeframe.append(new_row, ignore_index=True)\n",
      "C:\\Users\\Van Heijningen\\AppData\\Local\\Temp\\ipykernel_19872\\1352832676.py:37: FutureWarning: The frame.append method is deprecated and will be removed from pandas in a future version. Use pandas.concat instead.\n",
      "  country_timeframe = country_timeframe.append(new_row, ignore_index=True)\n",
      "C:\\Users\\Van Heijningen\\AppData\\Local\\Temp\\ipykernel_19872\\1352832676.py:37: FutureWarning: The frame.append method is deprecated and will be removed from pandas in a future version. Use pandas.concat instead.\n",
      "  country_timeframe = country_timeframe.append(new_row, ignore_index=True)\n",
      "C:\\Users\\Van Heijningen\\AppData\\Local\\Temp\\ipykernel_19872\\1352832676.py:37: FutureWarning: The frame.append method is deprecated and will be removed from pandas in a future version. Use pandas.concat instead.\n",
      "  country_timeframe = country_timeframe.append(new_row, ignore_index=True)\n",
      "C:\\Users\\Van Heijningen\\AppData\\Local\\Temp\\ipykernel_19872\\1352832676.py:37: FutureWarning: The frame.append method is deprecated and will be removed from pandas in a future version. Use pandas.concat instead.\n",
      "  country_timeframe = country_timeframe.append(new_row, ignore_index=True)\n",
      "C:\\Users\\Van Heijningen\\AppData\\Local\\Temp\\ipykernel_19872\\1352832676.py:37: FutureWarning: The frame.append method is deprecated and will be removed from pandas in a future version. Use pandas.concat instead.\n",
      "  country_timeframe = country_timeframe.append(new_row, ignore_index=True)\n",
      "C:\\Users\\Van Heijningen\\AppData\\Local\\Temp\\ipykernel_19872\\1352832676.py:37: FutureWarning: The frame.append method is deprecated and will be removed from pandas in a future version. Use pandas.concat instead.\n",
      "  country_timeframe = country_timeframe.append(new_row, ignore_index=True)\n",
      "C:\\Users\\Van Heijningen\\AppData\\Local\\Temp\\ipykernel_19872\\1352832676.py:37: FutureWarning: The frame.append method is deprecated and will be removed from pandas in a future version. Use pandas.concat instead.\n",
      "  country_timeframe = country_timeframe.append(new_row, ignore_index=True)\n",
      "C:\\Users\\Van Heijningen\\AppData\\Local\\Temp\\ipykernel_19872\\1352832676.py:37: FutureWarning: The frame.append method is deprecated and will be removed from pandas in a future version. Use pandas.concat instead.\n",
      "  country_timeframe = country_timeframe.append(new_row, ignore_index=True)\n",
      "C:\\Users\\Van Heijningen\\AppData\\Local\\Temp\\ipykernel_19872\\1352832676.py:37: FutureWarning: The frame.append method is deprecated and will be removed from pandas in a future version. Use pandas.concat instead.\n",
      "  country_timeframe = country_timeframe.append(new_row, ignore_index=True)\n",
      "C:\\Users\\Van Heijningen\\AppData\\Local\\Temp\\ipykernel_19872\\1352832676.py:37: FutureWarning: The frame.append method is deprecated and will be removed from pandas in a future version. Use pandas.concat instead.\n",
      "  country_timeframe = country_timeframe.append(new_row, ignore_index=True)\n",
      "C:\\Users\\Van Heijningen\\AppData\\Local\\Temp\\ipykernel_19872\\1352832676.py:37: FutureWarning: The frame.append method is deprecated and will be removed from pandas in a future version. Use pandas.concat instead.\n",
      "  country_timeframe = country_timeframe.append(new_row, ignore_index=True)\n",
      "C:\\Users\\Van Heijningen\\AppData\\Local\\Temp\\ipykernel_19872\\1352832676.py:37: FutureWarning: The frame.append method is deprecated and will be removed from pandas in a future version. Use pandas.concat instead.\n",
      "  country_timeframe = country_timeframe.append(new_row, ignore_index=True)\n",
      "C:\\Users\\Van Heijningen\\AppData\\Local\\Temp\\ipykernel_19872\\1352832676.py:37: FutureWarning: The frame.append method is deprecated and will be removed from pandas in a future version. Use pandas.concat instead.\n",
      "  country_timeframe = country_timeframe.append(new_row, ignore_index=True)\n",
      "C:\\Users\\Van Heijningen\\AppData\\Local\\Temp\\ipykernel_19872\\1352832676.py:37: FutureWarning: The frame.append method is deprecated and will be removed from pandas in a future version. Use pandas.concat instead.\n",
      "  country_timeframe = country_timeframe.append(new_row, ignore_index=True)\n",
      "C:\\Users\\Van Heijningen\\AppData\\Local\\Temp\\ipykernel_19872\\1352832676.py:37: FutureWarning: The frame.append method is deprecated and will be removed from pandas in a future version. Use pandas.concat instead.\n",
      "  country_timeframe = country_timeframe.append(new_row, ignore_index=True)\n",
      "C:\\Users\\Van Heijningen\\AppData\\Local\\Temp\\ipykernel_19872\\1352832676.py:37: FutureWarning: The frame.append method is deprecated and will be removed from pandas in a future version. Use pandas.concat instead.\n",
      "  country_timeframe = country_timeframe.append(new_row, ignore_index=True)\n",
      "C:\\Users\\Van Heijningen\\AppData\\Local\\Temp\\ipykernel_19872\\1352832676.py:37: FutureWarning: The frame.append method is deprecated and will be removed from pandas in a future version. Use pandas.concat instead.\n",
      "  country_timeframe = country_timeframe.append(new_row, ignore_index=True)\n",
      "C:\\Users\\Van Heijningen\\AppData\\Local\\Temp\\ipykernel_19872\\1352832676.py:37: FutureWarning: The frame.append method is deprecated and will be removed from pandas in a future version. Use pandas.concat instead.\n",
      "  country_timeframe = country_timeframe.append(new_row, ignore_index=True)\n",
      "C:\\Users\\Van Heijningen\\AppData\\Local\\Temp\\ipykernel_19872\\1352832676.py:37: FutureWarning: The frame.append method is deprecated and will be removed from pandas in a future version. Use pandas.concat instead.\n",
      "  country_timeframe = country_timeframe.append(new_row, ignore_index=True)\n",
      "C:\\Users\\Van Heijningen\\AppData\\Local\\Temp\\ipykernel_19872\\1352832676.py:37: FutureWarning: The frame.append method is deprecated and will be removed from pandas in a future version. Use pandas.concat instead.\n",
      "  country_timeframe = country_timeframe.append(new_row, ignore_index=True)\n",
      "C:\\Users\\Van Heijningen\\AppData\\Local\\Temp\\ipykernel_19872\\1352832676.py:37: FutureWarning: The frame.append method is deprecated and will be removed from pandas in a future version. Use pandas.concat instead.\n",
      "  country_timeframe = country_timeframe.append(new_row, ignore_index=True)\n",
      "C:\\Users\\Van Heijningen\\AppData\\Local\\Temp\\ipykernel_19872\\1352832676.py:37: FutureWarning: The frame.append method is deprecated and will be removed from pandas in a future version. Use pandas.concat instead.\n",
      "  country_timeframe = country_timeframe.append(new_row, ignore_index=True)\n",
      "C:\\Users\\Van Heijningen\\AppData\\Local\\Temp\\ipykernel_19872\\1352832676.py:37: FutureWarning: The frame.append method is deprecated and will be removed from pandas in a future version. Use pandas.concat instead.\n",
      "  country_timeframe = country_timeframe.append(new_row, ignore_index=True)\n",
      "C:\\Users\\Van Heijningen\\AppData\\Local\\Temp\\ipykernel_19872\\1352832676.py:37: FutureWarning: The frame.append method is deprecated and will be removed from pandas in a future version. Use pandas.concat instead.\n",
      "  country_timeframe = country_timeframe.append(new_row, ignore_index=True)\n",
      "C:\\Users\\Van Heijningen\\AppData\\Local\\Temp\\ipykernel_19872\\1352832676.py:37: FutureWarning: The frame.append method is deprecated and will be removed from pandas in a future version. Use pandas.concat instead.\n",
      "  country_timeframe = country_timeframe.append(new_row, ignore_index=True)\n",
      "C:\\Users\\Van Heijningen\\AppData\\Local\\Temp\\ipykernel_19872\\1352832676.py:37: FutureWarning: The frame.append method is deprecated and will be removed from pandas in a future version. Use pandas.concat instead.\n",
      "  country_timeframe = country_timeframe.append(new_row, ignore_index=True)\n",
      "C:\\Users\\Van Heijningen\\AppData\\Local\\Temp\\ipykernel_19872\\1352832676.py:37: FutureWarning: The frame.append method is deprecated and will be removed from pandas in a future version. Use pandas.concat instead.\n",
      "  country_timeframe = country_timeframe.append(new_row, ignore_index=True)\n",
      "C:\\Users\\Van Heijningen\\AppData\\Local\\Temp\\ipykernel_19872\\1352832676.py:37: FutureWarning: The frame.append method is deprecated and will be removed from pandas in a future version. Use pandas.concat instead.\n",
      "  country_timeframe = country_timeframe.append(new_row, ignore_index=True)\n",
      "C:\\Users\\Van Heijningen\\AppData\\Local\\Temp\\ipykernel_19872\\1352832676.py:37: FutureWarning: The frame.append method is deprecated and will be removed from pandas in a future version. Use pandas.concat instead.\n",
      "  country_timeframe = country_timeframe.append(new_row, ignore_index=True)\n",
      "C:\\Users\\Van Heijningen\\AppData\\Local\\Temp\\ipykernel_19872\\1352832676.py:37: FutureWarning: The frame.append method is deprecated and will be removed from pandas in a future version. Use pandas.concat instead.\n",
      "  country_timeframe = country_timeframe.append(new_row, ignore_index=True)\n",
      "C:\\Users\\Van Heijningen\\AppData\\Local\\Temp\\ipykernel_19872\\1352832676.py:37: FutureWarning: The frame.append method is deprecated and will be removed from pandas in a future version. Use pandas.concat instead.\n",
      "  country_timeframe = country_timeframe.append(new_row, ignore_index=True)\n"
     ]
    }
   ],
   "source": [
    "# Create empty dataframe to check on what timeframe there is data per country\n",
    "data_empty = {'Country': [], 'Timeframe passenger': [], 'Timeframe infrastructure': []}\n",
    "country_timeframe = pd.DataFrame(data_empty)\n",
    "\n",
    "# Determine timeframe per country for passenger and infrastructure data\n",
    "for country in gdp_data[\"Country\"]:\n",
    "    country_index = gdp_data.loc[gdp_data[\"Country\"] == country].index[0]\n",
    "\n",
    "    passenger_start = 0\n",
    "    passenger_stop = 0\n",
    "    passenger_count = 0\n",
    "\n",
    "    infrastructure_start = 0\n",
    "    infrastructure_stop = 0\n",
    "    infrastructure_count = 0\n",
    "    \n",
    "    for year in gdp_data.columns[1:]:\n",
    "        if passenger_data.loc[country_index,year] != \"..\":\n",
    "            if passenger_start == 0:\n",
    "                passenger_start = int(year)\n",
    "            passenger_stop = int(year)\n",
    "            passenger_count += 1\n",
    "\n",
    "        if infrastructure_data.loc[country_index,year] != \"..\":\n",
    "            if infrastructure_start == 0:\n",
    "                infrastructure_start = int(year)\n",
    "            infrastructure_stop = int(year)\n",
    "            infrastructure_count += 1\n",
    "\n",
    "    # Continue if there is no data for a country or there is data missing in between\n",
    "    if (passenger_stop - passenger_start + 1 != passenger_count or\n",
    "        infrastructure_stop - infrastructure_start + 1 != infrastructure_count):\n",
    "        continue\n",
    "\n",
    "    else:\n",
    "        new_row = {'Country': country, 'Timeframe passenger': \"{}-{}\".format(passenger_start,passenger_stop), 'Timeframe infrastructure': \"{}-{}\".format(infrastructure_start,infrastructure_stop)}\n",
    "        country_timeframe = country_timeframe.append(new_row, ignore_index=True)\n",
    "\n",
    "# Create empty list for countries that have data for entire timeframe\n",
    "feasible_countries = []\n",
    "\n",
    "for country in country_timeframe[\"Country\"]:\n",
    "    country_index = country_timeframe.loc[country_timeframe[\"Country\"] == country].index[0]\n",
    "\n",
    "    years_timeframe_passenger = country_timeframe[\"Timeframe passenger\"].iloc[country_index].split('-')\n",
    "    years_timeframe_infrastructure = country_timeframe[\"Timeframe infrastructure\"].iloc[country_index].split('-')\n",
    "\n",
    "    start_year_passenger = int(years_timeframe_passenger[0])\n",
    "    end_year_passenger = int(years_timeframe_passenger[1])\n",
    "\n",
    "    start_year_infrastructure = int(years_timeframe_infrastructure[0])\n",
    "    end_year_infrastructure = int(years_timeframe_infrastructure[1])\n",
    "\n",
    "    # Add countries to feasible_countries if data is available on entire timeframe for both passengers and infrastructure\n",
    "    if (max(start_year_passenger,start_year_infrastructure) <= start_timeframe) & (min(end_year_passenger,end_year_infrastructure) >= end_timeframe):\n",
    "        feasible_countries.append(country)\n",
    "\n",
    "# Drop all years from dataframe that are not in timeframe\n",
    "for year in gdp_data.columns[1:]:\n",
    "    if int(year) < start_timeframe or int(year) > end_timeframe:\n",
    "        gdp_data = gdp_data.drop(year, axis=1)\n",
    "        gdp_per_capita_data = gdp_per_capita_data.drop(year, axis=1)\n",
    "        passenger_data = passenger_data.drop(year, axis=1)\n",
    "        infrastructure_data = infrastructure_data.drop(year, axis=1)\n",
    "\n",
    "# Drop all countries from dataframe that are not in feasible countries\n",
    "gdp_data = gdp_data[gdp_data['Country'].isin(feasible_countries)]\n",
    "gdp_per_capita_data = gdp_per_capita_data[gdp_per_capita_data['Country'].isin(feasible_countries)]\n",
    "passenger_data = passenger_data[passenger_data['Country'].isin(feasible_countries)]\n",
    "infrastructure_data = infrastructure_data[infrastructure_data['Country'].isin(feasible_countries)]"
   ]
  },
  {
   "cell_type": "code",
   "execution_count": 6,
   "id": "d6914cf2",
   "metadata": {},
   "outputs": [],
   "source": [
    "# Set countries as index to make plotting easier\n",
    "gdp_data.set_index('Country', inplace=True)\n",
    "gdp_data = gdp_data.applymap(lambda x: '{:.0f}'.format(float(x)))  # Convert large numbers (e-powers) to normal numbers\n",
    "gdp_per_capita_data.set_index('Country', inplace=True)\n",
    "passenger_data.set_index('Country', inplace=True)\n",
    "infrastructure_data.set_index('Country', inplace=True)"
   ]
  },
  {
   "cell_type": "code",
   "execution_count": 7,
   "id": "6758f6c6",
   "metadata": {},
   "outputs": [
    {
     "data": {
      "image/png": "[encoded data removed]",
      "text/plain": [
       "<Figure size 1200x600 with 1 Axes>"
      ]
     },
     "metadata": {},
     "output_type": "display_data"
    }
   ],
   "source": [
    "infrastructure_data = infrastructure_data.astype(float)\n",
    "gdp_data = gdp_data.astype(float)\n",
    "\n",
    "# Determine percentage of GDP that is invested in railway infrastructure\n",
    "infrastructure_gdp = infrastructure_data / gdp_data * 100\n",
    "\n",
    "# Create figure\n",
    "plt.figure(figsize=(12, 6))\n",
    "\n",
    "# Plot every country\n",
    "for i, (index, row) in enumerate(infrastructure_gdp.iterrows()):\n",
    "    plt.plot(row.index, row.values, marker='o', label=f'{index}', linewidth=0.5, color=plt.cm.tab20(i))\n",
    "\n",
    "# Adjust years on x-axis for visibility\n",
    "ax = plt.gca()\n",
    "ax.xaxis.set_major_locator(MultipleLocator(base=5))\n",
    "\n",
    "plt.xlabel('Year')\n",
    "plt.ylabel('Investment in infrastructur (% of GDP)')\n",
    "\n",
    "plt.legend(loc='upper right', fontsize='small', ncol = 4)\n",
    "plt.show()"
   ]
  },
  {
   "cell_type": "code",
   "execution_count": 64,
   "id": "723349e2",
   "metadata": {},
   "outputs": [],
   "source": [
    "# Import packages\n",
    "import numpy as np\n",
    "import pandas as pd\n",
    "import matplotlib.pyplot as plt\n",
    "from matplotlib.ticker import MultipleLocator\n",
    "import seaborn as sns\n",
    "from matplotlib.animation import FuncAnimation\n",
    "import plotly.express as px\n",
    "\n",
    "# Import data\n",
    "passenger_data = pd.read_csv(\"passenger_new.csv\", index_col='Country')\n",
    "infrastructure_road_data = pd.read_csv(\"infrastructure_road_new.csv\", index_col='Country')\n",
    "infrastructure_train_data = pd.read_csv(\"infrastructure_train_new.csv\", index_col='Country')\n",
    "population_data = pd.read_csv(\"population_new.csv\", index_col='Country')\n",
    "gdp_data = pd.read_csv(\"gdp_new.csv\", index_col='Country')\n",
    "gdp_per_capita_data = pd.read_csv(\"GDP_per_capita_new.csv\", index_col='Country')\n",
    "\n",
    "# Set the data type of the used datasets to float\n",
    "\n",
    "infrastructure_train_data = infrastructure_train_data.astype(float)\n",
    "gdp_data = gdp_data.astype(float)\n",
    "\n",
    "# Determine percentage of GDP that is invested in railway infrastructure\n",
    "infrastructure_gdp = infrastructure_train_data / gdp_data*100\n",
    "\n",
    "passenger_data = passenger_data.astype(float)\n",
    "population_data = population_data.astype(float)\n",
    "\n",
    "# Determine amount of kilometers travelled per passenger\n",
    "# Note that passenger data is the total amount of kilometers travelled in millions\n",
    "km_per_passenger = passenger_data / population_data*1000000"
   ]
  },
  {
   "cell_type": "code",
   "execution_count": 72,
   "id": "899f3d2e",
   "metadata": {},
   "outputs": [
    {
     "name": "stdout",
     "output_type": "stream",
     "text": [
      "Country\n",
      "AUS    12913.455031\n",
      "AZE     1789.267842\n",
      "CZE     7552.008289\n",
      "FIN    13157.742081\n",
      "FRA    12833.204304\n",
      "DEU    11694.672477\n",
      "HUN     7136.509977\n",
      "ITA    13189.816665\n",
      "MKD     3711.436504\n",
      "NOR    12884.177900\n",
      "RUS      970.007579\n",
      "ESP     8234.177264\n",
      "SWE    12180.539981\n",
      "CHE    11602.311270\n",
      "TUR     3173.803264\n",
      "dtype: float64\n",
      "Country\n",
      "AUS    0.238655\n",
      "AZE    0.050974\n",
      "CZE    0.364972\n",
      "FIN    0.171331\n",
      "FRA    0.264666\n",
      "DEU    0.188196\n",
      "HUN    0.336695\n",
      "ITA    0.310966\n",
      "MKD    0.064183\n",
      "NOR    0.182404\n",
      "RUS    0.515205\n",
      "ESP    0.364206\n",
      "SWE    0.285101\n",
      "CHE    0.517111\n",
      "TUR    0.147739\n",
      "dtype: float64\n"
     ]
    }
   ],
   "source": [
    "# Determine the average for all years of both of the datasets\n",
    "year_average_km_per_passenger = km_per_passenger.mean(axis=1)\n",
    "year_average_infrastructure_gdp = infrastructure_gdp.mean(axis=1)\n",
    "print(year_average_km_per_passenger)\n",
    "print(year_average_infrastructure_gdp)"
   ]
  },
  {
   "cell_type": "code",
   "execution_count": 65,
   "id": "a6e75d1e",
   "metadata": {},
   "outputs": [],
   "source": [
    "# Investments year average comparing with passenger transport year average dataframe making\n",
    "df1 = pd.DataFrame(year_average_infrastructure_gdp)\n",
    "df2 = pd.DataFrame(year_average_km_per_passenger)\n"
   ]
  },
  {
   "cell_type": "code",
   "execution_count": 69,
   "id": "86b317fc",
   "metadata": {},
   "outputs": [
    {
     "name": "stdout",
     "output_type": "stream",
     "text": [
      "   Country  Year average infrastructure gdp  \\\n",
      "0      AUS                         0.238655   \n",
      "1      AZE                         0.050974   \n",
      "2      CZE                         0.364972   \n",
      "3      FIN                         0.171331   \n",
      "4      FRA                         0.264666   \n",
      "5      DEU                         0.188196   \n",
      "6      HUN                         0.336695   \n",
      "7      ITA                         0.310966   \n",
      "8      MKD                         0.064183   \n",
      "9      NOR                         0.182404   \n",
      "10     RUS                         0.515205   \n",
      "11     ESP                         0.364206   \n",
      "12     SWE                         0.285101   \n",
      "13     CHE                         0.517111   \n",
      "14     TUR                         0.147739   \n",
      "\n",
      "    Year average passenger km per person  \n",
      "0                           12913.455031  \n",
      "1                            1789.267842  \n",
      "2                            7552.008289  \n",
      "3                           13157.742081  \n",
      "4                           12833.204304  \n",
      "5                           11694.672477  \n",
      "6                            7136.509977  \n",
      "7                           13189.816665  \n",
      "8                            3711.436504  \n",
      "9                           12884.177900  \n",
      "10                            970.007579  \n",
      "11                           8234.177264  \n",
      "12                          12180.539981  \n",
      "13                          11602.311270  \n",
      "14                           3173.803264  \n"
     ]
    }
   ],
   "source": [
    "# Combine the two data frames into a seperate data frame\n",
    "df = pd.concat([df1, df2], axis=1)\n",
    "\n",
    "#Set the column names\n",
    "df.columns = ['Year average infrastructure gdp', 'Year average passenger km per person'] + list(df.columns[2:])\n",
    "\n",
    "# Include the index as one of the columns as well\n",
    "df_reset = df.reset_index()\n",
    "print(df_reset)"
   ]
  },
  {
   "cell_type": "code",
   "execution_count": 73,
   "id": "7435cac5",
   "metadata": {},
   "outputs": [
    {
     "data": {
      "application/vnd.plotly.v1+json": {
       "config": {
        "plotlyServerURL": "https://plot.ly"
       },
       "data": [
        {
         "hovertemplate": "Country=AUS<br>Year average infrastructure gdp=%{x}<br>Year average passenger km per person=%{y}<extra></extra>",
         "legendgroup": "AUS",
         "marker": {
          "color": "#636efa",
          "symbol": "circle"
         },
         "mode": "markers",
         "name": "AUS",
         "orientation": "v",
         "showlegend": true,
         "type": "scatter",
         "x": [
          0.23865515088133774
         ],
         "xaxis": "x",
         "y": [
          12913.455031254822
         ],
         "yaxis": "y"
        },
        {
         "hovertemplate": "Country=AZE<br>Year average infrastructure gdp=%{x}<br>Year average passenger km per person=%{y}<extra></extra>",
         "legendgroup": "AZE",
         "marker": {
          "color": "#EF553B",
          "symbol": "circle"
         },
         "mode": "markers",
         "name": "AZE",
         "orientation": "v",
         "showlegend": true,
         "type": "scatter",
         "x": [
          0.05097438822722723
         ],
         "xaxis": "x",
         "y": [
          1789.267842129213
         ],
         "yaxis": "y"
        },
        {
         "hovertemplate": "Country=CZE<br>Year average infrastructure gdp=%{x}<br>Year average passenger km per person=%{y}<extra></extra>",
         "legendgroup": "CZE",
         "marker": {
          "color": "#00cc96",
          "symbol": "circle"
         },
         "mode": "markers",
         "name": "CZE",
         "orientation": "v",
         "showlegend": true,
         "type": "scatter",
         "x": [
          0.36497173026881996
         ],
         "xaxis": "x",
         "y": [
          7552.008289275003
         ],
         "yaxis": "y"
        },
        {
         "hovertemplate": "Country=FIN<br>Year average infrastructure gdp=%{x}<br>Year average passenger km per person=%{y}<extra></extra>",
         "legendgroup": "FIN",
         "marker": {
          "color": "#ab63fa",
          "symbol": "circle"
         },
         "mode": "markers",
         "name": "FIN",
         "orientation": "v",
         "showlegend": true,
         "type": "scatter",
         "x": [
          0.171331066085084
         ],
         "xaxis": "x",
         "y": [
          13157.742081416289
         ],
         "yaxis": "y"
        },
        {
         "hovertemplate": "Country=FRA<br>Year average infrastructure gdp=%{x}<br>Year average passenger km per person=%{y}<extra></extra>",
         "legendgroup": "FRA",
         "marker": {
          "color": "#FFA15A",
          "symbol": "circle"
         },
         "mode": "markers",
         "name": "FRA",
         "orientation": "v",
         "showlegend": true,
         "type": "scatter",
         "x": [
          0.264665844689408
         ],
         "xaxis": "x",
         "y": [
          12833.20430395479
         ],
         "yaxis": "y"
        },
        {
         "hovertemplate": "Country=DEU<br>Year average infrastructure gdp=%{x}<br>Year average passenger km per person=%{y}<extra></extra>",
         "legendgroup": "DEU",
         "marker": {
          "color": "#19d3f3",
          "symbol": "circle"
         },
         "mode": "markers",
         "name": "DEU",
         "orientation": "v",
         "showlegend": true,
         "type": "scatter",
         "x": [
          0.18819632262082975
         ],
         "xaxis": "x",
         "y": [
          11694.672476700174
         ],
         "yaxis": "y"
        },
        {
         "hovertemplate": "Country=HUN<br>Year average infrastructure gdp=%{x}<br>Year average passenger km per person=%{y}<extra></extra>",
         "legendgroup": "HUN",
         "marker": {
          "color": "#FF6692",
          "symbol": "circle"
         },
         "mode": "markers",
         "name": "HUN",
         "orientation": "v",
         "showlegend": true,
         "type": "scatter",
         "x": [
          0.3366948696175906
         ],
         "xaxis": "x",
         "y": [
          7136.509977155081
         ],
         "yaxis": "y"
        },
        {
         "hovertemplate": "Country=ITA<br>Year average infrastructure gdp=%{x}<br>Year average passenger km per person=%{y}<extra></extra>",
         "legendgroup": "ITA",
         "marker": {
          "color": "#B6E880",
          "symbol": "circle"
         },
         "mode": "markers",
         "name": "ITA",
         "orientation": "v",
         "showlegend": true,
         "type": "scatter",
         "x": [
          0.31096550008328644
         ],
         "xaxis": "x",
         "y": [
          13189.816665217006
         ],
         "yaxis": "y"
        },
        {
         "hovertemplate": "Country=MKD<br>Year average infrastructure gdp=%{x}<br>Year average passenger km per person=%{y}<extra></extra>",
         "legendgroup": "MKD",
         "marker": {
          "color": "#FF97FF",
          "symbol": "circle"
         },
         "mode": "markers",
         "name": "MKD",
         "orientation": "v",
         "showlegend": true,
         "type": "scatter",
         "x": [
          0.0641829065715818
         ],
         "xaxis": "x",
         "y": [
          3711.4365039565446
         ],
         "yaxis": "y"
        },
        {
         "hovertemplate": "Country=NOR<br>Year average infrastructure gdp=%{x}<br>Year average passenger km per person=%{y}<extra></extra>",
         "legendgroup": "NOR",
         "marker": {
          "color": "#FECB52",
          "symbol": "circle"
         },
         "mode": "markers",
         "name": "NOR",
         "orientation": "v",
         "showlegend": true,
         "type": "scatter",
         "x": [
          0.18240380156362815
         ],
         "xaxis": "x",
         "y": [
          12884.177900102213
         ],
         "yaxis": "y"
        },
        {
         "hovertemplate": "Country=RUS<br>Year average infrastructure gdp=%{x}<br>Year average passenger km per person=%{y}<extra></extra>",
         "legendgroup": "RUS",
         "marker": {
          "color": "#636efa",
          "symbol": "circle"
         },
         "mode": "markers",
         "name": "RUS",
         "orientation": "v",
         "showlegend": true,
         "type": "scatter",
         "x": [
          0.5152050998059066
         ],
         "xaxis": "x",
         "y": [
          970.0075786191373
         ],
         "yaxis": "y"
        },
        {
         "hovertemplate": "Country=ESP<br>Year average infrastructure gdp=%{x}<br>Year average passenger km per person=%{y}<extra></extra>",
         "legendgroup": "ESP",
         "marker": {
          "color": "#EF553B",
          "symbol": "circle"
         },
         "mode": "markers",
         "name": "ESP",
         "orientation": "v",
         "showlegend": true,
         "type": "scatter",
         "x": [
          0.3642059563894352
         ],
         "xaxis": "x",
         "y": [
          8234.177264439388
         ],
         "yaxis": "y"
        },
        {
         "hovertemplate": "Country=SWE<br>Year average infrastructure gdp=%{x}<br>Year average passenger km per person=%{y}<extra></extra>",
         "legendgroup": "SWE",
         "marker": {
          "color": "#00cc96",
          "symbol": "circle"
         },
         "mode": "markers",
         "name": "SWE",
         "orientation": "v",
         "showlegend": true,
         "type": "scatter",
         "x": [
          0.2851005659026169
         ],
         "xaxis": "x",
         "y": [
          12180.539980891477
         ],
         "yaxis": "y"
        },
        {
         "hovertemplate": "Country=CHE<br>Year average infrastructure gdp=%{x}<br>Year average passenger km per person=%{y}<extra></extra>",
         "legendgroup": "CHE",
         "marker": {
          "color": "#ab63fa",
          "symbol": "circle"
         },
         "mode": "markers",
         "name": "CHE",
         "orientation": "v",
         "showlegend": true,
         "type": "scatter",
         "x": [
          0.517110984508394
         ],
         "xaxis": "x",
         "y": [
          11602.311270214423
         ],
         "yaxis": "y"
        },
        {
         "hovertemplate": "Country=TUR<br>Year average infrastructure gdp=%{x}<br>Year average passenger km per person=%{y}<extra></extra>",
         "legendgroup": "TUR",
         "marker": {
          "color": "#FFA15A",
          "symbol": "circle"
         },
         "mode": "markers",
         "name": "TUR",
         "orientation": "v",
         "showlegend": true,
         "type": "scatter",
         "x": [
          0.14773934903972016
         ],
         "xaxis": "x",
         "y": [
          3173.803264307118
         ],
         "yaxis": "y"
        }
       ],
       "layout": {
        "legend": {
         "title": {
          "text": "Country"
         },
         "tracegroupgap": 0
        },
        "template": {
         "data": {
          "bar": [
           {
            "error_x": {
             "color": "#2a3f5f"
            },
            "error_y": {
             "color": "#2a3f5f"
            },
            "marker": {
             "line": {
              "color": "#E5ECF6",
              "width": 0.5
             },
             "pattern": {
              "fillmode": "overlay",
              "size": 10,
              "solidity": 0.2
             }
            },
            "type": "bar"
           }
          ],
          "barpolar": [
           {
            "marker": {
             "line": {
              "color": "#E5ECF6",
              "width": 0.5
             },
             "pattern": {
              "fillmode": "overlay",
              "size": 10,
              "solidity": 0.2
             }
            },
            "type": "barpolar"
           }
          ],
          "carpet": [
           {
            "aaxis": {
             "endlinecolor": "#2a3f5f",
             "gridcolor": "white",
             "linecolor": "white",
             "minorgridcolor": "white",
             "startlinecolor": "#2a3f5f"
            },
            "baxis": {
             "endlinecolor": "#2a3f5f",
             "gridcolor": "white",
             "linecolor": "white",
             "minorgridcolor": "white",
             "startlinecolor": "#2a3f5f"
            },
            "type": "carpet"
           }
          ],
          "choropleth": [
           {
            "colorbar": {
             "outlinewidth": 0,
             "ticks": ""
            },
            "type": "choropleth"
           }
          ],
          "contour": [
           {
            "colorbar": {
             "outlinewidth": 0,
             "ticks": ""
            },
            "colorscale": [
             [
              0,
              "#0d0887"
             ],
             [
              0.1111111111111111,
              "#46039f"
             ],
             [
              0.2222222222222222,
              "#7201a8"
             ],
             [
              0.3333333333333333,
              "#9c179e"
             ],
             [
              0.4444444444444444,
              "#bd3786"
             ],
             [
              0.5555555555555556,
              "#d8576b"
             ],
             [
              0.6666666666666666,
              "#ed7953"
             ],
             [
              0.7777777777777778,
              "#fb9f3a"
             ],
             [
              0.8888888888888888,
              "#fdca26"
             ],
             [
              1,
              "#f0f921"
             ]
            ],
            "type": "contour"
           }
          ],
          "contourcarpet": [
           {
            "colorbar": {
             "outlinewidth": 0,
             "ticks": ""
            },
            "type": "contourcarpet"
           }
          ],
          "heatmap": [
           {
            "colorbar": {
             "outlinewidth": 0,
             "ticks": ""
            },
            "colorscale": [
             [
              0,
              "#0d0887"
             ],
             [
              0.1111111111111111,
              "#46039f"
             ],
             [
              0.2222222222222222,
              "#7201a8"
             ],
             [
              0.3333333333333333,
              "#9c179e"
             ],
             [
              0.4444444444444444,
              "#bd3786"
             ],
             [
              0.5555555555555556,
              "#d8576b"
             ],
             [
              0.6666666666666666,
              "#ed7953"
             ],
             [
              0.7777777777777778,
              "#fb9f3a"
             ],
             [
              0.8888888888888888,
              "#fdca26"
             ],
             [
              1,
              "#f0f921"
             ]
            ],
            "type": "heatmap"
           }
          ],
          "heatmapgl": [
           {
            "colorbar": {
             "outlinewidth": 0,
             "ticks": ""
            },
            "colorscale": [
             [
              0,
              "#0d0887"
             ],
             [
              0.1111111111111111,
              "#46039f"
             ],
             [
              0.2222222222222222,
              "#7201a8"
             ],
             [
              0.3333333333333333,
              "#9c179e"
             ],
             [
              0.4444444444444444,
              "#bd3786"
             ],
             [
              0.5555555555555556,
              "#d8576b"
             ],
             [
              0.6666666666666666,
              "#ed7953"
             ],
             [
              0.7777777777777778,
              "#fb9f3a"
             ],
             [
              0.8888888888888888,
              "#fdca26"
             ],
             [
              1,
              "#f0f921"
             ]
            ],
            "type": "heatmapgl"
           }
          ],
          "histogram": [
           {
            "marker": {
             "pattern": {
              "fillmode": "overlay",
              "size": 10,
              "solidity": 0.2
             }
            },
            "type": "histogram"
           }
          ],
          "histogram2d": [
           {
            "colorbar": {
             "outlinewidth": 0,
             "ticks": ""
            },
            "colorscale": [
             [
              0,
              "#0d0887"
             ],
             [
              0.1111111111111111,
              "#46039f"
             ],
             [
              0.2222222222222222,
              "#7201a8"
             ],
             [
              0.3333333333333333,
              "#9c179e"
             ],
             [
              0.4444444444444444,
              "#bd3786"
             ],
             [
              0.5555555555555556,
              "#d8576b"
             ],
             [
              0.6666666666666666,
              "#ed7953"
             ],
             [
              0.7777777777777778,
              "#fb9f3a"
             ],
             [
              0.8888888888888888,
              "#fdca26"
             ],
             [
              1,
              "#f0f921"
             ]
            ],
            "type": "histogram2d"
           }
          ],
          "histogram2dcontour": [
           {
            "colorbar": {
             "outlinewidth": 0,
             "ticks": ""
            },
            "colorscale": [
             [
              0,
              "#0d0887"
             ],
             [
              0.1111111111111111,
              "#46039f"
             ],
             [
              0.2222222222222222,
              "#7201a8"
             ],
             [
              0.3333333333333333,
              "#9c179e"
             ],
             [
              0.4444444444444444,
              "#bd3786"
             ],
             [
              0.5555555555555556,
              "#d8576b"
             ],
             [
              0.6666666666666666,
              "#ed7953"
             ],
             [
              0.7777777777777778,
              "#fb9f3a"
             ],
             [
              0.8888888888888888,
              "#fdca26"
             ],
             [
              1,
              "#f0f921"
             ]
            ],
            "type": "histogram2dcontour"
           }
          ],
          "mesh3d": [
           {
            "colorbar": {
             "outlinewidth": 0,
             "ticks": ""
            },
            "type": "mesh3d"
           }
          ],
          "parcoords": [
           {
            "line": {
             "colorbar": {
              "outlinewidth": 0,
              "ticks": ""
             }
            },
            "type": "parcoords"
           }
          ],
          "pie": [
           {
            "automargin": true,
            "type": "pie"
           }
          ],
          "scatter": [
           {
            "fillpattern": {
             "fillmode": "overlay",
             "size": 10,
             "solidity": 0.2
            },
            "type": "scatter"
           }
          ],
          "scatter3d": [
           {
            "line": {
             "colorbar": {
              "outlinewidth": 0,
              "ticks": ""
             }
            },
            "marker": {
             "colorbar": {
              "outlinewidth": 0,
              "ticks": ""
             }
            },
            "type": "scatter3d"
           }
          ],
          "scattercarpet": [
           {
            "marker": {
             "colorbar": {
              "outlinewidth": 0,
              "ticks": ""
             }
            },
            "type": "scattercarpet"
           }
          ],
          "scattergeo": [
           {
            "marker": {
             "colorbar": {
              "outlinewidth": 0,
              "ticks": ""
             }
            },
            "type": "scattergeo"
           }
          ],
          "scattergl": [
           {
            "marker": {
             "colorbar": {
              "outlinewidth": 0,
              "ticks": ""
             }
            },
            "type": "scattergl"
           }
          ],
          "scattermapbox": [
           {
            "marker": {
             "colorbar": {
              "outlinewidth": 0,
              "ticks": ""
             }
            },
            "type": "scattermapbox"
           }
          ],
          "scatterpolar": [
           {
            "marker": {
             "colorbar": {
              "outlinewidth": 0,
              "ticks": ""
             }
            },
            "type": "scatterpolar"
           }
          ],
          "scatterpolargl": [
           {
            "marker": {
             "colorbar": {
              "outlinewidth": 0,
              "ticks": ""
             }
            },
            "type": "scatterpolargl"
           }
          ],
          "scatterternary": [
           {
            "marker": {
             "colorbar": {
              "outlinewidth": 0,
              "ticks": ""
             }
            },
            "type": "scatterternary"
           }
          ],
          "surface": [
           {
            "colorbar": {
             "outlinewidth": 0,
             "ticks": ""
            },
            "colorscale": [
             [
              0,
              "#0d0887"
             ],
             [
              0.1111111111111111,
              "#46039f"
             ],
             [
              0.2222222222222222,
              "#7201a8"
             ],
             [
              0.3333333333333333,
              "#9c179e"
             ],
             [
              0.4444444444444444,
              "#bd3786"
             ],
             [
              0.5555555555555556,
              "#d8576b"
             ],
             [
              0.6666666666666666,
              "#ed7953"
             ],
             [
              0.7777777777777778,
              "#fb9f3a"
             ],
             [
              0.8888888888888888,
              "#fdca26"
             ],
             [
              1,
              "#f0f921"
             ]
            ],
            "type": "surface"
           }
          ],
          "table": [
           {
            "cells": {
             "fill": {
              "color": "#EBF0F8"
             },
             "line": {
              "color": "white"
             }
            },
            "header": {
             "fill": {
              "color": "#C8D4E3"
             },
             "line": {
              "color": "white"
             }
            },
            "type": "table"
           }
          ]
         },
         "layout": {
          "annotationdefaults": {
           "arrowcolor": "#2a3f5f",
           "arrowhead": 0,
           "arrowwidth": 1
          },
          "autotypenumbers": "strict",
          "coloraxis": {
           "colorbar": {
            "outlinewidth": 0,
            "ticks": ""
           }
          },
          "colorscale": {
           "diverging": [
            [
             0,
             "#8e0152"
            ],
            [
             0.1,
             "#c51b7d"
            ],
            [
             0.2,
             "#de77ae"
            ],
            [
             0.3,
             "#f1b6da"
            ],
            [
             0.4,
             "#fde0ef"
            ],
            [
             0.5,
             "#f7f7f7"
            ],
            [
             0.6,
             "#e6f5d0"
            ],
            [
             0.7,
             "#b8e186"
            ],
            [
             0.8,
             "#7fbc41"
            ],
            [
             0.9,
             "#4d9221"
            ],
            [
             1,
             "#276419"
            ]
           ],
           "sequential": [
            [
             0,
             "#0d0887"
            ],
            [
             0.1111111111111111,
             "#46039f"
            ],
            [
             0.2222222222222222,
             "#7201a8"
            ],
            [
             0.3333333333333333,
             "#9c179e"
            ],
            [
             0.4444444444444444,
             "#bd3786"
            ],
            [
             0.5555555555555556,
             "#d8576b"
            ],
            [
             0.6666666666666666,
             "#ed7953"
            ],
            [
             0.7777777777777778,
             "#fb9f3a"
            ],
            [
             0.8888888888888888,
             "#fdca26"
            ],
            [
             1,
             "#f0f921"
            ]
           ],
           "sequentialminus": [
            [
             0,
             "#0d0887"
            ],
            [
             0.1111111111111111,
             "#46039f"
            ],
            [
             0.2222222222222222,
             "#7201a8"
            ],
            [
             0.3333333333333333,
             "#9c179e"
            ],
            [
             0.4444444444444444,
             "#bd3786"
            ],
            [
             0.5555555555555556,
             "#d8576b"
            ],
            [
             0.6666666666666666,
             "#ed7953"
            ],
            [
             0.7777777777777778,
             "#fb9f3a"
            ],
            [
             0.8888888888888888,
             "#fdca26"
            ],
            [
             1,
             "#f0f921"
            ]
           ]
          },
          "colorway": [
           "#636efa",
           "#EF553B",
           "#00cc96",
           "#ab63fa",
           "#FFA15A",
           "#19d3f3",
           "#FF6692",
           "#B6E880",
           "#FF97FF",
           "#FECB52"
          ],
          "font": {
           "color": "#2a3f5f"
          },
          "geo": {
           "bgcolor": "white",
           "lakecolor": "white",
           "landcolor": "#E5ECF6",
           "showlakes": true,
           "showland": true,
           "subunitcolor": "white"
          },
          "hoverlabel": {
           "align": "left"
          },
          "hovermode": "closest",
          "mapbox": {
           "style": "light"
          },
          "paper_bgcolor": "white",
          "plot_bgcolor": "#E5ECF6",
          "polar": {
           "angularaxis": {
            "gridcolor": "white",
            "linecolor": "white",
            "ticks": ""
           },
           "bgcolor": "#E5ECF6",
           "radialaxis": {
            "gridcolor": "white",
            "linecolor": "white",
            "ticks": ""
           }
          },
          "scene": {
           "xaxis": {
            "backgroundcolor": "#E5ECF6",
            "gridcolor": "white",
            "gridwidth": 2,
            "linecolor": "white",
            "showbackground": true,
            "ticks": "",
            "zerolinecolor": "white"
           },
           "yaxis": {
            "backgroundcolor": "#E5ECF6",
            "gridcolor": "white",
            "gridwidth": 2,
            "linecolor": "white",
            "showbackground": true,
            "ticks": "",
            "zerolinecolor": "white"
           },
           "zaxis": {
            "backgroundcolor": "#E5ECF6",
            "gridcolor": "white",
            "gridwidth": 2,
            "linecolor": "white",
            "showbackground": true,
            "ticks": "",
            "zerolinecolor": "white"
           }
          },
          "shapedefaults": {
           "line": {
            "color": "#2a3f5f"
           }
          },
          "ternary": {
           "aaxis": {
            "gridcolor": "white",
            "linecolor": "white",
            "ticks": ""
           },
           "baxis": {
            "gridcolor": "white",
            "linecolor": "white",
            "ticks": ""
           },
           "bgcolor": "#E5ECF6",
           "caxis": {
            "gridcolor": "white",
            "linecolor": "white",
            "ticks": ""
           }
          },
          "title": {
           "x": 0.05
          },
          "xaxis": {
           "automargin": true,
           "gridcolor": "white",
           "linecolor": "white",
           "ticks": "",
           "title": {
            "standoff": 15
           },
           "zerolinecolor": "white",
           "zerolinewidth": 2
          },
          "yaxis": {
           "automargin": true,
           "gridcolor": "white",
           "linecolor": "white",
           "ticks": "",
           "title": {
            "standoff": 15
           },
           "zerolinecolor": "white",
           "zerolinewidth": 2
          }
         }
        },
        "title": {
         "text": "Investments vs. Passengers average 2000-2020"
        },
        "xaxis": {
         "anchor": "y",
         "domain": [
          0,
          1
         ],
         "title": {
          "text": "Investments average 2000-2020"
         }
        },
        "yaxis": {
         "anchor": "x",
         "domain": [
          0,
          1
         ],
         "title": {
          "text": "Passengers average 2000-2020"
         }
        }
       }
      },
      "text/html": [
       "<div>                            <div id=\"dff86978-d2b5-4da7-81c1-39b453aee917\" class=\"plotly-graph-div\" style=\"height:525px; width:100%;\"></div>            <script type=\"text/javascript\">                require([\"plotly\"], function(Plotly) {                    window.PLOTLYENV=window.PLOTLYENV || {};                                    if (document.getElementById(\"dff86978-d2b5-4da7-81c1-39b453aee917\")) {                    Plotly.newPlot(                        \"dff86978-d2b5-4da7-81c1-39b453aee917\",                        [{\"hovertemplate\":\"Country=AUS<br>Year average infrastructure gdp=%{x}<br>Year average passenger km per person=%{y}<extra></extra>\",\"legendgroup\":\"AUS\",\"marker\":{\"color\":\"#636efa\",\"symbol\":\"circle\"},\"mode\":\"markers\",\"name\":\"AUS\",\"orientation\":\"v\",\"showlegend\":true,\"x\":[0.23865515088133774],\"xaxis\":\"x\",\"y\":[12913.455031254822],\"yaxis\":\"y\",\"type\":\"scatter\"},{\"hovertemplate\":\"Country=AZE<br>Year average infrastructure gdp=%{x}<br>Year average passenger km per person=%{y}<extra></extra>\",\"legendgroup\":\"AZE\",\"marker\":{\"color\":\"#EF553B\",\"symbol\":\"circle\"},\"mode\":\"markers\",\"name\":\"AZE\",\"orientation\":\"v\",\"showlegend\":true,\"x\":[0.05097438822722723],\"xaxis\":\"x\",\"y\":[1789.267842129213],\"yaxis\":\"y\",\"type\":\"scatter\"},{\"hovertemplate\":\"Country=CZE<br>Year average infrastructure gdp=%{x}<br>Year average passenger km per person=%{y}<extra></extra>\",\"legendgroup\":\"CZE\",\"marker\":{\"color\":\"#00cc96\",\"symbol\":\"circle\"},\"mode\":\"markers\",\"name\":\"CZE\",\"orientation\":\"v\",\"showlegend\":true,\"x\":[0.36497173026881996],\"xaxis\":\"x\",\"y\":[7552.008289275003],\"yaxis\":\"y\",\"type\":\"scatter\"},{\"hovertemplate\":\"Country=FIN<br>Year average infrastructure gdp=%{x}<br>Year average passenger km per person=%{y}<extra></extra>\",\"legendgroup\":\"FIN\",\"marker\":{\"color\":\"#ab63fa\",\"symbol\":\"circle\"},\"mode\":\"markers\",\"name\":\"FIN\",\"orientation\":\"v\",\"showlegend\":true,\"x\":[0.171331066085084],\"xaxis\":\"x\",\"y\":[13157.742081416289],\"yaxis\":\"y\",\"type\":\"scatter\"},{\"hovertemplate\":\"Country=FRA<br>Year average infrastructure gdp=%{x}<br>Year average passenger km per person=%{y}<extra></extra>\",\"legendgroup\":\"FRA\",\"marker\":{\"color\":\"#FFA15A\",\"symbol\":\"circle\"},\"mode\":\"markers\",\"name\":\"FRA\",\"orientation\":\"v\",\"showlegend\":true,\"x\":[0.264665844689408],\"xaxis\":\"x\",\"y\":[12833.20430395479],\"yaxis\":\"y\",\"type\":\"scatter\"},{\"hovertemplate\":\"Country=DEU<br>Year average infrastructure gdp=%{x}<br>Year average passenger km per person=%{y}<extra></extra>\",\"legendgroup\":\"DEU\",\"marker\":{\"color\":\"#19d3f3\",\"symbol\":\"circle\"},\"mode\":\"markers\",\"name\":\"DEU\",\"orientation\":\"v\",\"showlegend\":true,\"x\":[0.18819632262082975],\"xaxis\":\"x\",\"y\":[11694.672476700174],\"yaxis\":\"y\",\"type\":\"scatter\"},{\"hovertemplate\":\"Country=HUN<br>Year average infrastructure gdp=%{x}<br>Year average passenger km per person=%{y}<extra></extra>\",\"legendgroup\":\"HUN\",\"marker\":{\"color\":\"#FF6692\",\"symbol\":\"circle\"},\"mode\":\"markers\",\"name\":\"HUN\",\"orientation\":\"v\",\"showlegend\":true,\"x\":[0.3366948696175906],\"xaxis\":\"x\",\"y\":[7136.509977155081],\"yaxis\":\"y\",\"type\":\"scatter\"},{\"hovertemplate\":\"Country=ITA<br>Year average infrastructure gdp=%{x}<br>Year average passenger km per person=%{y}<extra></extra>\",\"legendgroup\":\"ITA\",\"marker\":{\"color\":\"#B6E880\",\"symbol\":\"circle\"},\"mode\":\"markers\",\"name\":\"ITA\",\"orientation\":\"v\",\"showlegend\":true,\"x\":[0.31096550008328644],\"xaxis\":\"x\",\"y\":[13189.816665217006],\"yaxis\":\"y\",\"type\":\"scatter\"},{\"hovertemplate\":\"Country=MKD<br>Year average infrastructure gdp=%{x}<br>Year average passenger km per person=%{y}<extra></extra>\",\"legendgroup\":\"MKD\",\"marker\":{\"color\":\"#FF97FF\",\"symbol\":\"circle\"},\"mode\":\"markers\",\"name\":\"MKD\",\"orientation\":\"v\",\"showlegend\":true,\"x\":[0.0641829065715818],\"xaxis\":\"x\",\"y\":[3711.4365039565446],\"yaxis\":\"y\",\"type\":\"scatter\"},{\"hovertemplate\":\"Country=NOR<br>Year average infrastructure gdp=%{x}<br>Year average passenger km per person=%{y}<extra></extra>\",\"legendgroup\":\"NOR\",\"marker\":{\"color\":\"#FECB52\",\"symbol\":\"circle\"},\"mode\":\"markers\",\"name\":\"NOR\",\"orientation\":\"v\",\"showlegend\":true,\"x\":[0.18240380156362815],\"xaxis\":\"x\",\"y\":[12884.177900102213],\"yaxis\":\"y\",\"type\":\"scatter\"},{\"hovertemplate\":\"Country=RUS<br>Year average infrastructure gdp=%{x}<br>Year average passenger km per person=%{y}<extra></extra>\",\"legendgroup\":\"RUS\",\"marker\":{\"color\":\"#636efa\",\"symbol\":\"circle\"},\"mode\":\"markers\",\"name\":\"RUS\",\"orientation\":\"v\",\"showlegend\":true,\"x\":[0.5152050998059066],\"xaxis\":\"x\",\"y\":[970.0075786191373],\"yaxis\":\"y\",\"type\":\"scatter\"},{\"hovertemplate\":\"Country=ESP<br>Year average infrastructure gdp=%{x}<br>Year average passenger km per person=%{y}<extra></extra>\",\"legendgroup\":\"ESP\",\"marker\":{\"color\":\"#EF553B\",\"symbol\":\"circle\"},\"mode\":\"markers\",\"name\":\"ESP\",\"orientation\":\"v\",\"showlegend\":true,\"x\":[0.3642059563894352],\"xaxis\":\"x\",\"y\":[8234.177264439388],\"yaxis\":\"y\",\"type\":\"scatter\"},{\"hovertemplate\":\"Country=SWE<br>Year average infrastructure gdp=%{x}<br>Year average passenger km per person=%{y}<extra></extra>\",\"legendgroup\":\"SWE\",\"marker\":{\"color\":\"#00cc96\",\"symbol\":\"circle\"},\"mode\":\"markers\",\"name\":\"SWE\",\"orientation\":\"v\",\"showlegend\":true,\"x\":[0.2851005659026169],\"xaxis\":\"x\",\"y\":[12180.539980891477],\"yaxis\":\"y\",\"type\":\"scatter\"},{\"hovertemplate\":\"Country=CHE<br>Year average infrastructure gdp=%{x}<br>Year average passenger km per person=%{y}<extra></extra>\",\"legendgroup\":\"CHE\",\"marker\":{\"color\":\"#ab63fa\",\"symbol\":\"circle\"},\"mode\":\"markers\",\"name\":\"CHE\",\"orientation\":\"v\",\"showlegend\":true,\"x\":[0.517110984508394],\"xaxis\":\"x\",\"y\":[11602.311270214423],\"yaxis\":\"y\",\"type\":\"scatter\"},{\"hovertemplate\":\"Country=TUR<br>Year average infrastructure gdp=%{x}<br>Year average passenger km per person=%{y}<extra></extra>\",\"legendgroup\":\"TUR\",\"marker\":{\"color\":\"#FFA15A\",\"symbol\":\"circle\"},\"mode\":\"markers\",\"name\":\"TUR\",\"orientation\":\"v\",\"showlegend\":true,\"x\":[0.14773934903972016],\"xaxis\":\"x\",\"y\":[3173.803264307118],\"yaxis\":\"y\",\"type\":\"scatter\"}],                        {\"template\":{\"data\":{\"histogram2dcontour\":[{\"type\":\"histogram2dcontour\",\"colorbar\":{\"outlinewidth\":0,\"ticks\":\"\"},\"colorscale\":[[0.0,\"#0d0887\"],[0.1111111111111111,\"#46039f\"],[0.2222222222222222,\"#7201a8\"],[0.3333333333333333,\"#9c179e\"],[0.4444444444444444,\"#bd3786\"],[0.5555555555555556,\"#d8576b\"],[0.6666666666666666,\"#ed7953\"],[0.7777777777777778,\"#fb9f3a\"],[0.8888888888888888,\"#fdca26\"],[1.0,\"#f0f921\"]]}],\"choropleth\":[{\"type\":\"choropleth\",\"colorbar\":{\"outlinewidth\":0,\"ticks\":\"\"}}],\"histogram2d\":[{\"type\":\"histogram2d\",\"colorbar\":{\"outlinewidth\":0,\"ticks\":\"\"},\"colorscale\":[[0.0,\"#0d0887\"],[0.1111111111111111,\"#46039f\"],[0.2222222222222222,\"#7201a8\"],[0.3333333333333333,\"#9c179e\"],[0.4444444444444444,\"#bd3786\"],[0.5555555555555556,\"#d8576b\"],[0.6666666666666666,\"#ed7953\"],[0.7777777777777778,\"#fb9f3a\"],[0.8888888888888888,\"#fdca26\"],[1.0,\"#f0f921\"]]}],\"heatmap\":[{\"type\":\"heatmap\",\"colorbar\":{\"outlinewidth\":0,\"ticks\":\"\"},\"colorscale\":[[0.0,\"#0d0887\"],[0.1111111111111111,\"#46039f\"],[0.2222222222222222,\"#7201a8\"],[0.3333333333333333,\"#9c179e\"],[0.4444444444444444,\"#bd3786\"],[0.5555555555555556,\"#d8576b\"],[0.6666666666666666,\"#ed7953\"],[0.7777777777777778,\"#fb9f3a\"],[0.8888888888888888,\"#fdca26\"],[1.0,\"#f0f921\"]]}],\"heatmapgl\":[{\"type\":\"heatmapgl\",\"colorbar\":{\"outlinewidth\":0,\"ticks\":\"\"},\"colorscale\":[[0.0,\"#0d0887\"],[0.1111111111111111,\"#46039f\"],[0.2222222222222222,\"#7201a8\"],[0.3333333333333333,\"#9c179e\"],[0.4444444444444444,\"#bd3786\"],[0.5555555555555556,\"#d8576b\"],[0.6666666666666666,\"#ed7953\"],[0.7777777777777778,\"#fb9f3a\"],[0.8888888888888888,\"#fdca26\"],[1.0,\"#f0f921\"]]}],\"contourcarpet\":[{\"type\":\"contourcarpet\",\"colorbar\":{\"outlinewidth\":0,\"ticks\":\"\"}}],\"contour\":[{\"type\":\"contour\",\"colorbar\":{\"outlinewidth\":0,\"ticks\":\"\"},\"colorscale\":[[0.0,\"#0d0887\"],[0.1111111111111111,\"#46039f\"],[0.2222222222222222,\"#7201a8\"],[0.3333333333333333,\"#9c179e\"],[0.4444444444444444,\"#bd3786\"],[0.5555555555555556,\"#d8576b\"],[0.6666666666666666,\"#ed7953\"],[0.7777777777777778,\"#fb9f3a\"],[0.8888888888888888,\"#fdca26\"],[1.0,\"#f0f921\"]]}],\"surface\":[{\"type\":\"surface\",\"colorbar\":{\"outlinewidth\":0,\"ticks\":\"\"},\"colorscale\":[[0.0,\"#0d0887\"],[0.1111111111111111,\"#46039f\"],[0.2222222222222222,\"#7201a8\"],[0.3333333333333333,\"#9c179e\"],[0.4444444444444444,\"#bd3786\"],[0.5555555555555556,\"#d8576b\"],[0.6666666666666666,\"#ed7953\"],[0.7777777777777778,\"#fb9f3a\"],[0.8888888888888888,\"#fdca26\"],[1.0,\"#f0f921\"]]}],\"mesh3d\":[{\"type\":\"mesh3d\",\"colorbar\":{\"outlinewidth\":0,\"ticks\":\"\"}}],\"scatter\":[{\"fillpattern\":{\"fillmode\":\"overlay\",\"size\":10,\"solidity\":0.2},\"type\":\"scatter\"}],\"parcoords\":[{\"type\":\"parcoords\",\"line\":{\"colorbar\":{\"outlinewidth\":0,\"ticks\":\"\"}}}],\"scatterpolargl\":[{\"type\":\"scatterpolargl\",\"marker\":{\"colorbar\":{\"outlinewidth\":0,\"ticks\":\"\"}}}],\"bar\":[{\"error_x\":{\"color\":\"#2a3f5f\"},\"error_y\":{\"color\":\"#2a3f5f\"},\"marker\":{\"line\":{\"color\":\"#E5ECF6\",\"width\":0.5},\"pattern\":{\"fillmode\":\"overlay\",\"size\":10,\"solidity\":0.2}},\"type\":\"bar\"}],\"scattergeo\":[{\"type\":\"scattergeo\",\"marker\":{\"colorbar\":{\"outlinewidth\":0,\"ticks\":\"\"}}}],\"scatterpolar\":[{\"type\":\"scatterpolar\",\"marker\":{\"colorbar\":{\"outlinewidth\":0,\"ticks\":\"\"}}}],\"histogram\":[{\"marker\":{\"pattern\":{\"fillmode\":\"overlay\",\"size\":10,\"solidity\":0.2}},\"type\":\"histogram\"}],\"scattergl\":[{\"type\":\"scattergl\",\"marker\":{\"colorbar\":{\"outlinewidth\":0,\"ticks\":\"\"}}}],\"scatter3d\":[{\"type\":\"scatter3d\",\"line\":{\"colorbar\":{\"outlinewidth\":0,\"ticks\":\"\"}},\"marker\":{\"colorbar\":{\"outlinewidth\":0,\"ticks\":\"\"}}}],\"scattermapbox\":[{\"type\":\"scattermapbox\",\"marker\":{\"colorbar\":{\"outlinewidth\":0,\"ticks\":\"\"}}}],\"scatterternary\":[{\"type\":\"scatterternary\",\"marker\":{\"colorbar\":{\"outlinewidth\":0,\"ticks\":\"\"}}}],\"scattercarpet\":[{\"type\":\"scattercarpet\",\"marker\":{\"colorbar\":{\"outlinewidth\":0,\"ticks\":\"\"}}}],\"carpet\":[{\"aaxis\":{\"endlinecolor\":\"#2a3f5f\",\"gridcolor\":\"white\",\"linecolor\":\"white\",\"minorgridcolor\":\"white\",\"startlinecolor\":\"#2a3f5f\"},\"baxis\":{\"endlinecolor\":\"#2a3f5f\",\"gridcolor\":\"white\",\"linecolor\":\"white\",\"minorgridcolor\":\"white\",\"startlinecolor\":\"#2a3f5f\"},\"type\":\"carpet\"}],\"table\":[{\"cells\":{\"fill\":{\"color\":\"#EBF0F8\"},\"line\":{\"color\":\"white\"}},\"header\":{\"fill\":{\"color\":\"#C8D4E3\"},\"line\":{\"color\":\"white\"}},\"type\":\"table\"}],\"barpolar\":[{\"marker\":{\"line\":{\"color\":\"#E5ECF6\",\"width\":0.5},\"pattern\":{\"fillmode\":\"overlay\",\"size\":10,\"solidity\":0.2}},\"type\":\"barpolar\"}],\"pie\":[{\"automargin\":true,\"type\":\"pie\"}]},\"layout\":{\"autotypenumbers\":\"strict\",\"colorway\":[\"#636efa\",\"#EF553B\",\"#00cc96\",\"#ab63fa\",\"#FFA15A\",\"#19d3f3\",\"#FF6692\",\"#B6E880\",\"#FF97FF\",\"#FECB52\"],\"font\":{\"color\":\"#2a3f5f\"},\"hovermode\":\"closest\",\"hoverlabel\":{\"align\":\"left\"},\"paper_bgcolor\":\"white\",\"plot_bgcolor\":\"#E5ECF6\",\"polar\":{\"bgcolor\":\"#E5ECF6\",\"angularaxis\":{\"gridcolor\":\"white\",\"linecolor\":\"white\",\"ticks\":\"\"},\"radialaxis\":{\"gridcolor\":\"white\",\"linecolor\":\"white\",\"ticks\":\"\"}},\"ternary\":{\"bgcolor\":\"#E5ECF6\",\"aaxis\":{\"gridcolor\":\"white\",\"linecolor\":\"white\",\"ticks\":\"\"},\"baxis\":{\"gridcolor\":\"white\",\"linecolor\":\"white\",\"ticks\":\"\"},\"caxis\":{\"gridcolor\":\"white\",\"linecolor\":\"white\",\"ticks\":\"\"}},\"coloraxis\":{\"colorbar\":{\"outlinewidth\":0,\"ticks\":\"\"}},\"colorscale\":{\"sequential\":[[0.0,\"#0d0887\"],[0.1111111111111111,\"#46039f\"],[0.2222222222222222,\"#7201a8\"],[0.3333333333333333,\"#9c179e\"],[0.4444444444444444,\"#bd3786\"],[0.5555555555555556,\"#d8576b\"],[0.6666666666666666,\"#ed7953\"],[0.7777777777777778,\"#fb9f3a\"],[0.8888888888888888,\"#fdca26\"],[1.0,\"#f0f921\"]],\"sequentialminus\":[[0.0,\"#0d0887\"],[0.1111111111111111,\"#46039f\"],[0.2222222222222222,\"#7201a8\"],[0.3333333333333333,\"#9c179e\"],[0.4444444444444444,\"#bd3786\"],[0.5555555555555556,\"#d8576b\"],[0.6666666666666666,\"#ed7953\"],[0.7777777777777778,\"#fb9f3a\"],[0.8888888888888888,\"#fdca26\"],[1.0,\"#f0f921\"]],\"diverging\":[[0,\"#8e0152\"],[0.1,\"#c51b7d\"],[0.2,\"#de77ae\"],[0.3,\"#f1b6da\"],[0.4,\"#fde0ef\"],[0.5,\"#f7f7f7\"],[0.6,\"#e6f5d0\"],[0.7,\"#b8e186\"],[0.8,\"#7fbc41\"],[0.9,\"#4d9221\"],[1,\"#276419\"]]},\"xaxis\":{\"gridcolor\":\"white\",\"linecolor\":\"white\",\"ticks\":\"\",\"title\":{\"standoff\":15},\"zerolinecolor\":\"white\",\"automargin\":true,\"zerolinewidth\":2},\"yaxis\":{\"gridcolor\":\"white\",\"linecolor\":\"white\",\"ticks\":\"\",\"title\":{\"standoff\":15},\"zerolinecolor\":\"white\",\"automargin\":true,\"zerolinewidth\":2},\"scene\":{\"xaxis\":{\"backgroundcolor\":\"#E5ECF6\",\"gridcolor\":\"white\",\"linecolor\":\"white\",\"showbackground\":true,\"ticks\":\"\",\"zerolinecolor\":\"white\",\"gridwidth\":2},\"yaxis\":{\"backgroundcolor\":\"#E5ECF6\",\"gridcolor\":\"white\",\"linecolor\":\"white\",\"showbackground\":true,\"ticks\":\"\",\"zerolinecolor\":\"white\",\"gridwidth\":2},\"zaxis\":{\"backgroundcolor\":\"#E5ECF6\",\"gridcolor\":\"white\",\"linecolor\":\"white\",\"showbackground\":true,\"ticks\":\"\",\"zerolinecolor\":\"white\",\"gridwidth\":2}},\"shapedefaults\":{\"line\":{\"color\":\"#2a3f5f\"}},\"annotationdefaults\":{\"arrowcolor\":\"#2a3f5f\",\"arrowhead\":0,\"arrowwidth\":1},\"geo\":{\"bgcolor\":\"white\",\"landcolor\":\"#E5ECF6\",\"subunitcolor\":\"white\",\"showland\":true,\"showlakes\":true,\"lakecolor\":\"white\"},\"title\":{\"x\":0.05},\"mapbox\":{\"style\":\"light\"}}},\"xaxis\":{\"anchor\":\"y\",\"domain\":[0.0,1.0],\"title\":{\"text\":\"Investments average 2000-2020\"}},\"yaxis\":{\"anchor\":\"x\",\"domain\":[0.0,1.0],\"title\":{\"text\":\"Passengers average 2000-2020\"}},\"legend\":{\"title\":{\"text\":\"Country\"},\"tracegroupgap\":0},\"title\":{\"text\":\"Investments vs. Passengers average 2000-2020\"}},                        {\"responsive\": true}                    ).then(function(){\n",
       "                            \n",
       "var gd = document.getElementById('dff86978-d2b5-4da7-81c1-39b453aee917');\n",
       "var x = new MutationObserver(function (mutations, observer) {{\n",
       "        var display = window.getComputedStyle(gd).display;\n",
       "        if (!display || display === 'none') {{\n",
       "            console.log([gd, 'removed!']);\n",
       "            Plotly.purge(gd);\n",
       "            observer.disconnect();\n",
       "        }}\n",
       "}});\n",
       "\n",
       "// Listen for the removal of the full notebook cells\n",
       "var notebookContainer = gd.closest('#notebook-container');\n",
       "if (notebookContainer) {{\n",
       "    x.observe(notebookContainer, {childList: true});\n",
       "}}\n",
       "\n",
       "// Listen for the clearing of the current output cell\n",
       "var outputEl = gd.closest('.output');\n",
       "if (outputEl) {{\n",
       "    x.observe(outputEl, {childList: true});\n",
       "}}\n",
       "\n",
       "                        })                };                });            </script>        </div>"
      ]
     },
     "metadata": {},
     "output_type": "display_data"
    }
   ],
   "source": [
    "# Create a scatter plot using Plotly Express\n",
    "fig = px.scatter(df_reset, x='Year average infrastructure gdp', y='Year average passenger km per person', color= 'Country',\n",
    "                 title='Scatter Plot for Average Values', labels={'Investments': 'Average Investments', 'Passengers': 'Average Passengers'})\n",
    "\n",
    "# Customize the layout\n",
    "fig.update_layout(title='Investments vs. Passengers average 2000-2020',\n",
    "                  xaxis_title='Investments average 2000-2020', yaxis_title='Passengers average 2000-2020')\n",
    "\n",
    "# Show the plot\n",
    "fig.show()\n"
   ]
  },
  {
   "cell_type": "code",
   "execution_count": null,
   "id": "8838ffff",
   "metadata": {},
   "outputs": [],
   "source": []
  }
 ],
 "metadata": {
  "kernelspec": {
   "display_name": "Python 3 (ipykernel)",
   "language": "python",
   "name": "python3"
  },
  "language_info": {
   "codemirror_mode": {
    "name": "ipython",
    "version": 3
   },
   "file_extension": ".py",
   "mimetype": "text/x-python",
   "name": "python",
   "nbconvert_exporter": "python",
   "pygments_lexer": "ipython3",
   "version": "3.11.4"
  }
 },
 "nbformat": 4,
 "nbformat_minor": 5
}
